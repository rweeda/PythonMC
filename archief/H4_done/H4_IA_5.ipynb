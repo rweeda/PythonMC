{
 "cells": [
  {
   "cell_type": "markdown",
   "metadata": {},
   "source": [
    "## 5: Als-dan: <code>if.. else</code>-constructie"
   ]
  },
  {
   "cell_type": "markdown",
   "metadata": {},
   "source": [
    "[![Watch the video](https://img.youtube.com/vi/OYB2iEyDlH8/hqdefault.jpg)](https://www.youtube.com/embed/OYB2iEyDlH8)\n",
    "\n",
    "<p>De <code>if</code> kan uitgebreid worden met een <code>else</code>, een actie die uitgevoerd moet worden als de conditie in de <code>if</code> niet waar is.</p>\n"
   ]
  },
  {
   "cell_type": "code",
   "execution_count": null,
   "metadata": {},
   "outputs": [],
   "source": [
    "print( \"Hoe oud ben jij?\" )\n",
    "invoer = input ()\n",
    "leeftijd = int(invoer)\n",
    "\n",
    "if leeftijd >= 17:\n",
    "\tprint( \"Ja. Je mag je rijbewijs halen.\" )\n",
    "else:\n",
    "\tprint( \"Nee. Je moet nog even wachten.\" )\n",
    "\t\n",
    "print( \"Klaar.\" )"
   ]
  },
  {
   "cell_type": "markdown",
   "metadata": {},
   "source": [
    "<p>Merk op:\n",
    "</p>\n",
    "<ul>\n",
    "    <li>Er staat een dubbele punt achter de <i>conditie</i> van de <code>if</code> en ook achter de <code>else</code>;\n",
    "    </li>\n",
    "    <li>De <i>acties</i> staan ingesprongen (met een <i>Tab</i> naar rechts);\n",
    "    </li>\n",
    "    <li>Als de conditie bij de <code>if</code> <code>True</code> is, worden de ingesprongen acties uitgevoerd (de <code>print</code> op regel 6);\n",
    "    </li>\n",
    "    <li>Als de conditie <code>False</code> is, dan worden de ingesprongen acties achter de <code>else</code> uitgevoerd (de <code>print</code> op regel 8);\n",
    "    </li>\n",
    "    <li>Het programma gaat daarna verder waar er niet meer is ingesprongen (regel 10). De regel met <code>print(\"Klaar\")</code> wordt <b>altijd</b> uitgevoerd. Deze is niet ingesprongen en hoort daarom niet bij de <code>if</code> of bij de <code>else</code>.\n",
    "    </li>\n",
    "</ul>\n",
    "\n",
    "\n",
    "<p>Het onderstaand stroomdiagram geeft het algoritme uit het voorbeeld hierboven weer:</p>\n",
    "\n",
    "<p><img src=\"http://course.cs.ru.nl/pythonVO/Jupyter/img/Python4_Stroomdiagram_leeftijdRijbewijs.jpg\" alt=\"Figuur 6.2: Stroomdiagram van een twee-weg beslissing\" width=\"450\" height=\"466\" class=\"img-fluid atto_image_button_text-bottom\"></p>\n"
   ]
  },
  {
   "cell_type": "markdown",
   "metadata": {},
   "source": [
    "### Opdracht 4.8: Van stroomdiagram naar code\n",
    "\n",
    "<p>Schrijf de code die bij het onderstaand stroomdiagram hoort.</p>\n",
    "\n",
    "<p><img src=\"http://course.cs.ru.nl/pythonVO/Jupyter/img/Python4_opg426_StroomdiagramKeuze.jpg\" alt=\"Figuur 6.1: Stroomdiagram van een twee-weg beslissing\" width=\"350\" height=\"316\" class=\"img-fluid atto_image_button_text-bottom\"></p>\n"
   ]
  },
  {
   "cell_type": "code",
   "execution_count": null,
   "metadata": {
    "tags": [
     "Opdracht"
    ]
   },
   "outputs": [],
   "source": []
  },
  {
   "cell_type": "markdown",
   "metadata": {},
   "source": [
    "<p>Bekijk <a href=\"https://course.cs.ru.nl/pythonVO/Teams/IA_uitwerkingen/IA_H4_oplossingen.html#opgave426\" target=\"_blank\">hier</a> de voorbeelduitwerking.</p>\n"
   ]
  },
  {
   "cell_type": "markdown",
   "metadata": {},
   "source": [
    "### Opdracht 4.9: Batterij is bijna leeg!\n",
    "\n",
    "<p>Een app op een smartphone geeft een waarschuwing als de batterij bijna leeg is: minder dan 10%.</p>\n",
    "\n",
    "<p>Geef de variabele <code>batterij_energie</code> een waarde zodat de waarschuwing geprint wordt dat de batterij bijna leeg is.</p>\n",
    "\n"
   ]
  },
  {
   "cell_type": "code",
   "execution_count": null,
   "metadata": {
    "tags": [
     "Opdacht"
    ]
   },
   "outputs": [],
   "source": [
    "batterij_energie = 30\n",
    "\n",
    "if batterij_energie < 10:\n",
    "\tprint (\"True. Let op: batterij is bijna leeg. \")\n",
    "else:\n",
    "\tprint (\"False. Dus batterij is NIET bijna leeg.\")"
   ]
  },
  {
   "cell_type": "markdown",
   "metadata": {},
   "source": [
    "<p>Bekijk <a href=\"https://course.cs.ru.nl/pythonVO/Teams/IA_uitwerkingen/IA_H4_oplossingen.html#opgave427\" target=\"_blank\">hier</a> de voorbeelduitwerking.</p>\n"
   ]
  },
  {
   "cell_type": "markdown",
   "metadata": {},
   "source": [
    "### Opdracht 4.10: Wachtwoordcontrole\n",
    "\n",
    "<p>De gebruiker moet een wachtwoord invoeren om toegang te krijgen. Het geheime wachtwoord is: <i>Geheim</i>.</p>\n",
    "\n",
    "<p>Vul de juiste conditie aan bij de <code>if</code> om te controleren of het ingevoerde wachtwoord juist is.</p>\n"
   ]
  },
  {
   "cell_type": "code",
   "execution_count": null,
   "metadata": {
    "tags": [
     "Opdracht"
    ]
   },
   "outputs": [],
   "source": [
    "print(\"Wat is het wachtwoord?\")\n",
    "ingevoerde_wachtwoord = input()\n",
    "\n",
    "if #controleer hier of het ingevoerde wachtwoord gelijk is aan \"Geheim\"\n",
    "\tprint(\"Toegang geautoriseerd!\")\n",
    "else:\n",
    "\tprint(\"Toegang geweigerd!\")"
   ]
  },
  {
   "cell_type": "markdown",
   "metadata": {},
   "source": [
    "<p>Bekijk <a href=\"https://course.cs.ru.nl/pythonVO/Teams/IA_uitwerkingen/IA_H4_oplossingen.html#opgave428\" target=\"_blank\">hier</a> de voorbeelduitwerking.</p>\n"
   ]
  },
  {
   "cell_type": "markdown",
   "metadata": {},
   "source": [
    "### Opdracht 4.11: Voldoende of onvoldoende\n",
    "\n",
    "<p>Vul het programma hieronder aan zodat het de gebruiker vraagt om een toetscijfer en dan print of het voldoende is of niet. Een 5,5 is een voldoende.</p>\n"
   ]
  },
  {
   "cell_type": "code",
   "execution_count": null,
   "metadata": {
    "tags": [
     "Opdracht"
    ]
   },
   "outputs": [],
   "source": [
    "print(\"Wat is je cijfer?\")\n",
    "invoer = input()\n",
    "ingevoerde_cijfer = float( invoer )"
   ]
  },
  {
   "cell_type": "markdown",
   "metadata": {},
   "source": [
    "<p>Bekijk <a href=\"https://course.cs.ru.nl/pythonVO/Teams/IA_uitwerkingen/IA_H4_oplossingen.html#opgave429\" target=\"_blank\">hier</a> de voorbeelduitwerking.</p>"
   ]
  }
 ],
 "metadata": {
  "kernelspec": {
   "display_name": "Python 3",
   "language": "python",
   "name": "python3"
  },
  "language_info": {
   "name": "python",
   "version": "3.12.2"
  }
 },
 "nbformat": 4,
 "nbformat_minor": 2
}
