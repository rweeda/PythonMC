{
 "cells": [
  {
   "cell_type": "markdown",
   "metadata": {},
   "source": [
    "# Hoofdstuk 9 - Lijsten\n",
    "\n",
    "\n",
    "<div style=\"display:flex\">\n",
    "\n",
    "<p>Een <i>lijst</i> (in het Engels: list) is een verzameling elementen. Lijsten zijn handig om 'dingen' in op te slaan. Dat kunnen getallen zijn, zoals in een cijferlijst of woorden zoals in een boodschappenlijst.</p>\n",
    "\n",
    "<p><img src=\"https://course.cs.ru.nl/pythonVO/Jupyter/img/H9_0.png\" alt=\"Lijsten in Python\" width=\"722\" height=\"114\" class=\"img-responsive atto_image_button_text-bottom\"></p>\n",
    "\n",
    "</div>\n",
    "\n",
    "<p>In dit onderwerp:</span></p>\n",
    "<ul>\n",
    "    <li>leer je hoe je een lijst maakt, print en aanpast;</li>\n",
    "    <li>leer je om met een index een bepaald element in een lijst te krijgen, een element op een bepaalde index aan te passen, in te voegen met <code>insert()</code>, toe te voegen met <code>append()</code>, verwijderen met <code>remove()</code> of het aantal voorkomens tellen met <code>count()</code>;</li>\n",
    "    <li>leer je de lengte van een lijst te bepalen met <code>len()</code>;</li>\n",
    "    <li>leer je met één regel code het laatste element uit elke lijst te halen;</li>\n",
    "    <li>leer je met <code>random.choice()</code> een willekeurig element uit een lijst te halen;</li>\n",
    "    <li>leer je hoe je een lijst kan doorlopen met een <code>for</code>-loop, om met elk element iets te doen.</li>\n",
    "\n",
    "</ul>\n",
    "<p></p>\n",
    "\n",
    "\n",
    "<p><b>Standaardfuncties met lijsten</b></p>\n",
    "<p>Voor lijsten zijn er heel veel standaardfuncties die je kunt gebruiken. We behandelen ze niet allemaal. Als je er meer over wilt leren kun je <a href=\"https://www.w3schools.com/python/python_ref_list.asp\" target=\"_blank\">hier</a> meer informatie\n",
    "    vinden.</p>\n",
    "\n",
    "\n",
    "<div class=\"fa fa-clock-o fa-3x\"></div><br> <b>2 uur</b>"
   ]
  },
  {
   "cell_type": "markdown",
   "metadata": {},
   "source": [
    "## 1: Lijst maken en afdrukken\n",
    "\n",
    "\n",
    "[![Watch the video](https://img.youtube.com/vi/LG-6VIAUrk0/hqdefault.jpg)](https://www.youtube.com/embed/LG-6VIAUrk0)\n",
    "\n",
    "### Lijst maken\n",
    "<p>Een lijst maak je door de elementen tussen vierkante haken te zetten en te scheiden met komma's. Hier een paar voorbeelden:\n",
    "\n",
    "</p>\n",
    "<ul>\n",
    "    <li><code>boodschappenlijst = [ \"appels\", \"brood\", \"melk\" , \"kaas\"]</code></li>\n",
    "    <li><code>schoenmaten = [ 36, 37, 38, 39, 40, 41 ]</code></li>\n",
    "    <li><code>cijferlijst = [8.0, 7.8, 6.5, 9.2]</code></li>\n",
    "    <li><code>leegLijst = []</code></li>\n",
    "</ul>\n",
    "<p></p>\n",
    "<p>Het laatste voorbeeld is een lege lijst: een nieuwe lijst waar nog niets in zit.</p>\n",
    "\n",
    "\n",
    "### Lijst afdrukken\n",
    "<p>Met <code>print()</code> kun je een lijst afdrukken. Zoals je ziet als je op de<i>Run</i>-knop drukt, worden de vierkante haken [ ] ook afgedrukt.</p>\n"
   ]
  },
  {
   "cell_type": "code",
   "execution_count": null,
   "metadata": {},
   "outputs": [],
   "source": [
    "boodschappenlijst = [ \"appels\", \"brood\", \"melk\" , \"kaas\"]\t#maak een boodschappenlijst\n",
    "print(boodschappenlijst)"
   ]
  },
  {
   "cell_type": "markdown",
   "metadata": {},
   "source": [
    "### Opdracht 9.1 Lijst maken en afdrukken\n",
    "<p>Een meetstation heeft voor een paar dagen de temperatuur bijgehouden: 22.3, 23.0, 25.1, 23.2, 21.9.</p>\n",
    "<p>Zet de metingen in een lijst en druk de lijst daarna af.</p>\n",
    "\n"
   ]
  },
  {
   "cell_type": "code",
   "execution_count": null,
   "metadata": {},
   "outputs": [],
   "source": []
  },
  {
   "cell_type": "markdown",
   "metadata": {},
   "source": [
    "<p>Klik <a href=\"https://course.cs.ru.nl/pythonVO/Teams/IA_uitwerkingen/IA_H9_oplossingen.html#opgave911\">hier</a> voor een voorbeelduitwerking.</p>"
   ]
  },
  {
   "cell_type": "markdown",
   "metadata": {},
   "source": [
    "## 2: Lengte van een lijst bepalen\n",
    "\n",
    "### Lengte van een lijst\n",
    "\n",
    "[![Watch the video](https://img.youtube.com/vi/RT6pNCI2EQE/hqdefault.jpg)](https://www.youtube.com/embed/RT6pNCI2EQE)\n",
    "\n",
    "<p>Met <code>len()</code> kun je de lengte van een lijst bepalen, dus hoeveel elementen erin zitten. Bijvoorbeeld:</p>"
   ]
  },
  {
   "cell_type": "code",
   "execution_count": null,
   "metadata": {},
   "outputs": [],
   "source": [
    "boodschappenlijst = [ \"appels\", \"brood\", \"melk\" , \"kaas\"]\t#maak een boodschappenlijst\n",
    "\n",
    "lengte = len( boodschappenlijst )                         #bepaal de lengte van de boodschappenlijst\n",
    "print( \"De lengte is\", lengte )\t                        \t#druk de lengte van de lijst af"
   ]
  },
  {
   "cell_type": "markdown",
   "metadata": {},
   "source": [
    "### Opdracht 9.2 Lengte van een lijst\n",
    "\n",
    "<p>Print de lengte van de gegeven lijst.</p>\n"
   ]
  },
  {
   "cell_type": "code",
   "execution_count": null,
   "metadata": {},
   "outputs": [],
   "source": [
    "temperatuurlijst = [22.3, 23.0, 25.1, 23.2, 21.9]"
   ]
  },
  {
   "cell_type": "markdown",
   "metadata": {},
   "source": [
    "<p>Klik <a href=\"https://course.cs.ru.nl/pythonVO/Teams/IA_uitwerkingen/IA_H9_oplossingen.html#opgave921\">hier</a> voor een voorbeelduitwerking.</p>\n",
    "\n"
   ]
  },
  {
   "cell_type": "markdown",
   "metadata": {},
   "source": [
    "### Opdracht 9.3 Lengte van een lege lijst\n",
    "<p> Maak een lege lijst aan. Gebruik <code>len()</code> om de lengte van de lijst te bepalen en print deze.</p>\n"
   ]
  },
  {
   "cell_type": "code",
   "execution_count": null,
   "metadata": {},
   "outputs": [],
   "source": []
  },
  {
   "cell_type": "markdown",
   "metadata": {},
   "source": [
    "<p>Klik <a href=\"https://course.cs.ru.nl/pythonVO/Teams/IA_uitwerkingen/IA_H9_oplossingen.html#opgave922\">hier</a> voor een voorbeelduitwerking.</p>"
   ]
  },
  {
   "cell_type": "markdown",
   "metadata": {},
   "source": [
    "## 3: Index van een element in een lijst\n",
    "\n",
    "\n",
    "[![Watch the video](https://img.youtube.com/vi/6BX-aR57ak0/hqdefault.jpg)](https://www.youtube.com/embed/6BX-aR57ak0)\n",
    "\n",
    "<p>De elementen van een lijst staan op volgorde. Ieder element van een lijst kun je pakken via een <i>index</i> (of positie). Het eerste element in een lijst heeft index 0:\n",
    "</p>\n",
    "<ul>\n",
    "    <li>index 0: eerste element</li>\n",
    "    <li>index 1: tweede element</li>\n",
    "    <li>index 2: derde element</li>\n",
    "    <li>...</li>\n",
    "    <li>index (lengte-1): laatste element</li>\n",
    "</ul>\n",
    "<p></p>\n",
    "\n",
    "\n",
    "<p>Stel we maken een lijst: <code>boodschappenlijst = [ \"appels\", \"brood\", \"melk\" , \"kaas\"]</code>.</p>\n",
    "<p></p>\n",
    "<table cellspacing=\"\" cellpadding=\"\" border=\"\" width=\"\" align=\"\">\n",
    "    <tbody>\n",
    "        <tr>\n",
    "            <td><code>boodschappenlijst</code></td>\n",
    "            <td><code>\"appels\"</code></td>\n",
    "            <td><code>\"brood\"</code></td>\n",
    "            <td><code>\"melk\"</code></td>\n",
    "            <td><code>\"kaas\"</code></td>\n",
    "        </tr>\n",
    "        <tr>\n",
    "            <td>index</td>\n",
    "            <td>0</td>\n",
    "            <td>1</td>\n",
    "            <td>2</td>\n",
    "            <td>3</td>\n",
    "        </tr>\n",
    "    </tbody>\n",
    "</table>\n",
    "<p></p>\n",
    "\n",
    "<p>In deze lijst staat \"appels\" op index 0, \"brood\" op index 1, ... en \"kaas\" op index 3 (oftewel, lengte van de lijst -1).</p>"
   ]
  },
  {
   "cell_type": "markdown",
   "metadata": {},
   "source": [
    "## 4: Bepaalde elementen uit een lijst pakken\n",
    "<p>Met de index kun je een bepaald element uit een lijst pakken. De index zet je tussen vierkante haken [ ], bijvoorbeeld <code>lijst[2]</code> om het element op index 2 van een lijst te krijgen.</p>\n"
   ]
  },
  {
   "cell_type": "code",
   "execution_count": null,
   "metadata": {},
   "outputs": [],
   "source": [
    "boodschappenlijst = [ \"appels\", \"brood\", \"melk\" , \"kaas\"]\t#maak een boodschappenlijst\n",
    "\n",
    "print( \"Op index 0 staat:\", boodschappenlijst[0] ) #druk het eerste element af\n",
    "print( \"Op index 1 staat:\", boodschappenlijst[1] ) #druk element op index 1 af (het 2e element)\n",
    "print( \"Op index 2 staat:\", boodschappenlijst[2] ) #druk element op index 2 af (het 3e element)"
   ]
  },
  {
   "cell_type": "markdown",
   "metadata": {},
   "source": [
    "### Opdracht 9.4 Bepaalde elementen afdrukken</p>\n",
    "<p>Een meetstation heeft voor een paar dagen de temperatuur bijgehouden: 22.3, 23.0, 25.1, 23.2, 21.9.</p>\n",
    "<p>Gebruik de index om het tweede element te printen (dus 23.0) en het achterste element (dus 21.9).</p>\n"
   ]
  },
  {
   "cell_type": "code",
   "execution_count": null,
   "metadata": {},
   "outputs": [],
   "source": [
    "temperatuurlijst = [22.3, 23.0, 25.1, 23.2, 21.9]"
   ]
  },
  {
   "cell_type": "markdown",
   "metadata": {},
   "source": [
    "<p>Klik <a href=\"https://course.cs.ru.nl/pythonVO/Teams/IA_uitwerkingen/IA_H9_oplossingen.html#opgave931\">hier</a> voor een voorbeelduitwerking.</p>"
   ]
  },
  {
   "cell_type": "markdown",
   "metadata": {},
   "source": [
    "## 5: Laatste element in een lijst benaderen\n",
    "\n",
    "[![Watch the video](https://img.youtube.com/vi/o3kOwybgNDA/hqdefault.jpg)](https://www.youtube.com/embed/o3kOwybgNDA)\n",
    "\n",
    "<p>Het laatste element van elke lijst benader je met de index <b>lengte-1</b>:</p>\n"
   ]
  },
  {
   "cell_type": "code",
   "execution_count": null,
   "metadata": {},
   "outputs": [],
   "source": [
    "boodschappenlijst = [ \"appels\", \"brood\", \"melk\" , \"kaas\"]\t#maak een boodschappenlijst\n",
    "\n",
    "lengte = len( boodschappenlijst )                         #bepaal de lengte van de boodschappenlijst\n",
    "print( \"De lengte is\", lengte )\t                        \t#druk de lengte van de lijst af\n",
    "\n",
    "print( \"Achteraan staat:\", boodschappenlijst[ lengte-1 ] ) #druk laatste element af"
   ]
  },
  {
   "cell_type": "markdown",
   "metadata": {},
   "source": [
    "### Opdracht 9.5 Laatste element afdrukken\n",
    "\n",
    "<p>In de temperatuurlijst staat de temperatuur van vandaag altijd achteraan. Hoe meer metingen we doen, hoe langer de lijst wordt.</p>\n",
    "<p>Schrijf code om het laatste element uit een lijst te printen. De code moet voor elke lijst werken, ongeacht hoe lang de lijst is.</p>\n",
    "\n",
    "<p>Tips:\n",
    "</p>\n",
    "<ul>\n",
    "    <li>Gebruik <code>len</code> om de lengte van de lijst te bepalen.\n",
    "    </li>\n",
    "    <li>Bepaal dan de index waarop het laatste element staat en print dat element.\n",
    "    </li>\n",
    "</ul>\n",
    "<p></p>"
   ]
  },
  {
   "cell_type": "code",
   "execution_count": null,
   "metadata": {},
   "outputs": [],
   "source": [
    "temperatuurlijst = [22.3, 23.0, 25.1, 23.2, 21.9]"
   ]
  },
  {
   "cell_type": "markdown",
   "metadata": {},
   "source": [
    "<p>Klik <a href=\"https://course.cs.ru.nl/pythonVO/Teams/IA_uitwerkingen/IA_H9_oplossingen.html#opgave932\">hier</a> voor een voorbeelduitwerking.</p>"
   ]
  },
  {
   "cell_type": "markdown",
   "metadata": {},
   "source": [
    "# 6: Index van een element bepalen\n",
    "<p>Met <code>.index()</code> kun je de index (de positie) van een element in de lijst krijgen. Als er meerdere elementen zijn, zal de index van het eerste voorkomen gegeven worden. Als het element niet voorkomt in de lijst, krijg je een foutmelding.</p>"
   ]
  },
  {
   "cell_type": "code",
   "execution_count": null,
   "metadata": {},
   "outputs": [],
   "source": [
    "fruitlijst = [\"appel\", \"banaan\", \"kers\", \"banaan\", \"doerian\"]\n",
    "index_van_banaan = fruitlijst.index( \"banaan\" )\n",
    "\n",
    "print( index_van_banaan )"
   ]
  },
  {
   "cell_type": "markdown",
   "metadata": {},
   "source": [
    "### Opdracht 9.6 Index van een element</p>\n",
    "<p>Bepaal de index van de letter 'w' in het alfabet. Het gaat erom dat je code schrijft om dit te printen. Tip: Het antwoord moet 22 zijn.</p>\n",
    "\n"
   ]
  },
  {
   "cell_type": "code",
   "execution_count": null,
   "metadata": {},
   "outputs": [],
   "source": [
    "alfabet = [\"a\",\"b\",\"c\",\"d\",\"e\",\"f\",\"g\",\"h\",\"i\",\"j\",\"k\",\"l\",\"m\",\"n\",\"o\",\"p\",\"q\",\"r\",\"s\",\"t\",\"u\",\"v\",\"w\",\"x\",\"y\",\"z\"]\n"
   ]
  },
  {
   "cell_type": "markdown",
   "metadata": {},
   "source": [
    "\n",
    "<p>Klik <a href=\"https://course.cs.ru.nl/pythonVO/Teams/IA_uitwerkingen/IA_H9_oplossingen.html#opgave933\">hier</a> voor een voorbeelduitwerking.</p>"
   ]
  },
  {
   "cell_type": "markdown",
   "metadata": {},
   "source": [
    "## 7: Kijken of een element voorkomt in een lijst\n",
    "\n",
    "<p>Met <code>in</code> en <code>not in</code> kun je testen of een element voorkomt in een lijst.</p>\n"
   ]
  },
  {
   "cell_type": "code",
   "execution_count": null,
   "metadata": {},
   "outputs": [],
   "source": [
    "getallenlijst = [0,1,2,3,4,5]\t#maak een lijst met getallen\n",
    "\n",
    "print( \"Zit 1 in de lijst?\", 1 in getallenlijst ) #controleer of getal 1 in de lijst zit\n",
    "print( \"Zit 10 in de lijst?\", 10 in getallenlijst ) #controleer of getal 10 in de lijst zit\n",
    "print( \"Zit 100 in de lijst?\", 100 in getallenlijst ) #controleer of getal 100 NIET in de lijst zit\n",
    "print( \"Zit 100 NIET in de lijst?\", 100 not in getallenlijst ) #controleer of getal 100 NIET in de lijst zit"
   ]
  },
  {
   "cell_type": "markdown",
   "metadata": {},
   "source": [
    "## Opdracht 9.7 Jackpot\n",
    "<p>Tijdens de trekking van een loterij moet gekeken worden of het lot in de lijst met verkochte lotnummers voorkomt.</p>\n",
    "\n",
    "<p>Schrijf code om te controleren of een lotnummer voorkomt. Als dit voorkomt, print dan <i>Gefeliciteerd</i> en anders <i>Jammer</i>.</p>\n"
   ]
  },
  {
   "cell_type": "code",
   "execution_count": null,
   "metadata": {},
   "outputs": [],
   "source": [
    "lotenlijst = [12254, 45567, 23534, 54546, 65556, 76765]\t#maak een lijst met lotnummers\n",
    "lotnummer = 45567"
   ]
  },
  {
   "cell_type": "markdown",
   "metadata": {},
   "source": [
    "<p>Klik <a href=\"https://course.cs.ru.nl/pythonVO/Teams/IA_uitwerkingen/IA_H9_oplossingen.html#opgave934\">hier</a> voor een voorbeelduitwerking.</p>"
   ]
  },
  {
   "cell_type": "markdown",
   "metadata": {},
   "source": [
    "## 8: Element in een lijst aanpassen\n",
    "<p>Je kunt de waarde van een element aanpassen door op die index een nieuwe waarde toe te kennen: <code>lijst[index] = nieuw_waarde</code>.</p>\n"
   ]
  },
  {
   "cell_type": "code",
   "execution_count": null,
   "metadata": {},
   "outputs": [],
   "source": [
    "fruitlijst = [\"appel\", \"banaan\", \"kers\", \"mango\"]\n",
    "print( fruitlijst )\n",
    "\n",
    "fruitlijst[2] = \"aardbei\" #verander de waarde van de derde element\n",
    "print( fruitlijst )"
   ]
  },
  {
   "cell_type": "markdown",
   "metadata": {},
   "source": [
    "### Opdracht 9.8 Waarde veranderen\n",
    "<p>Hieronder staat de cijferlijst van een medeleerling. Schrijf code om het cijfer 4.9 te veranderen in 5.9. Test je code door de cijferlijst te printen.</p>\n"
   ]
  },
  {
   "cell_type": "code",
   "execution_count": null,
   "metadata": {},
   "outputs": [],
   "source": [
    "cijferlijst = [6.2, 5.8, 7.3, 4.9, 8.0, 7.0]"
   ]
  },
  {
   "cell_type": "markdown",
   "metadata": {},
   "source": [
    "<p>Klik <a href=\"https://course.cs.ru.nl/pythonVO/Teams/IA_uitwerkingen/IA_H9_oplossingen.html#opgave941\">hier</a> voor een voorbeelduitwerking.</p>"
   ]
  }
 ],
 "metadata": {
  "kernelspec": {
   "display_name": "Python 3",
   "language": "python",
   "name": "python3"
  },
  "language_info": {
   "codemirror_mode": {
    "name": "ipython",
    "version": 3
   },
   "file_extension": ".py",
   "mimetype": "text/x-python",
   "name": "python",
   "nbconvert_exporter": "python",
   "pygments_lexer": "ipython3",
   "version": "3.11.9"
  }
 },
 "nbformat": 4,
 "nbformat_minor": 2
}
