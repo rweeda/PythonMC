{
 "cells": [
  {
   "cell_type": "markdown",
   "metadata": {},
   "source": [
    "## 2: <code>in</code>-operator\n",
    "\n",
    "<p>De <code>in</code> bepaalt of een teken of groepje tekens in een string voorkomt. Met <code>not in</code> kun je controleren of iets niet ergens anders in voorkomt. Beide operatoren kunnen ook gebruikt worden om te kijken of iets in een lijst voorkomt. Over lijsten leren we later meer.\n",
    "    Bijvoorbeeld:</p>"
   ]
  },
  {
   "cell_type": "code",
   "execution_count": null,
   "metadata": {},
   "outputs": [],
   "source": [
    "print( \"V\" in \"Voetbal\" )\n",
    "print( \"t\" in \"Voetbal\" )\n",
    "print( \"bal\" in \"Voetbal\" )\n",
    "print( \"r\" in \"Voetbal\" )\n",
    "print( \"p\" in \"Voetbal\" )\n",
    "print( \"p\" not in \"Voetbal\" )"
   ]
  }
 ],
 "metadata": {
  "kernelspec": {
   "display_name": "Python 3",
   "language": "python",
   "name": "python3"
  },
  "language_info": {
   "name": "python",
   "version": "3.12.2"
  }
 },
 "nbformat": 4,
 "nbformat_minor": 2
}
