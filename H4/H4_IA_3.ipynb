{
 "cells": [
  {
   "cell_type": "markdown",
   "metadata": {},
   "source": [
    "## 3: Keuze met de if-constructie\n",
    "\n",
    "[![Watch the video](https://img.youtube.com/vi/pXsTJWFNDKg/hqdefault.jpg)](https://www.youtube.com/embed/pXsTJWFNDKg)"
   ]
  },
  {
   "cell_type": "markdown",
   "metadata": {},
   "source": [
    "<p>Een keuze zoals <i>als... dan...</i> heet in Python een <code>if</code>-constructie. Het begint met een test (conditie) in de <code>if</code>. Als uit de test <i>True</i> (waar) komt, dan worden de aangegeven acties uitgevoerd die onder de conditie ingesprongen staan. Inspringen doe je met de <b>Tab</b>-knop. Anders worden die acties overgeslagen.</p>\n",
    "\n",
    "<p>Bekijk de code hieronder voor een programma dat kledingadvies geeft:</p>"
   ]
  },
  {
   "cell_type": "code",
   "execution_count": null,
   "metadata": {},
   "outputs": [],
   "source": [
    "weer = \"regen\"\n",
    "\n",
    "if weer == \"regen\":\n",
    "\tprint(\"Neem een paraplu mee,\")\n",
    "\tprint(\"of een jas.\")\n",
    "\n",
    "print(\"Klaar\")"
   ]
  },
  {
   "cell_type": "markdown",
   "metadata": {},
   "source": [
    "<p>Merk op:\n",
    "</p>\n",
    "<ul>\n",
    "    <li>Er staat een dubbele punt achter de <i>conditie</i> van de <code>if</code>.\n",
    "    </li>\n",
    "    <li>De <i>acties</i> staan ingesprongen (met een <i>Tab</i> naar rechts).\n",
    "    </li>\n",
    "    <li>Als de conditie bij de <code>if</code> <code>True</code> is, worden de ingesprongen acties uitgevoerd (de twee <code>print</code>s op regel 4 en 5).\n",
    "    </li>\n",
    "    <li>Als de conditie <code>False</code> is, dan wordt de ingesprongen code overgeslagen.\n",
    "    </li>\n",
    "    <li>Het programma gaat daarna verder vanaf waar er niet meer is ingesprongen (regel 7). De regel met <code>print(\"Klaar\")</code> wordt <b>altijd</b> uitgevoerd. Deze is niet ingesprongen en hoort daarom niet bij de <code>if</code>.\n",
    "    </li>\n",
    "</ul>\n",
    "\n",
    "<p>Een <i>stroomdiagram</i> is een schematische weergave van een algoritme. Het onderstaand stroomdiagram geeft het algoritme voor kledingadvies weer uit het voorbeeldprogramma hierboven:</p>\n",
    "\n",
    "<p><img src=\"http://course.cs.ru.nl/pythonVO/Jupyter/img/Python4_Stroomdiagram_kledingAdvies.jpg\" alt=\"Stroomdiagram voor algoritme kledingadvies\" width=\"450\"></p>\n",
    "\n",
    "<p>Om een stroomdiagram te lezen, begin je bij het <i>Start</i>-blok en volg de pijlen. Ieder blokje dat je tegenkomt, voer je uit. Een ruit geeft een conditie aan. De uitkomst van de conditie bepaalt of je daarna de <code>True</code>- of de <code>False</code>-pijl volgt. Wanneer je het <i>Stop</i>-blok tegenkomt, ben je klaar.</p>\n",
    "\n"
   ]
  },
  {
   "cell_type": "markdown",
   "metadata": {},
   "source": [
    "### Opdracht 4.3: Een 6 dobbelen\n",
    "\n",
    "Hieronder staat code die hoort bij het gooien van een dobbelsteen.\n",
    "Schrijf de juiste conditie op regel 3, zodat er een tekst wordt afgedrukt als er een 6 wordt gegooid (dus als <code>dobbelworp</code> gelijk is aan 6).\n"
   ]
  },
  {
   "cell_type": "code",
   "execution_count": null,
   "metadata": {
    "tags": [
     "Opdracht"
    ]
   },
   "outputs": [],
   "source": [
    "dobbelworp = 6\n",
    "\n",
    "if #HIER CODE AANVULLEN\n",
    "\tprint(\"Yes! Je hebt een 6 gegooid\")"
   ]
  },
  {
   "cell_type": "markdown",
   "metadata": {},
   "source": [
    "<p>Bekijk <a href=\"https://course.cs.ru.nl/pythonVO/Teams/IA_uitwerkingen/IA_H4_oplossingen.html#opgave421\" target=\"_blank\">hier</a> de voorbeelduitwerking.</p>"
   ]
  }
 ],
 "metadata": {
  "kernelspec": {
   "display_name": "Python 3",
   "language": "python",
   "name": "python3"
  },
  "language_info": {
   "name": "python",
   "version": "3.12.2"
  }
 },
 "nbformat": 4,
 "nbformat_minor": 2
}
