{
 "cells": [
  {
   "cell_type": "markdown",
   "metadata": {},
   "source": [
    "## 7: Haakjes bij het combineren van logische operatoren\n",
    "\n",
    "<p>Het combineren van logische operatoren is lastig. Bijvoorbeeld:</p>\n",
    "<ul>\n",
    "    <li> <code>(a and b) or c</code> is <b>niet</b> hetzelfde als <code>a and (b or c)</code>;\n",
    "    </li>\n",
    "    <li> <code>not(a or b)</code> is <b>niet</b> hetzelfde als <code>not(a) or not(b)</code>;\n",
    "    </li>\n",
    "    <li> <code>not(a <b>or</b> b)</code> is <b>wel</b> hetzelfde als <code>not(a) <b>and</b> not(b)</code>.\n",
    "    </li>\n",
    "</ul>\n",
    "<p>Gebruik haakjes om aan te geven wat je bedoelt en probeer je condities zo eenvoudig mogelijk te houden.</p>\n",
    "\n",
    "\n",
    "\n",
    "<p>We bekijken een voorbeeld. Een inbraakalarm heeft een algemene aan-uitknop en twee bewegingssensoren. Het alarm gaat af als de knop aanstaat en een van de twee sensoren een beweging detecteert.</p>\n",
    "<p>De conditie die daarbij hoort, is: <code>algemene_knop and (sensorA or sensorB)</code></p>\n",
    "\n",
    "\n",
    "<p>Merk op dat, als je de haakjes anders zet: <code>(algemene_knop and sensorA) or sensorB</code> het alarm af kan gaan terwijl het uitstaat, doordat sensorB een beweging detecteert.</p>\n"
   ]
  },
  {
   "cell_type": "markdown",
   "metadata": {},
   "source": [
    "### Opdracht 4.13: Combinaties van logische operatoren\n",
    "\n",
    "<p>Vul de condities aan met de juiste code zodat de geprinte omschrijving overeenkomt. Het vriest als het 0 graden of lager is. Gebruik de NOT-operator.</p>\n",
    "\n",
    "<p><b>a:</b> Print <code>True</code> als het op beide dagen vriest; print anders <code>False</code>.</p>\n"
   ]
  },
  {
   "cell_type": "code",
   "execution_count": null,
   "metadata": {
    "tags": [
     "Opdracht"
    ]
   },
   "outputs": [],
   "source": [
    "temperatuur_gisteren = 1\n",
    "temperatuur_vandaag = -1\n",
    "\n",
    "if #SCHRIJF HIER JE CODE\n",
    "\tprint(\"True. Op beide dagen vriest het.\")\n",
    "else:\n",
    "\tprint(\"False\")"
   ]
  },
  {
   "cell_type": "markdown",
   "metadata": {},
   "source": [
    "<p>Bekijk <a href=\"https://course.cs.ru.nl/pythonVO/Teams/IA_uitwerkingen/IA_H4_oplossingen.html#opgave432\" target=\"_blank\">hier</a> de voorbeelduitwerking.</p>\n"
   ]
  },
  {
   "cell_type": "markdown",
   "metadata": {},
   "source": [
    "<p><b>b: </b>Print <code>True</code> als het op <i>geen van beide</i> dagen vriest; print anders <code>False</code>. Gebruik de NOT-operator.</p>\n",
    "\n"
   ]
  },
  {
   "cell_type": "code",
   "execution_count": null,
   "metadata": {
    "tags": [
     "Opdracht"
    ]
   },
   "outputs": [],
   "source": [
    "temperatuur_gisteren = 1\n",
    "temperatuur_vandaag = 1\n",
    "\n",
    "if #SCHRIJF HIER JE CODE\n",
    "\tprint(\"True. Op GEEN van beide dagen vriest het.\")\n",
    "else:\n",
    "\tprint(\"False\")"
   ]
  },
  {
   "cell_type": "markdown",
   "metadata": {},
   "source": [
    "<p>Bekijk <a href=\"https://course.cs.ru.nl/pythonVO/Teams/IA_uitwerkingen/IA_H4_oplossingen.html#opgave432\" target=\"_blank\">hier</a> de voorbeelduitwerking.</p>\n",
    "\n"
   ]
  },
  {
   "cell_type": "markdown",
   "metadata": {},
   "source": [
    "<p><b>c: </b>Print <code>True</code> als het op <i>minstens een</i> dag vriest; print anders <code>False</code>.</p>\n",
    "\n"
   ]
  },
  {
   "cell_type": "code",
   "execution_count": null,
   "metadata": {
    "tags": [
     "Opdracht"
    ]
   },
   "outputs": [],
   "source": [
    "temperatuur_gisteren = -1\n",
    "temperatuur_vandaag = -1\n",
    "\n",
    "if #SCHRIJF HIER JE CODE\n",
    "    print(\"True.  Het vriest op minstens 1 dag.\")\n",
    "else:\n",
    "    print(\"False\")"
   ]
  },
  {
   "cell_type": "markdown",
   "metadata": {},
   "source": [
    "<p>Bekijk <a href=\"https://course.cs.ru.nl/pythonVO/Teams/IA_uitwerkingen/IA_H4_oplossingen.html#opgave432\" target=\"_blank\">hier</a> de voorbeelduitwerking.</p>\n"
   ]
  },
  {
   "cell_type": "markdown",
   "metadata": {},
   "source": [
    "<p><b>d: </b>Print <code>True</code> als het <i>niet op allebei</i> dagen vriest; print anders <code>False</code>.</p>\n"
   ]
  },
  {
   "cell_type": "code",
   "execution_count": null,
   "metadata": {
    "tags": [
     "Opdracht"
    ]
   },
   "outputs": [],
   "source": [
    "temperatuur_gisteren = 1\n",
    "temperatuur_vandaag = -1\n",
    "\n",
    "if #SCHRIJF HIER JE CODE\n",
    "\tprint(\"True. Het vriest niet op allebei dagen\")\n",
    "else:\n",
    "\tprint(\"False\")"
   ]
  },
  {
   "cell_type": "markdown",
   "metadata": {},
   "source": [
    "<p>Bekijk <a href=\"https://course.cs.ru.nl/pythonVO/Teams/IA_uitwerkingen/IA_H4_oplossingen.html#opgave432\" target=\"_blank\">hier</a> de voorbeelduitwerking.</p>\n"
   ]
  }
 ],
 "metadata": {
  "kernelspec": {
   "display_name": "Python 3",
   "language": "python",
   "name": "python3"
  },
  "language_info": {
   "name": "python",
   "version": "3.12.2"
  }
 },
 "nbformat": 4,
 "nbformat_minor": 2
}
