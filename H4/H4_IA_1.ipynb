{
 "cells": [
  {
   "cell_type": "markdown",
   "metadata": {},
   "source": [
    "## 1: Vergelijken van waarden\n",
    "\n",
    "[![Watch the video](https://img.youtube.com/vi/8cJS9KeFX2E/hqdefault.jpg)](https://www.youtube.com/embed/8cJS9KeFX2E)\n",
    "\n",
    "<p>Je kunt twee dingen met elkaar vergelijken. Een vergelijking bestaat uit twee waarden met een vergelijkingsoperator ertussen. Vergelijkingsoperatoren zijn:</p>\n",
    "<p>\n",
    "</p>\n",
    "<table border=\"1\" padding=\"1\">\n",
    "    <tbody>\n",
    "        <tr>\n",
    "            <td><code>==</code></td>\n",
    "            <td>is gelijk aan</td>\n",
    "        </tr>\n",
    "        <tr>\n",
    "            <td><code>!=</code></td>\n",
    "            <td>is niet gelijk aan</td>\n",
    "        </tr>\n",
    "        <tr>\n",
    "            <td><code>&lt;</code></td>\n",
    "            <td>is kleiner dan</td>\n",
    "        </tr>\n",
    "        <tr>\n",
    "            <td><code>&gt;</code></td>\n",
    "            <td>is groter dan</td>\n",
    "        </tr>\n",
    "        <tr>\n",
    "            <td><code>&lt;=</code></td>\n",
    "            <td>is kleiner dan of gelijk aan</td>\n",
    "        </tr>\n",
    "        <tr>\n",
    "            <td><code>&gt;=</code></td>\n",
    "            <td>is groter dan of gelijk aan</td>\n",
    "        </tr>\n",
    "    </tbody>\n",
    "</table>\n",
    "<p></p>\n",
    "\n",
    "<p>Uit een vergelijking kan <code>True</code> of <code>False</code> komen. Het datatype van\n",
    "    <code>True</code> en <code>False</code> heet <code>bool</code> (verkort voor Boolean).\n",
    "</p>\n",
    "\n",
    "\n",
    "<p>Run de onderstaande code met voorbeelden van vergelijkingen:</p>"
   ]
  },
  {
   "cell_type": "code",
   "execution_count": null,
   "metadata": {},
   "outputs": [],
   "source": [
    "print( \"2 < 5 is\", 2 < 5 )\n",
    "print( \"2 <= 5 is\", 2 <= 5 )\n",
    "print( \"3 > 3 is\", 3 > 3 )\n",
    "print( \"3 >= 3 is\", 3 >= 3 )\n",
    "print( \"3 == 3.0 is\", 3 == 3.0 )\n",
    "print( \"3 == '3' is\", 3 == \"3\" )\n",
    "print( \"'hallo' == 'hallo' is \", \"hallo\" == \"hallo\" )\n",
    "print( \"'hallo' == 'hoi' is\", \"hallo\" == \"hoi\" )\n",
    "print( \"'Python' != 'rotzooi' is \", \"Python\" != \"rotzooi\" )"
   ]
  },
  {
   "cell_type": "markdown",
   "metadata": {},
   "source": [
    "### Opdracht 4.1: Vergelijkingsoperatoren\n",
    "<p>Zet in de code hieronder de juiste vergelijkingsoperatoren op de plek van de puntjes:</p>\n"
   ]
  },
  {
   "cell_type": "code",
   "execution_count": null,
   "metadata": {
    "tags": [
     "Opdracht"
    ]
   },
   "outputs": [],
   "source": [
    "#Code die test of 1/2 gelijk is aan, groter is dan, ... `0.5`\n",
    "print(\"1/2 is gelijk aan 0.5 is: \", 1/2 ... 0.5 )\n",
    "print(\"1/2 is groter dan 0.5 is: \", 1/2 ... 0.5 )\n",
    "print(\"1/2 is groter of gelijk aan 0.5 is: \", 1/2 ... 0.5 )\n",
    "print(\"1/2 is ongelijk aan 0.5 is: \", 1/2 ... 0.5 )\n",
    "print(\"1/2 is kleiner dan 0.5 is: \", 1/2 ... 0.5 )"
   ]
  },
  {
   "cell_type": "markdown",
   "metadata": {},
   "source": [
    "<p>Bekijk <a href=\"https://course.cs.ru.nl/pythonVO/Teams/IA_uitwerkingen/IA_H4_oplossingen.html#opgave411\" target=\"_blank\">hier</a> de voorbeelduitwerking.</p>\n"
   ]
  },
  {
   "cell_type": "markdown",
   "metadata": {},
   "source": [
    "### Opdracht 4.2: Foutmelding bij een vergelijking\n",
    "\n",
    "<p>De code hieronder geeft een fout. Lees de foutmelding en corrigeer de fout.</p>"
   ]
  },
  {
   "cell_type": "code",
   "execution_count": null,
   "metadata": {
    "tags": [
     "Opdracht"
    ]
   },
   "outputs": [],
   "source": [
    "print( 3 < '4' )"
   ]
  },
  {
   "cell_type": "markdown",
   "metadata": {},
   "source": [
    "<p>Bekijk <a href=\"https://course.cs.ru.nl/pythonVO/Teams/IA_uitwerkingen/IA_H4_oplossingen.html#opgave412\" target=\"_blank\">hier</a> de voorbeelduitwerking.</p>\n"
   ]
  },
  {
   "cell_type": "markdown",
   "metadata": {},
   "source": [
    "<p><b>Verschil tussen <code>=</code> en <code>==</code></b></p>\n",
    "\n",
    "<p>Een veelgemaakte fout is om twee waarden te vergelijken met één enkel <code>=</code>-teken.\n",
    "</p>\n",
    "<ul>\n",
    "    <li>Het enkele <code>=</code>-teken gebruik je om een waarde aan een variabele toe te kennen.</li>\n",
    "    <li>Het dubbele <code>==</code>-teken gebruik je om te controleren of twee waarden gelijk zijn aan elkaar.</li>\n",
    "</ul>\n",
    "<p></p>"
   ]
  }
 ],
 "metadata": {
  "kernelspec": {
   "display_name": "Python 3",
   "language": "python",
   "name": "python3"
  },
  "language_info": {
   "name": "python",
   "version": "3.12.2"
  }
 },
 "nbformat": 4,
 "nbformat_minor": 2
}
