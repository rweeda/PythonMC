{
 "cells": [
  {
   "cell_type": "markdown",
   "metadata": {},
   "source": [
    "# Hoofdstuk 4 - Keuzes\n",
    "\n",
    "<p>Met een <i>Als..dan..anders...</i> kun je keuzes aangeven en bepalen onder welke voorwaarde code wordt uitgevoerd. In dit hoofdstuk leren we hoe dat in Python werkt.</p>\n",
    "\n",
    "In dit onderwerp:\n",
    "\n",
    "<ul>\n",
    "    <li> leer je vergelijkingen opstellen met de volgende operatoren: <code>&lt;, &lt;=, ==, &gt;, &gt;=, !=</code>;\n",
    "    </li>\n",
    "    <li> leer je hoe je de Boolean waarde <code>True</code> en <code>False</code> kunt gebruiken in een vergelijking;\n",
    "    </li>\n",
    "    <li> leer je <code>=</code> gebruiken om een waarde aan een variabele <i>toe te kennen</i> en <code>==</code> om de waarde van een variabele te <i>controleren</i>;\n",
    "    </li>\n",
    "    <li> leer je met <code>in</code> controleren of een letter in een string voorkomt;\n",
    "    </li>\n",
    "    <li> leer je keuzes omschrijven met de constructies: <code>if</code>, <code>if-else</code> en <code>if-elif-else</code>;\n",
    "    </li>\n",
    "    <li> leer je een stroomdiagram van een algoritme met keuzes omzetten in code, en andersom;\n",
    "    </li>\n",
    "    <li> leer je condities combineren met <code>and</code>, <code>or</code> en <code>not</code>;\n",
    "    </li>\n",
    "    <li>leer je uitgebreidere condities maken door keuzeconstructies te nesten of condities te combineren;\n",
    "    </li>\n",
    "    <li>leer je hoe je met inspringen aangeeft welke code bij een constructie hoort.\n",
    "    </li>\n",
    "</ul>\n",
    "\n",
    "<div class=\"fa fa-clock-o fa-3x\"></div><br>Verwachte tijd: <b>2 uur</b>"
   ]
  }
 ],
 "metadata": {
  "kernelspec": {
   "display_name": "Python 3",
   "language": "python",
   "name": "python3"
  },
  "language_info": {
   "name": "python",
   "version": "3.12.2"
  }
 },
 "nbformat": 4,
 "nbformat_minor": 2
}
