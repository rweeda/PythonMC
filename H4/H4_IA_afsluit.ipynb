{
 "cells": [
  {
   "cell_type": "markdown",
   "metadata": {},
   "source": [
    "### H4: Afsluitende Opdrachten\n",
    "\n",
    "<p>Met de volgende afsluitende opdrachten kun je kijken hoe goed je de stof beheerst. Controleer steeds je eigen oplossing met de voorbeeldoplossing.</p>\n"
   ]
  },
  {
   "cell_type": "markdown",
   "metadata": {},
   "source": [
    "### Afsluitende Opdracht 4.1: Kiesgerechtigd\n",
    "\n",
    "<p> Als je 18 bent, mag je stemmen.\n",
    "        Schrijf een programma dat de gebruiker om zijn of haar leeftijd vraagt en dan print of die mag stemmen of niet.</p>\n",
    "\n",
    "\n",
    "<p>Tips:</p>\n",
    "    <ul>\n",
    "        <li>vraag de gebruiker om invoer met: <code>input()</code>;\n",
    "        </li>\n",
    "        <li>sla dit op in een variabele, bijvoorbeeld: <code>invoer</code>;\n",
    "        </li>\n",
    "        <li>invoer wordt standaard als een string (tekst) ingelezen. Dit moet je nog omzetten in een <code>int</code> (geheel getal). Dat doe je zo: <code>leeftijd = int( invoer )</code>.\n",
    "        </li>\n",
    "    </ul>"
   ]
  },
  {
   "cell_type": "markdown",
   "metadata": {
    "tags": [
     "Opdracht"
    ]
   },
   "source": []
  },
  {
   "cell_type": "markdown",
   "metadata": {},
   "source": [
    "<p>Bekijk <a href=\"https://course.cs.ru.nl/pythonVO/Teams/IA_uitwerkingen/IA_H4_oplossingen.html#AfOpgave41\" target=\"_blank\">hier</a> de voorbeelduitwerking.</p>\n"
   ]
  },
  {
   "cell_type": "markdown",
   "metadata": {},
   "source": [
    "### Afsluitende Opdracht 4.2: Grootste\n",
    "\n",
    "<p>Schrijf een programma dat de gebruiker om twee getallen vraagt en dan print welk het grootste is: <i>... is groter</i>. Als de twee getallen even groot zijn, print het programma: <i> ... en ... zijn even groot</i>. Op de plek van ... komt natuurlijk het getal te staan.\n",
    "    </p>\n",
    "    <p>Tip: vergeet niet om de gebruikersinvoer in een <code>int</code> te veranderen.</p>\n"
   ]
  },
  {
   "cell_type": "code",
   "execution_count": null,
   "metadata": {
    "tags": [
     "Opdracht"
    ]
   },
   "outputs": [],
   "source": []
  },
  {
   "cell_type": "markdown",
   "metadata": {},
   "source": [
    "<p>Bekijk <a href=\"https://course.cs.ru.nl/pythonVO/Teams/IA_uitwerkingen/IA_H4_oplossingen.html#AfOpgave42\" target=\"_blank\">hier</a> de voorbeelduitwerking.</p>\n"
   ]
  },
  {
   "cell_type": "markdown",
   "metadata": {},
   "source": [
    "### Afsluitende Opdracht 4.3: Gelukkig\n",
    "\n",
    "<p>Schrijf een programma dat aan de gebruiker vraagt of hij gelukkig is. Als het antwoord 'JA', 'Ja', 'ja' of 'j' is, toon dan een smiley. Voor het tonen van een smiley kun je de gegeven code gebruiken.\n",
    "        Anders toon je een gezichtje met een frons. Test met verschillende invoer.</p>\n",
    "\n",
    "<p>Tip: Met <code>print()</code> druk je een lege regel af.</p>"
   ]
  },
  {
   "cell_type": "code",
   "execution_count": null,
   "metadata": {
    "tags": [
     "Opdracht"
    ]
   },
   "outputs": [],
   "source": [
    "print(\"**  **\")\n",
    "print(\"**  **\")\n",
    "print(\"**  **\")\n",
    "print()\n",
    "print(\"*    *\")\n",
    "print(\" **** \")"
   ]
  },
  {
   "cell_type": "markdown",
   "metadata": {},
   "source": [
    "<p>Bekijk <a href=\"https://course.cs.ru.nl/pythonVO/Teams/IA_uitwerkingen/IA_H4_oplossingen.html#AfOpgave43\" target=\"_blank\">hier</a> de voorbeelduitwerking.</p>\n"
   ]
  },
  {
   "cell_type": "markdown",
   "metadata": {},
   "source": [
    "### Afsluitende Opdracht 4.4: Lengte gebruikersnaam controleren\n",
    "\n",
    "<p>Schrijf een programma dat de gebruiker om zijn of haar naam vraagt.</p>\n",
    "    <ul>\n",
    "        <li>Als de gebruiker een naam invoert die korter is dan twee letters, geef dan de volgende foutmelding:\n",
    "            \"De ingevoerde naam is te kort. Geef je echte naam op!\"\n",
    "        </li>\n",
    "        <li>Anders: print dan een groet: \"Hallo ...\" met de naam van de gebruiker.\n",
    "        </li>\n",
    "    </ul>\n",
    "\n",
    "Tip: met <code>len</code> kun je de lengte van een tekst bepalen."
   ]
  },
  {
   "cell_type": "code",
   "execution_count": null,
   "metadata": {
    "tags": [
     "Opdracht"
    ]
   },
   "outputs": [],
   "source": []
  },
  {
   "cell_type": "markdown",
   "metadata": {},
   "source": [
    "<p>Bekijk <a href=\"https://course.cs.ru.nl/pythonVO/Teams/IA_uitwerkingen/IA_H4_oplossingen.html#AfOpgave44\" target=\"_blank\">hier</a> de voorbeelduitwerking.</p>\n"
   ]
  },
  {
   "cell_type": "markdown",
   "metadata": {},
   "source": [
    "### Afsluitende Opdracht 4.5: Is even?\n",
    "\n",
    "<p>Je kunt testen of een getal even of oneven is met de modulo-operator (<code>%</code>). Het algoritme is weergegeven in het volgende stroomdiagram:</p>\n",
    "\n",
    "<p><img src=\"http://course.cs.ru.nl/pythonVO/Jupyter/img/Python4_Stroomdiagram_isEven.jpg\" alt=\"Stroomdiagram bepalen even getal\" width=\"500\"></p>\n",
    "\n",
    "\n",
    "\n",
    "\n",
    "<p>Schrijf een programma dat de gebruiker om een geheel getal vraagt en dan afdrukt of dit even of oneven is.</p>\n",
    "\n"
   ]
  },
  {
   "cell_type": "code",
   "execution_count": null,
   "metadata": {
    "tags": [
     "Opdracht"
    ]
   },
   "outputs": [],
   "source": []
  },
  {
   "cell_type": "markdown",
   "metadata": {},
   "source": [
    "<p>Bekijk <a href=\"https://course.cs.ru.nl/pythonVO/Teams/IA_uitwerkingen/IA_H4_oplossingen.html#AfOpgave45\" target=\"_blank\">hier</a> de voorbeelduitwerking.</p>\n"
   ]
  },
  {
   "cell_type": "markdown",
   "metadata": {},
   "source": [
    "### Afsluitende Opdracht 4.6: Amerikaans beoordelen\n",
    "\n",
    "<p>Cijfers voor proefwerken en tentamens vallen tussen 0 en 10 (inclusief 0 en 10) en worden altijd afgerond op halve punten.\n",
    "        De Amerikaanse stijl van beoordelen gebruikt letters. De cijfers:</p>\n",
    "    <ul>\n",
    "        <li> 8,5 tot en met 10 zijn in Amerika \"A\",\n",
    "        </li>\n",
    "        <li> 7,5 tot 8 zijn \"B\",\n",
    "        </li>\n",
    "        <li> 6,5 tot 7 zijn \"C\",\n",
    "        </li>\n",
    "        <li> 5,5 tot 6 zijn \"D\" en\n",
    "        </li>\n",
    "        <li> lager dan 5,5 is \"F\".\n",
    "        </li>\n",
    "    </ul>\n",
    "\n",
    "<p>Schrijf code die deze vertaling van cijfers naar letters maakt, waarbij de gebruiker gevraagd wordt om het cijfer in te geven.\n",
    "        Bedenk dat de invoer omgezet moet worden (van tekst) naar een float (kommagetal).\n",
    "        Als de gebruiker een cijfer buiten het gegeven bereik ingeeft, moet je een foutmelding geven.</p>\n"
   ]
  },
  {
   "cell_type": "code",
   "execution_count": null,
   "metadata": {
    "tags": [
     "Opdracht"
    ]
   },
   "outputs": [],
   "source": []
  },
  {
   "cell_type": "markdown",
   "metadata": {},
   "source": [
    "<p>Bekijk <a href=\"https://course.cs.ru.nl/pythonVO/Teams/IA_uitwerkingen/IA_H4_oplossingen.html#AfOpgave46\" target=\"_blank\">hier</a> de voorbeelduitwerking.</p>\n"
   ]
  },
  {
   "cell_type": "markdown",
   "metadata": {},
   "source": [
    "### Afsluitende Opdracht 4.7: Redeneerfout\n",
    "\n",
    "<p>De Amerikaanse stijl van beoordelen gebruikt letters. De cijfers:</p>\n",
    "    <ul>\n",
    "        <li> 8,5 tot en met 10 zijn in Amerika \"A\",\n",
    "        </li>\n",
    "        <li> 7,5 tot 8 zijn \"B\",\n",
    "        </li>\n",
    "        <li> 6,5 tot 7 zijn \"C\",\n",
    "        </li>\n",
    "        <li> 5,5 tot 6 zijn \"D\" en\n",
    "        </li>\n",
    "        <li> lager dan 5,5 is \"F\".\n",
    "        </li>\n",
    "    </ul>\n",
    "\n",
    "\n",
    "<p>Welke redeneerfout is gemaakt in de volgende code? Test met een score van 9.8.\n",
    "        Pas de code aan zodat het juist werkt. Gebruik <code>elif</code>.</p>"
   ]
  },
  {
   "cell_type": "code",
   "execution_count": null,
   "metadata": {},
   "outputs": [],
   "source": [
    "score = 9.8\n",
    "if score >= 5.5:\n",
    "    grade = 'D'\n",
    "else:\n",
    "  if score >= 6.5:\n",
    "    grade = 'C'\n",
    "  else:\n",
    "    if score >= 7.5:\n",
    "      grade = 'B'\n",
    "    else:\n",
    "      if score >= 8.5:\n",
    "        grade = 'A'\n",
    "      else:\n",
    "        grade = 'F'\n",
    "print( grade )"
   ]
  },
  {
   "cell_type": "markdown",
   "metadata": {},
   "source": [
    "<p>Bekijk <a href=\"https://course.cs.ru.nl/pythonVO/Teams/IA_uitwerkingen/IA_H4_oplossingen.html#AfOpgave47\" target=\"_blank\">hier</a> de voorbeelduitwerking.</p>\n"
   ]
  },
  {
   "cell_type": "markdown",
   "metadata": {},
   "source": [
    "### Afsluitende Opdracht 4.8: Aantal verschillende klinkers\n",
    "\n",
    "<p>Schrijf een programma dat afdrukt hoeveel verschillende klinkers er in een string zitten. De hoofdletterversie van een klinker wordt beschouwd als gelijk aan de kleineletterversie. Probeer de uitvoer een beetje netjes te maken (bijvoorbeeld: het is lelijk om te zeggen: \"Er zitten 1 verschillende klinkers in de string\").</p>\n",
    "\n",
    "<p>Voorbeeld: als de gebruiker als string \"Het Montessoricollege is een leuke school\" ingeeft, zegt het programma dat er 4 verschillende klinkers in de string zitten.</p>\n",
    "    <p>Tips:</p>\n",
    "    <ul>\n",
    "        <li>maak een variabele <code>teller</code> die begint bij 0;\n",
    "        </li>\n",
    "        <li>als een bepaalde klinker in de invoer voorkomt, hoog je de <code>teller</code> op;\n",
    "        </li>\n",
    "        <li>na afloop druk je een verschillende tekst af, afhankelijk van of je 0, 1 of meer klinkers gevonden hebt.\n",
    "        </li>\n",
    "    </ul>"
   ]
  },
  {
   "cell_type": "code",
   "execution_count": null,
   "metadata": {
    "tags": [
     "Opdracht"
    ]
   },
   "outputs": [],
   "source": []
  },
  {
   "cell_type": "markdown",
   "metadata": {},
   "source": [
    "<p>Bekijk <a href=\"https://course.cs.ru.nl/pythonVO/Teams/IA_uitwerkingen/IA_H4_oplossingen.html#AfOpgave48\" target=\"_blank\">hier</a> de voorbeelduitwerking.</p>\n"
   ]
  },
  {
   "cell_type": "markdown",
   "metadata": {},
   "source": [
    "### Afsluitende Opdracht 4.9: Brugklasadvies\n",
    "\n",
    "<p>Op basis van de CITO-score voorspelt de Centrale Eindtoets welk brugklastype het beste past bij het kind.\n",
    "        Dat cijfer ligt ergens tussen 501 en 550.</p>\n",
    "\n",
    "<ul>\n",
    "        <li>501 - 536: vmbo\n",
    "        </li>\n",
    "        <li>537 - 539: havo\n",
    "        </li>\n",
    "        <li>540 - 544: havo / vwo\n",
    "        </li>\n",
    "        <li>545 - 550: vwo\n",
    "        </li>\n",
    "    </ul>\n",
    "\n",
    "<p>Schrijf een programma dat aan de hand van een ingevoerde CITO-score een brugklasadvies afdrukt.\n",
    "        Als er een ongeldige CITO-score opgegeven wordt, moet een foutmelding getoond worden.</p>\n"
   ]
  },
  {
   "cell_type": "code",
   "execution_count": null,
   "metadata": {
    "tags": [
     "Opdracht"
    ]
   },
   "outputs": [],
   "source": []
  },
  {
   "cell_type": "markdown",
   "metadata": {},
   "source": [
    "<p>Bekijk <a href=\"https://course.cs.ru.nl/pythonVO/Teams/IA_uitwerkingen/IA_H4_oplossingen.html#AfOpgave49\" target=\"_blank\">hier</a> de voorbeelduitwerking.</p>\n"
   ]
  },
  {
   "cell_type": "markdown",
   "metadata": {},
   "source": [
    "### Afsluitende Opdracht 4.10: Geldige gebruikersnaam\n",
    "\n",
    "<p>Schrijf een programma dat controleert of een gebruiker een geldige gebruikersnaam heeft ingevoerd.\n",
    "        Dit zijn de eisen:</p>\n",
    "    <ul>\n",
    "        <li>de gebruikersnaam moet tussen de 2 en 20 karakters hebben;\n",
    "        </li>\n",
    "        <li>de volgende vreemde tekens mogen niet voorkomen: \"?\", \"%\", \"&amp;\";\n",
    "        </li>\n",
    "        <li>als de gebruikersnaam niet geldig is, druk dan af aan welke eis de gebruikersnaam niet voldoet;\n",
    "        </li>\n",
    "        <li>als de gebruikersnaam aan alle eisen voldoet, druk dan af: \"Hallo ....\". Op ... komt de gebruikersnaam te staan.\n",
    "        </li>\n",
    "    </ul>"
   ]
  },
  {
   "cell_type": "code",
   "execution_count": null,
   "metadata": {
    "tags": [
     "Opdracht"
    ]
   },
   "outputs": [],
   "source": []
  },
  {
   "cell_type": "markdown",
   "metadata": {},
   "source": [
    "<p>Bekijk <a href=\"https://course.cs.ru.nl/pythonVO/Teams/IA_uitwerkingen/IA_H4_oplossingen.html#AfOpgave410\" target=\"_blank\">hier</a> de voorbeelduitwerking.</p>\n"
   ]
  },
  {
   "cell_type": "markdown",
   "metadata": {},
   "source": [
    "### Afsluitende Opdracht 4.11: App voor gewicht\n",
    "\n",
    "Bekijk het volgende stroomdiagram. Het algoritme bepaalt of een sporter is aangekomen of afgevallen.<p></p>\n",
    "\n",
    "<p><img src=\"http://course.cs.ru.nl/pythonVO/Jupyter/img/Python4_Stroomdiagram_gewichtApp.jpg\" alt=\"Stroomdiagram voor algoritme gewichtsApp\" width=\"750\"></p>\n",
    "\n",
    "<p>Vertaal het bovenstaande stroomdiagram naar een programma:</p>\n",
    "    <ol>\n",
    "        <li>vraag de gebruiker om zijn vorige gewicht in kg (als kommagetal);\n",
    "        </li>\n",
    "        <li>vraag de gebruiker om zijn huidige gewicht in kg (als kommagetal);\n",
    "        </li>\n",
    "        <li>als de sporter hetzelfde gewicht heeft, druk een melding af die dit aangeeft;\n",
    "        </li>\n",
    "        <li>bij aankomen of afvallen geeft de app dat aan en met hoeveel gram;\n",
    "        </li>\n",
    "        <li>Test je programma met verschillende waarden.\n",
    "        </li>\n",
    "    </ol>\n",
    "\n",
    "  <p>Tips: Bedenk dat de invoer omgezet moet worden naar een kommagetal (<code>float</code>).</p>\n"
   ]
  },
  {
   "cell_type": "code",
   "execution_count": null,
   "metadata": {
    "tags": [
     "Opdracht"
    ]
   },
   "outputs": [],
   "source": []
  },
  {
   "cell_type": "markdown",
   "metadata": {},
   "source": [
    "<p>Bekijk <a href=\"https://course.cs.ru.nl/pythonVO/Teams/IA_uitwerkingen/IA_H4_oplossingen.html#AfOpgave411\" target=\"_blank\">hier</a> de voorbeelduitwerking.</p>\n"
   ]
  }
 ],
 "metadata": {
  "kernelspec": {
   "display_name": "Python 3",
   "language": "python",
   "name": "python3"
  },
  "language_info": {
   "name": "python",
   "version": "3.12.2"
  }
 },
 "nbformat": 4,
 "nbformat_minor": 2
}
