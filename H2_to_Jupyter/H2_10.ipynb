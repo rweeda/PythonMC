{
 "cells": [
  {
   "cell_type": "markdown",
   "id": "42a14256-91c8-446e-92a7-ab6bf11055d3",
   "metadata": {},
   "source": [
    "# 10: Gebruiker om een getal vragen\n",
    "\n",
    "<p><iframe width=\"640\" height=\"360\" src=\"https://www.youtube.com/embed/zVB6QMSN9eE\" title=\"YouTube video player\" frameborder=\"0\" allow=\"accelerometer; autoplay; clipboard-write; encrypted-media; gyroscope; picture-in-picture\" allowfullscreen=\"\"></iframe></p>\n",
    "\n",
    "\n",
    "De functie `input()` geeft altijd een string (tekst) terug. Verwacht je\n",
    "van de gebruiker een getal, dan moet je de invoer omzetten van tekst\n",
    "naar een getal met `int()` (voor een geheel getal):\n"
   ]
  },
  {
   "cell_type": "code",
   "execution_count": 2,
   "id": "f3a9ec32",
   "metadata": {},
   "outputs": [
    {
     "name": "stdout",
     "output_type": "stream",
     "text": [
      "Wat is je lievelingsgetal?\n"
     ]
    },
    {
     "ename": "ValueError",
     "evalue": "invalid literal for int() with base 10: 'dsf'",
     "output_type": "error",
     "traceback": [
      "\u001b[1;31m---------------------------------------------------------------------------\u001b[0m",
      "\u001b[1;31mValueError\u001b[0m                                Traceback (most recent call last)",
      "Cell \u001b[1;32mIn[2], line 3\u001b[0m\n\u001b[0;32m      1\u001b[0m \u001b[38;5;28mprint\u001b[39m( \u001b[38;5;124m\"\u001b[39m\u001b[38;5;124mWat is je lievelingsgetal?\u001b[39m\u001b[38;5;124m\"\u001b[39m )\n\u001b[0;32m      2\u001b[0m invoer \u001b[38;5;241m=\u001b[39m \u001b[38;5;28minput\u001b[39m()\n\u001b[1;32m----> 3\u001b[0m lievelingsgetal \u001b[38;5;241m=\u001b[39m \u001b[38;5;28;43mint\u001b[39;49m\u001b[43m(\u001b[49m\u001b[43m \u001b[49m\u001b[43minvoer\u001b[49m\u001b[43m \u001b[49m\u001b[43m)\u001b[49m\t\t\t\t\u001b[38;5;66;03m# invoer omzetten van tekst naar een getal\u001b[39;00m\n\u001b[0;32m      4\u001b[0m \u001b[38;5;28mprint\u001b[39m( \u001b[38;5;124m\"\u001b[39m\u001b[38;5;124mJe lievelingsgetal is\u001b[39m\u001b[38;5;124m\"\u001b[39m, lievelingsgetal )\n",
      "\u001b[1;31mValueError\u001b[0m: invalid literal for int() with base 10: 'dsf'"
     ]
    }
   ],
   "source": [
    "print( \"Wat is je lievelingsgetal?\" )\n",
    "invoer = input()\n",
    "lievelingsgetal = int( invoer )\t\t\t\t# invoer omzetten van tekst naar een getal\n",
    "print( \"Je lievelingsgetal is\", lievelingsgetal )\n",
    "\n"
   ]
  },
  {
   "cell_type": "markdown",
   "id": "fe62900d",
   "metadata": {},
   "source": [
    "Als je een kommagetal verwacht, gebruik je <code>float()</code>. Dat heet <i>type casting</i>."
   ]
  },
  {
   "cell_type": "code",
   "execution_count": null,
   "id": "f8617a1a",
   "metadata": {},
   "outputs": [],
   "source": [
    "print( \"Wat is de temperatuur?\" )\n",
    "invoer = input()\n",
    "temperatuur = float( invoer )\t\t\t\t# invoer omzetten van tekst naar een kommagetal\n",
    "print( \"De temperatuur is\", temperatuur, \"graden.\" )"
   ]
  },
  {
   "cell_type": "markdown",
   "id": "ec1c0b28",
   "metadata": {},
   "source": [
    "## Opdracht 2.9 Leeftijd vragen\n",
    "\n",
    "Schrijf een programma dat de gebruiker om zijn leeftijd vraagt en dan\n",
    "print:\n",
    "\n",
    "*Jij bent .... jaar oud.*\n",
    "\n"
   ]
  },
  {
   "cell_type": "code",
   "execution_count": null,
   "id": "b1cb7f90",
   "metadata": {},
   "outputs": [],
   "source": [
    "# typ hier je antwoord\n",
    "\n"
   ]
  },
  {
   "cell_type": "markdown",
   "id": "8b9783d6",
   "metadata": {},
   "source": [
    "\n",
    "\n",
    "Bekijk <a\n",
    "href=\"https://course.cs.ru.nl/pythonVO/Teams/IA_uitwerkingen/IA_H2_oplossingen.html#opgave232\"\n",
    "target=\"_blank\">hier</a> de voorbeelduitwerking.\n",
    "\n"
   ]
  },
  {
   "cell_type": "markdown",
   "id": "bfca9857",
   "metadata": {},
   "source": [
    "## Opdracht 2.10 Sterretjes afdrukken\n",
    "\n",
    "Schrijf een programma dat de gebruiker vraagt hoeveel sterretjes hij wil\n",
    "zien, en dan precies zoveel sterretjes afdrukt. Laat de gebruiker ook\n",
    "zien wat is getypt. Bijvoorbeeld: als de gebruiker '4' intikt, wordt het\n",
    "volgende geprint:  \n",
    "  \n",
    "*Hier zijn de 4 sterretjes:*  \n",
    "*'\\*\\*\\*\\**"
   ]
  },
  {
   "cell_type": "code",
   "execution_count": null,
   "id": "4a277ed2",
   "metadata": {},
   "outputs": [],
   "source": [
    "# typ hier je antwoord"
   ]
  },
  {
   "cell_type": "markdown",
   "id": "f5890238",
   "metadata": {},
   "source": [
    "Bekijk <a\n",
    "href=\"https://course.cs.ru.nl/pythonVO/Teams/IA_uitwerkingen/IA_H2_oplossingen.html#opgave233\"\n",
    "target=\"_blank\">hier</a> de voorbeelduitwerking."
   ]
  },
  {
   "cell_type": "markdown",
   "id": "3757aa88",
   "metadata": {},
   "source": [
    "## Opdracht 2.11 Gebruiker kiest lengte\n",
    "\n",
    "Schrijf een programma dat de gebruiker om een lengte vraagt en dan een\n",
    "lijn met die lengte tekent. Ook hier laat je de gebruiker zien wat is\n",
    "ingetikt.\n"
   ]
  },
  {
   "cell_type": "code",
   "execution_count": 3,
   "id": "c96aad16",
   "metadata": {},
   "outputs": [],
   "source": [
    "import turtle       # importeer de turtle module\n",
    "\n",
    "# VRAAG GEBRUIKER OM EEN LENGTE\n",
    "\n",
    "turtle.pendown()    # zet pen neer\n",
    "turtle.forward(150) # 150 stappen vooruit, PAS DEZE AAN VOOR LENGTE DOOR GEBRUIKER AANGEGEVEN\n",
    "\n",
    "turtle.done()       # klaar"
   ]
  },
  {
   "cell_type": "markdown",
   "id": "a8374aeb",
   "metadata": {},
   "source": [
    "\n",
    "\n",
    "Bekijk <a\n",
    "href=\"https://course.cs.ru.nl/pythonVO/Teams/IA_uitwerkingen/IA_H2_oplossingen.html#opgave234\"\n",
    "target=\"_blank\">hier</a> de voorbeelduitwerking."
   ]
  }
 ],
 "metadata": {
  "kernelspec": {
   "display_name": "Python 3",
   "language": "python",
   "name": "python3"
  },
  "language_info": {
   "codemirror_mode": {
    "name": "ipython",
    "version": 3
   },
   "file_extension": ".py",
   "mimetype": "text/x-python",
   "name": "python",
   "nbconvert_exporter": "python",
   "pygments_lexer": "ipython3",
   "version": "3.11.7"
  }
 },
 "nbformat": 4,
 "nbformat_minor": 5
}
