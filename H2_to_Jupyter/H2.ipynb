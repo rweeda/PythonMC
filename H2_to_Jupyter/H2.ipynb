{
 "cells": [
  {
   "cell_type": "markdown",
   "id": "42a14256-91c8-446e-92a7-ab6bf11055d3",
   "metadata": {},
   "source": [
    "# Hoofdstuk 2 - Interactie\n",
    "\n",
    "Je kunt interactie met de gebruiker krijgen door op het scherm te\n",
    "printen en vragen aan de gebruiker te stellen. Hoe je dat precies doet,\n",
    "is afhankelijk van wat je precies wilt vragen of printen.\n",
    "</p>\n",
    "<p>\n",
    "<span style=\"font-size: 1rem;\">In dit onderwerp:</span>\n",
    "</p>\n",
    "<ul>\n",
    "<li>\n",
    "leer je dat het datatype van een tekst een <code>string</code> heet, een\n",
    "geheel getal een <code>int</code> en een kommagetal een\n",
    "<code>float</code>;\n",
    "</li>\n",
    "<li>\n",
    "leer je om tekst en/of getallen op het scherm te tonen met\n",
    "<code>print()</code>;\n",
    "</li>\n",
    "<li>\n",
    "leer je een <code>,</code> (komma) te gebruiken om meerdere dingen met\n",
    "spaties af te drukken;\n",
    "</li>\n",
    "<li>\n",
    "leer je <code>+</code> gebruiken om teksten zonder spatie aan elkaar te\n",
    "“plakken”;\n",
    "</li>\n",
    "<li>\n",
    "leer je <code>input()</code> gebruiken om invoer van een gebruiker te\n",
    "krijgen en op te slaan;\n",
    "</li>\n",
    "<li>\n",
    "leer je de invoer van een gebruiker omzetten van <code>string</code>\n",
    "(tekst) naar<code> int</code> (geheel getal), of van <code>string</code>\n",
    "naar <code>float</code> (kommagetal);\n",
    "</li>\n",
    "<li>\n",
    "leer je een getal aan tekst plakken door met <code>str()</code> eerst\n",
    "het getal om te zetten naar een string (tekst) en het daarna met\n",
    "<code>+</code> aan de tekst te plakken;\n",
    "</li>\n",
    "<li>\n",
    "leer je rekenen met getallen ( <code>+, -, \\* /, \\*\\*, % </code>) en\n",
    "waar nodig gebruik maken van haakjes.\n",
    "</li>\n",
    "</ul>\n",
    "\n",
    "Verwachte tijd: <b>2 uur</b>"
   ]
  },
  {
   "cell_type": "markdown",
   "id": "bfa95949",
   "metadata": {},
   "source": [
    "## 1: Datatypes\n",
    "\n",
    "<p>Alles in Python heeft een <b class=\"cursor-hover\">datatype</b>: </p>\n",
    "\n",
    "<ul>\n",
    "\n",
    "<li class=\"cursor-hover\">\n",
    "<code>str</code> (kort voor <i>string</i>): een tekst<br>Voorbeeld: <code class=\"cursor-hover\">\"Hallo\", \"A\", \"a\", \"\"</code></li>\n",
    "\n",
    "<li class=\"cursor-hover\">\n",
    "<code>int</code> (kort voor <i>integer</i>): een geheel getal<br>Voorbeeld: 1, 4, 0, -5 </li>\n",
    "\n",
    "<li class=\"cursor-hover\">\n",
    "<code>float</code>: een kommagetal<br>Voorbeeld: 8.6, -3.1, 0.0</li>\n",
    "\n",
    "<li class=\"cursor-hover\">\n",
    "<code>bool</code> (kort voor <i class=\"cursor-hover\">Boolean</i>): waar of niet waar<br>\n",
    "Voorbeeld: <code>True</code> (waar) of <code>False</code> (niet waar)\n",
    "</li>\n",
    "\n",
    "</ul>\n",
    "\n",
    "<p><img src=\"https://moodle.informatica-actief.nl/draftfile.php/147455/user/draft/943294310/datatypes.png\" alt=\"Datatypes in python\" width=\"722\" height=\"114\" class=\"img-responsive atto_image_button_text-bottom\"></p>"
   ]
  },
  {
   "cell_type": "markdown",
   "id": "65f1f24f",
   "metadata": {},
   "source": [
    "## 2: Op het scherm afdrukken\n",
    "\n",
    "<p class=\"cursor-hover\">Met <code>print()</code> kun je op het scherm afdrukken. De <code>print()</code>-functie gebruik je soms net iets anders als je getallen of tekst wil afdrukken. Hoe dat zit, bespreken we nu.</p>"
   ]
  },
  {
   "cell_type": "markdown",
   "id": "ae72dca6",
   "metadata": {},
   "source": [
    "<p><iframe width=\"640\" height=\"360\" src=\"https://www.youtube.com/embed/yABNv-Vq22k\" title=\"YouTube video player\" frameborder=\"0\" allow=\"accelerometer; autoplay; clipboard-write; encrypted-media; gyroscope; picture-in-picture\" allowfullscreen=\"\" data-dashlane-frameid=\"198\" class=\"cursor-hover\"></iframe></p>"
   ]
  },
  {
   "cell_type": "markdown",
   "id": "ce23b7b5",
   "metadata": {},
   "source": [
    "## 3: Getallen afdrukken\n",
    "\n",
    "<p>Een <code>int</code> (geheel getal) of <code>float</code> (kommagetal) druk je op het scherm af met <code>print()</code>. Merk op dat een <code>float</code> geen komma, maar een punt heeft.</p>"
   ]
  },
  {
   "cell_type": "code",
   "execution_count": null,
   "id": "b352fc19",
   "metadata": {},
   "outputs": [],
   "source": [
    "print( 5 )                     # druk getal 5 af\n",
    "print( 0.2 )                   # druk het kommagetal 0.2 af\n",
    "print( 5, 0.2 ) "
   ]
  },
  {
   "cell_type": "markdown",
   "id": "6abf625a",
   "metadata": {},
   "source": [
    "### Opdracht 2.1: Floats (kommagetallen) afdrukken\n",
    "\n",
    "<p class=\"cursor-hover\">In de code hieronder willen we een <code>float</code> afdrukken, namelijk <code>3.14</code>. Maar, in plaats van een kommagetal drukt het programma eerst het getal 3 af, dan een spatie en dan 14. Run het programma. Kun jij de fout vinden en herstellen?</p>"
   ]
  },
  {
   "cell_type": "code",
   "execution_count": null,
   "id": "494ff255",
   "metadata": {
    "tags": [
     "Opdracht"
    ]
   },
   "outputs": [],
   "source": [
    "print( 3,14 )"
   ]
  },
  {
   "cell_type": "markdown",
   "id": "c7740068",
   "metadata": {},
   "source": [
    "<p>Bekijk <a href=\"https://course.cs.ru.nl/pythonVO/Teams/IA_uitwerkingen/IA_H2_oplossingen.html#opgave221\" target=\"_blank\">hier</a> de voorbeelduitwerking.</p>"
   ]
  },
  {
   "cell_type": "markdown",
   "id": "365b909d",
   "metadata": {},
   "source": [
    "<p>De komma werkt dus zo dat wat tussen haakjes staat als twee verschillende <i>parameters</i> (informatie voor de functie <code>print</code>) wordt gezien: eerste het ene printen, dan pas het tweede.</p>"
   ]
  },
  {
   "cell_type": "markdown",
   "id": "a3d8727d",
   "metadata": {},
   "source": [
    "## 4: Tekst afdrukken\n",
    "\n",
    "<p>Een <code>string</code> (tekst) zet je eerst tussen aanhalingstekens en druk je dan af met <code>print()</code>:</p>"
   ]
  },
  {
   "cell_type": "code",
   "execution_count": null,
   "id": "e320da47",
   "metadata": {},
   "outputs": [],
   "source": [
    "print( \"f\" )           # druk 1 letter af\n",
    "print( \"fiets\" )      # gebruikt dubbele aanhalingstekens om een string af te drukken\n",
    "print( 'fiets' )       # gebruikt enkele aanhalingstekens om een string af te drukken\n",
    "print() "
   ]
  },
  {
   "cell_type": "markdown",
   "id": "b6b11300",
   "metadata": {},
   "source": [
    "### Opdracht 2.2: Verbeter de fout\n",
    "\n",
    "<p>In elk van de regels code hieronder zitten fouten. Kun jij ze vinden en verbeteren?</p>"
   ]
  },
  {
   "cell_type": "code",
   "execution_count": null,
   "id": "c01edcbe",
   "metadata": {
    "tags": [
     "Opdracht"
    ]
   },
   "outputs": [],
   "source": [
    "print( \"Een boodschap\" ).\n",
    "print( \"Een boodschap ' )\n",
    "print( 'Een boodschapf\" ' )"
   ]
  },
  {
   "cell_type": "markdown",
   "id": "9776ff9f",
   "metadata": {},
   "source": [
    "<p>Bekijk <a href=\"https://course.cs.ru.nl/pythonVO/Teams/IA_uitwerkingen/IA_H2_oplossingen.html#opgave222\" target=\"_blank\">hier</a> de voorbeelduitwerking.</p>"
   ]
  },
  {
   "cell_type": "markdown",
   "id": "80732216",
   "metadata": {},
   "source": [
    "## 5: Een rijtje gegevens afdrukken\n",
    "\n",
    "<p class=\"cursor-hover\">Meerdere dingen achter elkaar printen kan door deze met een komma te scheiden. Dat noemen we een rijtje. Ieder element in het rijtje wordt dan afgedrukt, telkens met een spatie ertussen. Run de code hieronder om het effect te zien:</p>"
   ]
  },
  {
   "cell_type": "code",
   "execution_count": null,
   "id": "c1a0ff9f",
   "metadata": {},
   "outputs": [],
   "source": [
    "print(\"Anna\", \"Piet\", \"Jan\")    # druk een aantal teksten af, telkens met daartussen een spatie\n",
    "print(6, 2)                     # druk een aantal getallen af achter elkaar, met daartussen een spatie\n",
    "print( \"Ik heb\", 2, \"fietsen.\") # druk tekst en een getallen af, met daartussen een spatie"
   ]
  },
  {
   "cell_type": "markdown",
   "id": "48f0a8a6",
   "metadata": {},
   "source": [
    "## 6: Strings herhalend afdrukken\n",
    "\n",
    "<p>Strings kun je herhalen met een <code>*</code>:</p>"
   ]
  },
  {
   "cell_type": "code",
   "execution_count": null,
   "id": "5ab16d32",
   "metadata": {},
   "outputs": [],
   "source": [
    "print( 3*\"hallo\" ) # druk 3x de tekst \"hallo\" af"
   ]
  },
  {
   "cell_type": "markdown",
   "id": "dc36170c",
   "metadata": {},
   "source": [
    "### Opdracht 2.3: Uitroeptekens afdrukken\n",
    "\n",
    "<p>Schrijf een programma dat vijf uitroeptekens achter elkaar afdrukt zodat <i>!!!!!</i> op het scherm verschijnt.</p>"
   ]
  },
  {
   "cell_type": "code",
   "execution_count": null,
   "id": "ba341a98",
   "metadata": {
    "tags": [
     "Opdracht"
    ]
   },
   "outputs": [],
   "source": []
  },
  {
   "cell_type": "markdown",
   "id": "c9b70fad",
   "metadata": {},
   "source": [
    "<p>Bekijk <a href=\"https://course.cs.ru.nl/pythonVO/Teams/IA_uitwerkingen/IA_H2_oplossingen.html#opgave223\" target=\"_blank\">hier</a> de voorbeelduitwerking.</p>"
   ]
  },
  {
   "cell_type": "markdown",
   "id": "baa5e629",
   "metadata": {},
   "source": [
    "## 7: Strings achter elkaar afdrukken\n",
    "\n",
    "<p>In een <code>print()</code> kun je op twee manieren tekst achter elkaar afdrukken. Met een:</p>\n",
    "<ul>\n",
    "    <li><code>,</code> worden ze afgedrukt met een spatie ertussen;</li>\n",
    "    <li><code>+</code> worden ze aan elkaar \"geplakt\" zonder spatie.</li>\n",
    "</ul>"
   ]
  },
  {
   "cell_type": "code",
   "execution_count": null,
   "id": "e4f5f64e",
   "metadata": {},
   "outputs": [],
   "source": [
    "print( \"fiets\",\"bel\" )\t# achter elkaar zetten met spatie\n",
    "print( \"fiets\"+\"bel\" )\t#aan elkaar \"plakken\" zonder spatie"
   ]
  },
  {
   "cell_type": "markdown",
   "id": "82f1ccb7",
   "metadata": {},
   "source": [
    "### Opdracht 2.4: Strings plakken zonder spatie\n",
    "\n",
    "<p>Plak de twee strings hieronder achter elkaar zonder spatie en druk deze dan af, zodat <i>goedemorgen</i> op het scherm verschijnt.</p>\n"
   ]
  },
  {
   "cell_type": "code",
   "execution_count": null,
   "id": "52b7040b",
   "metadata": {
    "tags": [
     "Opdracht"
    ]
   },
   "outputs": [],
   "source": [
    "woord1 = \"goede\"\n",
    "woord2 = \"morgen\""
   ]
  },
  {
   "cell_type": "markdown",
   "id": "ecf46686",
   "metadata": {},
   "source": [
    "<p>Bekijk <a href=\"https://course.cs.ru.nl/pythonVO/Teams/IA_uitwerkingen/IA_H2_oplossingen.html#opgave224\" target=\"_blank\">hier</a> de voorbeelduitwerking.</p>"
   ]
  },
  {
   "cell_type": "markdown",
   "id": "a51e8c73",
   "metadata": {},
   "source": [
    "## 8: Strings aan getallen plakken\n",
    "\n",
    "<p class=\"cursor-hover\"><span style=\"font-size: 0.9375rem;\">Met </span><code>+</code><span style=\"font-size: 0.9375rem;\"> kun je:</span><br></p>\n",
    "<ul>\n",
    "    <li class=\"cursor-hover\"> <code>4 + 3</code>: twee ints (getallen) bij elkaar optellen;</li>\n",
    "    <li class=\"cursor-hover\"> <code>\"Goede\" + \"morgen\"</code>: twee strings (teksten) aan elkaar plakken.</li>\n",
    "</ul>\n",
    "<p class=\"cursor-hover\">Maar een getal aan een tekst plakken gaat niet zomaar. Om dat te doen zet je het getal eerst om in een <code>string</code> met <code>str()</code>. Daarna kun je de twee strings aan elkaar plakken met een <code>+</code>:</p>\n",
    "\n"
   ]
  },
  {
   "cell_type": "code",
   "execution_count": null,
   "id": "ad1b5c1e",
   "metadata": {},
   "outputs": [],
   "source": [
    "print( str(4) + \"euro\")  # zet een getal om in een string, en plak het dan aan een andere string"
   ]
  },
  {
   "cell_type": "markdown",
   "id": "6ca75821",
   "metadata": {},
   "source": [
    "### Opdracht 2.5: Getallen en Strings aan elkaar plakken\n",
    "\n",
    "<p class=\"cursor-hover\">De code hieronder geeft een foutmelding. Herstel de fout, maar <b>alleen door code toe te voegen</b>. Je mag dus geen aanhalingstekens weghalen.</p>"
   ]
  },
  {
   "cell_type": "code",
   "execution_count": null,
   "id": "1f3dd73b",
   "metadata": {
    "tags": [
     "Opdracht"
    ]
   },
   "outputs": [],
   "source": [
    "print( \"Ik heb \" + 2 + \" fietsen.\")"
   ]
  },
  {
   "cell_type": "markdown",
   "id": "c68875d5",
   "metadata": {},
   "source": [
    "<p>Bekijk <a href=\"https://course.cs.ru.nl/pythonVO/Teams/IA_uitwerkingen/IA_H2_oplossingen.html#opgave225\" target=\"_blank\">hier</a> de voorbeelduitwerking.</p>"
   ]
  },
  {
   "cell_type": "markdown",
   "id": "21779679",
   "metadata": {},
   "source": [
    "### Opdracht 2.6: (Komma)getallen en Strings aan elkaar plakken\n",
    "\n",
    "<p>Pas de volgende code aan zodat <code class=\"cursor-hover\">3.0gram</code> (aan elkaar!) wordt afgedrukt.</p>"
   ]
  },
  {
   "cell_type": "code",
   "execution_count": null,
   "id": "096c1806",
   "metadata": {
    "tags": [
     "Opdracht"
    ]
   },
   "outputs": [],
   "source": [
    "print( 3.0 , \"gram\")"
   ]
  },
  {
   "cell_type": "markdown",
   "id": "6e9376af",
   "metadata": {},
   "source": [
    "<p>Bekijk <a href=\"https://course.cs.ru.nl/pythonVO/Teams/IA_uitwerkingen/IA_H2_oplossingen.html#opgave226\" target=\"_blank\">hier</a> de voorbeelduitwerking.</p>"
   ]
  },
  {
   "cell_type": "markdown",
   "id": "90b76535",
   "metadata": {},
   "source": [
    "### Opdracht 2.7: Een getal in tekst omzetten\n",
    "\n",
    "<p>Schrijf een programma dat, gegeven een bepaalde hoeveelheid zakgeld, de volgende tekst netjes afdrukt:</p>\n",
    "\n",
    "<p><i>Ik krijg 20.00 euro zakgeld.</i></p>\n",
    "\n",
    "<p>Tips:\n",
    "</p>\n",
    "<ul>\n",
    "    <li> Hiervoor moet je het getal 20 eerst naar een string omzetten. Daarvoor gebruik je <code>str(...)</code>;</li>\n",
    "    <li> Gebruik <code>+</code> om in een print de \".00\" er achteraan te \"plakken\".</li>\n",
    "</ul>\n"
   ]
  },
  {
   "cell_type": "code",
   "execution_count": null,
   "id": "56173073",
   "metadata": {
    "tags": [
     "Opdracht"
    ]
   },
   "outputs": [],
   "source": [
    "zakgeld = 20\n",
    "#print hier: Ik krijg 20.00 euro zakgeld."
   ]
  },
  {
   "cell_type": "markdown",
   "id": "9fcb510b",
   "metadata": {},
   "source": [
    "<p>Bekijk <a href=\"https://course.cs.ru.nl/pythonVO/Teams/IA_uitwerkingen/IA_H2_oplossingen.html#opgave227\" target=\"_blank\">hier</a> de voorbeelduitwerking.</p>"
   ]
  },
  {
   "cell_type": "markdown",
   "id": "ce8e58a3",
   "metadata": {},
   "source": [
    "## 9: Gebruiker om invoer vragen\n",
    "\n",
    "<p><iframe width=\"640\" height=\"360\" src=\"https://www.youtube.com/embed/cuieyTKAcF8\" title=\"YouTube video player\" frameborder=\"0\" allow=\"accelerometer; autoplay; clipboard-write; encrypted-media; gyroscope; picture-in-picture\" allowfullscreen=\"\" class=\"cursor-hover\" data-dashlane-frameid=\"376\"></iframe>\n",
    "</p>\n",
    "<p>Met <code>input()</code> kun je de gebruiker vragen om wat in te voeren. Het antwoord van de gebruiker sla je op in een <i>variabele</i>. Een variabele kun je gebruiken om dingen te onthouden. In het voorbeeld hieronder wordt het antwoord van de gebruiker opgeslagen in de variabele <code>ingevoerde_tekst</code>.</p>\n"
   ]
  },
  {
   "cell_type": "code",
   "execution_count": null,
   "id": "611d0554",
   "metadata": {},
   "outputs": [],
   "source": [
    "print( \"Typ iets\" )\n",
    "ingevoerde_tekst = input()\t#sla invoer op in variabele 'ingevoerde_tekst'\n",
    "print( \"Je hebt het volgende ingetypt:\", ingevoerde_tekst )"
   ]
  },
  {
   "cell_type": "markdown",
   "id": "11a4eb33",
   "metadata": {},
   "source": [
    "<p class=\"cursor-hover\">Het is een goede gewoonte om even te printen wat is ingevoerd. Zo kun je testen of je programma goed werkt.</p>\n"
   ]
  },
  {
   "cell_type": "markdown",
   "id": "118ad037",
   "metadata": {},
   "source": [
    "### Opdracht 2.8 Gebruiker persoonlijk groeten\n",
    "\n",
    "<p>Geef de gebruiker een persoonlijke groet, zoals:&nbsp;<i>Hallo, Piet</i>. We willen natuurlijk wel zijn echte naam. Vraag de gebruiker hoe die heet. Sla het antwoord op in een variabele <code>naam</code>&nbsp;en groet hem door \"Hallo\" te printen en dan zijn naam.</p>"
   ]
  },
  {
   "cell_type": "code",
   "execution_count": null,
   "id": "f49211a0",
   "metadata": {
    "tags": [
     "Opdracht"
    ]
   },
   "outputs": [],
   "source": []
  },
  {
   "cell_type": "markdown",
   "id": "0b215024",
   "metadata": {},
   "source": [
    "<p>Bekijk <a href=\"https://course.cs.ru.nl/pythonVO/Teams/IA_uitwerkingen/IA_H2_oplossingen.html#opgave231\" target=\"_blank\">hier</a> de voorbeelduitwerking.</p>"
   ]
  },
  {
   "cell_type": "markdown",
   "id": "ddd8afd9",
   "metadata": {},
   "source": [
    "## 10: Gebruiker om een getal vragen\n",
    "\n",
    "<p><iframe width=\"640\" height=\"360\" src=\"https://www.youtube.com/embed/zVB6QMSN9eE\" title=\"YouTube video player\" frameborder=\"0\" allow=\"accelerometer; autoplay; clipboard-write; encrypted-media; gyroscope; picture-in-picture\" allowfullscreen=\"\"></iframe></p>"
   ]
  },
  {
   "cell_type": "markdown",
   "id": "fe1c2a77",
   "metadata": {},
   "source": [
    "<p>De functie <code>input()</code> geeft altijd een string (tekst) terug. Verwacht je van de gebruiker een getal, dan moet je de invoer omzetten van tekst naar een getal met <code>int()</code> (voor een geheel getal):</p>"
   ]
  },
  {
   "cell_type": "code",
   "execution_count": null,
   "id": "4568f87d",
   "metadata": {},
   "outputs": [],
   "source": [
    "print( \"Wat is je lievelingsgetal?\" )\n",
    "invoer = input()\n",
    "lievelingsgetal = int( invoer )\t\t\t\t# invoer omzetten van tekst naar een getal\n",
    "print( \"Je lievelingsgetal is\", lievelingsgetal )"
   ]
  },
  {
   "cell_type": "markdown",
   "id": "677eb5b6",
   "metadata": {},
   "source": [
    "<p>Als je een kommagetal verwacht, gebruik je <code>float()</code>. Je converteert van het een datatype (tekst) naar een ander datatype (getal). Dat heet <i>type casting</i>.</p>"
   ]
  },
  {
   "cell_type": "code",
   "execution_count": null,
   "id": "2889794e",
   "metadata": {},
   "outputs": [],
   "source": [
    "print( \"Wat is de temperatuur?\" )\n",
    "invoer = input()\n",
    "temperatuur = float( invoer )\t\t\t\t# invoer omzetten van tekst naar een kommagetal\n",
    "print( \"De temperatuur is\", temperatuur, \"graden.\" )"
   ]
  },
  {
   "cell_type": "markdown",
   "id": "ac1eff00",
   "metadata": {},
   "source": [
    "### Opdracht 2.9 Leeftijd vragen\n",
    "\n",
    "<p>Schrijf een programma dat de gebruiker om zijn leeftijd vraagt en dan print:</p>\n",
    "<p><i>Jij bent .... jaar oud.</i></p>"
   ]
  },
  {
   "cell_type": "code",
   "execution_count": null,
   "id": "3112d2a0",
   "metadata": {
    "tags": [
     "Opdracht"
    ]
   },
   "outputs": [],
   "source": []
  },
  {
   "cell_type": "markdown",
   "id": "49719930",
   "metadata": {},
   "source": [
    "<p>Bekijk <a href=\"https://course.cs.ru.nl/pythonVO/Teams/IA_uitwerkingen/IA_H2_oplossingen.html#opgave232\" target=\"_blank\">hier</a> de voorbeelduitwerking.</p>"
   ]
  },
  {
   "cell_type": "markdown",
   "id": "76032b71",
   "metadata": {},
   "source": [
    "### Opdracht 2.10 Sterretjes afdrukken\n",
    "\n",
    "<p>Schrijf een programma dat de gebruiker vraagt hoeveel sterretjes hij wil zien, en dan precies zoveel sterretjes afdrukt. Laat de gebruiker ook zien wat is getypt. Bijvoorbeeld: als de gebruiker '4' intikt, wordt het volgende geprint:<br><br>\n",
    "    <i>Hier zijn de 4 sterretjes:</i><br>\n",
    "    <i>'****</i>\n",
    "</p>"
   ]
  },
  {
   "cell_type": "code",
   "execution_count": null,
   "id": "9664a9ea",
   "metadata": {
    "tags": [
     "Opdracht"
    ]
   },
   "outputs": [],
   "source": []
  },
  {
   "cell_type": "markdown",
   "id": "1219d49f",
   "metadata": {},
   "source": [
    "<p>Bekijk <a href=\"https://course.cs.ru.nl/pythonVO/Teams/IA_uitwerkingen/IA_H2_oplossingen.html#opgave233\" target=\"_blank\">hier</a> de voorbeelduitwerking.</p>"
   ]
  },
  {
   "cell_type": "markdown",
   "id": "486c0049",
   "metadata": {},
   "source": [
    "### Opdracht 2.11 Gebruiker kiest lengte\n",
    "\n",
    "<p>Schrijf een programma dat de gebruiker om een lengte vraagt en dan een lijn met die lengte tekent. Ook hier laat je de gebruiker zien wat is ingetikt.</p>"
   ]
  },
  {
   "cell_type": "code",
   "execution_count": 8,
   "id": "b8677fe2",
   "metadata": {
    "tags": [
     "Opdracht"
    ]
   },
   "outputs": [],
   "source": [
    "import turtle       # importeer de turtle module\n",
    "\n",
    "# VRAAG GEBRUIKER OM EEN LENGTE\n",
    "\n",
    "turtle.pendown()    # zet pen neer\n",
    "turtle.forward(150) # 150 stappen vooruit, PAS DEZE AAN VOOR LENGTE DOOR GEBRUIKER AANGEGEVEN\n",
    "\n",
    "turtle.done()       # klaar"
   ]
  },
  {
   "cell_type": "markdown",
   "id": "2d22b51b",
   "metadata": {},
   "source": [
    "<p>Bekijk <a href=\"https://course.cs.ru.nl/pythonVO/Teams/IA_uitwerkingen/IA_H2_oplossingen.html#opgave234\" target=\"_blank\">hier</a> de voorbeelduitwerking.</p>"
   ]
  },
  {
   "cell_type": "markdown",
   "id": "f3100201",
   "metadata": {},
   "source": [
    "## 11: Rekenen met getallen\n",
    "\n",
    "<p><iframe width=\"640\" height=\"360\" src=\"https://www.youtube.com/embed/rhnwY1_K2Bk\" title=\"YouTube video player\" frameborder=\"0\" allow=\"accelerometer; autoplay; clipboard-write; encrypted-media; gyroscope; picture-in-picture\" allowfullscreen=\"\"></iframe></p>\n",
    "\n",
    "<p>Rekenen met <code>int</code> (gehele getallen) en <code>float</code> (kommagetallen) kun je doen met:</p>\n",
    "\n",
    "<pre class=\"python\">+   optelling\n",
    "-   aftrekking\n",
    "*   vermenigvuldiging\n",
    "/   deling\n",
    "**  machtsverheffing\n",
    "%   modulo (klokrekenen)\n",
    "</pre>"
   ]
  },
  {
   "cell_type": "code",
   "execution_count": null,
   "id": "f75d1fee",
   "metadata": {},
   "outputs": [],
   "source": [
    "print( 2 + 4 )\n",
    "print( 0.2 - 4 )\n",
    "print( 2 * 4 )\n",
    "print( 2 / 4 )\n",
    "print( 2 ** 4 )\t# 2 tot de macht 4\n",
    "print( 4 % 2 )  # klokrekenen: steeds 2 eraf trekken"
   ]
  },
  {
   "cell_type": "markdown",
   "id": "992d569c",
   "metadata": {},
   "source": [
    "<p>Als voorbeeld: je kunt '1' bij <code>leeftijd</code> optellen en opslaan als <code>leeftijd_volgend_jaar</code>:</p>"
   ]
  },
  {
   "cell_type": "code",
   "execution_count": null,
   "id": "968f21bf",
   "metadata": {},
   "outputs": [],
   "source": [
    "leeftijd = 15\n",
    "leeftijd_volgend_jaar = leeftijd + 1\n",
    "print( leeftijd_volgend_jaar )"
   ]
  },
  {
   "cell_type": "markdown",
   "id": "1028e2c8",
   "metadata": {},
   "source": [
    "<p>Bij langere berekeningen gebruik je haakjes om aan te geven wat als eerste uitgerekend moet worden, net als bij wiskunde.</p>"
   ]
  },
  {
   "cell_type": "markdown",
   "id": "14e14484",
   "metadata": {},
   "source": [
    "### Opdracht 2.12 Haakjes gebruiken\n",
    "<p>Pas de berekening hieronder aan zodat deze als uitvoer 5 heeft (dus eerst\n",
    "    6 en 4 optellen en dan pas delen door 2).</p>"
   ]
  },
  {
   "cell_type": "code",
   "execution_count": null,
   "id": "1d22465e",
   "metadata": {
    "tags": [
     "Opdracht"
    ]
   },
   "outputs": [],
   "source": [
    "antwoord = 6 + 4 / 2\n",
    "print( antwoord )"
   ]
  },
  {
   "cell_type": "markdown",
   "id": "7adbef73",
   "metadata": {},
   "source": [
    "<p>Bekijk <a href=\"https://course.cs.ru.nl/pythonVO/Teams/IA_uitwerkingen/IA_H2_oplossingen.html#opgave241\" target=\"_blank\">hier</a> de voorbeelduitwerking.</p>"
   ]
  },
  {
   "cell_type": "markdown",
   "id": "eebb55ea",
   "metadata": {},
   "source": [
    "### Opdracht 2.13 Aantal seconden per week\n",
    "\n",
    "<p>Schrijf een programma dat het aantal seconden in een week berekent en\n",
    "    afdrukt.</p>\n",
    "<p><strong>Tip</strong>: je programma moet afdrukken: <i>Er zitten 604800 seconden in 1 week.</i></p>\n",
    "\n",
    "<p>Je moet daarvoor natuurlijk de berekening in Python doen en niet op je rekenmachine of telefoon.</p>\n"
   ]
  },
  {
   "cell_type": "code",
   "execution_count": null,
   "id": "db9ee073",
   "metadata": {
    "tags": [
     "Opdracht"
    ]
   },
   "outputs": [],
   "source": []
  },
  {
   "cell_type": "markdown",
   "id": "d00358fa",
   "metadata": {},
   "source": [
    "<p>Bekijk <a href=\"https://course.cs.ru.nl/pythonVO/Teams/IA_uitwerkingen/IA_H2_oplossingen.html#opgave242\" target=\"_blank\">hier</a> de voorbeelduitwerking.</p>"
   ]
  },
  {
   "cell_type": "markdown",
   "id": "69ae5f5f",
   "metadata": {},
   "source": [
    "### Opdracht 2.14 Verdubbelaar\n",
    "\n",
    "<p>Schrijf een programma dat de gebruiker om een getal vraagt en vervolgens het dubbele afdrukt.</p>\n"
   ]
  },
  {
   "cell_type": "code",
   "execution_count": null,
   "id": "ee11b2c0",
   "metadata": {
    "tags": [
     "Opdracht"
    ]
   },
   "outputs": [],
   "source": []
  },
  {
   "cell_type": "markdown",
   "id": "e8bf0586",
   "metadata": {},
   "source": [
    "<p>Bekijk <a href=\"https://course.cs.ru.nl/pythonVO/Teams/IA_uitwerkingen/IA_H2_oplossingen.html#opgave243\" target=\"_blank\">hier</a> de voorbeelduitwerking.</p>"
   ]
  },
  {
   "cell_type": "markdown",
   "id": "cbc3914f",
   "metadata": {},
   "source": [
    "### Opdracht 2.15 Klokrekenen\n",
    "\n",
    "<p>We weten dat 13 uur hetzelfde is als 1 uur, en 23 uur hetzelfde als 11 uur. Om een 24-uursformaat om te zetten naar een 12-uursformaat, trekken we er 12 vanaf. Dit heet modulo 12. Het 12-uursformaat bereken je met: <code>23 % 12.</code></p>\n",
    "<p>Schrijf een programma dat de gebruiker vraagt om getal in een 24-uursformaat (bijvoorbeeld 23) en het 12-uursformaat print.</p>\n"
   ]
  },
  {
   "cell_type": "code",
   "execution_count": null,
   "id": "ed284518",
   "metadata": {
    "tags": [
     "Opdracht"
    ]
   },
   "outputs": [],
   "source": []
  },
  {
   "cell_type": "markdown",
   "id": "633bccf3",
   "metadata": {},
   "source": [
    "<p>Bekijk <a href=\"https://course.cs.ru.nl/pythonVO/Teams/IA_uitwerkingen/IA_H2_oplossingen.html#opgave244\" target=\"_blank\">hier</a> de voorbeelduitwerking.</p>"
   ]
  },
  {
   "cell_type": "markdown",
   "id": "dafe2e7b",
   "metadata": {},
   "source": [
    "## H2: Afsluitende opdrachten\n",
    "\n",
    "Met de volgende afsluitende opdrachten kun je kijken hoe goed je de stof beheerst. Controleer steeds je eigen oplossing met de voorbeeldoplossing.\n"
   ]
  },
  {
   "cell_type": "markdown",
   "id": "e9ca2ec4",
   "metadata": {},
   "source": [
    "### Afsluitende Opdracht 2.1 Geld maakt gelukkig\n",
    "\n",
    "\n",
    "<p>In deze opdracht gaan we aan de slag met geld. We hebben twee\n",
    "    variabelen, namelijk hele <code>euro</code>'s en losse <code>cent</code>en. Print het bedrag op een\n",
    "    nette manier:<br> <i>Dat kost 10.25 euro.</i></p>\n",
    "<p>Gebruik hiervoor de\n",
    "    variabelen <code>euro</code>&nbsp;en <code>cent</code>.</p>\n",
    "<p>Tip: gebruik <code>+</code> om een '.' te plakken aan de getallen.</p>"
   ]
  },
  {
   "cell_type": "code",
   "execution_count": null,
   "id": "f14f9d0c",
   "metadata": {
    "tags": [
     "Opdracht"
    ]
   },
   "outputs": [],
   "source": [
    "euros = 3\n",
    "centen = 25\n",
    "\n",
    "print(\"Dat kost ... euro.\")"
   ]
  },
  {
   "cell_type": "markdown",
   "id": "e6d57359",
   "metadata": {},
   "source": [
    "<p>Bekijk <a href=\"https://course.cs.ru.nl/pythonVO/Teams/IA_uitwerkingen/IA_H2_oplossingen.html#AfOpgave21\" target=\"_blank\">hier</a> de voorbeelduitwerking.</p>"
   ]
  },
  {
   "cell_type": "markdown",
   "id": "e77605f4",
   "metadata": {},
   "source": [
    "### Afsluitende Opdracht 2.2 Gebruiker kiest kleur\n",
    "\n",
    "<p>Het onderstaande programma tekent een rood vierkant.</p>\n",
    "<p>Pas het programma aan zodat die de gebruiker om een kleur vraagt (bijvoorbeeld: black, tan, gold, blue, red) en dan een vierkant tekent in die kleur, in plaats van in rood.\n",
    "    Print op het scherm ook welke kleur de gebruiker gekozen heeft.</p>"
   ]
  },
  {
   "cell_type": "code",
   "execution_count": null,
   "id": "f4f12073",
   "metadata": {
    "tags": [
     "Opdracht"
    ]
   },
   "outputs": [],
   "source": [
    "import turtle       # importeer turtle module\n",
    "\n",
    "turtle.color(\"red\")\n",
    "# NU WORDT ROOD GEKOZEN, MAAR VRAAG GEBUIKER OM EEN KLEUR\n",
    "\n",
    "# PRINT OP HET SCHERM WELKE KLEUR DE GEBRUIKER GEKOZEN HEEFT\n",
    "print(\"Je krijgt een .... vierkant.\")\n",
    "\n",
    "turtle.pendown()    # zet pen neer\n",
    "turtle.forward(150) # 150 stappen vooruit\n",
    "turtle.right(90)    # draai 90 graden naar rechts\n",
    "turtle.forward(150)\n",
    "turtle.right(90)\n",
    "turtle.forward(150)\n",
    "turtle.right(90)\n",
    "turtle.forward(150)\n",
    "turtle.right(90)\n",
    "\n",
    "turtle.done()       # klaar"
   ]
  },
  {
   "cell_type": "markdown",
   "id": "f107269f",
   "metadata": {},
   "source": [
    "<p>Bekijk <a href=\"https://course.cs.ru.nl/pythonVO/Teams/IA_uitwerkingen/IA_H2_oplossingen.html#AfOpgave22\" target=\"_blank\">hier</a> de voorbeelduitwerking.</p>"
   ]
  },
  {
   "cell_type": "markdown",
   "id": "d2871609",
   "metadata": {},
   "source": [
    "### Afsluitende Opdracht 2.3 Bonus op de toets\n",
    "\n",
    "<p>De docent heeft besloten dat iedereen een bonus krijgt van een half punt op zijn toetscijfer. Vraag de gebruiker een cijfer in te voeren, print het oude cijfer, verhoog dat met een half punt en druk daarna het nieuwe cijfer als volgt af: \"Gefeliciteerd, met de bonus heb je nu een ... !\"</p>"
   ]
  },
  {
   "cell_type": "code",
   "execution_count": null,
   "id": "2948c77e",
   "metadata": {},
   "outputs": [],
   "source": []
  },
  {
   "cell_type": "markdown",
   "id": "1ff26b95",
   "metadata": {},
   "source": [
    "<p>Bekijk <a href=\"https://course.cs.ru.nl/pythonVO/Teams/IA_uitwerkingen/IA_H2_oplossingen.html#AfOpgave23\" target=\"_blank\">hier</a> de voorbeelduitwerking.</p>\n"
   ]
  },
  {
   "cell_type": "markdown",
   "id": "d9e3e63c",
   "metadata": {},
   "source": [
    "### Afsluitende Opdracht 2.4 Centimeters naar meters\n",
    "\n",
    "<p>Schrijf een programma dat centimeters naar meters omrekent. Vraag de gebruiker om een geheel getal in te voeren. Deel dit door 100 en print het antwoord op het scherm.</p>\n",
    "<p>Dus als een gebruiker 250 intikt, dan is de uitvoer:</p>\n",
    "<p><i>Het aantal centimeters is: 250</i></p><i>\n",
    "</i>\n",
    "<p><i>Dat is 2.5 meter</i></p>"
   ]
  },
  {
   "cell_type": "code",
   "execution_count": null,
   "id": "d426c1cd",
   "metadata": {
    "tags": [
     "Opdracht"
    ]
   },
   "outputs": [],
   "source": []
  },
  {
   "cell_type": "markdown",
   "id": "1edddad0",
   "metadata": {},
   "source": [
    "<p>Bekijk <a href=\"https://course.cs.ru.nl/pythonVO/Teams/IA_uitwerkingen/IA_H2_oplossingen.html#AfOpgave24\">hier</a> de voorbeelduitwerking.</p>\n"
   ]
  },
  {
   "cell_type": "markdown",
   "id": "5659c399",
   "metadata": {},
   "source": [
    "### Afsluitende Opdracht 2.5: BMI berekenen\n",
    "\n",
    "<p>Je kunt je BMI uitrekenen door je gewicht in kilo's te delen door het kwadraat van je lichaamslengte in meters. Als je bijvoorbeeld 65 kilo weegt en je bent 1,70 meter lang, dan bereken je je BMI als volgt: 65 kilo / (1.70 x 1.70 meter) = 22.5 (afgerond).</p>\n",
    "\n",
    "<p>Schrijf een programma dat de BMI berekent. Vraag de gebruiker zijn lengte in meters en zijn gewicht in kilogram. Laat de gebruiker zien wat is ingevoerd en bereken en print de BMI. Bedenk dat lengte een kommagetal is.</p>\n",
    "Het resultaat zou zoiets moeten zijn:<p></p>\n",
    "\n",
    "<p><img src=\"http://course.cs.ru.nl/pythonVO/img/H2_af25_uitvoer_console.jpg\" alt=\"Opg Af2.5 uitvoer console voorbeeld\"></p>"
   ]
  },
  {
   "cell_type": "code",
   "execution_count": null,
   "id": "33c913ab",
   "metadata": {
    "tags": [
     "Opdracht"
    ]
   },
   "outputs": [],
   "source": []
  },
  {
   "cell_type": "markdown",
   "id": "4bb153e2",
   "metadata": {},
   "source": [
    "<p>Bekijk <a href=\"https://course.cs.ru.nl/pythonVO/Teams/IA_uitwerkingen/IA_H2_oplossingen.html#AfOpgave25\" target=\"_blank\">hier</a> de voorbeelduitwerking.</p>"
   ]
  },
  {
   "cell_type": "markdown",
   "id": "0cb8aa51",
   "metadata": {},
   "source": [
    "### Afsluitende Opdracht 2.6: Invulverhaal\n",
    "\n",
    "\n",
    "<p>Je maakt een invulverhaal.</p>\n",
    "<ol>\n",
    "    <li>Schrijf een kort verhaaltje of gebruik dat hieronder. Streep een aantal woorden door en vervang ze door hun beschrijving;</li>\n",
    "    <li>Voor elke beschrijving vraag je de gebruiker om iets in te vullen. Als ze letterlijk het eerste invullen wat er in hen opkomt,&nbsp; &nbsp; &nbsp; &nbsp; &nbsp;wordt het juist grappig;</li>\n",
    "    <li> Elk antwoord sla je op in een andere variabele;</li>\n",
    "    <li> Daarna print je de nieuwe tekst af.\n",
    "    </li>\n",
    "</ol>\n",
    "\n",
    "\n",
    "<p>Je mag je eigen verhaal verzinnen of dit gebruiken:</p>\n",
    "\n",
    "\n",
    "<p>COOL PYJAMAFEEST.</p>\n",
    "\n",
    "<p>_ _ _ _ (Naam beste vriend) geeft een super pyjamafeestje met als thema _\n",
    "    _ _ _ (kleuterprogramma). Dat wordt dus de hele avond _ _ _ _ (zelfde\n",
    "    programma) kijken. Op je _ _ _ _ (vreemd voertuig) rijd je met een snelheid\n",
    "    van _ _ _ _ (getal met 3 nullen) km per uur naar haar huis. Het hele huis is versierd\n",
    "    in de kleuren _ _ _ _ (felle kleuren) en _ _ _ _ (kleur die vloekt bij\n",
    "    andere) en door het hele huis galmt de beat van _ _ _ _\n",
    "    (carnavalskraker).</p>"
   ]
  },
  {
   "cell_type": "code",
   "execution_count": null,
   "id": "6199dad4",
   "metadata": {
    "tags": [
     "Opdracht"
    ]
   },
   "outputs": [],
   "source": []
  },
  {
   "cell_type": "markdown",
   "id": "99a06725",
   "metadata": {},
   "source": [
    "<p>Bekijk <a href=\"https://course.cs.ru.nl/pythonVO/Teams/IA_uitwerkingen/IA_H2_oplossingen.html#AfOpgave26\" target=\"_blank\">hier</a> de voorbeelduitwerking.</p>"
   ]
  },
  {
   "cell_type": "markdown",
   "id": "8ef66421",
   "metadata": {},
   "source": [
    "### Afsluitende Opdracht 2.7 Hoe lang duurt het nog?\n",
    "\n",
    "<p>13 uur, 47 minuten en 28 seconden is (13 * 60 * 60) + (47 * 60) + 28 = 49648 seconden.</p>\n",
    "\n",
    "<p>Schrijf een programma dat een aantal uren, minuten en seconden omrekent naar het aantal seconden.</p>\n",
    "\n",
    "<ol>\n",
    "    <li>Gebruik drie variabelen: één voor uren, één voor minuten en één voor seconden. Dit is in de code hieronder al gegeven;</li>\n",
    "    <li>Toon de tijd als volgt op het scherm: <i>13:47.28;</i></li>\n",
    "    <li>Bereken het aantal seconden (aan de hand van de variabelen);</li>\n",
    "    <li>Toon het aantal seconden op het scherm;</li>\n",
    "    <li>Voorzie van commentaar.</li>\n",
    "</ol>"
   ]
  },
  {
   "cell_type": "code",
   "execution_count": null,
   "id": "f8028bcb",
   "metadata": {
    "tags": [
     "Opdracht"
    ]
   },
   "outputs": [],
   "source": [
    "#Dit programma berekent het aantal seconden.\n",
    "uren = 13\n",
    "minuten = 47\n",
    "seconden = 28"
   ]
  },
  {
   "cell_type": "markdown",
   "id": "2518c10b",
   "metadata": {},
   "source": [
    "<p>Bekijk <a href=\"https://course.cs.ru.nl/pythonVO/Teams/IA_uitwerkingen/IA_H2_oplossingen.html#AfOpgave27\" target=\"_blank\">hier</a> de voorbeelduitwerking.</p>"
   ]
  }
 ],
 "metadata": {
  "kernelspec": {
   "display_name": "Python 3",
   "language": "python",
   "name": "python3"
  },
  "language_info": {
   "codemirror_mode": {
    "name": "ipython",
    "version": 3
   },
   "file_extension": ".py",
   "mimetype": "text/x-python",
   "name": "python",
   "nbconvert_exporter": "python",
   "pygments_lexer": "ipython3",
   "version": "3.12.2"
  }
 },
 "nbformat": 4,
 "nbformat_minor": 5
}
