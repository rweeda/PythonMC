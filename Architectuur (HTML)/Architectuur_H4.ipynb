{
 "cells": [
  {
   "cell_type": "markdown",
   "metadata": {},
   "source": [
    "<hr>\n",
    "\n",
    "# <span style=\"color:brown\">Hoofdstuk 4. Van ontwerp naar website</span>\n",
    "\n",
    "<hr>\n",
    "\n",
    "Je hebt geleerd om te werken met HTML en CSS. Nu kun je nog mooiere websites gaan maken. In dit hoofdstuk leer je hoe je je website opbouwt in blokken en hoe je die blokken een goede opmaak geeft.\n",
    "\n",
    "# <span style=\"color:brown\">4.1: Blokken met ```div```<span>\n",
    "HTML is ervoor gemaakt om een webpagina op te bouwen uit blokken. De blokken vormen de basis voor de structuur. Ze bepalen daarom voor een belangrijk deel hoe overzichtelijk je website is. Als je een website ontwerpt, bedenk je dus eerst hoeveel en welke blokken je wilt. Die blokken teken je en daarna beschrijf je waarvoor elk blok dient. Als je ontwerp af is, neem je altijd als eerste de blokstructuur over in HTML. Hoe ziet dat eruit?\n",
    "\n",
    "Zo’n blok maak je in je html met een `div`-element (div staat voor division). Elk div geef je een naam.\n",
    "\n",
    "- In de HTML code geef je aan waar je dat `div`-element wilt gebruiken;\n",
    "- In je CSS geef je de stijl-eigenschappen aan zoals formaat en achtergrondkleur.\n",
    "\n",
    "Hieronder zie je een webpagina-ontwerp en de bijbehorende CSS en HTML-code uit de body. \n",
    "\n",
    "<table border=\"1\">\n",
    "  <tr>\n",
    "    <td><img src=\"img/4.1_htmlCode.png\" border=\"1\" alt=\"HTML-code\"></td>\n",
    "    <td><img src=\"img/4.1_cssCode.png\" border=\"1\" alt=\"CSS-code\"></td>\n",
    "    <td><img src=\"img/4.1_weergaveBrowser.png\" border=\"1\" alt=\"Weergave in de browser\"></td>\n",
    "  </tr>\n",
    "</table>\n",
    "\n",
    "## <span style=\"color:brown\">Wrapper</span>\n",
    "\n",
    "Meestal is je scherm breder dan de website die je erop bekijkt. In dat geval wil je natuurlijk dat de website gecentreerd op je scherm staat. Daarom moet je alle HTML-element in één overkoepelend blok zetten. Dat blok wordt meestal <i>wrapper</i> genoemd. Wrapper betekent ‘wikkel’ of ‘omslag’. Alle inhoud van body zet je daarin.\n",
    "\n",
    "<table border=\"1\">\n",
    "  <tr>\n",
    "    <th>HTML-code:</th><th>CSS-code:</th>\n",
    "  </tr>\n",
    "  <tr valign=\"top\">\n",
    "    <td><img src=\"img/4.1_wrapper_HTMLcode.png\" border=\"1\" alt=\"HTML-code\"></td>\n",
    "    <td><img src=\"img/4.1_wrapper_CSScode.png\" border=\"1\" alt=\"CSS-code\"></td>\n",
    "  </tr>\n",
    "</table>\n",
    "\n",
    "De breedte van de wrapper is nu ook de breedte van de hele pagina.\n",
    "\n"
   ]
  },
  {
   "cell_type": "markdown",
   "metadata": {},
   "source": [
    "# <span style=\"color:brown\">4.2: Blok eigenschappen - Float, margin, padding, border<span>\n",
    "\n",
    "## <span style=\"color:brown\">Uitlijnen met float</span>\n",
    "Tekst en afbeeldingen wil je vaak naast elkaar plaatsen, op zo’n manier dat de tekst om de afbeelding heen staat. Bijvoorbeeld zo:<br>\n",
    "&nbsp;<img src=\"img/4.2_float_voorbeeld.png\" border=\"1\" alt=\"Voorbeeld met float\" width=\"200\">\n",
    "\n",
    "\n",
    "Standaard worden alle elementen onder elkaar worden weergegeven. Als je dat niet wil kun je met float instellen dat iets left (links) of right (rechts) uitgelijnd wordt.\n",
    "\n",
    "<hr>\n",
    "<b>Een voorbeeld:</b><br>\n",
    "<b>HTML</b>-code:"
   ]
  },
  {
   "cell_type": "code",
   "execution_count": null,
   "metadata": {
    "vscode": {
     "languageId": "html"
    }
   },
   "outputs": [],
   "source": [
    "<h1>Bever Wedstrijd</h1>\n",
    "\t<img src=\"img/bever.jpg\">\n",
    "<p>De beverwedstrijd is een...</p>"
   ]
  },
  {
   "cell_type": "markdown",
   "metadata": {},
   "source": [
    "<b>CSS</b>-code:<br>\n",
    "\n",
    "```\n",
    "img {\n",
    "        float: right; /* rechts uitlijnen */ \n",
    "}\n",
    "```\n",
    "\n",
    "De <i>right</i> achter `float` betekent dat het plaatje rechts wordt uitgelijnd. Je kunt ook <i>left</i> gebruiken.\n",
    "<hr>\n"
   ]
  },
  {
   "cell_type": "markdown",
   "metadata": {},
   "source": [
    "## <span style=\"color:brown\">Eigenschappen van een blok: Margin, padding en border</span>\n",
    "\n",
    "Je weet dat je zelf de hoogte en breedte van blokken kunt bepalen. Maar je kunt nog veel meer instellen. Zo kun je bijvoorbeeld ruimte om het blok heen maken: de <i>margin</i>. Je kunt ook de ruimte tussen de rand van het blok en de inhoud daarvan (bijvoorbeeld tekst) instellen: de <i>padding</i>. Tot slot kun je de dikte, de kleur en de stijl van de rand van het blok instellen: de <i>border</i>. \n",
    "\n",
    "<hr>\n",
    "\n",
    "Een voorbeeld:\n",
    "\n",
    "<b>CSS</b>-code:\n",
    "```\n",
    "#tekstvak{\n",
    "        padding: 10px;\n",
    "        border: 1px solid black;\n",
    "        margin: 50px 0px 10px 10px;/* volgorde: bovenmarge, rechtermarge, ondermarge, linkermarge*/ \n",
    "}\n",
    "```\n",
    "\n",
    "Met de regel: `padding: 10px;` stel je een padding in van 10px aan alle vier de kanten van het blok. In dit voorbeeld zijn er voor de margin vier verschillende waarden opgegeven, voor elke kant van het blok een waarde. De volgorde daarvan is: bovenmarge, rechtermarge, ondermarge, linkermarge.\n",
    "<hr>\n"
   ]
  },
  {
   "cell_type": "markdown",
   "metadata": {},
   "source": [
    "# <span style=\"color:brown\">4.3: Elementen opmaken per blok</span>\n",
    "\n",
    "## <span style=\"color:brown\">Elementen anders opmaken in verschillende blokken</span>\n",
    "\n",
    "Je kunt een stijl toekennen aan een element en dan geldt dat voor je hele site. In het voorbeeld hieronder wordt alle tekst in de `body` (dus de hele site) in een keer groen (<span style=\"color:green\">green</span>) gemaakt.\n",
    "<hr>\n",
    "Voorbeeld:\n",
    "\n",
    "<b>HTML</b>-code:\n",
    "\n"
   ]
  },
  {
   "cell_type": "code",
   "execution_count": null,
   "metadata": {
    "vscode": {
     "languageId": "html"
    }
   },
   "outputs": [],
   "source": [
    "<html>\n",
    "  <head>\n",
    "    <meta charset=\"utf-8\">\n",
    "    <link rel=\"stylesheet\" type=\"text/css\" href=\"style.css\">\n",
    "    <title>Blokken gebruiken</title>\n",
    "  </head>\n",
    "  \n",
    "<body>\n",
    "  <div id=\"wrapper\">\n",
    "    <div id=\"kop\">Een titelbalk</div>\n",
    "    <div id=\"tekstvak\">Tekstvak 1</div>\n",
    "    <div id=\"tekstvak\">Tekstvak 2</div>\n",
    "    <div id=\"menu\">Een zijbalk</div>\n",
    "    <div id=\"tekstvak\">Tekstvak 3</div>\n",
    "    <div id=\"tekstvak\">Tekstvak 4</div>\n",
    "    <div id=\"voettekst\">Een onderbalk</div>\n",
    "  </div>\n",
    "</body>\n",
    "  \n",
    "</html>"
   ]
  },
  {
   "cell_type": "markdown",
   "metadata": {},
   "source": [
    "<div style=\"display:flex\">\n",
    "\n",
    "<b>CSS</b>-code:<br>\n",
    "\n",
    "\n",
    "```\n",
    "body{\n",
    "  color: green; /* tekstkleur*/\n",
    "}\n",
    "```\n",
    "\n",
    "&nbsp;Weergave in browser:<br>\n",
    "&nbsp;<img src=\"img/4.3_opmaak_hele_element.png\" border=\"1\" alt=\"Opmaak element\" width=\"300\">\n",
    "</div>"
   ]
  },
  {
   "cell_type": "markdown",
   "metadata": {},
   "source": [
    "Je kunt ook per blok een andere stijl toekennen. Zie het voorbeeld hieronder waarbij de kop <span style=\"color:red\">rood</span> is, de voet <span style=\"color:blue\">blauw</span>, en de rest <span style=\"color:green\">groen</span>.\n",
    "<hr>\n",
    "Voorbeeld.\n",
    "\n",
    "\n",
    "<b>HTML</b>-code:\n",
    "\n",
    "\n",
    "\n"
   ]
  },
  {
   "cell_type": "code",
   "execution_count": null,
   "metadata": {
    "vscode": {
     "languageId": "html"
    }
   },
   "outputs": [],
   "source": [
    "<html>\n",
    "  <head>\n",
    "    <meta charset=\"utf-8\">\n",
    "    <link rel=\"stylesheet\" type=\"text/css\" href=\"style.css\">\n",
    "    <title>Blokken gebruiken</title>\n",
    "  </head>\n",
    "\n",
    "  <body>\n",
    "    <div id=\"wrapper\">\n",
    "      <div id=\"kop\">Een titelbalk</div>\n",
    "      <div id=\"tekstvak\">Tekstvak 1</div>\n",
    "      <div id=\"tekstvak\">Tekstvak 2</div>\n",
    "      <div id=\"menu\">Een zijbalk</div>\n",
    "      <div id=\"tekstvak\">Tekstvak 3</div>\n",
    "      <div id=\"tekstvak\">Tekstvak 4</div>\n",
    "      <div id=\"voettekst\">Een onderbalk</div>\n",
    "    </div>\n",
    "  </body>\n",
    "  \n",
    "</html>"
   ]
  },
  {
   "cell_type": "markdown",
   "metadata": {},
   "source": [
    "<div style=\"display:flex\">\n",
    "\n",
    "<b>CSS</b>-code:<br>\n",
    "```\n",
    "body{\n",
    "  color: green; /* tekstkleur*/\n",
    "}\n",
    "\n",
    "#kop {\n",
    "  color: red; /* tekstkleur*/\n",
    "  }\n",
    "\n",
    "#voettekst {\n",
    "  color: blue; /* tekstkleur*/\n",
    "}\n",
    "```\n",
    "\n",
    "&nbsp;Weergave in browser:<br>\n",
    "&nbsp;<img src=\"img/4.3_opmaak_div.png\" border=\"1\" alt=\"Opmaak met div\" width=\"300\">\n",
    "</div>\n"
   ]
  },
  {
   "cell_type": "markdown",
   "metadata": {},
   "source": [
    "# <span style=\"color:brown\">4.4: Blokken op de juiste plaats</span>\n",
    "\n",
    "Blokken wil je vaak naast elkaar neerzetten en niet alleen onder elkaar. Dat gaat niet vanzelf. Om uit te snappen hoe je dat moet doen, kun je het onderstaand voorbeeld het beste nadoen. Je gaat dit ontwerp maken met HTML- en CSS-code:\n",
    "\n",
    "&nbsp;<img src=\"img/4.4_blokken.png\" border=\"1\" alt=\"Blokken\" width=\"300\">\n",
    "\n",
    "Je begint met de code in HTML, waarin je de blokken neerzet.\n",
    "\n",
    "\n",
    "\n"
   ]
  },
  {
   "cell_type": "markdown",
   "metadata": {},
   "source": [
    "## <span style=\"color:brown\">Stap 1. Een schets</span>\n",
    "Maak een schets van de elementen en bepaal hun breedte en hoogte in pixels (in percentages kan ook, maar daarmee is het wel veel lastiger om je scherm precies te krijgen zoals je het wilt, dus dat doen we even niet).\n",
    "\n",
    "&nbsp;<img src=\"img/4.4_stap1.png\" border=\"1\" alt=\"Stap 1. Een schets\" width=\"400\">"
   ]
  },
  {
   "cell_type": "markdown",
   "metadata": {},
   "source": [
    "\n",
    "## <span style=\"color:brown\">Stap 2. De juiste blokken op het scherm</span>\n",
    "\n",
    "In de:\n",
    "\n",
    "a) HTML-code gebruik je tags voorzien van een tekst om alle blokken onder elkaar zichtbaar op het scherm krijgt;\n",
    "\n",
    "b) CSS-code geef je elk blok een achtergrond kleur en een randje (outline) zodat je goed kunt zien hoe elk onderdeel getoond wordt.\n",
    "\n",
    "<b>HTML</b>-code (binnen de body, bekijk regels 9 t/m 23):"
   ]
  },
  {
   "cell_type": "code",
   "execution_count": null,
   "metadata": {
    "vscode": {
     "languageId": "html"
    }
   },
   "outputs": [],
   "source": [
    "<head>\n",
    "  <meta charset=\"utf-8\">\n",
    "  <title>Recepten</title>\n",
    "  <link href=\"style.css\" rel=\"stylesheet\" type=\"text/css\" />\n",
    "</head>\n",
    " \n",
    "<body>\n",
    "    <!-- STAP 2: de code hieronder toevoegen -->\n",
    "    <div id=\"menu\">\n",
    "      Balk voor menu\n",
    "    </div>\n",
    "    <div id=\"kop\">\n",
    "      Mijn recepten pagina\n",
    "    </div>\n",
    "    <div id=\"inhoud\">\n",
    "      Een vak voor inhoud\n",
    "    </div>\n",
    "    <div id=\"reclame\">\n",
    "      Een vak voor reclame\n",
    "    </div>\n",
    "    <div id=\"voet\">\n",
    "      Een balk voor voeter\n",
    "    </div>\n",
    "    <!-- STAP 2: de code hierboven toevoegen -->\n",
    "</body>\n",
    "</html>"
   ]
  },
  {
   "cell_type": "markdown",
   "metadata": {
    "vscode": {
     "languageId": "html"
    }
   },
   "source": [
    "\n",
    "<div style=\"display:flex\">\n",
    "\n",
    "<b>CSS</b>-code:<br>\n",
    "\n",
    "```\n",
    "#menu {\n",
    "  outline: 1px solid black;\n",
    "  background-color: lightblue;\n",
    "}\n",
    "#kop {\n",
    "  outline: 1px solid black;\n",
    "  background-color: red;\n",
    "}\n",
    "#inhoud {\n",
    "  outline: 1px solid black;\n",
    "  background-color: rgb(243, 243, 161);\n",
    "}\n",
    "#reclame {\n",
    "  outline: 1px solid black;\n",
    "  background-color: mediumaquamarine;\n",
    "}\n",
    "#voet {\n",
    "  outline: 1px solid black;\n",
    "  background-color: peru;\n",
    "}\n",
    "```\n",
    "&nbsp;Weergave in browser:<br>\n",
    "&nbsp;<img src=\"img/4.4_stap2.png\" border=\"1\" alt=\"Stap 2. De juiste blokken op het scherm\" width=\"400\">\n",
    "</div>"
   ]
  },
  {
   "cell_type": "markdown",
   "metadata": {},
   "source": [
    "\n",
    "## <span style=\"color:brown\">Stap 3. De formaat van de blokken</span>\n",
    "Geef in de CSS-code voor elk blok de gewenste breedte en hoogte aan.\n",
    "\n",
    "De HTML-code blijft in dit stap hetzelfde."
   ]
  },
  {
   "cell_type": "markdown",
   "metadata": {
    "vscode": {
     "languageId": "html"
    }
   },
   "source": [
    "<b>CSS</b>-code: (zie de eerste twee regels van elk element):<br>\n",
    "<div style=\"display:flex\">\n",
    "\n",
    "\n",
    "```\n",
    "#menu {\n",
    "  width: 200px; /* nieuw in stap 3 */\n",
    "  height: 1000px; /* nieuw in stap 3 */\n",
    "  outline: 1px solid black;\n",
    "  background-color: lightblue;\n",
    "}\n",
    "#kop {\n",
    "  width: 800px; /* nieuw in stap 3 */\n",
    "  height: 50px; /* nieuw in stap 3 */\n",
    "  outline: 1px solid black;\n",
    "  background-color: red;\n",
    "}\n",
    "#inhoud {\n",
    "  width: 700px; /* nieuw in stap 3 */\n",
    "  height: 900px; /* nieuw in stap 3 */\n",
    "  outline: 1px solid black;\n",
    "  background-color: rgb(243, 243, 161);\n",
    "}\n",
    "#reclame {\n",
    "  width: 100px; /* nieuw in stap 3 */\n",
    "  height: 900px; /* nieuw in stap 3 */\n",
    "  outline: 1px solid black;\n",
    "  background-color: mediumaquamarine;\n",
    "}\n",
    "#voet {\n",
    "  width: 800px; /* nieuw in stap 3 */\n",
    "  height: 50px; /* nieuw in stap 3 */\n",
    "  outline: 1px solid black;\n",
    "  background-color: peru;\n",
    "}\n",
    "```\n",
    "&nbsp;Weergave in browser:<br>\n",
    "&nbsp;<img src=\"img/4.4_stap3.png\" border=\"1\" alt=\"Stap 3. De formaat van de blokken\" width=\"200\">\n",
    "</div>"
   ]
  },
  {
   "cell_type": "markdown",
   "metadata": {},
   "source": [
    "## <span style=\"color:brown\">Stap 4. Blokken floaten</span>\n",
    "\n",
    "Plaats de blokken naast elkaar (in plaats van onder elkaar) door de regel `float:left;` toe te voegen aan elk blok. Float is Engels voor ‘drijven’. Hiermee ‘drijft’ dat blok naar linksboven tot het tegen een ander drijvend blok ‘botst’\n",
    "\n",
    "De HTML-code blijft in dit stap hetzelfde.\n"
   ]
  },
  {
   "cell_type": "markdown",
   "metadata": {},
   "source": [
    "<b>CSS</b>-code (zie de derde regel van elk element):<br>\n",
    "\n",
    "<div style=\"display:flex\">\n",
    "\n",
    "```\n",
    "#menu {\n",
    "  width: 200px;\n",
    "  height: 1000px;\n",
    "  float: left; /* nieuw in stap 4 */\n",
    "  outline: 1px solid black;\n",
    "  background-color: lightblue;\n",
    "}\n",
    "#kop {\n",
    "  width: 800px;\n",
    "  height: 50px;\n",
    "  float: left; /* nieuw in stap 4 */\n",
    "  outline: 1px solid black;\n",
    "  background-color: red;\n",
    "}\n",
    "#inhoud {\n",
    "  width: 700px;\n",
    "  height: 900px;\n",
    "  float: left; /* nieuw in stap 4 */\n",
    "  outline: 1px solid black;\n",
    "  background-color: rgb(243, 243, 161);\n",
    "}\n",
    "#reclame {\n",
    "  width: 100px;\n",
    "  height: 900px;\n",
    "  float: left; /* nieuw in stap 4 */\n",
    "  outline: 1px solid black;\n",
    "  background-color: mediumaquamarine;\n",
    "}\n",
    "#voet {\n",
    "  width: 800px;\n",
    "  height: 50px;\n",
    "  float: left; /* nieuw in stap 4 */\n",
    "  outline: 1px solid black;\n",
    "  background-color: peru;\n",
    "```\n",
    "&nbsp;Weergave in browser:<br>\n",
    "&nbsp;<img src=\"img/4.4_stap4.png\" border=\"1\" alt=\"Stap 4. Blokken floaten\" width=\"500\">\n",
    "</div>\n",
    "\n",
    "De blokken komen nu naast elkaar te staan in plaats van onder elkaar.  We hebben geen grens opgegeven voor de breedte van de website. Daarom kunnen de blokken onbeperkt naast elkaar drijven."
   ]
  },
  {
   "cell_type": "markdown",
   "metadata": {},
   "source": [
    "## <span style=\"color:brown\">Stap 5. Breedte beperken met een wrapper</span>\n",
    "\n",
    "Door een wrapper te plaatsen waarvan je de breedte opgeeft, beperk je de breedte van de website. \n",
    "\n",
    "a) Voeg in je HTML-code een wrapper toe die alle blokken bevat.\n",
    "\n",
    "b) Voeg in je CSS-code de wrapper toe met de buitengrens van je website.\n",
    "\n",
    "<b>HTML</b>-code (zie regels 2 en 18):"
   ]
  },
  {
   "cell_type": "code",
   "execution_count": null,
   "metadata": {
    "vscode": {
     "languageId": "html"
    }
   },
   "outputs": [],
   "source": [
    "<body>\n",
    "    <div id=\"wrapper\"> <!-- nieuw in stap 5 -->\n",
    "      <div id=\"menu\">\n",
    "        Balk voor menu\n",
    "      </div>\n",
    "      <div id=\"kop\">\n",
    "        Mijn recepten pagina\n",
    "      </div>\n",
    "      <div id=\"inhoud\">\n",
    "        Een vak voor inhoud\n",
    "      </div>\n",
    "      <div id=\"reclame\">\n",
    "        Een vak voor reclame\n",
    "      </div>\n",
    "      <div id=\"voet\">\n",
    "        Een balk voor voeter\n",
    "      </div>\n",
    "    </div> <!-- nieuw in stap 5 -->\n",
    "  </body>  "
   ]
  },
  {
   "cell_type": "markdown",
   "metadata": {},
   "source": [
    "<b>CSS</b>-code (zie de wrapper element bovenin):<br>\n",
    "\n",
    "<div style=\"display:flex\">\n",
    "\n",
    "```\n",
    "/* nieuw in stap 5: */\n",
    "#wrapper {\n",
    "  width: 1000px; /* max breedte website */\n",
    "  margin: auto; /* centreren op scherm */\n",
    "}\n",
    "\n",
    "#menu {\n",
    "  width: 200px;\n",
    "  height: 1000px;\n",
    "  float: left;\n",
    "  outline: 1px solid black;\n",
    "  background-color: lightblue;\n",
    "}\n",
    "#kop {\n",
    "  width: 800px;\n",
    "  height: 50px;\n",
    "  float: left;\n",
    "  outline: 1px solid black;\n",
    "  background-color: red;\n",
    "}\n",
    "...\n",
    "```\n",
    "\n",
    "&nbsp;Weergave in browser:<br>\n",
    "&nbsp;<img src=\"img/4.4_stap5.png\" border=\"1\" alt=\"Stap 5. Breedte beperken met een wrapper\" width=\"300\">\n",
    "</div>\n"
   ]
  },
  {
   "cell_type": "markdown",
   "metadata": {},
   "source": [
    "<span style=\"color:brown\">Uitwerking van de bovenstaande stappen</span>\n",
    "De volledige uitwerking van hierboven staat in de volgende bestanden:\n",
    "\n",
    "- <a href=\"Uitwerkingen/4.4_voorbeeld/index.html\">HTML-code</a> na het uitvoeren van de bovenstaande stappen;\n",
    "\n",
    "- <a href=\"Uitwerkingen/4.4_voorbeeld/style.css\">CSS-code</a> na het uitvoeren van de bovenstaande stappen."
   ]
  },
  {
   "cell_type": "markdown",
   "metadata": {},
   "source": [
    "### <span style=\"color:green\">Opdracht 4.1: Ontwerp implementeren<span>\n",
    "\n",
    "In deze opdracht ga je de volgende webpagina maken:\n",
    "\n",
    "\n",
    "&nbsp;<img src=\"img/Opdracht4_1.png\" border=\"1\" alt=\"Ontwerp van opdracht 4.1\" width=\"400\">\n",
    "</div>\n",
    "        \n",
    "a) Maak een nieuw HTML-bestand <i>index.html</i> en een nieuw CSS-bestand <i>style.css</i> aan. Zorg ervoor dat het CSS-bestand gekoppeld is aan het HTML-bestand. (tip: `<link href=\"style.css\" rel=\"stylesheet\" type=\"text/css\" />`)\n",
    "\n",
    "\n",
    "b) Volg de stappen 1 t/m 5 zoals in de theorie hierboven. Daarbij voeg je alle blokken en een wrapper toevoegt aan je HTML, en beschrijft de opmaakt in CSS-code.\n",
    "\n"
   ]
  }
 ],
 "metadata": {
  "language_info": {
   "name": "python"
  }
 },
 "nbformat": 4,
 "nbformat_minor": 2
}
