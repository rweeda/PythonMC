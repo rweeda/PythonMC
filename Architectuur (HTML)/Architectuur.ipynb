{
 "cells": [
  {
   "cell_type": "markdown",
   "metadata": {},
   "source": [
    "TODO:\n",
    "- replace all images with: https://course.cs.ru.nl/pythonVO/Jupyter/\n",
    "\n",
    "- instructiefilmpje H1 1t/m 5 aanpassen: https://www.youtube.com/embed/KAvagArI0B8"
   ]
  },
  {
   "cell_type": "markdown",
   "metadata": {},
   "source": [
    "# 1.1 Kennismaken met HTML\n",
    "\n",
    "## World Wide Web\n",
    "Het World Wide Web is een van de belangrijkste internettoepassingen.  De 'taal' waarmee de inhoud van webpagina's wordt gemaakt heet <b>HTML</b> (HyperText Markup Language). HTML zelf is gewoon tekst met codes daarin. Browsers zoals Google Chrome, Edge, Firefox, Safari, enz. lezen deze codes en tonen de webpagina's vervolgens op het beeldscherm. Naast HTML maken we ook gebruik van <b>CSS</b> (Cascading Style Sheets). In CSS leggen we de opmaak (dus kleuren, lettertypes e.d.) van een website vast. Maar daar komen we later op terug.\n",
    "\n",
    "### Opdracht 1.1: Kennis maken met HTML-codes\n",
    "a) Wil je zien hoe HTML eruitziet bij een website die je kent? Ga dan naar die webpagina, klik met je rechtermuisknop en kies ‘Paginabron weergeven’ of ‘Bron weergeven’. De code die dan in een nieuw tabblad wordt geladen is (in de meeste gevallen) HTML.\n",
    "\n",
    "b) Bekijk het instructie filmpje met uitleg over <a href=\"https://youtu.be/KAvagArI0B8\">H1.1 t/m H1.5</a>:\n",
    "\n",
    "\n",
    "[![Watch the video](https://img.youtube.com/vi/KAvagArI0B8/hqdefault.jpg)](https://www.youtube.com/embed/KAvagArI0B8)\n",
    "\n",
    "\n",
    "\n",
    "## Browser\n",
    "‘Browsen’ of ‘surfen’ op het World Wide Web doe je via een webbrowser. Het apparaat waarop de webbrowser is geïnstalleerd moet verbonden zijn met het internet via een modem of router. Die modem is aangesloten op het netwerk van een provider. De provider zorgt ervoor dat je van over heel de wereld websites (HTML-pagina’s dus) kunt binnenhalen.\n",
    "\n",
    "<img src=\"img/worldWideWeb.jpg\" width=\"300\" height=\"150\" alt=\"World Wide Web\">\n",
    "\n",
    "De HTML-pagina’s staan op servers. Dit zijn computers die speciaal zijn gemaakt zodat andere computers er makkelijk informatie vandaan kunnen halen. Dit gaat via het internet.\n",
    "\n",
    "\n",
    "Bekijk de volgende filmpje over HTML en het internet (7 minuten):\n",
    "<a href=\"https://youtu.be/kBXQZMmiA4s\">The Internet: HTTP & HTML</a>:\n",
    "\n",
    "[![Watch the video](https://img.youtube.com/vi/kBXQZMmiA4s/hqdefault.jpg)](https://www.youtube.com/embed/kBXQZMmiA4s)\n",
    "\n",
    "\n",
    "\n",
    "\n"
   ]
  },
  {
   "cell_type": "markdown",
   "metadata": {},
   "source": [
    "# 1.2: Programmeeromgeving VSC\n",
    "\n",
    "Je gaat straks je eigen HTML-code schrijven, in Visual Studio Code (CSV). Om het resultaat van je code te zien moet je deze in een browser openen. Vanuit VSC gaat dat het makkelijkst door de <b>HTML Preview</b> extensie te downloaden.\n",
    "\n",
    "### Opdracht 1.2: HTML extensie downloaden in Visual Studio Code (VSC)\n",
    "\n",
    " In deze opdracht ga je de HTML extensie downloaden. Volg daarvoor de volgende stappen:\n",
    "\n",
    "a) Klik links op de extensie-icoon:\n",
    "<p><img src=\"img/VSC_extension_icoon.png\" alt=\"VSC extensie icoon\" width=\"50\"></p>\n",
    "\n",
    "b) Typ 'HTML preview' in de zoekbalk bovenin:\n",
    "<p><img src=\"img/VSC_extension_HTMLpreview.png\" alt=\"VSC extensie icoon\" width=\"300\"></p>\n",
    "\n",
    "c) Kies dan voor een van de \"HTML Preview\"-extensies en druk op \"Install\".\n"
   ]
  },
  {
   "cell_type": "markdown",
   "metadata": {},
   "source": [
    "# 1.3: HTML tags, head en body\n",
    "\n",
    "Om een webpagina te maken moet je je houden aan een aantal regels. Met HTML wordt de structuur van een webpagina beschreven. \n",
    " \n",
    "## Tags en elementen\n",
    "In de HTML-code wordt aangegeven, welke kopteksten, alinea's, klikbare links en afbeeldingen er zijn. Voor elk element in een geef je met tags (labels) aan wat het is. Bijvoorbeeld, de titel van je pagina, wat je bovenin de browser ziet geef je zo aan:\n",
    "\n",
    "```<title>Mijn titel</title>```\n",
    "\n",
    "Zoals je kunt zien bestaat dit element uit drie onderdelen:\n",
    "\n",
    "- Een begintag, namelijk ```<title>```;\n",
    "\n",
    "- Inhoud, namelijk \"Mijn titel\";\n",
    "\n",
    "- Een eindtag, namelijk ```</title>```.\n",
    "\n",
    "\n",
    "\n",
    "Tags staan altijd tussen <code><</code> en <code>></code>. De meeste elementen hebben een begin- en eindtag.\n",
    " \n",
    " \n",
    "## Structuur van een webpagina\n",
    "Hieronder zie je een voorbeeld van HTML-code, met daaronder een uitleg over de codes.<br>\n",
    "<img src=\"img/WebPageStructure.png\" width=\"400\"  alt=\"Structuur van een webpagina\">\n",
    "\n",
    " \n",
    "Iedere webpagina begint met ```<html>``` en eindigt met ```</html>```.\n",
    "Binnen de HTML-tags heb je twee delen, namelijk 'head' en 'body':\n",
    " \n",
    "1. <b>head</b>: \n",
    "Informatie over de website die je niet op de pagina zelf ziet, maar door de browser gebruikt wordt om het pagina te laten zien. Bijvoorbeeld:\n",
    "\n",
    "- Titel: Welk tekst getoond moet worden in de webbrowserbalk of op het titelblad. Bijvoorbeeld:<br>\n",
    "```<title>Titel in de webbrowserbalk</title>``` \n",
    "\n",
    "- Taal: Hiermee kan een zoekmachine zoals Google, taal specifieke resultaten geven. Of een browser kan een pagina vertalen als bekend is in welke taal de pagina is geschreven. Ook wordt het gebruikt door schermlezers (zoals Claroread) om een juiste uitspraak te geven. In dit voorbeeld \"nl\" voor Nederlands:<br>\n",
    "```<html lang=\"nl\">```\n",
    "\n",
    "- Karakterset: Unicode of Ascii. Om alle karakters wereldwijd te kunnnen tonen gebruik je UTF-8 dat voor UNICODE staat:<br>\n",
    "```<meta charset=\"utf-8\">```\n",
    "         \n",
    "2. <b>body</b>:\n",
    "De werkelijke inhoud van de pagina, dus wat je op het scherm ziet zoals een plaatje of een stuk tekst zoals in dit voorbeeld:"
   ]
  },
  {
   "cell_type": "code",
   "execution_count": null,
   "metadata": {
    "vscode": {
     "languageId": "html"
    }
   },
   "outputs": [],
   "source": [
    "<body>\n",
    "    Inhoud van mijn webpagina.\n",
    "</body>"
   ]
  },
  {
   "cell_type": "markdown",
   "metadata": {},
   "source": [
    "### Opdracht 1.3: HTML-bestand bekijken\n",
    " \n",
    "a. Klik in het menu links op <b>Opdracht 1.3</b>, en dan op <b>index.html</b>.\n",
    "\n",
    "b. Elke website heeft een index.html, dit is de hoofdpagina. Als het goed is staat de volgende code in je index.html bestand:"
   ]
  },
  {
   "cell_type": "code",
   "execution_count": null,
   "metadata": {
    "vscode": {
     "languageId": "html"
    }
   },
   "outputs": [],
   "source": [
    "<html>\n",
    "\n",
    "  <head>\n",
    "    <meta charset=\"utf-8\">\n",
    "    <title>Mijn titel</title>  \n",
    "  </head>\n",
    "\n",
    "  <body>\n",
    "    <p>Hier staat de inhoud van de pagina.</p>\n",
    "  </body>\n",
    "\n",
    "</html>"
   ]
  },
  {
   "cell_type": "markdown",
   "metadata": {},
   "source": [
    "\n",
    "c. Om de code uit te voeren klik je met je rechtermuisknop op het 'index.html' bestand en kies 'Show in Browser'.\n",
    "\n",
    "d. De browser (bv. Chrome, Edge, Safari) opent de website.\n",
    "\n",
    "e. Als het goed is zie je in de browser de tekst verschijnen dat in de code tussen <body> en </body> staat, in dit geval: \"Hier staat de inhoud van de pagina.\"   \n",
    "\n",
    "f. Zet de twee schermen naast elkaar zodat je ze makkelijk kunt vergelijken. Tip: Pak de browser en sleep die naar de rechterkant van je beeldscherm. Als het goed is krijg je zo'n opstelling:\n",
    "\n",
    "\n",
    "<img src=\"img/Opdracht1_3f.png\" width=\"600\" alt=\"World Wide Web\">\n",
    "\n",
    "\n",
    "Lukt dat niet, gebruik dan de Windows-knop + pijltje links of rechts.\n",
    "\n",
    "\n",
    "g. Ga na waar de tekst 'Mijn titel' in de code staat, en waar deze op de website te vinden is.\n",
    "\n"
   ]
  },
  {
   "cell_type": "markdown",
   "metadata": {},
   "source": [
    "### Opdracht 1.4: HTML-bestand aanpassen\n",
    "h. Pas de tekst in de body aan en sla de wijziging op (tip: <b>CTRL</b> + <b>S</b>).\n",
    "\n",
    "i. Test je aanpassing door op de browser te verversen. Dit kan met <b>F5</b>, of door op het volgende icoontje te klikken:\n",
    "\n",
    "<img src=\"img/refreshBrowser.png\" width=\"50\" height=\"50\" alt=\"Icoon ververs browser\">\n",
    "\n",
    "\n",
    "Is het gelukt om de tekst op de website aan te passen?"
   ]
  },
  {
   "cell_type": "markdown",
   "metadata": {},
   "source": [
    "# 1.4: Code structureren met inspringen\n",
    "\n",
    "Door je code te structureren voorkom je dat je fouten maakt. Dit doe je door <i>in te springen</i>, zodat dingen die bij elkaar horen ook bij elkaar staan. \n",
    "\n",
    "Goed ingesprongen:<br>\n",
    "<img src=\"img/code_inspringen_goed.png\" alt=\"Goed ingesprongen code\">\n",
    "\n",
    "Niet goed ingesprongen:<br>\n",
    "<img src=\"img/code_inspringen_NietGoed.png\" width=\"400\" alt=\"Niet goed ingesprongen code\">\n",
    "\n",
    "\n",
    "Inspringen doe je zo:\n",
    "\n",
    "\n",
    "• Begin- en eindtags staan steeds recht onder elkaar staan. Alleen wanneer de begin- en eindtag op één regel kunnen staan hoeft dat niet (al mag het wel). \n",
    "\n",
    "• Alles wat tussen een begin- en een eindtag staat wordt ingesprongen. Inspringen doe je met <b>TAB</b>. Je kunt ook meerdere regels selecteren en in een keer inspringen. Inspringen <i>ongedaan maken</i> doe je met <b>SHIFT+TAB</b>.\n",
    "        \n",
    "• Als je met de cursor een tag te dubbelklikken (bv. ```<body>```) zie je ook de bijbehorende begin- of eind tag oplichten. Zo kun je ook heel snel zien welke tag bij welke hoort. \n",
    "\n",
    "\n"
   ]
  },
  {
   "cell_type": "markdown",
   "metadata": {},
   "source": [
    "# 1.5: Koppen en alinea's\n",
    "\n",
    "## Kop <h1>, subkoppen <h2>, <h3>… en alinea's <p>\n",
    " \n",
    "Bekijk hier een kort filmpje (50sec.) met uitleg:\n",
    "\n",
    "\n",
    "[![Watch the video](https://img.youtube.com/vi/GO-Ahi623vY/hqdefault.jpg)](https://www.youtube.com/embed/GO-Ahi623vY)\n",
    "\n",
    "\n",
    "## Paragraaf alinea's\n",
    "Een alinea tekst zet je tussen paragraaf-tags <p>..</p>.<br>\n",
    "       ```<p>Dit is een paragraaf</p>```\n",
    "\n",
    "  \n",
    "## Koppen\n",
    "Een kopje boven alinea geef je aan met <h1> … </h1>:<br>\n",
    "        ```<h1>Dit is een grote kop</h1>```\n",
    "De grootste kop heet h1.\n",
    "\n",
    "## Subkoppen\n",
    "Voor subkoppen gebruik je <h2> … </h2> of, nog kleiner met: <h3> … </h3>. <br>\n",
    "```        <h2>Dit is een subkop</h2>\n",
    "        <h3>Dit is nog een kleinere subkop</h3>```\n",
    "\n",
    "Webbrowsers passen dan automatisch de tekst grootte aan en maken de tekst dikgedrukt.\n",
    "\n",
    "\n",
    "Let op: het getalletje geeft niet aan hoeveel koppen je hebt, maar hoe groot de koptekst getoond wordt. In het voorbeeld hieronder zie je dat er een hoofdkop is (h1) en twee subkoppen die even groot zijn (2 koppen van h2).\n",
    "\n",
    "HTML code: "
   ]
  },
  {
   "cell_type": "code",
   "execution_count": null,
   "metadata": {
    "vscode": {
     "languageId": "html"
    }
   },
   "outputs": [],
   "source": [
    "<html>\n",
    "        <head>\n",
    "                <meta charset=\"utf-8\">\n",
    "                <title>Mijn titel</title> \n",
    "        </head>\n",
    "        \n",
    "        <body>\n",
    "            <h1>Dit is kop h1</h1>\n",
    "                <p>Tekst zet je in een paragraaf, binnen een p-tag.</p>\n",
    "        \n",
    "\n",
    "              <h2>Dit is subkop h2</h2>\n",
    "                <p>Met wat tekst</p>\n",
    "        \n",
    "              <h2>Dit is een tweede subkop h2</h2>\n",
    "                 <p>Ook hier zet je tekst in een paragraaf.</p>\n",
    "        </body>\n",
    "</html>"
   ]
  },
  {
   "cell_type": "markdown",
   "metadata": {},
   "source": [
    "Hoe het in de browser eruit ziet:<br>\n",
    "<img src=\"img/1.5_uitvoer.png\" width=\"300\" alt=\"HTML-code met kopjes\">\n",
    "\n"
   ]
  },
  {
   "cell_type": "markdown",
   "metadata": {},
   "source": [
    "### Opdracht 1.5: Koppen, subkoppen en alinea's\n",
    "\n",
    "We voegen wat tekst toe aan je pagina, bestaande uit 2 hoofdkoppen, 2 subkoppen en 3 paragraven:\n",
    "\n",
    "\n",
    "<img src=\"img/Opdracht1_5.png\" width=\"300\" alt=\"HTML-code met kopjes\">\n",
    "\n",
    "\n",
    "\n",
    "We gebruiken de onderstaande tekst links, en gaan deze met koppen vormgeven zoals je rechts ziet.\n",
    "\n",
    "\n",
    "<b>Welkom</b>\n",
    "Welkom op mijn receptenpagina. De tips komen van kookidee.nl.\n",
    "\n",
    "<b>Kooptips</b>\n",
    "        Oventemperatuur\n",
    "        Er zijn verschillende soorten ovens. Heb je een elektrische oven dan moet je ongeveer 10% bij de temperatuur optellen.\n",
    "                \n",
    "        \n",
    "        Afmeten\n",
    "        In veel van recepten meet je ingrediënten af met theelepels (tl.) of eetlepels (el.). Het handigst is om een setje maatlepels aan te schaffen.\n",
    "\n",
    "<img src=\"img/Opdracht1_5_uitvoer.png\" width=\"300\" alt=\"Uitvoer van opdracht 1.5\">\n",
    "\n",
    "\n",
    "<ol>\n",
    "<li>Kopieer de tekst en plak die in de body van je pagina, dus tussen <body> en </body>.\n",
    "<li>Geef aan dat ''Welkom'' en ''Kooptips'' twee grote koppen zijn met:\n",
    "\n",
    "```<h1>``` \n",
    "en \n",
    "```</h1>```\n",
    "<li>Sla je werk op (met <b>CTRL</b>+<b>S</b>). Bekijk daarna het resultaat in de browser om je werk te testen.\n",
    "<li>Geef aan dat ''Overtemperatuur'' en ''Afmeten'' twee subkoppen zijn met:\n",
    "\n",
    "```<h2>``` en ``` </h2>```. \n",
    "Zorg ervoor dat je code netjes ingesprongen is. Gebruik de <b>TAB</b>-toets om ervoor te zorgen dat de \n",
    "```<h2>``` rechts van de  ```<h1>``` staat. Bekijk eventueel de uitwerkingen.\n",
    "<li>Sla je werk op (met <b>CTRL</b>+<b>S</b>) en bekijk het in de browser om je werk te testen.\n",
    "<li>Zet de tekst onder elk (sub)kop tussen \n",
    "\n",
    "```<p>``` en  ```</p>```\n",
    " . Houd je code netjes ingesprongen!\n",
    "<li>Sla je werk op en bekijk het in de browser om je werk te testen.\n",
    "</ol>\n",
    "\n"
   ]
  }
 ],
 "metadata": {
  "kernelspec": {
   "display_name": "Python 3",
   "language": "python",
   "name": "python3"
  },
  "language_info": {
   "codemirror_mode": {
    "name": "ipython",
    "version": 3
   },
   "file_extension": ".py",
   "mimetype": "text/x-python",
   "name": "python",
   "nbconvert_exporter": "python",
   "pygments_lexer": "ipython3",
   "version": "3.11.9"
  }
 },
 "nbformat": 4,
 "nbformat_minor": 2
}
