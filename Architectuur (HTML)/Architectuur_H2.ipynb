{
 "cells": [
  {
   "cell_type": "markdown",
   "metadata": {},
   "source": [
    "TODO\n",
    "- video https://youtu.be/Rkz0F3TuqGE\n",
    "\n",
    "- Opdracht 2.6. Tabel opmaken  VERWIJST NAAR CODE VAN OPDR 2.8"
   ]
  },
  {
   "cell_type": "markdown",
   "metadata": {},
   "source": [
    "<hr>\n",
    "\n",
    "# <span style=\"color:brown\">Hoofdstuk 2: Website maken met CSS</span>\n",
    "\n",
    "<hr>\n",
    "\n",
    "# <span style=\"color:brown\">2.1: CSS voor opmaak</span>\n",
    "\n",
    "Met Cascading Style Sheets (afgekort tot <b>CSS</b>) kan je vormgeving van webpagina's aangeven. Hiermee koppel je de inhoud en zo deze vormgeving centraal vast te leggen. De voordelen zijn een website die er consistent uitziet en makkelijker aan te passen is.\n",
    "\n",
    "Bekijk hier een kort instructiefilmpje over CSS (3min 33sec):\n",
    "\n",
    "https://youtu.be/Rkz0F3TuqGE\n",
    "\n"
   ]
  },
  {
   "cell_type": "markdown",
   "metadata": {},
   "source": [
    "## <span style=\"color:brown\"> Inhoud en opmaak altijd gescheiden houden!</span>\n",
    "\n",
    "In een HTML-bestand geef je alleen de <i>inhoud</i> weer, dus de tekst, plaatjes, links.\n",
    "\n",
    "In een CSS-bestand beschrijf je de <i>opmaak</i>, dus welke lettertype je wilt gebruiken of in welke kleur je de kopteksten wilt hebben. \n",
    " \n",
    "Er zijn meerdere manieren om opmaak aan te geven. Wij gebruiken een externe stylesheet waarbij je de opmaakcode in een apart bestand met de extensie .css plaatst.\n",
    "\n",
    "<table>\n",
    "<tr><td>\n",
    "<img src=\"img/2.1_cssUitleg.png\" width=\"300\">\n",
    "</td><td>\n",
    "<img src=\"img/2.1_cssCodeUitleg.png\">\n",
    "</td></tr>\n",
    "</table>\n",
    "\n",
    "\n",
    "\n",
    "\n",
    "        \n",
    "In je HTML-bestand maak je een koppeling naar je CSS-bestand, dat doe je door in de header de volgende code op te nemen:<br>\n",
    "        `<link rel=\"stylesheet\" type=\"text/css\" href=\"style.css\">`\n",
    "\n",
    "De code van je HTML-bestand met een koppeling naar een CSS-bestand (met naam style.css) ziet er dan als volgt uit (let op regel 4):\n"
   ]
  },
  {
   "cell_type": "code",
   "execution_count": null,
   "metadata": {
    "vscode": {
     "languageId": "html"
    }
   },
   "outputs": [],
   "source": [
    "<html lang=\"nl\">\n",
    "    <head>\n",
    "        <title>Werken met CSS</title>\n",
    "        <link rel=\"stylesheet\" type=\"text/css\" href=\"style.css\">\n",
    "    </head>\n",
    "\n",
    "    <body>\n",
    "        <p>De tekst op deze website.</p>\n",
    "    </body>\n",
    "</html>"
   ]
  },
  {
   "cell_type": "markdown",
   "metadata": {},
   "source": [
    "## <span style=\"color:brown\"> Een CSS-bestand aanmaken</span>\n",
    "\n",
    "Een CSS-bestand maak je op bijna dezelfde manier als een HTML-bestand. Nu gebruik je de extensie .css. De standaardnaamgeving is: <i>style.css</i>.\n",
    "\n",
    "Je hebt voor een hele site maar <b>één</b> CSS-bestand."
   ]
  },
  {
   "cell_type": "markdown",
   "metadata": {},
   "source": [
    "## <span style=\"color:brown\">Standaard opmaak aanpassen</span>\n",
    "Als je in het HTML-bestand een kopje met `<h1>` aangeeft, dan zal de webbrowser deze automatisch groter en in het zwart weergeven.\n",
    "\n",
    "\n",
    "<hr>\n",
    "<b>Een voorbeeld:</b><br>\n",
    "<b>HTML</b>-code: <br>\n",
    "\n",
    "`<h1>Dit is kop h1</h1>`\n",
    "\n",
    "Weergave in browser: <br>\n",
    "<img src=\"img/h1_kop_zwart.png\" border=\"1\">\n",
    "<hr>\n",
    "\n",
    "Om alle h1 kopppen de tekstkleur rood te geven, plaats je de volgende CSS-code in het CSS-bestand (je verandert niks aan je HTML-code):\n",
    "\n",
    "<hr>\n",
    "<b>Een voorbeeld:</b><br>\n",
    "<b>HTML</b>-code: <br>\n",
    "\n",
    "`<h1>Dit is kop h1</h1>`\n",
    "\n",
    "<br>\n",
    "<b>CSS</b>-code: <br>\n",
    "\n",
    "```\n",
    "h1 {\n",
    "     color: red;\n",
    "}\n",
    "```\n",
    "\n",
    "\n",
    "\n",
    "Weergave in browser: <br>\n",
    "<img src=\"img/h1_kop_rood.png\" border=\"1\">\n",
    "\n",
    "<hr>\n",
    "\n",
    "Door de opmaak in de CSS-code aan te geven, zal elk h1 element rood worden weergegeven.\n",
    " \n",
    "## <span style=\"color:brown\">Tag-selector</span>\n",
    "In je CSS-code geef je aan voor welk HTML-element of tag deze code gaat gelden. Daarna geeft je voor de eigenschap (zoals kleur, grootte, hoogte, …) de waarde:<br>\n",
    "<img src=\"img/2.1_cssCodeUitgelegd.png\" border=\"1\">\n",
    "\n",
    "\n",
    "Let op: De `;` aan het einde van elk coderegel, en de `{` en `}` accolades om de code zijn belangrijk!\n",
    "\n",
    "\n"
   ]
  },
  {
   "cell_type": "markdown",
   "metadata": {},
   "source": [
    "### <span style=\"color:green\">Opdracht 2.1: CSS maken en aanpassen</span>\n",
    "\n",
    "Pas de CSS aan zodat <b>alle</b> h1 kopjes <span style=\"color:red\">rood</span> worden en <b>alle</b> h2 kopjes <span style=\"color:blue\">blauw</span>.\n",
    "\n",
    "a) Maak een sytlesheet pagina aan:\n",
    "\n",
    "- Klik in het menu bovenin op 'File' en dan 'New File':<br>\n",
    "&ensp;&ensp;<img src=\"img/VSC_newFile.png\" border=\"1\" alt=\"Nieuwe bestand maken in VSC\">\n",
    "        \n",
    "- Typ in het balk bovenaan '<i>style.css</i>'.\n",
    "\n",
    "\n",
    "- Kopieer het onderstaande code naar <b>style.css</b>:<br>\n",
    "\n",
    "    ```\n",
    "    h1 { \n",
    "      color: red; \n",
    "    } \n",
    "    ```\n",
    "    "
   ]
  },
  {
   "cell_type": "markdown",
   "metadata": {},
   "source": [
    "b) Maak in de head van je <b>index.html</b> (jouw hoofdpagina) een koppeling naar je stylesheet (let op regel 4):"
   ]
  },
  {
   "cell_type": "code",
   "execution_count": null,
   "metadata": {
    "vscode": {
     "languageId": "html"
    }
   },
   "outputs": [],
   "source": [
    "<html>\n",
    "  <head>\n",
    "    <meta charset=\"utf-8\">\n",
    "    <link rel=\"stylesheet\" type=\"text/css\" href=\"style.css\">\n",
    "    <title>Mijn titel</title>  \n",
    "  </head>\n",
    "  <body>\n",
    "   ...\n",
    "\n",
    "  </body>\n",
    "</html>\n"
   ]
  },
  {
   "cell_type": "markdown",
   "metadata": {},
   "source": [
    "c) Sla op en bekijk het resultaat in de browser. Als het goed is zijn de `<h1>` kopjes ('<i>Welkom</i>' en '<i>Kooptips</i>') nu <span style=\"color:red\">rood</span>.\n",
    "\n",
    "d)  Breid nu de CSS-code zodat de `<h2>` kopjes in het blauw (<span style=\"color:blue\">blue</span>) worden weergegeven. \n",
    "\n",
    "e) Sla op en bekijk het resultaat. Welke teksten wordt blauw weergegeven?"
   ]
  },
  {
   "cell_type": "markdown",
   "metadata": {},
   "source": [
    "<hr>\n",
    "\n",
    "# <span style=\"color:brown\">2.2: Commentaar in CSS<span>\n",
    "\n",
    "In een CSS-bestand kun je commentaar toevoegen door deze tussen `/*` en `*/` te zetten. Dat is dus anders dan bij HTML.\n",
    "\n",
    "\n",
    "<hr>\n",
    "<b>Een voorbeeld:</b><br>\n",
    "<b>HTML</b>-code:"
   ]
  },
  {
   "cell_type": "code",
   "execution_count": null,
   "metadata": {
    "vscode": {
     "languageId": "html"
    }
   },
   "outputs": [],
   "source": [
    "<!-- DIT IS COMMENTAAR IN HTML-->\n",
    "<p>Dit zie je in je browser</p>\n",
    "\n",
    "<!-- Dit zie je niet -->\n"
   ]
  },
  {
   "cell_type": "markdown",
   "metadata": {},
   "source": [
    "<b>CSS</b>-code:<br>\n",
    "```/* DIT IS COMMENTAAR IN CSS */\n",
    "td {\n",
    "        color: #AB34CD;   /* roze */\n",
    "}\n",
    "```\n",
    "<hr>\n",
    "Het gebruik van commentaar kan handig zijn voor jezelf als geheugensteuntje, en het maakt je code voor anderen makkelijker te lezen. In het voorbeeld hierboven zie je dat door commentaar aan de hexadecimale kleurcode te geven sneller te zien om welke kleur het gaat. \n",
    " \n",
    "## <span style=\"color:brown\"> Commentaar gebruiken voor debuggen of testen</span>\n",
    "\n",
    "<i>Debuggen</i> is een ander word voor fouten uit je code te halen. Wil je een bepaalde deel van je code testen (om te kijken of daar een fout in zit), dan kan het handig zijn om die af te zonderen door de rest tijdelijk in commentaar te zetten. "
   ]
  },
  {
   "cell_type": "markdown",
   "metadata": {},
   "source": [
    "<hr>\n",
    "\n",
    "# <span style=\"color:brown\">2.3: Kleuren in CSS</span>\n",
    "\n",
    "De waarde van <i>color</i> kan je in je CSS-bestand op drie manieren aangeven:\n",
    "\n",
    "1. Keyword;\n",
    "\n",
    "2. RGB-waarde;\n",
    "\n",
    "3. Hexadecimale waarde.\n",
    " \n",
    "### <span style=\"color:brown\">Keyword</span>\n",
    "```\n",
    "h1 {\n",
    "        color: red;\n",
    "}\n",
    "```\n",
    "\n",
    "In totaal zijn er 140 (Engelse) keywords (sleutelwoorden) om de kleur aan te duiden, bijvoorbeeld: aqua, black, brown, gold, gray, green, navy, olive, pink, white en yellow.\n",
    "\n",
    "### <span style=\"color:brown\">RGB-waarde</span>\n",
    "```\n",
    "h1 {\n",
    "    color: rgb(255,0,0);  /* rood */\n",
    "}\n",
    "```\n",
    "\n",
    "\n",
    "Iedere kleur bestaat uit de drie basiskleuren Rood (R), Groen (G) en Blauw (B). Voor iedere basiskleur zijn er 256 variaties mogelijk. Omdat er voor Rood, Groen en Blauw ieder 256 mogelijkheden zijn, is het hierdoor mogelijk om ruim 16 miljoen kleuren te maken. \n",
    "\n",
    "Met RGB kan je dus heel precies aangeven welke kleur je wilt hebben. Dit kan nodig zijn als je een website voor een bedrijf maakt en precies de kleur van het bedrijfslogo wilt gebruiken.\n",
    "\n",
    "### <span style=\"color:brown\">Hexadecimale waarde</span>\n",
    "```\n",
    "h1 {\n",
    "    color:#ff0000; /* rood */\n",
    "}\n",
    "```\n",
    "\n",
    "De meeste websites gebruiken <i>hexadecimale kleurcodes</i>. Dit is eigenlijk niks anders dan de decimale RGB-waarde omgezet in een hexadecimale waarde. Een hexadecimale kleurcode bestaat uit 6 karakters, de eerst twee voor de R-waarde, dan twee voor de G-waarde en de laatste twee voor de B. In je CSS-bestand geef je de hexadecimale code achter een `#`. \n",
    "\n",
    "\n",
    "### <span style=\"color:brown\">Kleuren mengen</span>\n",
    "\n",
    "Je kunt ook een kleur kiezen met een ‘color picker’ (Engels voor kleurkiezer). Zoek maar eens op Google naar ‘color picker’.\n",
    "\n",
    "\n",
    "&ensp;&ensp;<img src=\"img/2.3_purpleRGB.png\" border=\"1\" alt=\"RGB waarden voor paars\" width=\"400\">\n",
    "        \n",
    "\n",
    "De paarse kleur die in deze color picker is gegenereerd, heeft als hexadecimale code ‘E07AE6’, of als RGB-waarde '224,122,230'.\n",
    " \n",
    "### <span style=\"color:brown\">Achtergrondkleur</span>\n",
    "De kleur van de achtergrond geef je ook aan in je CSS-bestand. Je geeft dan aan dat de `body` een bepaalde `background-color` moet hebben, bijvoorbeeld lichtblauw:\n",
    "\n",
    "\n",
    "```\n",
    "body {\n",
    "    background-color: lightblue;\n",
    "}\n",
    "```\n"
   ]
  },
  {
   "cell_type": "markdown",
   "metadata": {},
   "source": [
    "### <span style=\"color:green\">Opdracht 2.2: Achtergrondkleur</span>\n",
    "\n",
    "a) Maak gebruik van een color picker en kies een rustige effen kleur. \n",
    "\n",
    "b) In je <b>style.css</b> geef je de achtergrondkleur aan in de body. Gebruik hiervoor de hexadecimale of RGB waarde.\n",
    "\n",
    "Bijvoorbeeld, met de code links krijg je de achtergrond wat rechts weergegeven is:\n",
    "<div style=\"display:flex\">\n",
    "\n",
    "```\n",
    "body{\n",
    "  background-color: rgb(224,122,230);  /*roze*/\n",
    "}\n",
    "```\n",
    "&ensp;&ensp;\n",
    "<img src=\"img/Opdracht2.2_achtergrondkleur_voorbeeld.png\" border=\"1\" alt=\"Roze achtergrond\">\n",
    "\n",
    "</div>\n",
    "\n",
    "c) Voeg commentaar toe in je CSS-bestand om aan te geven om welk kleur het gaat (tip: `<!--... -->`).\n",
    "\n",
    "\n",
    "d) Test je aanpassing.\n",
    "\n",
    "Het idee van de style.css is om een eenduidige opmaak op alle pagina's te krijgen. Het mooist is als alle pagina's dezelfde achtergrondkleur krijgen.\n",
    "\n",
    "\n",
    "e) Bekijk je appeltaart pagina. Is de achtergrondkleur nu hetzelfde als je index.html?\n",
    "\n",
    "\n",
    "f) Koppel je style.css aan je appeltaart pagina. Dit doe je weer door in appeltaart.html de volgende code in de `<head>…</head>` toe te voegen:<br>\n",
    "```<link href=\"style.css\" rel=\"stylesheet\" type=\"text/css\" />```\n",
    "\n",
    "g) Test of beide webpagina's nu hetzelfde achtergrond kleur hebben.\n",
    "\n",
    "h) Als dat gelukt is, voer dan een commit uit (versiebeheer).\n"
   ]
  },
  {
   "cell_type": "markdown",
   "metadata": {},
   "source": [
    "<hr>\n",
    "\n",
    "# <span style=\"color:brown\">2.4: Lettertypen en tekstgrootte in CSS</span>\n",
    "\n",
    "## <span style=\"color:brown\">Lettertype</span>\n",
    "Je kunt zelf een lettertype voor je website kiezen. Dan geef je in je CSS-bestand `font-family` aan voor de `body`:\n",
    "\n",
    "```\n",
    "body {\n",
    "    font-family: Verdana;\n",
    "}\n",
    "```\n",
    "\n",
    "Als je geen lettertype opgeeft, of een exotische letterype gebruikt die de browser niet kent, dan gebruikt de browser een standaard lettertype. \n",
    "\n",
    "\n",
    "## <span style=\"color:brown\">Tekstgrootte</span>\n",
    "\n",
    "Met de CSS-eigenschap `font-size` geef je de grootte van de letters aan, in dit voorbeeld van alle `<h1>`-kopjes:\n",
    "\n",
    "```\n",
    "h1 {\n",
    "    font-size: 32pt;\n",
    "}\n",
    "```\n",
    "\n",
    "Het is gebruikelijk is om een tekst grootte in de eenheid 'pt' aan te geven, zoals ook in Microsoft Word wordt gebruikt. Maar het is ook mogelijk om een afmeting op te geven in procenten (%), pixels (px) en centimeters (cm).\n"
   ]
  },
  {
   "cell_type": "markdown",
   "metadata": {},
   "source": [
    "## <span style=\"color:brown\">Meerdere Eigenschappen</span>\n",
    "\n",
    "Je kunt in je CSS-code meerdere eigenschappen van een HTML-element tegelijk opgeven. Bijvoorbeeld, zowel het lettertype, de kleur en de tekstafmeting opgeven:\n",
    "\n",
    "\n",
    "<div style=\"display:flex\">\n",
    "\n",
    "```\n",
    "h1 {\n",
    "   font-family: Arial;\n",
    "   font-size: 24pt;\n",
    "   color: red;\n",
    "}\n",
    "```\n",
    "&nbsp;\n",
    "<img src=\"img/2.4_meerdereCSSattributenVoorbeeld.png\" border=\"1\" width=\"300\">\n",
    "\n",
    "</div>\n",
    "\n",
    "\n",
    "In bovenstaande voorbeeld is het lettertype van de `<h1>`-kop ingesteld op Arial met afmeting van 24pt en kleur rood.\n",
    "\n",
    "## <span style=\"color:brown\">Inspringen met TAB</span>\n",
    "Inspringen doe je met een <b>TAB</b>:<br>\n",
    "<img src=\"img/CSS_inspringen_tab.png\" border=\"1\" alt=\"Gebruik TAB om in een CSS-code in te springen\">"
   ]
  },
  {
   "cell_type": "markdown",
   "metadata": {},
   "source": [
    "### <span style=\"color:green\">Opdracht 2.3: Kleuren en lettertypen </span>\n",
    "\n",
    "a) Ga verder met je code in index.html en style.css.\n",
    "\n",
    "b) Pas de lettertype en grootte van alle tekst (dus de `body`) aan naar Arial 40pt. Let er op dat de code in je CSS-bestand ook netjes uitgelijnd is, zoals in het voorbeeld hierboven (tip: gebruik <b>TAB</b> om in te springen).\n",
    "\n",
    "c) Test de aanpassing. Is alle tekst groter geworden?\n",
    "\n",
    "d) Pas de maat aan naar 12pt. Als dit werkt doe je weer een commit in versiebeheer."
   ]
  },
  {
   "cell_type": "markdown",
   "metadata": {},
   "source": [
    "<hr>\n",
    "\n",
    "# <span style=\"color:brown\"> 2.5: Vormgeven tekst - uitlijnen en kleuren</span>\n",
    "\n",
    "## <span style=\"color:brown\">Uitlijning </span>\n",
    "Alle tekst en plaatjes op een website wordt door de webbrowser automatisch aan de linkerkant uitgelijnd. Je kunt deze ook aan de rechterkant uitlijnen of te centreren. Hiervoor gebruik je de CSS-code `text-align`. Deze eigenschap kan de volgende waarden hebben:\n",
    "\n",
    "- left (links uitlijnen); \n",
    "\n",
    "- right (rechts uitlijnen); \n",
    "\n",
    "- center (centreren); \n",
    "\n",
    "- justify (uitvullen, maakt iedere regel even breed, net zoals in de krant).\n",
    " \n",
    "\n",
    "Voorbeeld van CSS-code:\n",
    "        \n",
    "```\n",
    "h1 {\n",
    "        text-align: center;\n",
    "}\n",
    "p {\n",
    "        text-align: right;\n",
    "}\n",
    "```\n",
    "\n"
   ]
  },
  {
   "cell_type": "markdown",
   "metadata": {},
   "source": [
    "## <span style=\"color:brown\">Vormgeving</span>\n",
    "\n",
    "Het is met CSS-code mogelijk om tekst op je website dikgedrukt, schuin of onderstreept op te maken. In paragraaf 1. Inleiding HTML heb je gezien dat dit ook in HTML kan. In HTML doe je met de tags `<b>`, `<i>` en `<u>`. In welke gevallen geef je deze opmaak op in HTML-code en in welke gevallen doe je dit in CSS-code?\n",
    "\n",
    "Zoals je al weet moet je opmaakregels in je HTML-code zo veel mogelijk vermijden. Als je enkele woorden in een paragraaf dikgedrukt wilt maken, kun je dit het beste in HTML-code opgeven met `<b>`. Maar als je een hele paragraaf dikgedrukt wilt maken, of alle `<h3>`-kopjes, dan geef je dit op in je CSS-bestand.\n",
    "\n",
    "Hiervoor zijn er verschrillende CSS-codes, bijvoorbeeld:\n",
    "\n",
    "```\n",
    "p{\n",
    "    font-weight: bold;          /* vetgedrukt */\n",
    "    font-style: italic;         /* schuingedrukt */\n",
    "    text-decoration: underline; /* onderstreept */\n",
    "}\n",
    "```\n",
    "\n",
    "Kijk <a href=\"https://www.w3schools.com/cssref/index.php\">hier</a> voor een overzicht van alle CSS-codes."
   ]
  },
  {
   "cell_type": "markdown",
   "metadata": {},
   "source": [
    "## <span style=\"color:brown\">Speciale eigenschappen aan hyperlinks</span>\n",
    "\n",
    "Een link wordt blauw en onderstreept weergegeven. Hierdoor valt een link meteen op.\n",
    " \n",
    "Het opmaken van een link doe je, net als bijvoorbeeld een `<h1>`-kop of `<p>`-paragraaf, door het HTML-element in je CSS-bestand aan te passen.\n",
    "\n",
    "<b>CSS</b>-code:<br>\n",
    "\n",
    "```     \n",
    "a {\n",
    "    color: blue;\n",
    "}\n",
    "```  \n",
    "\n",
    "Het opmaken van een hyperlink voor het moment dat de bezoeker van je website zijn muis over de link laat gaan (`hover`) ziet er als volgt uit:\n",
    "\n",
    "<b>CSS</b>-code:<br>\n",
    "\n",
    "```    \n",
    "a {\n",
    "    color: blue;\n",
    "}\n",
    "\n",
    "a:hover { /* de muis gaat over de link */\n",
    "    color: darkblue;\n",
    "}\n",
    "```\n",
    "\n",
    "Achter de naam van het element waarvoor de CSS-code geldt, geef je op `:hover`. Code die nu tussen de accolades komt te staan, wordt alleen gebruikt de muis over het `a`-element (een link) gaat.\n",
    " \n",
    "Op een vergelijkbare wijze kun je `a:visited` gebruiken om een bezochte link aan te passen.\n",
    "\n"
   ]
  },
  {
   "cell_type": "markdown",
   "metadata": {},
   "source": [
    "### <span style=\"color:green\">Opdracht 2.4: Opmaak van een link aanpassen</span>\n",
    "\n",
    "a) Kies een andere kleur om een link mee aan te geven, en pas dit aan in je style.css.\n",
    "\n",
    "b) Test of de links op je hoofdpagina inderdaad veranderd zijn.\n",
    "\n",
    "c) Kies ook een eigen kleur voor als je met je cursor boven de link zweeft.\n",
    "\n",
    "d) Test het.\n"
   ]
  },
  {
   "cell_type": "markdown",
   "metadata": {},
   "source": [
    "<hr>\n",
    "\n",
    "# <span style=\"color:brown\"> 2.6: Cursorafbeelding</span>\n",
    "\n",
    "Het is mogelijk om zelf te bepalen welke afbeelding de muiscursor krijgt. Dit kun je instellen met de CSS-eigenschap cursor. Er zijn verschillende waarden, zie onderstaande tabel:<br>\n",
    "\n",
    "\n",
    "&nbsp;<img src=\"img/2.6_cursorafbeelding.png\" border=\"1\">\n",
    "\n",
    "\n",
    "In het onderstaande voorbeeld is de muis-cursor bij het aanwijzen van een link aangepast naar een pijltje met een vraagteken ernaast. Ook is met none aangegeven dat de link niet onderstreept wordt als je erboven zweeft (handig als je een knopje in een menu wilt maken).\n",
    "\n",
    "Links zie je de <b>CSS</b>-code, rechts hoe het in de browser eruit ziet:\n",
    "<div style=\"display:flex\">\n",
    "\n",
    "```\n",
    "a:hover {\n",
    "    color: darkblue;\n",
    "    text-decoration: none;\n",
    "    cursor: help;\n",
    "}\n",
    "```\n",
    "&nbsp;<img src=\"img/2.6_cursorafbeelding_voorbeeld.png\" border=\"1\" width=\"400\">\n",
    "\n",
    "</div>\n"
   ]
  },
  {
   "cell_type": "markdown",
   "metadata": {},
   "source": [
    "### <span style=\"color:green\">Opdracht 2.5: Cursorafbeelding aanpassen</span>\n",
    "\n",
    "a) Kies een eigen cursorafbeelding voor de muiscursor als je boven de link zweeft.\n",
    "\n",
    "b) Test je werk.\n"
   ]
  },
  {
   "cell_type": "markdown",
   "metadata": {},
   "source": [
    "<hr>\n",
    "\n",
    "# <span style=\"color:brown\"> 2.7: Opmaak van Tabellen</span>\n",
    "\n",
    "In paragraaf <i>1.13: Tabellen</i> heb je een eenvoudige tabel gemaakt. Met CSS-code kun je een tabel verder opmaken, door bijvoorbeeld andere lijn-typen te kiezen of dikkere randen.\n",
    " \n",
    "De CSS-eigenschap border kun je drie waarden meegeven, namelijk:\n",
    "\n",
    "- de dikte van de rand (in px);\n",
    "\n",
    "- het type van de rand (doorgetrokken, getippeld, e.d.);\n",
    "\n",
    "- de kleur van de rand.\n",
    " \n",
    "We bekijken de mogelijkheden aan de hand van een simpel voorbeeld:\n",
    "<hr>\n",
    "<b>Een voorbeeld:</b>\n",
    "\n",
    "&nbsp;<img src=\"img/2.7_tabellenCSS.png\" border=\"1\">\n",
    "\n",
    "Met de bijbehorende HTML-code:\n",
    "\n"
   ]
  },
  {
   "cell_type": "code",
   "execution_count": null,
   "metadata": {
    "vscode": {
     "languageId": "html"
    }
   },
   "outputs": [],
   "source": [
    "<table>\n",
    "\t<tr>\n",
    "\t\t<th>Kop 1</th>\n",
    "\t\t<th>Kop 2</th>\n",
    "\t\t<th>Kop 3</th>\n",
    "\t</tr>\n",
    "\t<tr>\n",
    "\t\t<td>Cel 1</td>\n",
    "\t\t<td>Cel 2</td>\n",
    "\t\t<td>Cel 3</td>\n",
    "\t</tr>\n",
    "\t<tr>\n",
    "\t\t<td>Cel 4</td>\n",
    "\t\t<td>Cel 5</td>\n",
    "\t\t<td>Cel 6</td>\n",
    "\t</tr>\n",
    "</table>\n"
   ]
  },
  {
   "cell_type": "markdown",
   "metadata": {},
   "source": [
    "<hr>\n",
    "\n",
    "De CSS-code in het volgende voorbeeld geeft de tabel een doorgetrokken, zwarte rand met een dikte van 1 pixel.\n",
    "\n",
    "\n",
    "<hr>\n",
    "<b>Een voorbeeld:</b><br>\n",
    "<b>HTML</b>-code:"
   ]
  },
  {
   "cell_type": "code",
   "execution_count": null,
   "metadata": {
    "vscode": {
     "languageId": "html"
    }
   },
   "outputs": [],
   "source": [
    "<table>\n",
    "\t<tr>\n",
    "\t\t<th>Kop 1</th>\n",
    "\t\t<th>Kop 2</th>\n",
    "\t\t<th>Kop 3</th>\n",
    "\t</tr>\n",
    "\t<tr>\n",
    "\t\t<td>Cel 1</td>\n",
    "\t\t<td>Cel 2</td>\n",
    "\t\t<td>Cel 3</td>\n",
    "\t</tr>\n",
    "\t<tr>\n",
    "\t\t<td>Cel 4</td>\n",
    "\t\t<td>Cel 5</td>\n",
    "\t\t<td>Cel 6</td>\n",
    "\t</tr>\n",
    "</table>"
   ]
  },
  {
   "cell_type": "markdown",
   "metadata": {},
   "source": [
    "<b>CSS</b>-code:\n",
    "```\n",
    "table {\n",
    "    border: 1px solid black;\n",
    "}\n",
    "```"
   ]
  },
  {
   "cell_type": "markdown",
   "metadata": {},
   "source": [
    "Weergave in de browser:<br>\n",
    "&nbsp;<img src=\"img/2.7_tabellenCSS_metBorder.png\">\n",
    "\n",
    "<hr>\n"
   ]
  },
  {
   "cell_type": "markdown",
   "metadata": {},
   "source": [
    "Je kunt verschillende eigenschappen toewijzen, waarbij je kiest of het om de cellen of de tabel als geheel gaat, bijvoorbeeld:\n",
    "\n",
    "- Breedte: Automatisch kiest de webbrowser een breedte die afhankelijk is van de inhoud van de cel. Met width kun je zelf de breedte van een tabel of cel opgeven. Dat kan in pixels (px) of in procenten (%).\n",
    "\n",
    "- Lijn-typen: Er zijn, naast een doorgetrokken rand, nog meer lijn-typen voor de rand:<br>\n",
    "\n",
    "&ensp;&ensp;<img src=\"img/2.7_tabel_borders.png\" border=\"1\">\n",
    "\n",
    "\n",
    "\n",
    "- Kleuren: De waarden voor de kleur van de rand van de tabel zijn hetzelfde als van de CSS-eigenschap color, namelijk een keyword, een RGB-waarde of een hexadecimale waarde.\n",
    "\n",
    "<hr>\n",
    "<b>Een voorbeeld:</b><br>\n",
    "<b>HTML<b>-code:"
   ]
  },
  {
   "cell_type": "code",
   "execution_count": null,
   "metadata": {
    "vscode": {
     "languageId": "html"
    }
   },
   "outputs": [],
   "source": [
    "<table>\n",
    "\t<tr>\n",
    "\t\t<th>Kop 1</th>\n",
    "\t\t<th>Kop 2</th>\n",
    "\t\t<th>Kop 3</th>\n",
    "\t</tr>\n",
    "\t<tr>\n",
    "\t\t<td>Cel 1</td>\n",
    "\t\t<td>Cel 2</td>\n",
    "\t\t<td>Cel 3</td>\n",
    "\t</tr>\n",
    "\t<tr>\n",
    "\t\t<td>Cel 4</td>\n",
    "\t\t<td>Cel 5</td>\n",
    "\t\t<td>Cel 6</td>\n",
    "\t</tr>\n",
    "</table>"
   ]
  },
  {
   "cell_type": "markdown",
   "metadata": {},
   "source": [
    "<b>CSS</b>-code:<br>\n",
    "\n",
    "```\n",
    "table {\n",
    "    border: 1px solid black;\n",
    "    width: 300px;\n",
    "}\n",
    "\n",
    "td {\n",
    "    border: 0.5px dotted;\n",
    "    color: #AB34CD;\n",
    "}\n",
    "```"
   ]
  },
  {
   "cell_type": "markdown",
   "metadata": {},
   "source": [
    "Weergave in de browser:<br>\n",
    "\n",
    "&nbsp;<img src=\"img/2.7_tabellenCSS_metBorderPaars.png\" border=\"1\">\n",
    "\n",
    "<hr>\n"
   ]
  },
  {
   "cell_type": "markdown",
   "metadata": {},
   "source": [
    "### <span style=\"color:green\">Opdracht 2.6: Tabel opmaken</span>\n",
    "\n",
    "a) Ga verder met je code in <i>index.html</i> en <i>style.css</i>. Als het goed is heb je in je index.html een tabel staan. Zo niet, kijk dan bij de uitwerkingen van opdracht 2.8 en neem de tabel over.\n",
    "        \n",
    "b) Pas je style.css aan zodat je het volgende resultaat krijgt:\n",
    "\n",
    "&nbsp;<img src=\"img/Opdracht2_6_tabelopmaken.png\" border=\"1\">              \n",
    "      \n",
    "- de tabel heeft een dun blauwe stippellijntje;\n",
    "- achtergrond kleur is geel;\n",
    "- de cellen hebben een groene omlijning van 0,5px;\n",
    "- de breedte van de cellen zijn 100px.\n",
    "                \n",
    "  \n",
    "c) Sla je code op en test je code.\n",
    "\n",
    "\n",
    "d) Als je code werkt, doe een commit.\n",
    "\n"
   ]
  },
  {
   "cell_type": "markdown",
   "metadata": {},
   "source": [
    "<hr>\n",
    "\n",
    "# <span style=\"color:brown\">2.8 Classes: opmaak alleen voor bepaalde elementen</span>\n",
    "\n",
    "\n",
    "Soms wil je dat een opmaak *niet voor alle* elementen geldt, maar alleen een specieke element. Bijvoorbeeld: sommige tabellen wil je groen, anderen wil je geel. Dat los je op met <i>classes</i>. Dat pak je zo aan:\n",
    "\n",
    "- in je HTML-bestand geef je een class-naam aan een element; \n",
    "\n",
    "- in je CSS-bestand geef je de stijl-eigenschappen voor die specifieke klasse aan.\n",
    "\n",
    "Geef je in je HTML geen class aan, dat gelden de standaard eigenschappen.\n",
    "<hr>\n",
    "<b>Een voorbeeld:</b><br>\n",
    "<b>HTML</b>-bestand:"
   ]
  },
  {
   "cell_type": "code",
   "execution_count": null,
   "metadata": {
    "vscode": {
     "languageId": "html"
    }
   },
   "outputs": [],
   "source": [
    "<h2>Oventemperatuur</h2>\n",
    "\n",
    "<h2 class=\"gerecht_foto\">Foto</h2>\n",
    "\n",
    "<h2 class=\"gerecht_info\">Ingredienten</h2>\n",
    "                \n",
    "<h2 class=\"gerecht_info\">Bereidingswijze</h2>"
   ]
  },
  {
   "cell_type": "markdown",
   "metadata": {},
   "source": [
    "<b>CSS</b>-bestand:\n",
    "\n",
    "```\n",
    "h2 { \n",
    "  color: purple; \n",
    "}\n",
    "\n",
    "h2.gerecht_foto{\n",
    "  color: blue;\n",
    "}\n",
    "\n",
    "h2.gerecht_info{\n",
    "  color: green;\n",
    "}\n",
    "```\n",
    "\n",
    "Uitvoer in de browser:\n",
    "\n",
    "&nbsp;<img src=\"img/2.8_classes_voorbeeld1.png\" border=\"1\" height=\"50\">\n",
    "\n",
    "\n",
    "&nbsp;<img src=\"img/2.8_classes_voorbeeld2.png\" border=\"1\" height=\"150\">\n",
    "\n",
    "<hr>\n",
    "Een class mag vaker voorkomen, op een pagina, maar ook op meerdere pagina's.\n",
    "Wil je toch rood in plaats van paars, dan hoef je het maar op 1 plek aan te passen en gaat het overal goed.\n",
    "\n",
    "Kijk hier voor een voorbeeld: <a href=\"https://codepen.io/jurjenh/pen/pozGMRG\">Voorbeeld classes</a>.\n"
   ]
  },
  {
   "cell_type": "markdown",
   "metadata": {},
   "source": [
    "### <span style=\"color:green\">Opdracht 2.7: Classes en meerdere pagina's</span> \n",
    "\n",
    "\n",
    "a) Pas je style.css en appeltaart.html aan met `class=\"gerecht_foto\"` en  `class=\"gerecht_info\"` zoals in het voorbeeld hierboven.\n",
    "\n",
    "b) Sla je code op check dat de kleuren van `<h2>` hetzelfde zijn als in het voorbeeld.\n",
    "\n",
    "c) Pas de kleur van `class=\"gerecht_foto\"` aan.\n",
    "\n",
    "\n",
    "d) Sla je code op en check dat twee teksten nu van kleur zijn veranderd. \n"
   ]
  },
  {
   "cell_type": "markdown",
   "metadata": {},
   "source": [
    "<hr>\n",
    "\n",
    "# <span style=\"color:brown\"> 2.9: Voorbeeld code - goed vs. niet goed</span>\n",
    "\n",
    "\n",
    "&nbsp;<img src=\"img/2.9_voorbeelden_GoedVsNietGoedCSS1.png\" border=\"1\" alt=\"voorbeelden goed vs niet goed ingesprongen\">\n",
    "<img src=\"img/2.9_voorbeelden_GoedVsNietGoedCSS2.png\" border=\"1\" alt=\"voorbeelden goed vs niet goed ingesprongen\">\n",
    "<img src=\"img/2.9_voorbeelden_GoedVsNietGoedCSS3.png\" border=\"1\" alt=\"voorbeelden goed vs niet goed ingesprongen\">\n",
    "<img src=\"img/2.9_voorbeelden_GoedVsNietGoedCSS4.png\" border=\"1\" alt=\"voorbeelden goed vs niet goed ingesprongen\">\n"
   ]
  },
  {
   "cell_type": "markdown",
   "metadata": {},
   "source": [
    "<hr>\n",
    "\n",
    "# <span style=\"color:brown\">2.10 (optioneel): Extra verdieping</span>\n",
    "\n",
    "\n",
    "Wil je iets voor elkaar krijgen dat nog niet is uitgelegd? Kijk bij de volgende bronnen:\n",
    "\n",
    "- https://www.w3schools.com/\n",
    "\n",
    "- <a href=\"https://mcng-my.sharepoint.com/:b:/g/personal/weer_adm_montessoricollege_nl/EYq4ZNs4QMxHsiXCTHvlbhMB6cA8wHrFU_SLOt2VXw9tSw?e=1qxwGW\">HTML_CSS_lesmateriaal.pdf</a>"
   ]
  }
 ],
 "metadata": {
  "language_info": {
   "name": "python"
  }
 },
 "nbformat": 4,
 "nbformat_minor": 2
}
