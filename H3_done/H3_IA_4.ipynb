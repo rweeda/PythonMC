{
 "cells": [
  {
   "cell_type": "markdown",
   "metadata": {},
   "source": [
    "## 4: Constanten\n",
    "\n",
    "<p><i>Constanten</i> zijn waarden die gedurende een\n",
    "    programma niet veranderen, zoals de minimumleeftijd om een\n",
    "    bepaalde achtbaan in te mogen. Om duidelijk aan te geven dat je de waarde\n",
    "    niet zomaar mag veranderen, geven we dit soort variabelen aan in\n",
    "    HOOFDLETTERS.</p>\n",
    "\n",
    "<p>Andere voorbeelden zijn: <code>PI</code>, <code>MINIMUMLOON</code>, <code>PENSIOENLEEFTIJD</code>.</p>\n",
    "\n",
    "<p>Constanten geef je bovenaan in je code een waarde. In je code gebruik je ze\n",
    "    net als andere variabelen.</p>"
   ]
  },
  {
   "cell_type": "code",
   "execution_count": null,
   "metadata": {},
   "outputs": [],
   "source": [
    "PI = 3.14\n",
    "\n",
    "diameter = 2\n",
    "omtrek_cirkel =  diameter * PI\n",
    "\n",
    "print(omtrek_cirkel)"
   ]
  }
 ],
 "metadata": {
  "kernelspec": {
   "display_name": "Python 3",
   "language": "python",
   "name": "python3"
  },
  "language_info": {
   "name": "python",
   "version": "3.12.2"
  }
 },
 "nbformat": 4,
 "nbformat_minor": 2
}
