{
 "cells": [
  {
   "cell_type": "markdown",
   "metadata": {},
   "source": [
    "## 8: Standaardfuncties\n",
    "\n",
    "[![Watch the video](https://img.youtube.com/vi/-TYxqlmCSsw/hqdefault.jpg)](https://www.youtube.com/embed/-TYxqlmCSsw)\n",
    "\n",
    "<p>Python heeft een paar handige standaardfuncties:</p>\n",
    "<p><b>De grootste: max()</b></p>\n",
    "<p>Met <code>max()</code> krijg je het grootste van een aantal getallen:</p>"
   ]
  },
  {
   "cell_type": "code",
   "execution_count": null,
   "metadata": {},
   "outputs": [],
   "source": [
    "grootste = max( 3, 5, 4 )\n",
    "print(grootste)"
   ]
  },
  {
   "cell_type": "markdown",
   "metadata": {},
   "source": [
    "<p><b>De kleinste: min()</b></p>\n",
    "<p>Met <code>min()</code> krijg je het kleinste van een aantal getallen:</p>"
   ]
  },
  {
   "cell_type": "code",
   "execution_count": null,
   "metadata": {},
   "outputs": [],
   "source": [
    "kleinste = min( 3, 5, 4 )\n",
    "print(kleinste)"
   ]
  },
  {
   "cell_type": "markdown",
   "metadata": {},
   "source": [
    "<p><b>De macht: pow()</b></p>\n",
    "<p>Met <code>pow()</code> bereken je een getal (de eerste parameter) tot de macht van een ander getal (de tweede parameter):</p>\n"
   ]
  },
  {
   "cell_type": "code",
   "execution_count": null,
   "metadata": {},
   "outputs": [],
   "source": [
    "macht = pow(2,4) #2 tot de macht 4\n",
    "print( macht )"
   ]
  },
  {
   "cell_type": "markdown",
   "metadata": {},
   "source": [
    "<p><b>Afronden: round()</b></p>\n",
    "<p>Met <code>round()</code> rond je een getal af. Tussen de haakjes geef je eerst het getal en daarna op hoeveel cijfers achter de komma je het wilt afronden:</p>\n"
   ]
  },
  {
   "cell_type": "code",
   "execution_count": null,
   "metadata": {},
   "outputs": [],
   "source": [
    "afgerond = round(3.14342, 2)  #afronden op 2 cijfers achter de komma\n",
    "print( afgerond )"
   ]
  },
  {
   "cell_type": "markdown",
   "metadata": {},
   "source": [
    "<p><b>Positief getal maken: abs()</b></p>\n",
    "<p>Met <code>abs()</code> maak je van elk getal een positief getal.</p>\n"
   ]
  },
  {
   "cell_type": "code",
   "execution_count": null,
   "metadata": {},
   "outputs": [],
   "source": [
    "positief = abs( -4.3 )\n",
    "print(positief)"
   ]
  },
  {
   "cell_type": "markdown",
   "metadata": {},
   "source": [
    "<p><b>Lengte bepalen: len()</b></p>\n",
    "<p>Met <code>len()</code> bepaal je uit hoeveel elementen (of tekens) iets bestaat.</p>\n"
   ]
  },
  {
   "cell_type": "code",
   "execution_count": null,
   "metadata": {},
   "outputs": [],
   "source": [
    "telefoonnr_lengte = len( \"0612345678\" )\n",
    "print( telefoonnr_lengte )"
   ]
  },
  {
   "cell_type": "markdown",
   "metadata": {},
   "source": [
    "### Opdracht 3.11: Berekeningen\n",
    "\n",
    "<p>Bekijk de code hieronder en bedenk wat er op het scherm geprint wordt. Voer daarna de code uit en controleer of je gelijk hebt.</p>\n"
   ]
  },
  {
   "cell_type": "code",
   "execution_count": null,
   "metadata": {
    "tags": [
     "Opdracht"
    ]
   },
   "outputs": [],
   "source": [
    "x = -2\n",
    "y = 3\n",
    "z = 1.27\n",
    "\n",
    "print( abs( x ) )\n",
    "print( max( x, y, z ) )\n",
    "print( min( x, y, z ) )\n",
    "print( pow( x, y ) )\n",
    "print( round( z, 1 ) )"
   ]
  },
  {
   "cell_type": "markdown",
   "metadata": {},
   "source": [
    "<p>Bekijk <a href=\"Https://course.cs.ru.nl/pythonVO/Teams/IA_uitwerkingen/IA_H3_oplossingen.html#opgave351\" target=\"_blank\">hier</a> de voorbeelduitwerking.</p>\n"
   ]
  },
  {
   "cell_type": "markdown",
   "metadata": {},
   "source": [
    "### Opdracht 3.12: Hoeveel kost een Mars\n",
    "\n",
    "<p>Een verpakking met drie Mars-repen kost 2,00 Euro. Bepaal hoeveel een Mars kost. Rond je antwoord af op hele centen, dus twee cijfers achter de komma. Druk de prijs van een Mars af.</p>\n"
   ]
  },
  {
   "cell_type": "code",
   "execution_count": null,
   "metadata": {
    "tags": [
     "Opdracht"
    ]
   },
   "outputs": [],
   "source": []
  },
  {
   "cell_type": "markdown",
   "metadata": {},
   "source": [
    "<p>Bekijk <a href=\"Https://course.cs.ru.nl/pythonVO/Teams/IA_uitwerkingen/IA_H3_oplossingen.html#opgave353\" target=\"_blank\">hier</a> de voorbeelduitwerking.</p>\n"
   ]
  },
  {
   "cell_type": "markdown",
   "metadata": {},
   "source": [
    "### Opdracht 3.13: Hoogste temperatuur\n",
    "\n",
    "<p>Voeg hieronder een regel code toe zodat de hoogste temperatuur <code>hoogste_temp</code> bepaald wordt.</p>\n"
   ]
  },
  {
   "cell_type": "code",
   "execution_count": null,
   "metadata": {
    "tags": [
     "Opdracht"
    ]
   },
   "outputs": [],
   "source": [
    "temp_gisteren = 23\n",
    "temp_vandaag = 28\n",
    "#voeg hier een regel code toe\n",
    "\n",
    "print( \"De hoogste temperatuur is:\", hoogste_temp )"
   ]
  },
  {
   "cell_type": "markdown",
   "metadata": {},
   "source": [
    "<p>Bekijk <a href=\"Https://course.cs.ru.nl/pythonVO/Teams/IA_uitwerkingen/IA_H3_oplossingen.html#opgave352\" target=\"_blank\">hier</a> de voorbeelduitwerking.</p>\n"
   ]
  },
  {
   "cell_type": "markdown",
   "metadata": {},
   "source": [
    "### Opdracht 3.14: Controle ingevoerde gebruikersnaam\n",
    "\n",
    "<p>Om sommige spelletjes te spelen moet je je naam opgeven. We willen weten of iemand wel echt iets invult of alleen maar een willekeurige letter. Vraag de gebruiker om zijn gebruikersnaam. Druk dan af uit hoeveel tekens de opgegeven naam bestaat.</p>\n"
   ]
  },
  {
   "cell_type": "code",
   "execution_count": null,
   "metadata": {
    "tags": [
     "Opdracht"
    ]
   },
   "outputs": [],
   "source": []
  },
  {
   "cell_type": "markdown",
   "metadata": {},
   "source": [
    "<p>Bekijk <a href=\"https://course.cs.ru.nl/pythonVO/Teams/IA_uitwerkingen/IA_H3_oplossingen.html#opgave354\" target=\"_blank\">hier</a> de voorbeelduitwerking.</p>\n"
   ]
  }
 ],
 "metadata": {
  "kernelspec": {
   "display_name": "Python 3",
   "language": "python",
   "name": "python3"
  },
  "language_info": {
   "name": "python",
   "version": "3.12.2"
  }
 },
 "nbformat": 4,
 "nbformat_minor": 2
}
