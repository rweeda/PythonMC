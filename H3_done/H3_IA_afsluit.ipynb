{
 "cells": [
  {
   "cell_type": "markdown",
   "metadata": {},
   "source": [
    "## H3: Afsluitende Opgaven\n",
    "\n",
    "<p>Met de volgende afsluitende opdrachten kun je kijken hoe goed je de stof beheerst. Controleer steeds je eigen oplossing met de voorbeeldoplossing.</p>\n"
   ]
  },
  {
   "cell_type": "markdown",
   "metadata": {},
   "source": [
    "### Afsluitende opdracht 3.1: Gemiddelde berekenen\n",
    "\n",
    "<p>Schrijf een programma dat de gebruiker om drie getallen vraagt, het gemiddelde van die drie getallen berekent, en daarna afdrukt: \"Het gemiddelde is...\". Er is al een begin voor je gemaakt.</p>\n"
   ]
  },
  {
   "cell_type": "code",
   "execution_count": null,
   "metadata": {
    "tags": [
     "Opdracht"
    ]
   },
   "outputs": [],
   "source": [
    "print( \"Geef een getal:\" )\n",
    "invoer = input()\n",
    "getal1 = int(invoer)"
   ]
  },
  {
   "cell_type": "markdown",
   "metadata": {},
   "source": [
    "<p>Bekijk <a href=\"Https://course.cs.ru.nl/pythonVO/Teams/IA_uitwerkingen/IA_H3_oplossingen.html#AfOpgave31\" target=\"_blank\">hier</a> de voorbeelduitwerking.</p>\n"
   ]
  },
  {
   "cell_type": "markdown",
   "metadata": {},
   "source": [
    "### Afsluitende opdracht 3.2: Temperatuur\n",
    "\n",
    "<p>Je hebt een penvriend in Amerika. Hij schrijft dat het bij hem 90 graden is! Stomverbaasd hoe het zo warm kan zijn, vraag je hulp aan het internet. Je komt erachter dat hij praat over temperatuur in Fahrenheit, terwijl jij dacht aan graden Celsius. Om goed met elkaar te kunnen praten over het weer, besluit jij een programma te maken dat Fahrenheit in Celsius kan omzetten. Hier zijn de formules voor het omrekenen:<br></p>\n",
    "\n",
    "<p><code>Celsius = (Fahrenheit - 32) * 5/9</code></p>\n",
    "\n",
    "<p>Schrijf een programma dat een temperatuur in Fahrenheit omrekent naar Celsius. Rond af op 1 decimaal.</p>\n",
    "<p>Druk dit netjes af met een volzin, zoals:</p>\n",
    "<p><i>90 graden Fahrenheit is 32.2 graden Celsius.</i></p>\n"
   ]
  },
  {
   "cell_type": "code",
   "execution_count": null,
   "metadata": {
    "tags": [
     "Opdracht"
    ]
   },
   "outputs": [],
   "source": []
  },
  {
   "cell_type": "markdown",
   "metadata": {},
   "source": [
    "<p>Bekijk <a href=\"Https://course.cs.ru.nl/pythonVO/Teams/IA_uitwerkingen/IA_H3_oplossingen.html#AfOpgave32\" target=\"_blank\">hier</a> de voorbeelduitwerking.</p>\n"
   ]
  },
  {
   "cell_type": "markdown",
   "metadata": {},
   "source": [
    "### Afsluitende opdracht 3.3: Verwisseltruc\n",
    "\n",
    "<p>Kun je een manier bedenken om de inhoud van twee variabelen om te wisselen? Je mag een derde hulpvariabele gebruiken.</p>\n"
   ]
  },
  {
   "cell_type": "code",
   "execution_count": null,
   "metadata": {
    "tags": [
     "Opdracht"
    ]
   },
   "outputs": [],
   "source": [
    "beker1 = \"cola\"\n",
    "beker2 = \"sinas\"\n",
    "\n",
    "\n",
    "print(\"nu heeft beker1:\", beker1, \"en beker2:\", beker2)"
   ]
  },
  {
   "cell_type": "markdown",
   "metadata": {},
   "source": [
    "<p>Bekijk <a href=\"Https://course.cs.ru.nl/pythonVO/Teams/IA_uitwerkingen/IA_H3_oplossingen.html#AfOpgave33\" target=\"_blank\">hier</a> de voorbeelduitwerking.</p>\n"
   ]
  },
  {
   "cell_type": "markdown",
   "metadata": {},
   "source": [
    "### Afsluitende opdracht 3.4: Zielenknijper\n",
    "\n",
    "</p>\n",
    "<p>Schrijf een programma waarin je een gesprekje met een gebruiker kunt voeren. Het programma moet interactief zijn en minstens vijf vragen bevatten.\n",
    "    Een voorbeeld van hoe zo'n gesprekje eruit kan zien:</p>\n",
    "<p>    \n",
    "    <i>\n",
    "        \"Hallo, ik ben dr. Zielenknijper. Welkom. Mag ik je naam weten?\"<br>\n",
    "    </i>\n",
    "    <i>\n",
    "        \"Dag, ... \"<br>\n",
    "    </i>\n",
    "    <i>\n",
    "        \"Hoe oud ben jij?\"<br>\n",
    "    </i>\n",
    "    <i>\n",
    "        \"Je bent al ... jaar oud.\"<br>\n",
    "    </i>\n",
    "    <i>\n",
    "        \"Waar wil je met mij over praten?\"<br>\n",
    "    <i>\n",
    "        \"Zo, wil je me vertellen wat je boeit aan ...\"<br>\n",
    "    </i>\n",
    "    <i>\n",
    "        \"Hmm, vertel verder\"<br>\n",
    "    </i>\n",
    "        ... enzovoorts\n",
    "</p>"
   ]
  },
  {
   "cell_type": "code",
   "execution_count": null,
   "metadata": {
    "tags": [
     "Opdracht"
    ]
   },
   "outputs": [],
   "source": []
  },
  {
   "cell_type": "markdown",
   "metadata": {},
   "source": [
    "<p>Bekijk <a href=\"Https://course.cs.ru.nl/pythonVO/Teams/IA_uitwerkingen/IA_H3_oplossingen.html#AfOpgave34\" target=\"_blank\">hier</a> de voorbeelduitwerking.</p>\n"
   ]
  },
  {
   "cell_type": "markdown",
   "metadata": {},
   "source": [
    "### Afsluitende opdracht 3.5: Kortingsrad\n",
    "\n",
    "<p>Bij een online winkel mag je draaien aan een rad om te bepalen hoeveel korting je krijgt.</p>\n",
    "\n",
    "<p>Schrijf een programma dat de gebruiker om zijn aankoopbedrag vraagt, dan een willekeurige korting tussen de 0% en 25% bepaalt en het nieuwe bedrag print.</p>\n",
    "<p>Tips:\n",
    "</p>\n",
    "<ul>\n",
    "    <li>Gebruik <code>randomint</code> uit de module <code>random</code> om een willekeurig getal tussen de 0 en 25 te maken.\n",
    "    </li>\n",
    "    <li>Het bedrag met korting bereken je zo: <br><code>nieuw_bedrag = bedrag * (1 - kortingspercentage/100)</code>.\n",
    "    </li>\n",
    "    <li>Rond het nieuwe bedrag af op twee decimalen met <code>round()</code>.<p></p>\n",
    "    </li>\n",
    "</ul>\n",
    "<p></p>"
   ]
  },
  {
   "cell_type": "code",
   "execution_count": null,
   "metadata": {
    "tags": [
     "Opdracht"
    ]
   },
   "outputs": [],
   "source": []
  },
  {
   "cell_type": "markdown",
   "metadata": {},
   "source": [
    "<p>Bekijk <a href=\"Https://course.cs.ru.nl/pythonVO/Teams/IA_uitwerkingen/IA_H3_oplossingen.html#AfOpgave35\" target=\"_blank\">hier</a> de voorbeelduitwerking.</p>\n"
   ]
  },
  {
   "cell_type": "markdown",
   "metadata": {},
   "source": [
    "### Afsluitende opdracht 3.6: Bitcoins\n",
    "\n",
    "<p>Op 24 december 2020 was een bitcoin 19396,23 euro waard.</p>\n",
    "\n",
    "<p>Schrijf een programma dat berekent hoeveel bitcoins je met een bepaald bedrag kan kopen:\n",
    "</p>\n",
    "<ol>\n",
    "    <li> Gebruik een constante om de waarde van de bitcoin op te slaan. Denk aan hoofdletters.\n",
    "    </li>\n",
    "    <li> Vraag de gebruiker hoeveel euro die te besteden heeft en sla dit op in een variabele.\n",
    "    </li>\n",
    "    <li> Reken dit bedrag om naar bitcoins. Gebruik hiervoor de variabelen/constanten. Hint: gebruik <code>round()</code> om het resultaat af te ronden op twee cijfers achter de komma.\n",
    "    </li>\n",
    "    <li> Druk dit netjes af met een volzin, zoals: <i>Met 40000 euro kun je 2.06 bitcoins kopen.</i>\n",
    "    </li>\n",
    "    <li> Voeg ook commentaar toe.\n",
    "    </li>\n",
    "</ol>\n",
    "<p></p>"
   ]
  },
  {
   "cell_type": "code",
   "execution_count": null,
   "metadata": {
    "tags": [
     "Opdracht"
    ]
   },
   "outputs": [],
   "source": [
    "# 1 bitcoin 19396,23 euro waard"
   ]
  },
  {
   "cell_type": "markdown",
   "metadata": {},
   "source": [
    "<p>Bekijk <a href=\"Https://course.cs.ru.nl/pythonVO/Teams/IA_uitwerkingen/IA_H3_oplossingen.html#AfOpgave36\" target=\"_blank\">hier</a> de voorbeelduitwerking.</p>\n"
   ]
  }
 ],
 "metadata": {
  "kernelspec": {
   "display_name": "Python 3",
   "language": "python",
   "name": "python3"
  },
  "language_info": {
   "name": "python",
   "version": "3.12.2"
  }
 },
 "nbformat": 4,
 "nbformat_minor": 2
}
