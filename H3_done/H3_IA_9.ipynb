{
 "cells": [
  {
   "cell_type": "markdown",
   "metadata": {},
   "source": [
    "## 9: Random (willekeurige) getallen\n",
    "\n",
    "[![Watch the video](https://img.youtube.com/vi/kbqZGB4SONo/hqdefault.jpg)](https://www.youtube.com/embed/kbqZGB4SONo)\n",
    "\n",
    "<p>Een spelletje wordt pas leuk als het een beetje onvoorspelbaar wordt. Python heeft een <code>random</code> module waarmee je willekeurige getallen kan maken. Om deze module te gebruiken moet je <code>import random</code> bovenaan je code zetten en <code>random</code> voor de functie benoemen.</p>\n",
    "\n",
    "\n",
    "<p>De functie <code>randint()</code> geeft een willekeurige <code>int</code> (geheel getal) tussen de twee getallen die je tussen de haakjes meegeeft. De getallen die je meegeeft, doen ook mee.</p>\n"
   ]
  },
  {
   "cell_type": "code",
   "execution_count": null,
   "metadata": {},
   "outputs": [],
   "source": [
    "import random\n",
    "\n",
    "willekeurige_getal = random.randint( 2, 5 )\t\t# levert 2,3,4,5 met een gelijke kans op\n",
    "print( \"Een willekeurig getal tussen 2 en 5 is\", willekeurige_getal )"
   ]
  },
  {
   "cell_type": "markdown",
   "metadata": {},
   "source": [
    "<p>De functie <code>random()</code> geeft een willekeurige <code>float</code> (kommagetal) tussen 0 en 1 (waarbij 0.0 wel meedoet, maar 1.0 niet):</p>\n"
   ]
  },
  {
   "cell_type": "code",
   "execution_count": null,
   "metadata": {},
   "outputs": [],
   "source": [
    "import random\n",
    "\n",
    "willekeurige_kommagetal = random.random()\n",
    "print( willekeurige_kommagetal )"
   ]
  },
  {
   "cell_type": "markdown",
   "metadata": {},
   "source": [
    "### Opdracht 3.15: Dobbelsteen\n",
    "\n",
    "<p>Maak een dobbelsteen!</p>\n",
    "<p>Maak een variabele <code>dobbelsteen</code> en geef die een willekeurig getal tussen 1 en 6. Druk de variabele <code>dobbelsteen</code> af.</p>\n"
   ]
  },
  {
   "cell_type": "code",
   "execution_count": null,
   "metadata": {
    "tags": [
     "Opdracht"
    ]
   },
   "outputs": [],
   "source": [
    "import random\n",
    "\n",
    "\n",
    "\n",
    "\n",
    "\n",
    "\n",
    "\n"
   ]
  },
  {
   "cell_type": "markdown",
   "metadata": {},
   "source": [
    "<p>Bekijk <a href=\"Https://course.cs.ru.nl/pythonVO/Teams/IA_uitwerkingen/IA_H3_oplossingen.html#opgave361\" target=\"_blank\">hier</a> de voorbeelduitwerking.</p>\n"
   ]
  }
 ],
 "metadata": {
  "kernelspec": {
   "display_name": "Python 3",
   "language": "python",
   "name": "python3"
  },
  "language_info": {
   "name": "python",
   "version": "3.12.2"
  }
 },
 "nbformat": 4,
 "nbformat_minor": 2
}
