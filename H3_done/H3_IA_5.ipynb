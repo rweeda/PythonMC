{
 "cells": [
  {
   "cell_type": "markdown",
   "metadata": {},
   "source": [
    "## 5: Code traceren\n",
    "\n",
    "<p>Je kunt analyseren hoe een programma werkt door per regel bij te houden wat de waarden van de variabelen zijn. Dat heet <i>traceren</i>.</p>\n",
    "\n",
    "[![Watch the video](https://img.youtube.com/vi/U4V5ZFtudd8/hqdefault.jpg)](https://www.youtube.com/embed/U4V5ZFtudd8)\n",
    "\n",
    "<p>We geven een voorbeeld hiervan in de code hieronder:</p>\n"
   ]
  },
  {
   "cell_type": "code",
   "execution_count": null,
   "metadata": {},
   "outputs": [],
   "source": [
    "getal1 = 2\n",
    "print(\"getal1:\", getal1)\n",
    "getal2 = 3\n",
    "print(\"getal1:\", getal1, \"getal2:\", getal2)\n",
    "getal3 = getal1 * getal2\n",
    "print(\"getal1:\", getal1, \"getal2:\", getal2, \"getal3:\", getal3)"
   ]
  },
  {
   "cell_type": "markdown",
   "metadata": {},
   "source": [
    "<p>Bij de code hierboven hoort de volgende <i>tracetabel</i>:</p>\n",
    "<p>\n",
    "</p>\n",
    "<table border=\"1\">\n",
    "        <tr>\n",
    "            <th>Code</th>\n",
    "            <th colspan=\"3\">Waarde nadat de opdracht is uitgevoerd</th>\n",
    "        </tr>\n",
    "        <tr>\n",
    "            <td></td>\n",
    "            <td><code>getal1</code></td>\n",
    "            <td><code>getal2</code></td>\n",
    "            <td><code>getal3</code></td>\n",
    "        </tr>\n",
    "        <tr>\n",
    "            <td><code>getal1 = 2</code></td>\n",
    "            <td>2</td>\n",
    "            <td>-</td>\n",
    "            <td>-</td>\n",
    "        </tr>\n",
    "        <tr>\n",
    "            <td><code>getal2 = 3</code></td>\n",
    "            <td>2</td>\n",
    "            <td>3</td>\n",
    "            <td>-</td>\n",
    "        </tr>\n",
    "        <tr>\n",
    "            <td><code>getal3 = getal1 * getal2</code></td>\n",
    "            <td>2</td>\n",
    "            <td>3</td>\n",
    "            <td>6</td>\n",
    "        </tr>\n",
    "</table>\n",
    "<p></p>"
   ]
  },
  {
   "cell_type": "markdown",
   "metadata": {},
   "source": [
    "### Opdracht 3.5: Tracetabel\n",
    "\n",
    "<p>Bepaal, met behulp van een tracetabel, wat de waarden van de drie variabelen zijn na afloop van het volgende programma.</p>\n",
    "\n",
    "<p>Tip: met <code>print</code> kun je tussendoor de variabelen afdrukken om te kijken of je het goed hebt.</p>"
   ]
  },
  {
   "cell_type": "code",
   "execution_count": null,
   "metadata": {
    "tags": [
     "Opdracht"
    ]
   },
   "outputs": [],
   "source": [
    "getal1 = 2\n",
    "getal2 = 3\n",
    "getal3 = getal1 * getal2\n",
    "getal2 = getal3 - getal1\n",
    "getal1 = getal1 + getal2 + getal3\n",
    "getal3 = getal2 * getal1"
   ]
  },
  {
   "cell_type": "markdown",
   "metadata": {},
   "source": [
    "<p>Bekijk <a href=\"Https://course.cs.ru.nl/pythonVO/Teams/IA_uitwerkingen/IA_H3_oplossingen.html#opgave321\" target=\"_blank\">hier</a> de voorbeelduitwerking.</p>\n"
   ]
  }
 ],
 "metadata": {
  "kernelspec": {
   "display_name": "Python 3",
   "language": "python",
   "name": "python3"
  },
  "language_info": {
   "name": "python",
   "version": "3.12.2"
  }
 },
 "nbformat": 4,
 "nbformat_minor": 2
}
