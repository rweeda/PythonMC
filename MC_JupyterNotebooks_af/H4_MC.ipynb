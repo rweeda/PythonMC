{
 "cells": [
  {
   "cell_type": "markdown",
   "metadata": {},
   "source": [
    "# Onderdeel 4 - Keuzes\n",
    "\n",
    "<p>Met een <i>Als..dan..anders...</i> kun je keuzes aangeven en bepalen onder welke voorwaarde code wordt uitgevoerd. In dit hoofdstuk leren we hoe dat in Python werkt.</p>\n",
    "\n",
    "In dit onderwerp:\n",
    "\n",
    "<ul>\n",
    "    <li> leer je vergelijkingen opstellen met de volgende operatoren: <code>&lt;, &lt;=, ==, &gt;, &gt;=, !=</code>;\n",
    "    </li>\n",
    "    <li> leer je hoe je de Boolean waarde <code>True</code> en <code>False</code> kunt gebruiken in een vergelijking;\n",
    "    </li>\n",
    "    <li> leer je <code>=</code> gebruiken om een waarde aan een variabele <i>toe te kennen</i> en <code>==</code> om de waarde van een variabele te <i>controleren</i>;\n",
    "    </li>\n",
    "    <li> leer je met <code>in</code> controleren of een letter in een string voorkomt;\n",
    "    </li>\n",
    "    <li> leer je keuzes omschrijven met de constructies: <code>if</code>, <code>if-else</code> en <code>if-elif-else</code>;\n",
    "    </li>\n",
    "    <li> leer je een stroomdiagram van een algoritme met keuzes omzetten in code, en andersom;\n",
    "    </li>\n",
    "    <li> leer je condities combineren met <code>and</code>, <code>or</code> en <code>not</code>;\n",
    "    </li>\n",
    "    <li>leer je uitgebreidere condities maken door keuzeconstructies te nesten of condities te combineren;\n",
    "    </li>\n",
    "    <li>leer je hoe je met inspringen aangeeft welke code bij een constructie hoort.\n",
    "    </li>\n",
    "</ul>\n",
    "<div class=\"fa fa-clock-o fa-3x\"></div><br>Verwerkingstijd: <b>2 uur</b>"
   ]
  },
  {
   "cell_type": "markdown",
   "metadata": {},
   "source": [
    "## 1: Vergelijken van waarden\n",
    "\n",
    "[![Watch the video](https://img.youtube.com/vi/8cJS9KeFX2E/hqdefault.jpg)](https://www.youtube.com/embed/8cJS9KeFX2E)\n",
    "\n",
    "<p>Je kunt twee dingen met elkaar vergelijken. Een vergelijking bestaat uit twee waarden met een vergelijkingsoperator ertussen. Vergelijkingsoperatoren zijn:</p>\n",
    "<p>\n",
    "</p>\n",
    "<table border=\"1\" padding=\"1\">\n",
    "    <tbody>\n",
    "        <tr>\n",
    "            <td><code>==</code></td>\n",
    "            <td>is gelijk aan</td>\n",
    "        </tr>\n",
    "        <tr>\n",
    "            <td><code>!=</code></td>\n",
    "            <td>is niet gelijk aan</td>\n",
    "        </tr>\n",
    "        <tr>\n",
    "            <td><code>&lt;</code></td>\n",
    "            <td>is kleiner dan</td>\n",
    "        </tr>\n",
    "        <tr>\n",
    "            <td><code>&gt;</code></td>\n",
    "            <td>is groter dan</td>\n",
    "        </tr>\n",
    "        <tr>\n",
    "            <td><code>&lt;=</code></td>\n",
    "            <td>is kleiner dan of gelijk aan</td>\n",
    "        </tr>\n",
    "        <tr>\n",
    "            <td><code>&gt;=</code></td>\n",
    "            <td>is groter dan of gelijk aan</td>\n",
    "        </tr>\n",
    "    </tbody>\n",
    "</table>\n",
    "<p></p>\n",
    "\n",
    "<p>Uit een vergelijking kan <code>True</code> of <code>False</code> komen. Het datatype van\n",
    "    <code>True</code> en <code>False</code> heet <code>bool</code> (verkort voor Boolean).\n",
    "</p>\n",
    "\n",
    "\n",
    "<p>Run de onderstaande code met voorbeelden van vergelijkingen:</p>"
   ]
  },
  {
   "cell_type": "code",
   "execution_count": null,
   "metadata": {},
   "outputs": [],
   "source": [
    "print( \"2 < 5 is\", 2 < 5 )\n",
    "print( \"2 <= 5 is\", 2 <= 5 )\n",
    "print( \"3 > 3 is\", 3 > 3 )\n",
    "print( \"3 >= 3 is\", 3 >= 3 )\n",
    "print( \"3 == 3.0 is\", 3 == 3.0 )\n",
    "print( \"3 == '3' is\", 3 == \"3\" )\n",
    "print( \"'hallo' == 'hallo' is \", \"hallo\" == \"hallo\" )\n",
    "print( \"'hallo' == 'hoi' is\", \"hallo\" == \"hoi\" )\n",
    "print( \"'Python' != 'rotzooi' is \", \"Python\" != \"rotzooi\" )"
   ]
  },
  {
   "cell_type": "markdown",
   "metadata": {},
   "source": [
    "### Opdracht 4.1: Vergelijkingsoperatoren\n",
    "<p>Zet in de code hieronder de juiste vergelijkingsoperatoren op de plek van de puntjes:</p>\n"
   ]
  },
  {
   "cell_type": "code",
   "execution_count": null,
   "metadata": {
    "tags": [
     "Opdracht"
    ]
   },
   "outputs": [],
   "source": [
    "#Code die test of 1/2 gelijk is aan, groter is dan, ... `0.5`\n",
    "print(\"1/2 is gelijk aan 0.5 is: \", 1/2 ... 0.5 )\n",
    "print(\"1/2 is groter dan 0.5 is: \", 1/2 ... 0.5 )\n",
    "print(\"1/2 is groter of gelijk aan 0.5 is: \", 1/2 ... 0.5 )\n",
    "print(\"1/2 is ongelijk aan 0.5 is: \", 1/2 ... 0.5 )\n",
    "print(\"1/2 is kleiner dan 0.5 is: \", 1/2 ... 0.5 )"
   ]
  },
  {
   "cell_type": "markdown",
   "metadata": {},
   "source": [
    "<p>Bekijk <a href=\"https://course.cs.ru.nl/pythonVO/Teams/IA_uitwerkingen/IA_H4_oplossingen.html#opgave411\" target=\"_blank\">hier</a> de voorbeelduitwerking.</p>\n"
   ]
  },
  {
   "cell_type": "markdown",
   "metadata": {},
   "source": [
    "### Opdracht 4.2: Foutmelding bij een vergelijking\n",
    "\n",
    "<p>De code hieronder geeft een fout. Lees de foutmelding en corrigeer de fout.</p>"
   ]
  },
  {
   "cell_type": "code",
   "execution_count": null,
   "metadata": {
    "tags": [
     "Opdracht"
    ]
   },
   "outputs": [],
   "source": [
    "print( 3 < '4' )"
   ]
  },
  {
   "cell_type": "markdown",
   "metadata": {},
   "source": [
    "<p>Bekijk <a href=\"https://course.cs.ru.nl/pythonVO/Teams/IA_uitwerkingen/IA_H4_oplossingen.html#opgave412\" target=\"_blank\">hier</a> de voorbeelduitwerking.</p>\n"
   ]
  },
  {
   "cell_type": "markdown",
   "metadata": {},
   "source": [
    "<p><b>Verschil tussen <code>=</code> en <code>==</code></b></p>\n",
    "\n",
    "<p>Een veelgemaakte fout is om twee waarden te vergelijken met één enkel <code>=</code>-teken.\n",
    "</p>\n",
    "<ul>\n",
    "    <li>Het enkele <code>=</code>-teken gebruik je om een waarde aan een variabele toe te kennen.</li>\n",
    "    <li>Het dubbele <code>==</code>-teken gebruik je om te controleren of twee waarden gelijk zijn aan elkaar.</li>\n",
    "</ul>\n",
    "<p></p>"
   ]
  },
  {
   "cell_type": "markdown",
   "metadata": {},
   "source": [
    "## 2: <code>in</code> operator\n",
    "\n",
    "<p>De <code>in</code> bepaalt of een teken of groepje tekens in een string voorkomt. Met <code>not in</code> kun je controleren of iets niet ergens anders in voorkomt. Beide operatoren kunnen ook gebruikt worden om te kijken of iets in een lijst voorkomt. Over lijsten leren we later meer.\n",
    "    Bijvoorbeeld:</p>"
   ]
  },
  {
   "cell_type": "code",
   "execution_count": null,
   "metadata": {},
   "outputs": [],
   "source": [
    "print( \"V\" in \"Voetbal\" )\n",
    "print( \"t\" in \"Voetbal\" )\n",
    "print( \"bal\" in \"Voetbal\" )\n",
    "print( \"r\" in \"Voetbal\" )\n",
    "print( \"p\" in \"Voetbal\" )\n",
    "print( \"p\" not in \"Voetbal\" )"
   ]
  },
  {
   "cell_type": "markdown",
   "metadata": {},
   "source": [
    "## 3: Keuze met de if constructie\n",
    "\n",
    "[![Watch the video](https://img.youtube.com/vi/pXsTJWFNDKg/hqdefault.jpg)](https://www.youtube.com/embed/pXsTJWFNDKg)"
   ]
  },
  {
   "cell_type": "markdown",
   "metadata": {},
   "source": [
    "<p>Een keuze zoals <i>als... dan...</i> heet in Python een <code>if</code>-constructie. Het begint met een test (conditie) in de <code>if</code>. Als uit de test <i>True</i> (waar) komt, dan worden de aangegeven acties uitgevoerd die onder de conditie ingesprongen staan. Inspringen doe je met de <b>Tab</b>-knop. Anders worden die acties overgeslagen.</p>\n",
    "\n",
    "<p>Bekijk de code hieronder voor een programma dat kledingadvies geeft:</p>"
   ]
  },
  {
   "cell_type": "code",
   "execution_count": null,
   "metadata": {},
   "outputs": [],
   "source": [
    "weer = \"regen\"\n",
    "\n",
    "if weer == \"regen\":\n",
    "\tprint(\"Neem een paraplu mee,\")\n",
    "\tprint(\"of een jas.\")\n",
    "\n",
    "print(\"Klaar\")"
   ]
  },
  {
   "cell_type": "markdown",
   "metadata": {},
   "source": [
    "<p>Merk op:\n",
    "</p>\n",
    "<ul>\n",
    "    <li>Er staat een dubbele punt achter de <i>conditie</i> van de <code>if</code>.\n",
    "    </li>\n",
    "    <li>De <i>acties</i> staan ingesprongen (met een <i>Tab</i> naar rechts).\n",
    "    </li>\n",
    "    <li>Als de conditie bij de <code>if</code> <code>True</code> is, worden de ingesprongen acties uitgevoerd (de twee <code>print</code>s op regel 4 en 5).\n",
    "    </li>\n",
    "    <li>Als de conditie <code>False</code> is, dan wordt de ingesprongen code overgeslagen.\n",
    "    </li>\n",
    "    <li>Het programma gaat daarna verder vanaf waar er niet meer is ingesprongen (regel 7). De regel met <code>print(\"Klaar\")</code> wordt <b>altijd</b> uitgevoerd. Deze is niet ingesprongen en hoort daarom niet bij de <code>if</code>.\n",
    "    </li>\n",
    "</ul>\n",
    "\n",
    "<p>Een <i>stroomdiagram</i> is een schematische weergave van een algoritme. Het onderstaand stroomdiagram geeft het algoritme voor kledingadvies weer uit het voorbeeldprogramma hierboven:</p>\n",
    "\n",
    "<p><img src=\"http://course.cs.ru.nl/pythonVO/Jupyter/img/Python4_Stroomdiagram_kledingAdvies.jpg\" alt=\"Stroomdiagram voor algoritme kledingadvies\" width=\"450\"></p>\n",
    "\n",
    "<p>Om een stroomdiagram te lezen, begin je bij het <i>Start</i>-blok en volg de pijlen. Ieder blokje dat je tegenkomt, voer je uit. Een ruit geeft een conditie aan. De uitkomst van de conditie bepaalt of je daarna de <code>True</code>- of de <code>False</code>-pijl volgt. Wanneer je het <i>Stop</i>-blok tegenkomt, ben je klaar.</p>\n",
    "\n"
   ]
  },
  {
   "cell_type": "markdown",
   "metadata": {},
   "source": [
    "### Opdracht 4.3: Een 6 dobbelen\n",
    "\n",
    "Hieronder staat code die hoort bij het gooien van een dobbelsteen.\n",
    "Schrijf de juiste conditie op regel 3, zodat er een tekst wordt afgedrukt als er een 6 wordt gegooid (dus als <code>dobbelworp</code> gelijk is aan 6).\n"
   ]
  },
  {
   "cell_type": "code",
   "execution_count": null,
   "metadata": {
    "tags": [
     "Opdracht"
    ]
   },
   "outputs": [],
   "source": [
    "dobbelworp = 6\n",
    "\n",
    "if #HIER CODE AANVULLEN\n",
    "\tprint(\"Yes! Je hebt een 6 gegooid\")"
   ]
  },
  {
   "cell_type": "markdown",
   "metadata": {},
   "source": [
    "<p>Bekijk <a href=\"https://course.cs.ru.nl/pythonVO/Teams/IA_uitwerkingen/IA_H4_oplossingen.html#opgave421\" target=\"_blank\">hier</a> de voorbeelduitwerking.</p>"
   ]
  },
  {
   "cell_type": "markdown",
   "metadata": {},
   "source": [
    "## 4: Meerdere if constructies achter elkaar\n",
    "\n",
    "[![Watch the video](https://img.youtube.com/vi/2TOR-Sa_dac/hqdefault.jpg)](https://www.youtube.com/embed/2TOR-Sa_dac)\n",
    "\n",
    "<p>Je kunt ook meerdere <code>if</code>'s achter elkaar hebben. Na de code die bij de eerste <code>if</code> hoort, begin je, waar er niet meer is ingesprongen, als het ware opnieuw.</p>\n"
   ]
  },
  {
   "cell_type": "code",
   "execution_count": null,
   "metadata": {},
   "outputs": [],
   "source": [
    "kleur = \"groen\"\n",
    "vervoer = \"fiets\"\n",
    "\n",
    "if kleur == \"groen\":\n",
    "  print(\"Groen is mooi\")\n",
    "\n",
    "if vervoer == \"fiets\":\n",
    "  print(\"fietsen is fijn\")"
   ]
  },
  {
   "cell_type": "markdown",
   "metadata": {},
   "source": [
    "\n",
    "\n",
    "<p>Het onderstaand stroomdiagram geeft het algoritme weer van het voorbeeldprogramma hierboven:</p>\n",
    "\n",
    "<p><img src=\"http://course.cs.ru.nl/pythonVO/Jupyter/img/Python4_Stroomdiagram_dubbeleIf.jpg\" alt=\"Stroomdiagram voor meerdere if's\" width=\"500\"></p>\n",
    "<p>Nog een voorbeeld met meerdere <code>if</code>'s achter elkaar:</p>"
   ]
  },
  {
   "cell_type": "code",
   "execution_count": null,
   "metadata": {},
   "outputs": [],
   "source": [
    "x = 5\n",
    "if x == 5:\n",
    "    print( \"x is 5\" )\n",
    "if x > 4:\n",
    "    print( \"x is groter dan 4\" )\n",
    "if x != 5 :\n",
    "    print( \"x is ongelijk aan 5\" )\n",
    "if x < 6:\n",
    "    print( \"x is kleiner dan 6\" )"
   ]
  },
  {
   "cell_type": "markdown",
   "metadata": {},
   "source": [
    "### Opdracht 4.4: Beide <code>if</code>'s uitvoeren\n",
    "\n",
    "<p>Pas de waarde van <code>getal</code> aan zodat zowel <i>A</i> als <i>B</i> wordt afgedrukt.</p>"
   ]
  },
  {
   "cell_type": "code",
   "execution_count": null,
   "metadata": {
    "tags": [
     "Opdracht"
    ]
   },
   "outputs": [],
   "source": [
    "getal = 6\n",
    "\n",
    "if getal <= 3:\n",
    "  print( \"A\" )\n",
    "\n",
    "if getal < 6:\n",
    "  print( \"B\" )"
   ]
  },
  {
   "cell_type": "markdown",
   "metadata": {},
   "source": [
    "<p>Bekijk <a href=\"https://course.cs.ru.nl/pythonVO/Teams/IA_uitwerkingen/IA_H4_oplossingen.html#opgave422\" target=\"_blank\">hier</a> de voorbeelduitwerking.</p>\n"
   ]
  },
  {
   "cell_type": "markdown",
   "metadata": {},
   "source": [
    "### Opdracht 4.5: Meerdere <code>if</code>'s\n",
    "\n",
    "<p>Wijzig de waarde van <code>x</code> zodat ABCEF wordt afgedrukt (D wordt dus niet afgedrukt).</p>\n"
   ]
  },
  {
   "cell_type": "code",
   "execution_count": null,
   "metadata": {
    "tags": [
     "Opdracht"
    ]
   },
   "outputs": [],
   "source": [
    "x = 10\n",
    "\n",
    "if x > 5:\n",
    "  print( \"A\" )\n",
    "if x >= 6:\n",
    "  print( \"B\" )\n",
    "if x < 8:\n",
    "  print( \"C\" )\n",
    "if x <= 5:\n",
    "  print( \"D\" )\n",
    "if x != 7:\n",
    "  print( \"E\" )\n",
    "if x <= 6:\n",
    "  print( \"F\" )"
   ]
  },
  {
   "cell_type": "markdown",
   "metadata": {},
   "source": [
    "<p>Bekijk <a href=\"https://course.cs.ru.nl/pythonVO/Teams/IA_uitwerkingen/IA_H4_oplossingen.html#opgave423\" target=\"_blank\">hier</a> de voorbeelduitwerking.</p>\n"
   ]
  },
  {
   "cell_type": "markdown",
   "metadata": {},
   "source": [
    "### Opdracht 4.6: Meerdere getallen dobbelen\n",
    "\n",
    "<p>Hieronder staat code die hoort bij het gooien van een dobbelsteen. Als je een 6 gooit, is dat goed, maar als je een 1 gooit, ben je af.</p>\n",
    "<p>\n",
    "</p>\n",
    "<ol style=\"list-style-type: lower-alpha\">\n",
    "    <li>Test of er <i>\"Yes! Je hebt een 6 gegooid\"</i> wordt geprint als je een 6 gooit.\n",
    "    </li>\n",
    "    <li>Breid de code uit zodat, als je <i>niet</i> een 1 gooit, er <i>\"Gelukkig, je hebt geen 1 gegooid\"</i> geprint wordt.\n",
    "    </li>\n",
    "    <li>Test je code met verschillende waarden van <code>dobbelworp</code>.\n",
    "    </li>\n",
    "    <li>Pas de waarde van <code>dobbelworp</code> aan zodat er twee zinnen afgedrukt worden.\n",
    "    </li>\n",
    "</ol>\n",
    "<p></p>"
   ]
  },
  {
   "cell_type": "code",
   "execution_count": null,
   "metadata": {
    "tags": [
     "Opdracht"
    ]
   },
   "outputs": [],
   "source": [
    "dobbelworp = 4\n",
    "\n",
    "if dobbelworp == 6 :\n",
    "  print(\"Yes! Je hebt een 6 gegooid\")\n",
    "\n",
    "# SCHRIJF HIERONDER JE CODE"
   ]
  },
  {
   "cell_type": "markdown",
   "metadata": {},
   "source": [
    "<p>Bekijk <a href=\"https://course.cs.ru.nl/pythonVO/Teams/IA_uitwerkingen/IA_H4_oplossingen.html#opgave424\" target=\"_blank\">hier</a> de voorbeelduitwerking.</p>\n"
   ]
  },
  {
   "cell_type": "markdown",
   "metadata": {},
   "source": [
    "### Opdracht 4.7: Welke letters zitten in een woord\n",
    "\n",
    "<p>Schrijf code die voor het woord 'informatica' test of:</p>\n",
    "<p>\n",
    "</p>\n",
    "<ol style=\"list-style-type: lower-alpha\">\n",
    "    <li>de letter 'a' erin voorkomt;\n",
    "    </li>\n",
    "    <li>de letter 'b' erin voorkomt;\n",
    "    </li>\n",
    "    <li>de reeks letters 'inf' erin voorkomt;\n",
    "    </li>\n",
    "    <li>de letter 'q' er <b>niet</b> in voorkomt.\n",
    "    </li>\n",
    "</ol>\n",
    "\n",
    "<p>Voor ieder van de bovenstaande situaties print je een melding, bijvoorbeeld: \"De letter i zit in het woord informatica\".</p>\n",
    "<p>Zie hoofdstuk \"4.2: In-operator\" voor uitleg over de <code>in</code> operator.</p>\n"
   ]
  },
  {
   "cell_type": "code",
   "execution_count": null,
   "metadata": {
    "tags": [
     "Opdracht"
    ]
   },
   "outputs": [],
   "source": [
    "woord = \"informatica\""
   ]
  },
  {
   "cell_type": "markdown",
   "metadata": {},
   "source": [
    "<p>Bekijk <a href=\"https://course.cs.ru.nl/pythonVO/Teams/IA_uitwerkingen/IA_H4_oplossingen.html#opgave425\" target=\"_blank\">hier</a> de voorbeelduitwerking.</p>"
   ]
  },
  {
   "cell_type": "markdown",
   "metadata": {},
   "source": [
    "## 5: Als-dan: <code>if.. else</code> constructie"
   ]
  },
  {
   "cell_type": "markdown",
   "metadata": {},
   "source": [
    "[![Watch the video](https://img.youtube.com/vi/OYB2iEyDlH8/hqdefault.jpg)](https://www.youtube.com/embed/OYB2iEyDlH8)\n",
    "\n",
    "<p>De <code>if</code> kan uitgebreid worden met een <code>else</code>, een actie die uitgevoerd moet worden als de conditie in de <code>if</code> niet waar is.</p>\n"
   ]
  },
  {
   "cell_type": "code",
   "execution_count": null,
   "metadata": {},
   "outputs": [],
   "source": [
    "print( \"Hoe oud ben jij?\" )\n",
    "invoer = input ()\n",
    "leeftijd = int(invoer)\n",
    "\n",
    "if leeftijd >= 17:\n",
    "\tprint( \"Ja. Je mag je rijbewijs halen.\" )\n",
    "else:\n",
    "\tprint( \"Nee. Je moet nog even wachten.\" )\n",
    "\t\n",
    "print( \"Klaar.\" )"
   ]
  },
  {
   "cell_type": "markdown",
   "metadata": {},
   "source": [
    "<p>Merk op:\n",
    "</p>\n",
    "<ul>\n",
    "    <li>Er staat een dubbele punt achter de <i>conditie</i> van de <code>if</code> en ook achter de <code>else</code>;\n",
    "    </li>\n",
    "    <li>De <i>acties</i> staan ingesprongen (met een <i>Tab</i> naar rechts);\n",
    "    </li>\n",
    "    <li>Als de conditie bij de <code>if</code> <code>True</code> is, worden de ingesprongen acties uitgevoerd (de <code>print</code> op regel 6);\n",
    "    </li>\n",
    "    <li>Als de conditie <code>False</code> is, dan worden de ingesprongen acties achter de <code>else</code> uitgevoerd (de <code>print</code> op regel 8);\n",
    "    </li>\n",
    "    <li>Het programma gaat daarna verder waar er niet meer is ingesprongen (regel 10). De regel met <code>print(\"Klaar\")</code> wordt <b>altijd</b> uitgevoerd. Deze is niet ingesprongen en hoort daarom niet bij de <code>if</code> of bij de <code>else</code>.\n",
    "    </li>\n",
    "</ul>\n",
    "\n",
    "\n",
    "<p>Het onderstaand stroomdiagram geeft het algoritme uit het voorbeeld hierboven weer:</p>\n",
    "\n",
    "<p><img src=\"http://course.cs.ru.nl/pythonVO/Jupyter/img/Python4_Stroomdiagram_leeftijdRijbewijs.jpg\" alt=\"Figuur 6.2: Stroomdiagram van een twee-weg beslissing\" width=\"450\" height=\"466\" class=\"img-fluid atto_image_button_text-bottom\"></p>\n"
   ]
  },
  {
   "cell_type": "markdown",
   "metadata": {},
   "source": [
    "### Opdracht 4.8: Van stroomdiagram naar code\n",
    "\n",
    "<p>Schrijf de code die bij het onderstaand stroomdiagram hoort.</p>\n",
    "\n",
    "<p><img src=\"http://course.cs.ru.nl/pythonVO/Jupyter/img/Python4_opg426_StroomdiagramKeuze.jpg\" alt=\"Figuur 6.1: Stroomdiagram van een twee-weg beslissing\" width=\"350\" height=\"316\" class=\"img-fluid atto_image_button_text-bottom\"></p>\n"
   ]
  },
  {
   "cell_type": "code",
   "execution_count": null,
   "metadata": {
    "tags": [
     "Opdracht"
    ]
   },
   "outputs": [],
   "source": []
  },
  {
   "cell_type": "markdown",
   "metadata": {},
   "source": [
    "<p>Bekijk <a href=\"https://course.cs.ru.nl/pythonVO/Teams/IA_uitwerkingen/IA_H4_oplossingen.html#opgave426\" target=\"_blank\">hier</a> de voorbeelduitwerking.</p>\n"
   ]
  },
  {
   "cell_type": "markdown",
   "metadata": {},
   "source": [
    "### Opdracht 4.9: Batterij is bijna leeg!\n",
    "\n",
    "<p>Een app op een smartphone geeft een waarschuwing als de batterij bijna leeg is: minder dan 10%.</p>\n",
    "\n",
    "<p>Geef de variabele <code>batterij_energie</code> een waarde zodat de waarschuwing geprint wordt dat de batterij bijna leeg is.</p>\n",
    "\n"
   ]
  },
  {
   "cell_type": "code",
   "execution_count": null,
   "metadata": {
    "tags": [
     "Opdacht"
    ]
   },
   "outputs": [],
   "source": [
    "batterij_energie = 30\n",
    "\n",
    "if batterij_energie < 10:\n",
    "\tprint (\"True. Let op: batterij is bijna leeg. \")\n",
    "else:\n",
    "\tprint (\"False. Dus batterij is NIET bijna leeg.\")"
   ]
  },
  {
   "cell_type": "markdown",
   "metadata": {},
   "source": [
    "<p>Bekijk <a href=\"https://course.cs.ru.nl/pythonVO/Teams/IA_uitwerkingen/IA_H4_oplossingen.html#opgave427\" target=\"_blank\">hier</a> de voorbeelduitwerking.</p>\n"
   ]
  },
  {
   "cell_type": "markdown",
   "metadata": {},
   "source": [
    "### Opdracht 4.10: Wachtwoordcontrole\n",
    "\n",
    "<p>De gebruiker moet een wachtwoord invoeren om toegang te krijgen. Het geheime wachtwoord is: <i>Geheim</i>.</p>\n",
    "\n",
    "<p>Vul de juiste conditie aan bij de <code>if</code> om te controleren of het ingevoerde wachtwoord juist is.</p>\n"
   ]
  },
  {
   "cell_type": "code",
   "execution_count": null,
   "metadata": {
    "tags": [
     "Opdracht"
    ]
   },
   "outputs": [],
   "source": [
    "print(\"Wat is het wachtwoord?\")\n",
    "ingevoerde_wachtwoord = input()\n",
    "\n",
    "if #controleer hier of het ingevoerde wachtwoord gelijk is aan \"Geheim\"\n",
    "\tprint(\"Toegang geautoriseerd!\")\n",
    "else:\n",
    "\tprint(\"Toegang geweigerd!\")"
   ]
  },
  {
   "cell_type": "markdown",
   "metadata": {},
   "source": [
    "<p>Bekijk <a href=\"https://course.cs.ru.nl/pythonVO/Teams/IA_uitwerkingen/IA_H4_oplossingen.html#opgave428\" target=\"_blank\">hier</a> de voorbeelduitwerking.</p>\n"
   ]
  },
  {
   "cell_type": "markdown",
   "metadata": {},
   "source": [
    "### Opdracht 4.11: Voldoende of onvoldoende\n",
    "\n",
    "<p>Vul het programma hieronder aan zodat het de gebruiker vraagt om een toetscijfer en dan print of het voldoende is of niet. Een 5,5 is een voldoende.</p>\n"
   ]
  },
  {
   "cell_type": "code",
   "execution_count": null,
   "metadata": {
    "tags": [
     "Opdracht"
    ]
   },
   "outputs": [],
   "source": [
    "print(\"Wat is je cijfer?\")\n",
    "invoer = input()\n",
    "ingevoerde_cijfer = float( invoer )"
   ]
  },
  {
   "cell_type": "markdown",
   "metadata": {},
   "source": [
    "<p>Bekijk <a href=\"https://course.cs.ru.nl/pythonVO/Teams/IA_uitwerkingen/IA_H4_oplossingen.html#opgave429\" target=\"_blank\">hier</a> de voorbeelduitwerking.</p>"
   ]
  },
  {
   "cell_type": "markdown",
   "metadata": {},
   "source": [
    "## 6: Logische operatoren\n",
    "\n",
    "[![Watch the video](https://img.youtube.com/vi/hfU3qJbMb3k/hqdefault.jpg)](https://www.youtube.com/embed/hfU3qJbMb3k)\n",
    "\n",
    "<p>Condities kun je combineren met een combinatie van de drie logische operatoren: <code>and</code>, <code>or</code> en <code>not</code>. </p>\n",
    "                <ul>\n",
    "                    <li>Als <b><code>and</code></b> tussen twee condities staat, is het resultaat <code>True</code> als beide condities <code>True</code> zijn; anders is het resultaat <code>False</code>.\n",
    "                    </li>\n",
    "                    <li>Als <b><code>or</code></b> tussen twee condities staat, is het resultaat <code>True</code> als één of beide condities <code>True</code> is. Het resultaat is alleen <code>False</code> als beide <code>False</code> zijn.\n",
    "                    </li>\n",
    "                    <li><b><code>not</code> </b>kun je voor een conditie plaatsen om deze om te keren van <code>True</code> naar <code>False</code> en andersom.\n",
    "                    </li>\n",
    "                </ul>\n",
    "\n",
    "<p>We bekijken een voorbeeld. Bij het inloggen op een website moeten <b>zowel</b> de gebruikersnaam als het wachtwoord kloppen. Hiervoor gebruik je de <code>and</code>:\n"
   ]
  },
  {
   "cell_type": "code",
   "execution_count": null,
   "metadata": {},
   "outputs": [],
   "source": [
    "gebruikersnaam = \"Janneke\"\n",
    "\n",
    "print(\"Voer wachtwoord in:\")\n",
    "wachtwoord = input()\n",
    "\n",
    "if (gebruikersnaam == \"Janneke\") and (wachtwoord == \"appelmoes\"):\n",
    "  print(\"je bent ingelogd\")\n",
    "\n",
    "else:\n",
    "  print (\"je bent niet ingelogd\")"
   ]
  },
  {
   "cell_type": "markdown",
   "metadata": {},
   "source": [
    "### Opdracht 4.12: Het is weekend!\n",
    "\n",
    "Schrijf een programma dat de gebruiker vraagt om de dag van de week en dan print of het weekend is of niet.\n",
    "                <ul>\n",
    "                    <li>Vraag de gebruiker welke dag van de week het is, bijvoorbeeld: \"maandag\".\n",
    "                    </li>\n",
    "                    <li>Sla de gebruikersinvoer op in een variabele <code>vandaag</code>.\n",
    "                    </li>\n",
    "                    <li>Als <code>vandaag</code> zaterdag of zondag is, druk dan af: <i>Het is weekend!</i>\n",
    "                    </li>\n",
    "                    <li>Anders druk je af: <i>Helaas, geen weekend.</i>\n",
    "                    </li>\n",
    "                    <li>Test met verschillende dagen van de week.\n",
    "                    </li>\n",
    "                </ul>"
   ]
  },
  {
   "cell_type": "code",
   "execution_count": null,
   "metadata": {
    "tags": [
     "Opdracht"
    ]
   },
   "outputs": [],
   "source": [
    "# vraag de gebruiker om invoer en sla dit op in een variabele 'vandaag'\n",
    "\n",
    "\n",
    "if #controleer hier iets\n",
    "    print( \"Het is weekend!\" )\n",
    "#vul hier ook iets in\n",
    "    print( \"Helaas, geen weekend.\")"
   ]
  },
  {
   "cell_type": "markdown",
   "metadata": {},
   "source": [
    "<p>Bekijk <a href=\"https://course.cs.ru.nl/pythonVO/Teams/IA_uitwerkingen/IA_H4_oplossingen.html#opgave431\" target=\"_blank\">hier</a> de voorbeelduitwerking.</p>\n"
   ]
  },
  {
   "cell_type": "markdown",
   "metadata": {},
   "source": [
    "<p>Let op: Links en rechts van de operatoren moeten complete voorwaarden staan.\n",
    "\n",
    "Dus in Python kun je niet zeggen:<br>\n",
    "\n",
    "Als <code>vandaag == \"zaterdag\" or \"zondag\"</code> (dus: \"<i>Als het vandaag zaterdag of zondag is</i>\"), maar moet je expliciet de variabele&nbsp;<code>vandaag</code> herhalen, dus: <code>vandaag == \"zaterdag\" or vandaag == \"zondag\"</code>. De uitkomst levert anders namelijk niet altijd een correct antwoord op, bijvoorbeeld als je bij de code hierboven \"<i>donderdag</i>\" invult, geeft de code aan dat het weekend is.\n",
    "</p>"
   ]
  },
  {
   "cell_type": "markdown",
   "metadata": {},
   "source": [
    "## 7: Haakjes bij het combineren van logische operatoren\n",
    "\n",
    "<p>Het combineren van logische operatoren is lastig. Bijvoorbeeld:</p>\n",
    "<ul>\n",
    "    <li> <code>(a and b) or c</code> is <b>niet</b> hetzelfde als <code>a and (b or c)</code>;\n",
    "    </li>\n",
    "    <li> <code>not(a or b)</code> is <b>niet</b> hetzelfde als <code>not(a) or not(b)</code>;\n",
    "    </li>\n",
    "    <li> <code>not(a <b>or</b> b)</code> is <b>wel</b> hetzelfde als <code>not(a) <b>and</b> not(b)</code>.\n",
    "    </li>\n",
    "</ul>\n",
    "<p>Gebruik haakjes om aan te geven wat je bedoelt en probeer je condities zo eenvoudig mogelijk te houden.</p>\n",
    "\n",
    "\n",
    "\n",
    "<p>We bekijken een voorbeeld. Een inbraakalarm heeft een algemene aan-uitknop en twee bewegingssensoren. Het alarm gaat af als de knop aanstaat en een van de twee sensoren een beweging detecteert.</p>\n",
    "<p>De conditie die daarbij hoort, is: <code>algemene_knop and (sensorA or sensorB)</code></p>\n",
    "\n",
    "\n",
    "<p>Merk op dat, als je de haakjes anders zet: <code>(algemene_knop and sensorA) or sensorB</code> het alarm af kan gaan terwijl het uitstaat, doordat sensorB een beweging detecteert.</p>\n"
   ]
  },
  {
   "cell_type": "markdown",
   "metadata": {},
   "source": [
    "### Opdracht 4.13: Combinaties van logische operatoren\n",
    "\n",
    "<p>Vul de condities aan met de juiste code zodat de geprinte omschrijving overeenkomt. Het vriest als het 0 graden of lager is. Gebruik de NOT-operator.</p>\n",
    "\n",
    "<p><b>a:</b> Print <code>True</code> als het op beide dagen vriest; print anders <code>False</code>.</p>\n"
   ]
  },
  {
   "cell_type": "code",
   "execution_count": null,
   "metadata": {
    "tags": [
     "Opdracht"
    ]
   },
   "outputs": [],
   "source": [
    "temperatuur_gisteren = 1\n",
    "temperatuur_vandaag = -1\n",
    "\n",
    "if #SCHRIJF HIER JE CODE\n",
    "\tprint(\"True. Op beide dagen vriest het.\")\n",
    "else:\n",
    "\tprint(\"False\")"
   ]
  },
  {
   "cell_type": "markdown",
   "metadata": {},
   "source": [
    "<p>Bekijk <a href=\"https://course.cs.ru.nl/pythonVO/Teams/IA_uitwerkingen/IA_H4_oplossingen.html#opgave432\" target=\"_blank\">hier</a> de voorbeelduitwerking.</p>\n"
   ]
  },
  {
   "cell_type": "markdown",
   "metadata": {},
   "source": [
    "<p><b>b: </b>Print <code>True</code> als het op <i>geen van beide</i> dagen vriest; print anders <code>False</code>. Gebruik de NOT-operator.</p>\n",
    "\n"
   ]
  },
  {
   "cell_type": "code",
   "execution_count": null,
   "metadata": {
    "tags": [
     "Opdracht"
    ]
   },
   "outputs": [],
   "source": [
    "temperatuur_gisteren = 1\n",
    "temperatuur_vandaag = 1\n",
    "\n",
    "if #SCHRIJF HIER JE CODE\n",
    "\tprint(\"True. Op GEEN van beide dagen vriest het.\")\n",
    "else:\n",
    "\tprint(\"False\")"
   ]
  },
  {
   "cell_type": "markdown",
   "metadata": {},
   "source": [
    "<p>Bekijk <a href=\"https://course.cs.ru.nl/pythonVO/Teams/IA_uitwerkingen/IA_H4_oplossingen.html#opgave432\" target=\"_blank\">hier</a> de voorbeelduitwerking.</p>\n",
    "\n"
   ]
  },
  {
   "cell_type": "markdown",
   "metadata": {},
   "source": [
    "<p><b>c: </b>Print <code>True</code> als het op <i>minstens een</i> dag vriest; print anders <code>False</code>.</p>\n",
    "\n"
   ]
  },
  {
   "cell_type": "code",
   "execution_count": null,
   "metadata": {
    "tags": [
     "Opdracht"
    ]
   },
   "outputs": [],
   "source": [
    "temperatuur_gisteren = -1\n",
    "temperatuur_vandaag = -1\n",
    "\n",
    "if #SCHRIJF HIER JE CODE\n",
    "    print(\"True.  Het vriest op minstens 1 dag.\")\n",
    "else:\n",
    "    print(\"False\")"
   ]
  },
  {
   "cell_type": "markdown",
   "metadata": {},
   "source": [
    "<p>Bekijk <a href=\"https://course.cs.ru.nl/pythonVO/Teams/IA_uitwerkingen/IA_H4_oplossingen.html#opgave432\" target=\"_blank\">hier</a> de voorbeelduitwerking.</p>\n"
   ]
  },
  {
   "cell_type": "markdown",
   "metadata": {},
   "source": [
    "<p><b>d: </b>Print <code>True</code> als het <i>niet op allebei</i> dagen vriest; print anders <code>False</code>.</p>\n"
   ]
  },
  {
   "cell_type": "code",
   "execution_count": null,
   "metadata": {
    "tags": [
     "Opdracht"
    ]
   },
   "outputs": [],
   "source": [
    "temperatuur_gisteren = 1\n",
    "temperatuur_vandaag = -1\n",
    "\n",
    "if #SCHRIJF HIER JE CODE\n",
    "\tprint(\"True. Het vriest niet op allebei dagen\")\n",
    "else:\n",
    "\tprint(\"False\")"
   ]
  },
  {
   "cell_type": "markdown",
   "metadata": {},
   "source": [
    "<p>Bekijk <a href=\"https://course.cs.ru.nl/pythonVO/Teams/IA_uitwerkingen/IA_H4_oplossingen.html#opgave432\" target=\"_blank\">hier</a> de voorbeelduitwerking.</p>\n"
   ]
  },
  {
   "cell_type": "markdown",
   "metadata": {},
   "source": [
    "## 8: Blokken code inspringen\n",
    "\n",
    "<p>In Python is correct inspringen belangrijk! Door in te springen geef je aan welke code bij een <code>if</code>-gedeelte hoort.</p>\n",
    "\n",
    "<p>Bekijk het voorbeeld hieronder. Voer de code uit. </p>"
   ]
  },
  {
   "cell_type": "code",
   "execution_count": null,
   "metadata": {},
   "outputs": [],
   "source": [
    "x = 11\n",
    "if x < 10:\n",
    "    print( \"Deze regel wordt alleen uitgevoerd als x < 10.\" )\n",
    "    print( \"En dat geldt ook voor deze regel.\" )\n",
    "print( \"Deze regel wordt echter altijd uitgevoerd.\" )"
   ]
  },
  {
   "cell_type": "markdown",
   "metadata": {},
   "source": [
    "<p>We veranderen de waarde van <code>x</code> in <code>7</code>. Voer de code nogmaals uit.</p>\n"
   ]
  },
  {
   "cell_type": "code",
   "execution_count": null,
   "metadata": {},
   "outputs": [],
   "source": [
    "x = 7\n",
    "if x < 10:\n",
    "    print( \"Deze regel wordt alleen uitgevoerd als x < 10.\" )\n",
    "    print( \"En dat geldt ook voor deze regel.\" )\n",
    "print( \"Deze regel wordt echter altijd uitgevoerd.\" )"
   ]
  },
  {
   "cell_type": "markdown",
   "metadata": {},
   "source": [
    "<p>Regels 3 en 4 (met de eerste twee printjes) zijn ingesprongen en worden daarom alleen uitgevoerd als de conditie van de <code>if</code> waar is. De laatste regel staat niet ingesprongen, het hoort daarom niet bij het <code>if</code>-blok en wordt altijd uitgevoerd.</p>\n",
    "\n",
    "<ul>\n",
    "    <li><i>Inspringen</i>: inspringen doe je met de <i>Tab</i>-toets. Om meerdere regels te laten inspringen, selecteer je de regels en druk dan op <i>Tab</i>.\n",
    "    </li>\n",
    "    <li><i>Inspringen ongedaan maken</i>: druk gelijktijdig <i>Shift en Tab</i> om inspringen te verwijderen. Dit kan ook voor een heel blok code in een keer door de regels eerst te selecteren en dan op <i>Shift en Tab</i> te drukken.\n",
    "    </li>\n",
    "</ul>"
   ]
  },
  {
   "cell_type": "markdown",
   "metadata": {},
   "source": [
    "### Opdracht 4.14: Verbeter de inspringfouten\n",
    "\n",
    "<p>Run de volgende code. Deze bevat inspringfouten. Verbeter de code.</p>"
   ]
  },
  {
   "cell_type": "code",
   "execution_count": null,
   "metadata": {
    "tags": [
     "Opdracht"
    ]
   },
   "outputs": [],
   "source": [
    "#Verbeter de inspring fouten:\n",
    "x = 3\n",
    "y = 4\n",
    "if x == 3 and y == 4:\n",
    "    print( \"x is 3\" )\n",
    "   print( \"y is 4\" )\n",
    "if x > 2 and y < 5:\n",
    "print( \"x > 2\" )\n",
    "print( \"y < 5\" )\n",
    "if x < 4 and y > 3:\n",
    "    print( \"x < 4\" )\n",
    "        print( \"y > 3\" )"
   ]
  },
  {
   "cell_type": "markdown",
   "metadata": {},
   "source": [
    "<p>Bekijk <a href=\"https://course.cs.ru.nl/pythonVO/Teams/IA_uitwerkingen/IA_H4_oplossingen.html#opgave441\" target=\"_blank\">hier</a> de voorbeelduitwerking.</p>"
   ]
  },
  {
   "cell_type": "markdown",
   "metadata": {},
   "source": [
    "### 9: Uitgebreidere condities\n",
    "\n",
    "<p>Je kunt binnen een beslissing weer een\n",
    "    beslissing hebben.</p>\n",
    "<p>\n",
    "    Een geneste if-else is een manier om beslissingen te nemen op basis van meerdere voorwaarden. Een geneste if-else bestaat uit een reeks if-else-verklaringen die in elkaar zijn genest.\n",
    "    De eerste if-else-verklaring wordt geëvalueerd en als deze <code>True</code> is, wordt de bijbehorende code uitgevoerd. Als de eerste if-else-verklaring <code>False</code> is, wordt de tweede if-else-verklaring geëvalueerd en als deze <code>True</code> is, wordt de bijbehorende code uitgevoerd.\n",
    "    Dit gaat door totdat er geen if-else-verklaringen meer zijn of totdat er een <code>True</code> is gevonden. Als geen van de if-else-verklaringen <code>True</code> is, wordt de code in het else-blok uitgevoerd.\n",
    "</p>\n",
    "<p>Hieronder zie je een voorbeeld stroomdiagram van een geneste if-else-verklaring:</p>\n",
    "\n",
    "<p><img src=\"http://course.cs.ru.nl/pythonVO/Jupyter/img/Python4_Stroomdiagram_genesteIf.jpg\" alt=\"Figuur 6.2: Stroomdiagram van een geneste beslissing\" width=\"750\" height=\"736\" class=\"img-fluid atto_image_button_text-bottom\"></p>\n",
    "\n",
    "\n",
    "<p>De vertaling van het bovenstaande stroomdiagram in code is:</p>\n"
   ]
  },
  {
   "cell_type": "code",
   "execution_count": null,
   "metadata": {},
   "outputs": [],
   "source": [
    "leeftijd = 21\n",
    "if leeftijd < 12:\n",
    "  print( \"kind\" )\n",
    "else:\n",
    "  if leeftijd < 18:\n",
    "    print( \"tiener\" )\n",
    "  else:\n",
    "    if leeftijd < 30:\n",
    "      print( \"jong\" )\n",
    "    else:\n",
    "      if leeftijd < 50:\n",
    "        print( \"ouder\" )\n",
    "      else:\n",
    "        print( \"oud\" )"
   ]
  },
  {
   "cell_type": "markdown",
   "metadata": {},
   "source": [
    "### Opdracht 4.15: Geneste condities\n",
    "\n",
    "<p> Verander in de code hieronder de waarde van de variabele <code>leeftijd</code>. Leg aan je buurman of buurvrouw uit hoe de geneste <code>if-else</code> werkt.</p>\n"
   ]
  },
  {
   "cell_type": "code",
   "execution_count": null,
   "metadata": {
    "tags": [
     "Opdracht"
    ]
   },
   "outputs": [],
   "source": [
    "leeftijd = 21\n",
    "if leeftijd < 12:\n",
    "  print( \"Je bent een kind!\" )\n",
    "else:\n",
    "  if leeftijd < 18:\n",
    "    print( \"Je bent een tiener!\" )\n",
    "  else:\n",
    "    if leeftijd < 30:\n",
    "      print( \"Je bent nog jong!\" )\n",
    "    else:\n",
    "      if leeftijd < 50:\n",
    "        print( \"Je bent wat ouder.\" )\n",
    "      else:\n",
    "        print( \"Je bent echt oud!\" )\n",
    "\t\t\n",
    "print(\"Klaar!\")"
   ]
  },
  {
   "cell_type": "markdown",
   "metadata": {},
   "source": [
    "<p>Bekijk <a href=\"https://course.cs.ru.nl/pythonVO/Teams/IA_uitwerkingen/IA_H4_oplossingen.html#opgave451\" target=\"_blank\">hier</a> de voorbeelduitwerking.</p>\n"
   ]
  },
  {
   "cell_type": "markdown",
   "metadata": {},
   "source": [
    "### Opdracht 4.16: Nadenken over geneste condities\n",
    "\n",
    "<p>Voor welke waarden van <code>getal</code> zal <i>B</i> worden\n",
    "    geprint?</p>"
   ]
  },
  {
   "cell_type": "code",
   "execution_count": null,
   "metadata": {
    "tags": [
     "Opdracht"
    ]
   },
   "outputs": [],
   "source": [
    "getal = 0\n",
    "\n",
    "if getal < 3:\n",
    "\tprint(\"A\")\n",
    "\n",
    "else:\n",
    "\tif getal < 6:\n",
    "\t\tprint(\"B\")\n",
    "\telse:\n",
    "\t\tprint(\"C\")"
   ]
  },
  {
   "cell_type": "markdown",
   "metadata": {},
   "source": [
    "<p>Bekijk <a href=\"https://course.cs.ru.nl/pythonVO/Teams/IA_uitwerkingen/IA_H4_oplossingen.html#opgave452\" target=\"_blank\">hier</a> de voorbeelduitwerking.</p>\n"
   ]
  },
  {
   "cell_type": "markdown",
   "metadata": {},
   "source": [
    "## 10: Anders als: <code>if-elif-else</code>\n",
    "\n",
    "[![Watch the video](https://img.youtube.com/vi/Tb41UAiAr6k/hqdefault.jpg)](https://www.youtube.com/embed/Tb41UAiAr6k)\n",
    "\n",
    "<p>Een andere manier om een <em>geneste if</em> te schrijven is met een\n",
    "    <code>if-elif-else</code>-constructie. Hiermee voer je één van\n",
    "    meerdere blokken uit, maar niet meer dan &eacute;&eacute;n <code>elif</code>\n",
    "    staat voor \"else if\" (oftewel \"anders als\").\n",
    "</p>"
   ]
  },
  {
   "cell_type": "code",
   "execution_count": null,
   "metadata": {},
   "outputs": [],
   "source": [
    "leeftijd = 21\n",
    "if leeftijd < 12:\n",
    "    print( \"Je bent een kind!\" )\n",
    "elif leeftijd < 18:\n",
    "    print( \"Je bent een tiener!\" )\n",
    "elif leeftijd < 30:\n",
    "    print( \"Je bent nog jong!\" )\n",
    "elif leeftijd < 50:\n",
    "    print( \"Je bent wat ouder.\" )\n",
    "else:\n",
    "    print( \"Je bent echt oud!\" )\n",
    "\t\n",
    "print(\"Klaar!\")"
   ]
  },
  {
   "cell_type": "markdown",
   "metadata": {},
   "source": [
    "<p>Deze code geeft trouwens hetzelfde resultaat als de <em>geneste if</em>\n",
    "    bij het vorige theorieblok.</p>\n",
    "\n",
    "<p>De verschillende tests in een <code>if-elif-else</code>-constructie worden\n",
    "    achter elkaar uitgevoerd. Zodra er een conditie <code>True</code> is, dan\n",
    "    wordt het bijbehorende ingesprongen blok code uitgevoerd. Daarna wordt er\n",
    "    <b>geen</b> code meer uitgevoerd die bij de <code>if-elif-else</code>-constructie hoort en gaat het programma verder na het blok van de laatste\n",
    "    <code>elif</code> of <code>else</code>.\n",
    "</p>\n",
    "\n",
    "\n",
    "<p>Voor het voorbeeld hierboven betekent dit:\n",
    "\n",
    "</p>\n",
    "<ol>\n",
    "    <li>De <code>if</code> op\n",
    "        regel 2 levert <code>False</code> op, dus wordt doorgegaan naar regel 4;\n",
    "    </li>\n",
    "    <li>De <code>elif</code> op regel 4 levert <code>True</code> op, dus de\n",
    "        <code>print(\"tiener\")</code> op regel 5 wordt uitgevoerd;\n",
    "    </li>\n",
    "    <li>Er is één blok uitgevoerd, dus het programma is klaar. Er\n",
    "        wordt naar het einde van de constructie op regel 12 gesprongen;\n",
    "    </li>\n",
    "    <li>De\n",
    "        volgende regel code na de <code>if-elif-else</code> wordt uitgevoerd, dus\n",
    "        <code>print(\"Klaar!\")</code>.\n",
    "    </li>\n",
    "</ol>"
   ]
  },
  {
   "cell_type": "markdown",
   "metadata": {},
   "source": [
    "### Opdracht 4.17: Anders als: <code>elif</code>\n",
    "\n",
    "<p>Verander in de code hieronder de waarde van de variabele\n",
    "    <code>leeftijd</code> in achtereenvolgens: 11, 12, 18, 30, 50 en 66. Leg aan je buurman of buurvrouw uit hoe de\n",
    "    <code>elif</code>-constructie werkt.\n",
    "</p>"
   ]
  },
  {
   "cell_type": "code",
   "execution_count": null,
   "metadata": {
    "tags": [
     "Opdracht"
    ]
   },
   "outputs": [],
   "source": [
    "leeftijd = 21\n",
    "if leeftijd < 12:\n",
    "\tprint( \"Je bent een kind!\" )\n",
    "elif leeftijd < 18:\n",
    "\tprint( \"Je bent een tiener!\" )\n",
    "elif leeftijd < 30:\n",
    "\tprint( \"Je bent nog jong!\" )\n",
    "elif leeftijd < 50:\n",
    "\tprint( \"Je bent wat ouder.\" )\n",
    "else:\n",
    "\tprint( \"Je bent echt oud!\" )\n",
    "\t\n",
    "print(\"Klaar!\")"
   ]
  },
  {
   "cell_type": "markdown",
   "metadata": {},
   "source": [
    "<p>Bekijk <a href=\"https://course.cs.ru.nl/pythonVO/Teams/IA_uitwerkingen/IA_H4_oplossingen.html#opgave453\" target=\"_blank\">hier</a> de voorbeelduitwerking.</p>\n"
   ]
  },
  {
   "cell_type": "markdown",
   "metadata": {},
   "source": [
    "### Opgave 4.18: Bagagetoeslag\n",
    "\n",
    "<p>\n",
    "    Schrijf een programma voor een vliegtuigmaatschappij dat bepaalt of de bagage\n",
    "    te zwaar is of niet.</p>\n",
    "\n",
    "<ul>\n",
    "    <li>Vraag de gebruiker om een gewicht in te voeren.\n",
    "    </li>\n",
    "    <li>Maak een variabele <code>gewicht</code> en stel dit gelijk aan de\n",
    "        ingevoerde waarde.\n",
    "    </li>\n",
    "    <li>Als de bagage zwaarder is dan 20, print je: <i>Er moet een toeslag van\n",
    "            $25 betaald worden voor bagage die te zwaar is.</i>\n",
    "    </li>\n",
    "    <li>Als de bagage lichter is dan 20, print je: <i>Goede reis!</i>\n",
    "    </li>\n",
    "    <li>Als de bagage precies 20 weegt, print je: <i>Poeh! Dat gewicht is precies\n",
    "            goed!</i> </li>\n",
    "</ul>\n",
    "\n",
    "<p>Wijzig de waarde van <code>gewicht</code> een paar keer om de code te testen.</p>\n"
   ]
  },
  {
   "cell_type": "code",
   "execution_count": null,
   "metadata": {
    "tags": [
     "Opdracht"
    ]
   },
   "outputs": [],
   "source": [
    "print(\"Wat is het gewicht? \")\n",
    "invoer = input()\n",
    "gewicht = float( invoer )\n",
    "\n",
    "### typ hier iets\n",
    "\tprint( \"Er moet een toeslag van $25 betaald worden voor bagage die te zwaar is.\" )\n",
    "### typ hier iets\n",
    "\tprint( \"Goede reis!\" )\n",
    "### typ hier iets\n",
    "\tprint( \"Poeh! Dat gewicht is precies goed!\" )"
   ]
  },
  {
   "cell_type": "markdown",
   "metadata": {},
   "source": [
    "<p>Bekijk <a href=\"https://course.cs.ru.nl/pythonVO/Teams/IA_uitwerkingen/IA_H4_oplossingen.html#opgave454\" target=\"_blank\">hier</a> de voorbeeld uitwerking.</p>\n"
   ]
  },
  {
   "cell_type": "markdown",
   "metadata": {},
   "source": [
    "### Opdracht 4.19: Enquête\n",
    "\n",
    "<p>\n",
    "    Voor haar PWS over leesboeken wil Julie met een enquête enkele vragen stellen\n",
    "    aan kinderen van 16 jaar en jonger. Hiervoor heeft ze het onderstaand\n",
    "    programma geschreven. Gebruik <code>elif</code>'s om de vragen aan te passen\n",
    "    naar leeftijdscategorieën: </p>\n",
    "<ol>\n",
    "    <li>vraag bij kinderen van 6 jaar en jonger vraag naar de lievelings<i>prentenboek</i>;</li>\n",
    "    <li>vraag bij kinderen tussen de 6 en 10 vraag naar de lievelings<i>verhalenboek</i>. Kinderen van 10 krijgen deze vraag te zien, maar kinderen van 6 niet;</li>\n",
    "    <li>vraag bij kinderen tussen de 10 en 16 vraag naar de lievelings<i>roman</i>. Kinderen van 16 krijgen deze vraag wel te zien, maar kinderen van 10 niet.</li>\n",
    "</ol>"
   ]
  },
  {
   "cell_type": "code",
   "execution_count": null,
   "metadata": {
    "tags": [
     "Opdracht"
    ]
   },
   "outputs": [],
   "source": [
    "print(\"Hoe oud ben jij?\")\n",
    "invoer = input()\n",
    "jouw_leeftijd = int( invoer )\n",
    "\n",
    "if jouw_leeftijd <= 16:\n",
    "\tprint(\"Perfect. Ik wil graag weten wat voor leesboeken kinderen leuk vinden.\")\n",
    "\tjouw_boek_keuze = input(\"Wat is je lievelingsboek?\")\n",
    "\tprint(\"Goeie keuze! Ik vind\", jouw_boek_keuze, \"ook leuk!\")\n",
    "\n",
    "else:\n",
    "\tprint(\"Bedankt voor het meedenken, maar deze enquete is alleen voor kinderen\")"
   ]
  },
  {
   "cell_type": "markdown",
   "metadata": {},
   "source": [
    "<p>Bekijk <a href=\"https://course.cs.ru.nl/pythonVO/Teams/IA_uitwerkingen/IA_H4_oplossingen.html#opgave455\" target=\"_blank\">hier</a> de voorbeelduitwerking.</p>\n"
   ]
  },
  {
   "cell_type": "markdown",
   "metadata": {},
   "source": [
    "## Onderdeel 4: Afsluitende opdrachten\n",
    "\n",
    "<p>Met de volgende afsluitende opdrachten kun je kijken hoe goed je de stof beheerst. Controleer steeds je eigen oplossing met de voorbeeldoplossing.</p>\n"
   ]
  },
  {
   "cell_type": "markdown",
   "metadata": {},
   "source": [
    "### Afsluitende opdracht 4.1: Kiesgerechtigd\n",
    "\n",
    "<p> Als je 18 bent, mag je stemmen.\n",
    "        Schrijf een programma dat de gebruiker om zijn of haar leeftijd vraagt en dan print of die mag stemmen of niet.</p>\n",
    "\n",
    "\n",
    "<p>Tips:</p>\n",
    "    <ul>\n",
    "        <li>vraag de gebruiker om invoer met: <code>input()</code>;\n",
    "        </li>\n",
    "        <li>sla dit op in een variabele, bijvoorbeeld: <code>invoer</code>;\n",
    "        </li>\n",
    "        <li>invoer wordt standaard als een string (tekst) ingelezen. Dit moet je nog omzetten in een <code>int</code> (geheel getal). Dat doe je zo: <code>leeftijd = int( invoer )</code>.\n",
    "        </li>\n",
    "    </ul>"
   ]
  },
  {
   "cell_type": "markdown",
   "metadata": {
    "tags": [
     "Opdracht"
    ]
   },
   "source": []
  },
  {
   "cell_type": "markdown",
   "metadata": {},
   "source": [
    "<p>Bekijk <a href=\"https://course.cs.ru.nl/pythonVO/Teams/IA_uitwerkingen/IA_H4_oplossingen.html#AfOpgave41\" target=\"_blank\">hier</a> de voorbeelduitwerking.</p>\n"
   ]
  },
  {
   "cell_type": "markdown",
   "metadata": {},
   "source": [
    "### Afsluitende opdracht 4.2: Grootste\n",
    "\n",
    "<p>Schrijf een programma dat de gebruiker om twee getallen vraagt en dan print welk het grootste is: <i>... is groter</i>. Als de twee getallen even groot zijn, print het programma: <i> ... en ... zijn even groot</i>. Op de plek van ... komt natuurlijk het getal te staan.\n",
    "    </p>\n",
    "    <p>Tip: vergeet niet om de gebruikersinvoer in een <code>int</code> te veranderen.</p>\n"
   ]
  },
  {
   "cell_type": "code",
   "execution_count": null,
   "metadata": {
    "tags": [
     "Opdracht"
    ]
   },
   "outputs": [],
   "source": []
  },
  {
   "cell_type": "markdown",
   "metadata": {},
   "source": [
    "<p>Bekijk <a href=\"https://course.cs.ru.nl/pythonVO/Teams/IA_uitwerkingen/IA_H4_oplossingen.html#AfOpgave42\" target=\"_blank\">hier</a> de voorbeelduitwerking.</p>\n"
   ]
  },
  {
   "cell_type": "markdown",
   "metadata": {},
   "source": [
    "### Afsluitende opdracht 4.3: Gelukkig\n",
    "\n",
    "<p>Schrijf een programma dat aan de gebruiker vraagt of hij gelukkig is. Als het antwoord 'JA', 'Ja', 'ja' of 'j' is, toon dan een smiley. Voor het tonen van een smiley kun je de gegeven code gebruiken.\n",
    "        Anders toon je een gezichtje met een frons. Test met verschillende invoer.</p>\n",
    "\n",
    "<p>Tip: Met <code>print()</code> druk je een lege regel af.</p>"
   ]
  },
  {
   "cell_type": "code",
   "execution_count": null,
   "metadata": {
    "tags": [
     "Opdracht"
    ]
   },
   "outputs": [],
   "source": [
    "print(\"**  **\")\n",
    "print(\"**  **\")\n",
    "print(\"**  **\")\n",
    "print()\n",
    "print(\"*    *\")\n",
    "print(\" **** \")"
   ]
  },
  {
   "cell_type": "markdown",
   "metadata": {},
   "source": [
    "<p>Bekijk <a href=\"https://course.cs.ru.nl/pythonVO/Teams/IA_uitwerkingen/IA_H4_oplossingen.html#AfOpgave43\" target=\"_blank\">hier</a> de voorbeelduitwerking.</p>\n"
   ]
  },
  {
   "cell_type": "markdown",
   "metadata": {},
   "source": [
    "### Afsluitende opdracht 4.4: Lengte gebruikersnaam controleren\n",
    "\n",
    "<p>Schrijf een programma dat de gebruiker om zijn of haar naam vraagt.</p>\n",
    "    <ul>\n",
    "        <li>Als de gebruiker een naam invoert die korter is dan twee letters, geef dan de volgende foutmelding:\n",
    "            \"De ingevoerde naam is te kort. Geef je echte naam op!\"\n",
    "        </li>\n",
    "        <li>Anders: print dan een groet: \"Hallo ...\" met de naam van de gebruiker.\n",
    "        </li>\n",
    "    </ul>\n",
    "\n",
    "Tip: met <code>len</code> kun je de lengte van een tekst bepalen."
   ]
  },
  {
   "cell_type": "code",
   "execution_count": null,
   "metadata": {
    "tags": [
     "Opdracht"
    ]
   },
   "outputs": [],
   "source": []
  },
  {
   "cell_type": "markdown",
   "metadata": {},
   "source": [
    "<p>Bekijk <a href=\"https://course.cs.ru.nl/pythonVO/Teams/IA_uitwerkingen/IA_H4_oplossingen.html#AfOpgave44\" target=\"_blank\">hier</a> de voorbeelduitwerking.</p>\n"
   ]
  },
  {
   "cell_type": "markdown",
   "metadata": {},
   "source": [
    "### Afsluitende opdracht 4.5: Is even?\n",
    "\n",
    "<p>Je kunt testen of een getal even of oneven is met de modulo-operator (<code>%</code>). Het algoritme is weergegeven in het volgende stroomdiagram:</p>\n",
    "\n",
    "<p><img src=\"http://course.cs.ru.nl/pythonVO/Jupyter/img/Python4_Stroomdiagram_isEven.jpg\" alt=\"Stroomdiagram bepalen even getal\" width=\"500\"></p>\n",
    "\n",
    "\n",
    "\n",
    "\n",
    "<p>Schrijf een programma dat de gebruiker om een geheel getal vraagt en dan afdrukt of dit even of oneven is.</p>\n",
    "\n"
   ]
  },
  {
   "cell_type": "code",
   "execution_count": null,
   "metadata": {
    "tags": [
     "Opdracht"
    ]
   },
   "outputs": [],
   "source": []
  },
  {
   "cell_type": "markdown",
   "metadata": {},
   "source": [
    "<p>Bekijk <a href=\"https://course.cs.ru.nl/pythonVO/Teams/IA_uitwerkingen/IA_H4_oplossingen.html#AfOpgave45\" target=\"_blank\">hier</a> de voorbeelduitwerking.</p>\n"
   ]
  },
  {
   "cell_type": "markdown",
   "metadata": {},
   "source": [
    "### Afsluitende opdracht 4.6: Amerikaans beoordelen\n",
    "\n",
    "<p>Cijfers voor proefwerken en tentamens vallen tussen 0 en 10 (inclusief 0 en 10) en worden altijd afgerond op halve punten.\n",
    "        De Amerikaanse stijl van beoordelen gebruikt letters. De cijfers:</p>\n",
    "    <ul>\n",
    "        <li> 8,5 tot en met 10 zijn in Amerika \"A\",\n",
    "        </li>\n",
    "        <li> 7,5 tot 8 zijn \"B\",\n",
    "        </li>\n",
    "        <li> 6,5 tot 7 zijn \"C\",\n",
    "        </li>\n",
    "        <li> 5,5 tot 6 zijn \"D\" en\n",
    "        </li>\n",
    "        <li> lager dan 5,5 is \"F\".\n",
    "        </li>\n",
    "    </ul>\n",
    "\n",
    "<p>Schrijf code die deze vertaling van cijfers naar letters maakt, waarbij de gebruiker gevraagd wordt om het cijfer in te geven.\n",
    "        Bedenk dat de invoer omgezet moet worden (van tekst) naar een float (kommagetal).\n",
    "        Als de gebruiker een cijfer buiten het gegeven bereik ingeeft, moet je een foutmelding geven.</p>\n"
   ]
  },
  {
   "cell_type": "code",
   "execution_count": null,
   "metadata": {
    "tags": [
     "Opdracht"
    ]
   },
   "outputs": [],
   "source": []
  },
  {
   "cell_type": "markdown",
   "metadata": {},
   "source": [
    "<p>Bekijk <a href=\"https://course.cs.ru.nl/pythonVO/Teams/IA_uitwerkingen/IA_H4_oplossingen.html#AfOpgave46\" target=\"_blank\">hier</a> de voorbeelduitwerking.</p>\n"
   ]
  },
  {
   "cell_type": "markdown",
   "metadata": {},
   "source": [
    "### Afsluitende opdracht 4.7: Redeneerfout\n",
    "\n",
    "<p>De Amerikaanse stijl van beoordelen gebruikt letters. De cijfers:</p>\n",
    "    <ul>\n",
    "        <li> 8,5 tot en met 10 zijn in Amerika \"A\",\n",
    "        </li>\n",
    "        <li> 7,5 tot 8 zijn \"B\",\n",
    "        </li>\n",
    "        <li> 6,5 tot 7 zijn \"C\",\n",
    "        </li>\n",
    "        <li> 5,5 tot 6 zijn \"D\" en\n",
    "        </li>\n",
    "        <li> lager dan 5,5 is \"F\".\n",
    "        </li>\n",
    "    </ul>\n",
    "\n",
    "\n",
    "<p>Welke redeneerfout is gemaakt in de volgende code? Test met een score van 9.8.\n",
    "        Pas de code aan zodat het juist werkt. Gebruik <code>elif</code>.</p>"
   ]
  },
  {
   "cell_type": "code",
   "execution_count": null,
   "metadata": {},
   "outputs": [],
   "source": [
    "score = 9.8\n",
    "if score >= 5.5:\n",
    "    grade = 'D'\n",
    "else:\n",
    "  if score >= 6.5:\n",
    "    grade = 'C'\n",
    "  else:\n",
    "    if score >= 7.5:\n",
    "      grade = 'B'\n",
    "    else:\n",
    "      if score >= 8.5:\n",
    "        grade = 'A'\n",
    "      else:\n",
    "        grade = 'F'\n",
    "print( grade )"
   ]
  },
  {
   "cell_type": "markdown",
   "metadata": {},
   "source": [
    "<p>Bekijk <a href=\"https://course.cs.ru.nl/pythonVO/Teams/IA_uitwerkingen/IA_H4_oplossingen.html#AfOpgave47\" target=\"_blank\">hier</a> de voorbeelduitwerking.</p>\n"
   ]
  },
  {
   "cell_type": "markdown",
   "metadata": {},
   "source": [
    "### Afsluitende opdracht 4.8: Aantal verschillende klinkers\n",
    "\n",
    "<p>Schrijf een programma dat afdrukt hoeveel verschillende klinkers er in een string zitten. De hoofdletterversie van een klinker wordt beschouwd als gelijk aan de kleineletterversie. Probeer de uitvoer een beetje netjes te maken (bijvoorbeeld: het is lelijk om te zeggen: \"Er zitten 1 verschillende klinkers in de string\").</p>\n",
    "\n",
    "<p>Voorbeeld: als de gebruiker als string \"Het Montessoricollege is een leuke school\" ingeeft, zegt het programma dat er 4 verschillende klinkers in de string zitten.</p>\n",
    "    <p>Tips:</p>\n",
    "    <ul>\n",
    "        <li>maak een variabele <code>teller</code> die begint bij 0;\n",
    "        </li>\n",
    "        <li>als een bepaalde klinker in de invoer voorkomt, hoog je de <code>teller</code> op;\n",
    "        </li>\n",
    "        <li>na afloop druk je een verschillende tekst af, afhankelijk van of je 0, 1 of meer klinkers gevonden hebt.\n",
    "        </li>\n",
    "    </ul>"
   ]
  },
  {
   "cell_type": "code",
   "execution_count": null,
   "metadata": {
    "tags": [
     "Opdracht"
    ]
   },
   "outputs": [],
   "source": []
  },
  {
   "cell_type": "markdown",
   "metadata": {},
   "source": [
    "<p>Bekijk <a href=\"https://course.cs.ru.nl/pythonVO/Teams/IA_uitwerkingen/IA_H4_oplossingen.html#AfOpgave48\" target=\"_blank\">hier</a> de voorbeelduitwerking.</p>\n"
   ]
  },
  {
   "cell_type": "markdown",
   "metadata": {},
   "source": [
    "### Afsluitende opdracht 4.9: Brugklasadvies\n",
    "\n",
    "<p>Op basis van de CITO-score voorspelt de Centrale Eindtoets welk brugklastype het beste past bij het kind.\n",
    "        Dat cijfer ligt ergens tussen 501 en 550.</p>\n",
    "\n",
    "<ul>\n",
    "        <li>501 - 536: vmbo\n",
    "        </li>\n",
    "        <li>537 - 539: havo\n",
    "        </li>\n",
    "        <li>540 - 544: havo / vwo\n",
    "        </li>\n",
    "        <li>545 - 550: vwo\n",
    "        </li>\n",
    "    </ul>\n",
    "\n",
    "<p>Schrijf een programma dat aan de hand van een ingevoerde CITO-score een brugklasadvies afdrukt.\n",
    "        Als er een ongeldige CITO-score opgegeven wordt, moet een foutmelding getoond worden.</p>\n"
   ]
  },
  {
   "cell_type": "code",
   "execution_count": null,
   "metadata": {
    "tags": [
     "Opdracht"
    ]
   },
   "outputs": [],
   "source": []
  },
  {
   "cell_type": "markdown",
   "metadata": {},
   "source": [
    "<p>Bekijk <a href=\"https://course.cs.ru.nl/pythonVO/Teams/IA_uitwerkingen/IA_H4_oplossingen.html#AfOpgave49\" target=\"_blank\">hier</a> de voorbeelduitwerking.</p>\n"
   ]
  },
  {
   "cell_type": "markdown",
   "metadata": {},
   "source": [
    "### Afsluitende opdracht 4.10: Geldige gebruikersnaam\n",
    "\n",
    "<p>Schrijf een programma dat controleert of een gebruiker een geldige gebruikersnaam heeft ingevoerd.\n",
    "        Dit zijn de eisen:</p>\n",
    "    <ul>\n",
    "        <li>de gebruikersnaam moet tussen de 2 en 20 karakters hebben;\n",
    "        </li>\n",
    "        <li>de volgende vreemde tekens mogen niet voorkomen: \"?\", \"%\", \"&amp;\";\n",
    "        </li>\n",
    "        <li>als de gebruikersnaam niet geldig is, druk dan af aan welke eis de gebruikersnaam niet voldoet;\n",
    "        </li>\n",
    "        <li>als de gebruikersnaam aan alle eisen voldoet, druk dan af: \"Hallo ....\". Op ... komt de gebruikersnaam te staan.\n",
    "        </li>\n",
    "    </ul>"
   ]
  },
  {
   "cell_type": "code",
   "execution_count": null,
   "metadata": {
    "tags": [
     "Opdracht"
    ]
   },
   "outputs": [],
   "source": []
  },
  {
   "cell_type": "markdown",
   "metadata": {},
   "source": [
    "<p>Bekijk <a href=\"https://course.cs.ru.nl/pythonVO/Teams/IA_uitwerkingen/IA_H4_oplossingen.html#AfOpgave410\" target=\"_blank\">hier</a> de voorbeelduitwerking.</p>\n"
   ]
  },
  {
   "cell_type": "markdown",
   "metadata": {},
   "source": [
    "### Afsluitende opdracht 4.11: App voor gewicht\n",
    "\n",
    "Bekijk het volgende stroomdiagram. Het algoritme bepaalt of een sporter is aangekomen of afgevallen.<p></p>\n",
    "\n",
    "<p><img src=\"http://course.cs.ru.nl/pythonVO/Jupyter/img/Python4_Stroomdiagram_gewichtApp.jpg\" alt=\"Stroomdiagram voor algoritme gewichtsApp\" width=\"750\"></p>\n",
    "\n",
    "<p>Vertaal het bovenstaande stroomdiagram naar een programma:</p>\n",
    "    <ol>\n",
    "        <li>vraag de gebruiker om zijn vorige gewicht in kg (als kommagetal);\n",
    "        </li>\n",
    "        <li>vraag de gebruiker om zijn huidige gewicht in kg (als kommagetal);\n",
    "        </li>\n",
    "        <li>als de sporter hetzelfde gewicht heeft, druk een melding af die dit aangeeft;\n",
    "        </li>\n",
    "        <li>bij aankomen of afvallen geeft de app dat aan en met hoeveel gram;\n",
    "        </li>\n",
    "        <li>Test je programma met verschillende waarden.\n",
    "        </li>\n",
    "    </ol>\n",
    "\n",
    "  <p>Tips: Bedenk dat de invoer omgezet moet worden naar een kommagetal (<code>float</code>).</p>\n"
   ]
  },
  {
   "cell_type": "code",
   "execution_count": null,
   "metadata": {
    "tags": [
     "Opdracht"
    ]
   },
   "outputs": [],
   "source": []
  },
  {
   "cell_type": "markdown",
   "metadata": {},
   "source": [
    "<p>Bekijk <a href=\"https://course.cs.ru.nl/pythonVO/Teams/IA_uitwerkingen/IA_H4_oplossingen.html#AfOpgave411\" target=\"_blank\">hier</a> de voorbeelduitwerking.</p>\n"
   ]
  }
 ],
 "metadata": {
  "kernelspec": {
   "display_name": "Python 3",
   "language": "python",
   "name": "python3"
  },
  "language_info": {
   "name": "python",
   "version": "3.12.2"
  }
 },
 "nbformat": 4,
 "nbformat_minor": 2
}
