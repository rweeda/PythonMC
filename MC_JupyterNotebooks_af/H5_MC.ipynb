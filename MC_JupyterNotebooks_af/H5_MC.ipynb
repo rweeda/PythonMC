{
 "cells": [
  {
   "cell_type": "markdown",
   "metadata": {},
   "source": [
    "# Hoofdstuk 5 - Functies (Deel 1)\n",
    "\n",
    "<img src=\"http://course.cs.ru.nl/pythonVO/Jupyter/img/Python5_AfbFunctieCode.jpg\" alt=\"Figuur: Bereik van variabelen bij blokken code\" width=\"200\">\n",
    "\n",
    "<p><i>Functies</i> zijn een van de belangrijkste concepten bij programmeren. Ze zijn krachtig, je kan er heel veel mee en daarnaast verhogen ze de kwaliteit van je code: overzichtelijker, minder fout-gevoelig en herbruikbaar. In hoofdstukken 5 en 6 leer je zelf functies schrijven.</p>\n",
    "\n",
    "<p>In dit onderwerp:</p>\n",
    "\n",
    "<ul>\n",
    "    <li>leer je dat functies helpen om code overzichtelijk en herbruikbaar te maken;\n",
    "    </li>\n",
    "    <li> leer je dat een <i>parameter</i> informatie is die een functie <i>meekrijgt</i> om haar werk te kunnen uitvoeren;\n",
    "    </li>\n",
    "    <li>leer je dat een <i>retourwaarde</i> informatie is die een functie <i>teruggeeft</i> aan het hoofdprogramma;\n",
    "    </li>\n",
    "    <li> leer je een programma met functies traceren, door in te zien dat <code>def</code>'s worden overgeslagen en de code in het hoofdprogramma als eerste wordt uitgevoerd;\n",
    "    </li>\n",
    "    <li> leer je hoe je een eigen functie maakt en aanroept;</li>\n",
    "    <li> leer je parameters te gebruiken om functies generiek te maken;</li>\n",
    "    <li> leer je hoe je functies kan aanroepen vanuit andere functies;</li>\n",
    "    <li> leer je code overzichtelijk te maken door functiedefinities boven aan de code bij elkaar te zetten, apart van de code van het hoofdprogramma; </li>\n",
    "    <li> leer je zinvol (functie)commentaar toe te voegen om de leesbaarheid van je code te verbeteren;\n",
    "    </li>\n",
    "    <li> met <b>Ctrl</b> + <b>/</b> meerdere regels code in één keer in (of uit) commentaar te zetten.</li>\n",
    "</ul>\n",
    "\n",
    "Verwerkingstijd: <b>2 uur</b>"
   ]
  },
  {
   "cell_type": "markdown",
   "metadata": {},
   "source": [
    "## 1: Het nut van functies\n",
    "\n",
    "<p>Met een <i>functie</i> kun je code gebruiken die een ander voor je geschreven heeft. Functies hebben we al eerder gebruikt, bijvoorbeeld bij het positief maken van een getal:</p>\n"
   ]
  },
  {
   "cell_type": "code",
   "execution_count": null,
   "metadata": {},
   "outputs": [],
   "source": [
    "positief_getal = abs( -4 )\n",
    "print( positief_getal )"
   ]
  },
  {
   "cell_type": "markdown",
   "metadata": {},
   "source": [
    "<p>Iemand anders heeft de code voor <code>abs()</code> geschreven. Die functie kun je nu zelf gebruiken zonder\n",
    "    dat je hoeft te weten hoe deze precies geprogrammeerd is. Met functies kun je makkelijk code hergebruiken en ook\n",
    "    maakt het je code overzichtelijk.</p>\n",
    "\n",
    "\n",
    "<p>We gaan nu uitgebreider in op wat een functie precies is en hoe ze werkt.</p>\n",
    "\n",
    "<p>Waarom zou je functies willen maken?\n",
    "</p>\n",
    "<ul>\n",
    "    <li><em>Decompositie</em>: een (complexe) probleem opdelen in kleinere stukken om het makkelijker op te lossen. Ieder stuk ontwikkel en test je los van de rest. De code kun je dan later gebruiken zonder er verder over na te denken. </li>\n",
    "    <li><em>Hergebruik</em>: met functies kun je een bepaald stuk code op meerdere plekken in je programma gebruiken. Je kunt dan beter verwijzen naar waar de code staat (de functie) dan deze te kopi&euml;ren. Ook kun je dan code aan andere programmeurs beschikbaar stellen (via modules).</li>\n",
    "    <li><em>Abstractie</em>: met parameters kun je de code voor meerdere toepassingen gebruiken en wordt deze ook makkelijker te lezen en te onderhouden.</li>\n",
    "    <li><em>Overzichtelijkheid</em>: met functies kun je lange code opsplitsen en daardoor overzichtelijker maken.</li>\n",
    "</ul>\n",
    "<p></p>"
   ]
  },
  {
   "cell_type": "markdown",
   "metadata": {},
   "source": [
    "## 2: Onderdelen van een functie\n",
    "\n",
    "[![Watch the video](https://img.youtube.com/vi/QPsZMU9o_28/hqdefault.jpg)](https://www.youtube.com/embed/QPsZMU9o_28)\n",
    "\n",
    "<p>Een functie is een blok herbruikbare code dat een bepaalde actie uitvoert. Om een functie aan te roepen (te gebruiken) moet je drie dingen weten:\n",
    "</p>\n",
    "<ul>\n",
    "    <li><i>Functienaam</i>: hoe de functie heet;</li>\n",
    "    <li><i>Parameters</i>: informatie die de functie nodig heeft;</li>\n",
    "    <li><i>Retourwaarde</i>: wat de functie teruggeeft (als die iets teruggeeft).</li>\n",
    "</ul>\n",
    "<p></p>\n",
    "<p>Een functie kan gezien worden als een taak die je aan iemand uitbesteedt. Je roept een commando, geeft bepaalde informatie dat nodig is om de taak uit te voeren en die persoon levert iets op (soms een getal of een tekst, soms een dienst).</p>\n",
    "\n",
    "\n",
    "<p><b>Voorbeeld van een functie: <code>max()</code></b></p>\n",
    "<p>We geven een voorbeeld van een functie en bespreken de functienaam, parameters en retourwaarde.</p>\n",
    "<p>Wil je het grootste getal van een rijtje getallen weten, dan roep je de functie <code>max()</code> aan. Als je iemand vraagt om het grootste van een rijtje getallen voor je te bepalen, dan heeft die persoon als extra informatie het rijtje getallen nodig waarvan je het grootste wilt weten. Die getallen zijn de <i>parameters</i>. Als resultaat wordt er een getal als antwoord geroepen. Dat resultaat moeten we zelf meteen opslaan, anders vergeten we dat.</p>\n"
   ]
  },
  {
   "cell_type": "code",
   "execution_count": null,
   "metadata": {},
   "outputs": [],
   "source": [
    "grootste = max( -4, 2, 6 )\n",
    "print(grootste)"
   ]
  },
  {
   "cell_type": "markdown",
   "metadata": {},
   "source": [
    "<p>Voor de code hierboven is:\n",
    "</p>\n",
    "<ul>\n",
    "    <li><i>functienaam</i>: <code>max</code>;</li>\n",
    "    <li><i>parameters</i>: <code>-4, 2, 6</code>. Dit is het rijtje getallen waarvan de grootste bepaald moet worden;</li>\n",
    "    <li><i>retourwaarde</i>: het antwoord van de functie <code>max()</code> dat we opslaan als <code>grootste</code>.</li>\n",
    "</ul>"
   ]
  },
  {
   "cell_type": "markdown",
   "metadata": {},
   "source": [
    "## 3: Functienaam, parameters en retourwaarde\n",
    "\n",
    "<p><b>Functienaam</b></p>\n",
    "<p>Iedere functie heeft een naam. De naam van een functie geeft een korte beschrijving van wat de functie doet:\n",
    "  met werkwoord(en). Functienamen schrijven we in <i>camelCase</i>, aan elkaar en met elk volgend woord als hoofdletter.\n",
    "    Bijvoorbeeld: <code>tekenRoodHuis()</code> of <code>isEven()</code>.</p>\n",
    "\n",
    "\n",
    "\n",
    "\n",
    "\n",
    "<p><b>Parameters</b></p>\n",
    "\n",
    "<p>Sommige functies hebben parameters (informatie) nodig. De parameters geef je tussen de haakjes mee. Hier volgen wat voorbeelden:\n",
    "\n",
    "</p>\n",
    "<ul>\n",
    "    <li><i>Een getal als parameter:</i><br>In de code hieronder is het getal -5 een parameter:<br>\n",
    "        <pre code=\"python\">positief_getal = abs( -5 )  \t# maak van het gegeven getal een positief getal</pre>\n",
    "    </li>\n",
    "    <li><i>Een string als parameter:</i><br>In de code hieronder is de tekst <i>\"hallo\"</i> een parameter:<br>\n",
    "        <pre code=\"python\">print( \"hallo\" )</pre>\n",
    "    </li>\n",
    "    <li><i>Geen parameter:</i><br>Functies hoeven niet altijd parameters te hebben. Bijvoorbeeld: <code>print()</code> kan ook aangeroepen worden zonder parameter:<br>\n",
    "        <pre code=\"python\">print()\t\t#print een nieuwe regel</pre><br>\n",
    "      <p>Heb je geen parameters, dan moet je toch altijd de haakjes plaatsen.</p>\n",
    "    </li>\n",
    "    <li><i>Meerdere parameters:</i>\n",
    "        <p>Een functie kan ook meerdere parameters krijgen. Als een functie meerdere\n",
    "            parameters krijgt, maakt de volgorde wel uit. Bijvoorbeeld: de standaardfunctie <code>pow()</code> krijgt\n",
    "            twee parameters en rekent de waarde uit van de eerste tot de macht van de tweede (andersom geeft een\n",
    "            andere uitkomst):</p>\n",
    "    </li>\n",
    "</ul>"
   ]
  },
  {
   "cell_type": "code",
   "execution_count": null,
   "metadata": {},
   "outputs": [],
   "source": [
    "basis = 2\n",
    "exponent = 3\n",
    "antwoord = pow( basis, exponent )  # bereken 2 tot de macht 3\n",
    "print( antwoord )"
   ]
  },
  {
   "cell_type": "markdown",
   "metadata": {},
   "source": [
    "<p><b>Retourwaarde</b></p>\n",
    "<p>Een functie kan wat opleveren of teruggeven. Dit noemen we de <i>retourwaarde</i>. Deze waarde wordt niet zomaar vanzelf onthouden. Het resultaat van een functie moet je daarom meteen opslaan. </p>\n",
    "\n",
    "<p>In het voorbeeld hieronder levert de functie <code>max()</code> het getal 6 op. Deze retourwaarde slaan we\n",
    "    op in de variabele <code>grootste</code>. Bij de aanroep van zo'n functie moet je dus <b>altijd</b> een\n",
    "    '='-teken gebruiken met aan de linkerkant een variabele waarin de retourwaarde opgeslagen wordt.</p>\n",
    "\n",
    "<pre code=\"python\"> grootste = max( -4, 2, 6 ) </pre>\n",
    "\n",
    "<p>Niet alle functies leveren iets op, bijvoorbeeld: <code>print()</code> 'doet iets'. Die levert geen getal of tekst\n",
    "    op, maar een dienst. Dan hoeven we ook niks op te slaan en kunnen we het aanroepen zonder een '='-teken.</p>"
   ]
  },
  {
   "cell_type": "markdown",
   "metadata": {},
   "source": [
    "### Opdracht 5.1: Onderdelen van een functie benoemen\n",
    "\n",
    "<p>Hieronder staat code. Geef voor elk van de volgende termen een voorbeeld uit de code:\n",
    "</p>\n",
    "<ol>\n",
    "    <li>Naam van de functie\n",
    "    </li>\n",
    "    <li>Parameters\n",
    "    </li>\n",
    "    <li>Type van parameters\n",
    "    </li>\n",
    "    <li>Retourwaarde\n",
    "    </li>\n",
    "    <li>Variabele waarin de retourwaarde (het antwoord) wordt opgeslagen\n",
    "    </li>\n",
    "    <li>Type van de retourwaarde (het antwoord)\n",
    "    </li>\n",
    "</ol>\n",
    "<p></p>"
   ]
  },
  {
   "cell_type": "code",
   "execution_count": null,
   "metadata": {
    "tags": [
     "Opdracht"
    ]
   },
   "outputs": [],
   "source": [
    "afgerond = round(3.14342, 2)  #afronden op 2 cijfers achter de komma"
   ]
  },
  {
   "cell_type": "markdown",
   "metadata": {},
   "source": [
    "<p>Bekijk <a href=\"Https://course.cs.ru.nl/pythonVO/Teams/IA_uitwerkingen/IA_H5_oplossingen.html#opgave521\" target=\"_blank\">hier</a> de voorbeelduitwerking.</p>\n"
   ]
  },
  {
   "cell_type": "markdown",
   "metadata": {},
   "source": [
    "## 4: Eigen functies maken\n",
    "\n",
    "[![Watch the video](https://img.youtube.com/vi/FnvcHTdxUI4/hqdefault.jpg)](https://www.youtube.com/embed/FnvcHTdxUI4)\n",
    "\n",
    "<p>Je kunt ook zelf een functie schrijven. Dan moet je bedenken hoe die heet, wat de parameters zijn en wat het oplevert. In het algemeen ziet dat er zo uit:</p>\n"
   ]
  },
  {
   "cell_type": "code",
   "execution_count": null,
   "metadata": {},
   "outputs": [],
   "source": [
    "def functienaam ( parameter1_naam, parameter2_naam ):\n",
    "    actie()\n",
    "    return .. # als de functie iets oplevert, gebeurt dit pas aan het einde"
   ]
  },
  {
   "cell_type": "markdown",
   "metadata": {},
   "source": [
    "<p><b>Functienaam</b></p>\n",
    "<p>Een functienaam moet duidelijk omschrijven wat een functie <i>doet</i>: gebruik daarom <i>werkwoorden</i>. Bestaat de naam uit meerdere woorden, plak die dan aan elkaar en begin elk nieuw woord met een hoofdletter. Bijvoorbeeld: <code>berekenOppervlakte</code>.</p>\n",
    "\n",
    "<p><b>Functiedefinitie</b></p>\n",
    "<p>Een <i>functiedefinitie</i> is een beschrijving van een functie. Met een <code>def</code> geef je aan dat het om een definitie gaat. Daarna volgen de parameter(s) en een ':'. De code die bij een functie hoort, staat daaronder ingesprongen.</p>\n",
    "\n",
    "<p>Voor de overzichtelijkheid zet je functiedefinities bij elkaar bovenaan de code.</p>\n",
    "\n",
    "\n",
    "\n",
    "<p><b>Voorbeeld van een programma met een eigen functie</b></p>\n",
    "<p>Bekijk en run het onderstaand programma.</p>"
   ]
  },
  {
   "cell_type": "code",
   "execution_count": null,
   "metadata": {},
   "outputs": [],
   "source": [
    "### FUNCTIEDEFINITIE\n",
    "def totZiens():\n",
    "\tprint( \"..en dan..\")\n",
    "\tprint( \"tot ziens!\" )\n",
    "\n",
    "### HOOFDPROGRAMMA MET AANROEP VAN FUNCTIE\n",
    "print( \"Hallo!\" )\n",
    "totZiens()\n",
    "print( \"Klaar! \")"
   ]
  },
  {
   "cell_type": "markdown",
   "metadata": {},
   "source": [
    "<p>De code is opgebouwd uit twee delen:\n",
    "</p>\n",
    "<ol>\n",
    "    <li><b>Functiedefinitie</b> (<code>def</code>): Dit programma heeft &eacute;&eacute;n functie, namelijk: <code>totZiens()</code> (regel 2). Deze functie heeft geen parameters (er staat niets tussen de haakjes). De twee ingesprongen regels horen bij de\n",
    "        functie (regels 3 en 4);</li>\n",
    "    <li><b>Hoofdprogramma</b>: Omdat functiedefinities alleen beschrijvingen zijn, wordt de code daarvan niet zomaar uitgevoerd. Python begint bij het uitvoeren van de regels van het hoofdprogramma (regel 7). Deze coderegels worden &eacute;&eacute;n-voor-&eacute;&eacute;n uitgevoerd.\n",
    "        Functiedefinities horen dus niet bij het hoofdprogramma.</li>\n",
    "</ol>\n",
    "<p></p>\n",
    "\n",
    "<p>Hieronder zie je een stroomdiagram voor het hoofdprogramma.</p>\n",
    "<div class=\"figure\">\n",
    "    <img height=\"50%\" width=\"50%\" src=\"http://course.cs.ru.nl/pythonVO/Jupyter/img/Python5voorbeeld_Stroomdiagram_Hoofdprogramma.jpg\" alt=\"Stroomdiagram hoofdprogramma met functieaanroep\">\n",
    "</div>\n",
    "\n",
    "\n",
    "<p>De code van een functie wordt niet zomaar uitgevoerd; dat gebeurt pas als <code>totZiens()</code> in het hoofdprogramma aangeroepen wordt.</p>\n",
    "\n",
    "\n",
    "<p>Bekijk eventueel het volgende filmpje voor een <b>extra</b> uitleg over functies (tip: zet eventueel ondertitels aan):</p>\n",
    "\n",
    "[![Watch the video](https://img.youtube.com/vi/owglNL1KQf0/hqdefault.jpg)](https://www.youtube.com/embed/owglNL1KQf0)"
   ]
  },
  {
   "cell_type": "markdown",
   "metadata": {},
   "source": [
    "## 5: Volgorde van code uitvoer met functies\n",
    "\n",
    "<p>We bekijken nu de volgorde waarin code met functies uitgevoerd wordt.</p>\n"
   ]
  },
  {
   "cell_type": "code",
   "execution_count": null,
   "metadata": {},
   "outputs": [],
   "source": [
    "### FUNCTIEDEFINITIE\n",
    "def totZiens():\n",
    "\tprint( \"..en dan..\")\n",
    "\tprint( \"tot ziens!\" )\n",
    "\n",
    "### HOOFDPROGRAMMA MET AANROEP VAN FUNCTIE\n",
    "print( \"Hallo!\" )\n",
    "totZiens()\n",
    "print( \"Klaar! \")"
   ]
  },
  {
   "cell_type": "markdown",
   "metadata": {},
   "source": [
    "<ol>\n",
    "    <li>Bij het uitvoeren van het programma worden de functiedefinities overgeslagen: er wordt meteen naar het hoofdprogramma gesprongen. Daar wordt als eerste <i>\"Hallo!\"</i> geprint (regel 7).\n",
    "    </li>\n",
    "    <li>Daarna wordt de functie <code>totZiens()</code> aangeroepen (regel 8).\n",
    "    </li>\n",
    "    <li>Het programma springt naar de definitie van <code>totZiens()</code> (regel 2).\n",
    "    </li>\n",
    "    <li>De eerste regel in de functie print de tekst <i>\"..en dan.. \"</i>\" (regel 3)\n",
    "    </li>\n",
    "    <li>De volgende regel in de functie print <i>\"tot ziens!\"</i> (regel 4).\n",
    "    </li>\n",
    "    <li>Dan is de functie afgelopen (er wordt namelijk niet meer ingesprongen).\n",
    "    </li>\n",
    "    <li>Na afloop van de functie wordt teruggekeerd naar het hoofdprogramma, waar verder wordt gegaan met de volgende regel code: <code>print( \"Klaar!\" )</code> (regel 9).\n",
    "    </li>\n",
    "    <li>Het programma is dan klaar en stopt.\n",
    "    </li>\n",
    "</ol>\n",
    "<p></p>\n",
    "<p>Functiedefinities worden dus in eerste instantie overgeslagen. De code van een functie wordt alleen uitgevoerd als de functie wordt aangeroepen.</p>\n"
   ]
  },
  {
   "cell_type": "markdown",
   "metadata": {},
   "source": [
    "### Opdracht 5.2: Een functie aanroepen\n",
    "\n",
    "<p>Door functies aan te roepen ga je nu heel makkelijk het volgende tekenen:</p>\n",
    "<div class=\"figure\">\n",
    "    <img src=\"http://course.cs.ru.nl/pythonVO/Jupyter/img/Python6_opgaveFunctieAanroep2Vierkanten.png\" width=\"200\" alt=\"2 vierkanten\">\n",
    "</div>\n",
    "\n",
    "<p>In de code hieronder staat een functiedefinitie voor het tekenen van een vierkant.</p>\n",
    "<p>Jouw opdracht is om deze te gebruiken om de bovenstaande afbeelding met twee vierkantjes te maken. Maak de afbeelding door in het hoofdprogramma het volgende te doen:\n",
    "</p>\n",
    "<ol>\n",
    "    <li>op regel 17: de functie <code>tekenVierkant()</code> aan te roepen;\n",
    "    </li>\n",
    "    <li>op regel 18: 45 graden naar rechts te draaien;\n",
    "    </li>\n",
    "    <li>op regel 19: de functie <code>tekenVierkant()</code> nog eens aan te roepen.\n",
    "    </li>\n",
    "</ol>\n",
    "<p></p>"
   ]
  },
  {
   "cell_type": "code",
   "execution_count": 1,
   "metadata": {
    "tags": [
     "Opdracht"
    ]
   },
   "outputs": [],
   "source": [
    "import turtle\n",
    "### FUNCTIEDEFINITIE\n",
    "\n",
    "#Definitie: Instructies voor het tekenen van een vierkant met grootte van 20\n",
    "def tekenVierkant(  ):\n",
    "    turtle.forward( 20 )\n",
    "    turtle.right(90)\n",
    "    turtle.forward( 20 )\n",
    "    turtle.right(90)\n",
    "    turtle.forward( 20 )\n",
    "    turtle.right(90)\n",
    "    turtle.forward( 20 )\n",
    "    turtle.right(90)\n",
    "\n",
    "### HOOFDPROGRAMMA MET AANROEP VAN FUNCTIE\n",
    "turtle.pendown()\n",
    "#Stap1: roep hier de functie aan voor tekenen van vierkant\n",
    "#Stap2: draai rechts 45 graden\n",
    "#Stap3: roep hier de functie aan voor tekenen van vierkant\n",
    "\n",
    "turtle.done()"
   ]
  },
  {
   "cell_type": "markdown",
   "metadata": {},
   "source": [
    "<p>Bekijk <a href=\"Https://course.cs.ru.nl/pythonVO/Teams/IA_uitwerkingen/IA_H5_oplossingen.html#opgave532\" target=\"_blank\">hier</a> de voorbeelduitwerking.</p>\n"
   ]
  },
  {
   "cell_type": "markdown",
   "metadata": {},
   "source": [
    "### Opdracht 5.3: Een eigen functie maken: <code>tekenSnoep()</code>\n",
    "\n",
    "<p>Je gaat nu een eigen functie maken voor het tekenen van een lolly:</p>\n",
    "<img src=\"http://course.cs.ru.nl/pythonVO/Jupyter/img/Python6_opgaveTekenSnoep_afbeelding.jpg\" width=\"100\" alt=\"Lolly\">\n",
    "<br>\n",
    "\n",
    "<p>De code hieronder tekent een lolly. Dat gebeurt zo:\n",
    "</p>\n",
    "<ul>\n",
    "    <li>het rode snoeprondje in het eerste deel: coderegels 6 t/m 9;\n",
    "    </li>\n",
    "    <li>het zwarte stokje in het tweede deel: coderegels 12 en 13.\n",
    "    </li>\n",
    "</ul>\n",
    "<p></p>\n",
    "\n",
    "<p>Ieder blok code heeft zijn eigen taak. Het is daarom logisch om hier twee functies van te maken:\n",
    "</p>\n",
    "<ul>\n",
    "    <li><code>tekenSnoep()</code>\n",
    "    </li>\n",
    "    <li><code>tekenStok()</code>\n",
    "    </li>\n",
    "</ul>\n",
    "<p></p>\n",
    "\n",
    "<p>Jouw opdracht:\n",
    "</p>\n",
    "<ol>\n",
    "    <li>Maak een functiedefinitie <code>def tekenSnoep():</code> voor het tekenen van het snoep (dus voor de code regels 6 t/m 9);\n",
    "    </li>\n",
    "    <li>Roep je functie <code>tekenSnoep()</code> aan in het hoofdprogramma;\n",
    "    </li>\n",
    "    <li>Maak een functiedefinitie voor <code>tekenStok()</code> die je kunt gebruiken voor het tekenen van de stok.\n",
    "    </li>\n",
    "    <li>Roep je functie <code>tekenStok()</code> aan in het hoofdprogramma.\n",
    "    </li>\n",
    "</ol>"
   ]
  },
  {
   "cell_type": "code",
   "execution_count": null,
   "metadata": {
    "tags": [
     "Opdracht"
    ]
   },
   "outputs": [],
   "source": [
    "import turtle\n",
    "\n",
    "#### FUNCTIEDEFINITIES\n",
    "\n",
    "# code voor het tekenen van het snoep:\n",
    "turtle.fillcolor(\"red\")\n",
    "turtle.begin_fill()\n",
    "turtle.circle(30)\n",
    "turtle.end_fill()\n",
    "# code voor het tekenen van de stok:\n",
    "turtle.right(90)\n",
    "turtle.forward(100)\n",
    "\n",
    "### HOOFDPROGRAMMA\n",
    "turtle.pendown()\n",
    "#roep hier je functie tekenSnoep() aan\n",
    "#roep hier je functie tekenStok() aan\n",
    "\n",
    "turtle.done()"
   ]
  },
  {
   "cell_type": "markdown",
   "metadata": {},
   "source": [
    "<p>Bekijk <a href=\"Https://course.cs.ru.nl/pythonVO/Teams/IA_uitwerkingen/IA_H5_oplossingen.html#opgave533\" target=\"_blank\">hier</a> de voorbeelduitwerking.</p>"
   ]
  },
  {
   "cell_type": "markdown",
   "metadata": {},
   "source": [
    "## 6: Overzichtelijk hoofdprogramma\n",
    "\n",
    "<p><img src=\"http://course.cs.ru.nl/pythonVO/Jupyter/img/Python6_opgaveTekenSnoep_afbeelding.jpg\" alt=\"Lolly\" width=\"150\" height=\"292\" class=\"img-responsive atto_image_button_right\">\n",
    "\n",
    "</p>\n",
    "<p>Het grote voordeel van functies is dat het hoofdprogramma nu duidelijk samenvat wat de\n",
    "    code als geheel doet, zonder dat je naar allerlei codedetails hoeft te kijken. Dat zie je in de code van de vorige opdracht ook: in het hoofdprogramma wordt de pen neergezet, snoep getekend en daarna het stokje:</p>\n"
   ]
  },
  {
   "cell_type": "code",
   "execution_count": null,
   "metadata": {},
   "outputs": [],
   "source": [
    "### HOOFDPROGRAMMA\n",
    "turtle.pendown()\n",
    "tekenSnoep()\n",
    "tekenStok()"
   ]
  },
  {
   "cell_type": "markdown",
   "metadata": {},
   "source": [
    "<p>Dit leest als een soort inhoudsopgave van een boek. Als je details wilt zien ga je naar de bijbehorende functiedefinitie. Als je bijvoorbeeld wilt zien hoe groot het snoeprondje precies getekend wordt, kun je naar de code van <code>tekenSnoep()</code> gaan.</p>"
   ]
  },
  {
   "cell_type": "markdown",
   "metadata": {},
   "source": [
    "## 7: Functies met en zonder parameters en retourwaarden\n",
    "\n",
    "<p><i>Functies</i> bij het programmeren zijn net als functies die iemand heeft in een bedrijf: ze moeten <i>iets doen</i>. Soms moet die persoon informatie van je hebben om zijn werk goed te doen (invoer). Soms levert het een concreet product op (iemand maakt iets voor je) en soms een dienst (iemand doet iets voor je). Neem de bakker bijvoorbeeld:\n",
    "</p>\n",
    "<ul>\n",
    "    <li>Wat doet de bakker? Hij bakt brood.</li>\n",
    "    <li>Welk informatie heeft de bakker van je nodig? Hij moet weten welk brood je wilt en bijvoorbeeld of je een heel of een half brood wilt. Deze informatie geef je aan de bakker (als parameter).</li>\n",
    "    <li>Wat geeft de bakker jou? De bakker levert een brood op dat hij aan jou geeft (als retourwaarde).</li>\n",
    "</ul>\n",
    "<p></p>\n",
    "\n",
    "<p><b>Algemene uitleg over verschillende soorten functies</b></p>\n",
    "\n",
    "<p>Je hebt verschillende soorten functies:\n",
    "</p>\n",
    "<ol type=\"I\">\n",
    "    <li><i>Zonder parameters, zonder retourwaarde</i> (zie dit hoofdstuk, paragraaf '8: Functies zonder parameters of retourwaarde'): <p>Deze geef je geen informatie (dus <b>zonder parameters</b>) en ze geven niets terug (dus\n",
    "            leveren <b>geen retourwaarde</b> op) Soms kan iemand iets doen zonder dat hij of zij daar specifiek\n",
    "            informatie voor nodig heeft en zonder dat er echt een tastbare retourwaarde (of resultaat) opgeleverd wordt.\n",
    "            Bijvoorbeeld: de buschauffeuse. Zij rijdt rondjes en stopt op vaste locaties, je stapt in de bus, je hoeft haar\n",
    "            niet te vertellen waar ze heen (geen parameters) moet rijden en ze geeft jou ook niets (levert geen concreet\n",
    "            resultaat op).</p>\n",
    "    </li>\n",
    "    <li><i>Met parameters, zonder retourwaarde</i> (zie dit hoofdstuk, paragraaf '9: Functies met parameters'): <p>Deze geef je\n",
    "            wel informatie (dus <b>met parameters</b>), maar ze geven niets terug (dus leveren <b>geen retourwaarde</b> op). Soms heeft iemand specifieke informatie nodig om iets te doen, maar het hoeft niet per se een\n",
    "            tastbare retourwaarde (of resultaat) op te leveren. Bijvoorbeeld: de bibliothecaresse die boeken inneemt. Je\n",
    "            geeft haar jouw boeken, zij registreert dat je ze in hebt geleverd en zet ze op de juiste plek terug in de\n",
    "            bibliotheek.</p>\n",
    "    </li>\n",
    "    <li><i>Met parameters, met retourwaarde</i> (zie hoofdstuk 6, paragraaf '2: Functies met een retourwaarde'): <p>Aan deze geef je wel informatie (dus <b>met parameters</b>), en ze geven je iets terug (dus leveren <b>met\n",
    "                <code>return</code></b> een concrete retourwaarde op). Soms heeft iemand specifieke informatie om iets te doen en geeft hij je ook iets terug (een resultaat) waar je daarna iets mee kan doen. Bijvoorbeeld: de loketmedewerker bij een geldwisselkantoor. Je geeft haar euro’s omdat je dollars nodig hebt voor je vakantie in Amerika, ze berekent hoeveel dollars die euro’s waard zijn en geeft je dollars terug.</p>\n",
    "    </li>\n",
    "    <li><i>Zonder parameters, met retourwaarde</i> (zie hoofdstuk 6, paragraaf '3: Functies met retourwaarden en parameters'):\n",
    "        <p>Aan deze geef je geen informatie (dus <b>zonder parameters</b>), maar ze geven je wel iets terug (dus leveren <b>met <code>return</code></b> een concrete retourwaarde). Soms heeft iemand geen specifieke informatie nodig om iets te doen, maar geeft je wel iets terug (een resultaat) waar je daarna iets mee kan doen. Bijvoorbeeld: een verkeersregelaar. Die geeft aanwijzingen voor wat je moet doen.</p>\n",
    "    </li>\n",
    "</ol>"
   ]
  },
  {
   "cell_type": "markdown",
   "metadata": {},
   "source": [
    "## 8: Functies zonder parameters en zonder retourwaarde\n",
    "\n",
    "<p>Code die bij elkaar hoort of die vaker gebruikt wordt, zet je samen in een functie. Soms heeft een functie geen parameters, omdat deze geen specifieke informatie nodig heeft. Soms levert een functie geen retourwaarde op, maar \"doet ze iets\".</p>\n",
    "\n",
    "<p>Bekijk het voorbeeld hieronder. De vijf regels code voor het tekenen van een driehoek horen bij elkaar omdat ze samen een doel bereiken. Daarom staan ze bij elkaar in een functie <code>tekenDriehoek()</code>. Deze functie heeft geen parameters (er staat niets tussen de haakjes) en ook geen retourwaarde (ze levert niks op, maar ze doet iets).</p>\n"
   ]
  },
  {
   "cell_type": "code",
   "execution_count": null,
   "metadata": {},
   "outputs": [],
   "source": [
    "import turtle\n",
    "\n",
    "### FUNCTIEDEFINITIE\n",
    "def tekenDriehoek():\n",
    "\tturtle.forward(50)\n",
    "\tturtle.right(120)\n",
    "\tturtle.forward(50)\n",
    "\tturtle.right(120)\n",
    "\tturtle.forward(50)\n",
    "\n",
    "### HOOFDPROGRAMMA MET FUNCTIEAANROEP\n",
    "turtle.pendown()\n",
    "tekenDriehoek()"
   ]
  },
  {
   "cell_type": "markdown",
   "metadata": {},
   "source": [
    "### Opdracht 5.4: Figuurtje tekenen\n",
    "\n",
    "<p>Bekijk de code hieronder. Beantwoord voor jezelf de volgende vragen zonder de code te runnen:\n",
    "</p>\n",
    "<ol>\n",
    "    <li>Vat in je eigen woorden samen wat de functie <code>tekenFiguur()</code> doet. Wat zou een betere naam voor de functie zijn?\n",
    "    </li>\n",
    "    <li>Heeft <code>tekenFiguur()</code> informatie nodig om zijn werk te doen? Oftewel: krijgt hij parameters mee?\n",
    "    </li>\n",
    "    <li>Levert <code>tekenFiguur()</code> informatie op (die bijvoorbeeld later in het programma nog gebruikt kan worden)? Oftewel: heeft <code>tekenFiguur()</code> een coderegel met <code>return</code>?\n",
    "    </li>\n",
    "    <li>Roep <code>tekenFiguur()</code> aan op regel 15, dus na <code>turtle.right(135)</code>.\n",
    "    </li>\n",
    "    <li>Als <code>tekenFiguur()&nbsp;</code>niet in een functie had gestaan, hoe vaak had je dan <code>turtle.forward(50)</code> moeten intikken om hetzelfde resultaat te krijgen?\n",
    "    </li>\n",
    "</ol>\n",
    "<p></p>\n",
    "<p>Run de code om je vermoedens te controleren.</p>"
   ]
  },
  {
   "cell_type": "code",
   "execution_count": null,
   "metadata": {
    "tags": [
     "Opdracht"
    ]
   },
   "outputs": [],
   "source": [
    "import turtle\n",
    "\n",
    "### FUNCTIEDEFINITIE\n",
    "def tekenFiguur():\n",
    "\tturtle.forward(50)\n",
    "\tturtle.right(120)\n",
    "\tturtle.forward(50)\n",
    "\tturtle.right(120)\n",
    "\tturtle.forward(50)\n",
    "\n",
    "### HOOFDPROGRAMMA MET FUNCTIEAANROEP\n",
    "turtle.pendown()\n",
    "tekenFiguur()\n",
    "turtle.right(135)\n",
    "\n",
    "turtle.done()"
   ]
  },
  {
   "cell_type": "markdown",
   "metadata": {},
   "source": [
    "<p>Bekijk <a href=\"Https://course.cs.ru.nl/pythonVO/Teams/IA_uitwerkingen/IA_H5_oplossingen.html#opgave541\" target=\"_blank\">hier</a> de voorbeelduitwerking.</p>\n"
   ]
  },
  {
   "cell_type": "markdown",
   "metadata": {},
   "source": [
    "## 9: Functies met parameters, maar zonder retourwaarde\n",
    "\n",
    "[![Watch the video](https://img.youtube.com/vi/VUQXoVdM8bY/hqdefault.jpg)](https://www.youtube.com/embed/VUQXoVdM8bY)\n",
    "\n",
    "<p>Heb je code die je vaker gebruikt, maar er telkens iets anders uit ziet? Dan kan je met <i>parameters</i> aangeven wat er in de functie anders moet.</p>\n",
    "\n",
    "<p>Stel, <code>tekenDriehoek()</code> moet steeds een ander kleure gebruiken. De functie <code>tekenDriehoek()</code> moet de kleur weten. De kleur geef je als parameter (extra informatie) mee:\n",
    "</p>\n",
    "<ul>\n",
    "    <li><i>Aanroep</i>: geef de kleur mee bij de aanroep van de functie: <code>tekenDriehoek( \"red\" )</code> (regel 14).\n",
    "    </li>\n",
    "    <li><i>Functiedefinitie</i>: geef in de functiedefinitie aan hoe die informatie binnen de functie genoemd wordt: hier <code>kleur</code> (regel 4). In de functie zelf wordt elk voorkomen van <code>kleur</code> vervangen door <code>\"red\"</code>,\n",
    "        bijvoorbeeld op regel 5.\n",
    "    </li>\n",
    "</ul>"
   ]
  },
  {
   "cell_type": "code",
   "execution_count": null,
   "metadata": {},
   "outputs": [],
   "source": [
    "import turtle\n",
    "\n",
    "### FUNCTIEDEFINITIE\n",
    "def tekenDriehoek( kleur ):\n",
    "    turtle.pencolor( kleur )\n",
    "    turtle.forward(50)\n",
    "    turtle.right(120)\n",
    "    turtle.forward(50)\n",
    "    turtle.right(120)\n",
    "    turtle.forward(50)\n",
    "\n",
    "### HOOFDPROGRAMMA MET FUNCTIEAANROEP\n",
    "turtle.pendown()\n",
    "tekenDriehoek( \"red\" )\n",
    "\n",
    "turtle.done()"
   ]
  },
  {
   "cell_type": "markdown",
   "metadata": {},
   "source": [
    "### Opdracht 5.5: Cirkels met verschillende maten tekenen\n",
    "\n",
    "<p>Hieronder zie je de functie <code>tekenCirkel( kleur )</code> die als extra informatie (parameter) een kleur meekrijgt. Run de code.</p>\n",
    "\n",
    "<p>Breid de code uit zodat ook de grootte van de cirkel meegegeven wordt:\n",
    "</p>\n",
    "<ol>\n",
    "    <li>Pas de functiedefinitie aan op regel 4 zodat deze ook een grootte meekrijgt: <code>def tekenCirkel( kleur, grootte ):</code>\n",
    "    </li>\n",
    "    <li>Vervang in je functie de 'harde waarde' (het getal 50) door de naam die je gekozen hebt voor de informatie: <code>grootte</code>\n",
    "    </li>\n",
    "    <li>Roep in je hoofdprogramma de functie aan met de juiste informatie (op regel 14).\n",
    "    </li>\n",
    "    <li>Roep in je hoofdprogramma de functie nog een keer aan (op regel 15), deze keer met een andere kleur en andere grootte.\n",
    "    </li>\n",
    "</ol>"
   ]
  },
  {
   "cell_type": "code",
   "execution_count": null,
   "metadata": {
    "tags": [
     "Opdracht"
    ]
   },
   "outputs": [],
   "source": [
    "import turtle\n",
    "\n",
    "### FUNCTIEDEFINITIE\n",
    "#tekent een cirkel, en krijgt als informatie (parameter) de kleur mee\n",
    "def tekenCirkel( kleur ):\n",
    "  turtle.pencolor( kleur )\n",
    "  turtle.circle( 50 )\n",
    "\n",
    "### HOOFDPROGRAMMA\n",
    "tekenCirkel(\"blue\")\n",
    "\n",
    "\n",
    "turtle.done()"
   ]
  },
  {
   "cell_type": "markdown",
   "metadata": {},
   "source": [
    "<p>Bekijk <a href=\"Https://course.cs.ru.nl/pythonVO/Teams/IA_uitwerkingen/IA_H5_oplossingen.html#opgave542\" target=\"_blank\">hier</a> de voorbeelduitwerking.</p>\n"
   ]
  },
  {
   "cell_type": "markdown",
   "metadata": {},
   "source": [
    "## Opgave 5.6: Persoonlijke groet\n",
    "\n",
    "<p>Hieronder staat een functiedefinitie die een groet print. Jouw opdracht is om dat persoonlijker te maken: <i>\"Hallo Sebas uit Spanje!\"</i>. De boodschap is natuurlijk afhankelijk van wat er als informatie aan de functie wordt meegegeven.</p>\n",
    "\n",
    "<p>Pas de functiedefinitie aan zodat naam en land meegegeven wordn, en dat eze informatie gebruikt wordt voor het afdrukken van de persoonlijke groet.</p>\n"
   ]
  },
  {
   "cell_type": "code",
   "execution_count": null,
   "metadata": {
    "tags": [
     "Opdracht"
    ]
   },
   "outputs": [],
   "source": [
    "### FUNCTIEDEFINITIE\n",
    "def groet( naam ):\n",
    "    print( \"Hallo!\")\n",
    "\n",
    "\n",
    "### HOOFDPROGRAMMA MET AANROEP VAN FUNCTIE\n",
    "groet( \"Sebas\", \"Spanje\" )\n",
    "groet( \"John\", \"Engeland\" )\n",
    "groet( \"Janneke\", \"Nederland\" )"
   ]
  },
  {
   "cell_type": "markdown",
   "metadata": {},
   "source": [
    "<p>Bekijk <a href=\"Https://course.cs.ru.nl/pythonVO/Teams/IA_uitwerkingen/IA_H5_oplossingen.html#opgave543\" target=\"_blank\">hier</a> de voorbeelduitwerking.</p>\n"
   ]
  },
  {
   "cell_type": "markdown",
   "metadata": {},
   "source": [
    "## 10: Functies aanroepen vanuit andere functies\n",
    "\n",
    "<p>Functies mogen andere functies aanroepen. Bijvoorbeeld: hieronder zie je hoe de functie <code>tekenLolly()</code> de functies <code>tekenSnoep()</code> (op regel 18)\n",
    "    en <code>tekenStok()</code> (op regel 19) gebruikt om de lolly als geheel te tekenen:</p>\n"
   ]
  },
  {
   "cell_type": "code",
   "execution_count": null,
   "metadata": {},
   "outputs": [],
   "source": [
    "import turtle\n",
    "\n",
    "### FUNCTIEDEFINITIES\n",
    "#teken snoep\n",
    "def tekenSnoep( straal, kleur ):\n",
    "  turtle.fillcolor( kleur)\n",
    "  turtle.begin_fill()\n",
    "  turtle.circle( straal )\n",
    "  turtle.end_fill()\n",
    "\n",
    "#teken stok\n",
    "def tekenStok( lengte_stok ):\n",
    "  turtle.right(90)\n",
    "  turtle.forward( lengte_stok )\n",
    "\n",
    "#tekent lolly\n",
    "def tekenLolly( straal, kleur, lengte_stok ):\n",
    "  tekenSnoep( straal, kleur )\n",
    "  tekenStok( lengte_stok ) #andere functie wordt aangeroepen om stok te tekenen\n",
    "\n",
    "### HOOFDPROGRAMMA\n",
    "turtle.pendown()\n",
    "tekenLolly(40, \"blue\", 100 ) #parameters: straal, kleur, lengte_stok)\n",
    "turtle.done()"
   ]
  },
  {
   "cell_type": "markdown",
   "metadata": {},
   "source": [
    "## 11: Leesbaarheid\n",
    "\n",
    "<p><b>Overzichtelijke code</b></p>\n",
    "<p>Code wordt leesbaarder door:\n",
    "</p>\n",
    "<ul>\n",
    "    <li>goede keuze van variabelenamen en functienamen: zinvol en volgens conventies (zoals <code>var_naam</code> of <code>functienaam</code>);\n",
    "    </li>\n",
    "    <li>gebruik te maken van witregels tussen functies of blokken code die bij elkaar horen;\n",
    "    </li>\n",
    "    <li>code bij elkaar te zetten die bij elkaar hoort, zoals het scheiden van functiedefinities van het hoofdprogramma;\n",
    "    </li>\n",
    "    <li>globale variabelen (constanten en variabelen die door het hele programma gebruikt worden) bij elkaar bovenaan de code te zetten.\n",
    "    </li>\n",
    "</ul>\n",
    "<p></p>\n",
    "\n",
    "\n",
    "\n",
    "<p><b>Functies om leesbaarheid te verbeteren</b></p>\n",
    "<p>Je code wordt ook overzichtelijker als je code die bij elkaar hoort en dus een doel heeft, bij elkaar zet in een functie. Het doel vat je samen in de functienaam. Een functie hoort geen zijeffecten te hebben. Ze doet wat de samenvatting zegt en verder niks. Dat wil zeggen, een functie <code>isEven()</code> bepaalt of een getal even of oneven is, maar doet verder helemaal niks! Anders wordt het namelijk moeilijker om over je code te redeneren.</p>\n",
    "\n",
    "<p><b>Commentaar om leesbaarheid te verbeteren</b></p>\n",
    "\n",
    "<p><i>Commentaar</i> is bedoeld om code toe te lichten. Commentaar geef je aan met een <code>#</code>. Python negeert deze tijdens de uitvoering. Commentaar is niet alleen nuttig voor anderen die je code lezen, maar ook voor jezelf, aangezien je soms je eigen code later nog moet wijzigen. Gebruik het dus om blokken code samen te vatten, ingewikkelde code uit te leggen of als je een bestaande functie voor het eerst gebruikt, uit te leggen wat deze doet.</p>\n",
    "\n",
    "\n",
    "<pre code=\"python\">#Deze functie heeft als doel om ....\n",
    "def doeIets():\n",
    "\tprint( \"Iets...\" ) # Dit is commentaar\n",
    "</pre>\n",
    "\n",
    "\n",
    "<p><b>Functiecommentaar</b></p>\n",
    "<p>Het idee achter een functie is dat de gebruiker van de functie de code van de functie niet hoeft te kennen. Functiecommentaar schrijf je boven iedere functiedefinitie. Met functiecommentaar geef je aanwijzingen over het gebruik van je functie:\n",
    "</p>\n",
    "<ul>\n",
    "    <li>Samenvattend: hoe de functie werkt;</li>\n",
    "    <li>Onder welke omstandigheden de functie (niet) goed werkt;</li>\n",
    "    <li>Welke parameters meegegeven moeten worden;</li>\n",
    "    <li>Wat de functie retourneert, ook bij ongeldige invoer.</li>\n",
    "</ul>\n",
    "<p></p>\n",
    "\n",
    "<p>\n",
    "    Bijvoorbeeld:\n",
    "</p>"
   ]
  },
  {
   "cell_type": "code",
   "execution_count": null,
   "metadata": {},
   "outputs": [],
   "source": [
    "### FUNCTIEDEFINITIE\n",
    "#Doel: rekent aantal kilometers (groter of gelijk aan 0) om naar meters\n",
    "#Invoer: kilometers, als int of float\n",
    "#Uitvoer: meters, als int of float (zelfde type als de invoer)\n",
    "def rekenKmNaarMeters( afstand_in_km ):\n",
    "\tafstand_in_m = afstand_in_km * 1000\n",
    "\treturn( afstand_in_m )\n",
    "\n",
    "### HOOFDPROGRAMMA MET AANROEP VAN FUNCTIE\n",
    "aantal_meters = rekenKmNaarMeters( 4 )\n",
    "print( aantal_meters )"
   ]
  },
  {
   "cell_type": "markdown",
   "metadata": {},
   "source": [
    "<p><b>Strategie: Commentaar gebruiken tijdens debuggen</b></p>\n",
    "\n",
    "<p>Je kunt commentaar ook goed gebruiken om de oorzaak van fouten in je code op te sporen. Met <code>#</code> kan je een regel in commentaar zetten. Die doet dan niet meer mee aan het programma. Zo kun je uitsluiten dat de regel een fout veroorzaakt. Ook kun je meerdere regels in commentaar zetten en regel voor regel het commentaar weghalen om zo te ontdekken wat de fout veroorzaakt.</p>\n",
    "\n",
    "<p><b>Tip: meerdere regels in &eacute;&eacute;n keer in commentaar:</b>\n",
    "</p>\n",
    "<ol style=\"list-style-type: lower-alpha\">\n",
    "    <li>Selecteer de code die je in commentaar wilt zetten.\n",
    "    </li>\n",
    "    <li>Druk gelijktijdig op <b>Ctrl + /</b> om de geselecteerde regels allemaal in één keer in commentaar te zetten.\n",
    "    </li>\n",
    "    <li>Run de code. Is de fout opgelost? Dan zit de fout in de code die je net in commentaar hebt gezet.\n",
    "    </li>\n",
    "    <li>Haal één regel uit commentaar en run de code opnieuw.\n",
    "    </li>\n",
    "    <li>Herhaal regel voor regel totdat je de oorzaak van de fout hebt ontdekt.\n",
    "    </li>\n",
    "</ol>"
   ]
  },
  {
   "cell_type": "markdown",
   "metadata": {},
   "source": [
    "### Opdracht 5.7: Commentaar\n",
    "\n",
    "<p>Het onderstaande programma staat helemaal in commentaar.\n",
    "</p>\n",
    "<ol style=\"list-style-type: lower-alpha\">\n",
    "    <li>Selecteer alle code en haal, met behulp van <b>Ctrl + /</b>, het hele programma uit commentaar.\n",
    "    </li>\n",
    "    <li>Voeg commentaar toe om de functiedefinities van het hoofdprogramma te scheiden. Gebruik hiervoor <code>### FUNCTIEDEFINITIE</code> en <code>### HOOFDPROGRAMMA</code>.\n",
    "    </li>\n",
    "    <li>Zoals na elke wijziging: test het programma.\n",
    "    </li>\n",
    "</ol>"
   ]
  },
  {
   "cell_type": "code",
   "execution_count": null,
   "metadata": {
    "tags": [
     "Opdracht"
    ]
   },
   "outputs": [],
   "source": [
    "# def rekenKmNaarMeters(afstand_in_km):\n",
    "# \tafstand_in_m = afstand_in_km * 1000\n",
    "# \treturn( afstand_in_m )\n",
    "\t\n",
    "# aantal_meters = rekenKmNaarMeters( 4 )\n",
    "# print( aantal_meters )"
   ]
  },
  {
   "cell_type": "markdown",
   "metadata": {},
   "source": [
    "<p>Bekijk <a href=\"Https://course.cs.ru.nl/pythonVO/Teams/IA_uitwerkingen/IA_H5_oplossingen.html#opgave551\" target=\"_blank\">hier</a> de voorbeelduitwerking.</p>\n"
   ]
  },
  {
   "cell_type": "markdown",
   "metadata": {},
   "source": [
    "## H5: Afsluitende opdrachten\n",
    "\n",
    "<p>Met de volgende afsluitende opdrachten kun je kijken hoe goed je de stof beheerst. Controleer steeds je eigen oplossing met de voorbeeldoplossing.</p>\n"
   ]
  },
  {
   "cell_type": "markdown",
   "metadata": {},
   "source": [
    "### Afsluitende opdracht 5.1: Teken lolly met parameters\n",
    "\n",
    "<p>De code hieronder tekent een lolly: rode snoep met een zwart stokje. We willen de gebruiker vragen welke kleur gewenst is, hoe groot de lolly moet zijn en hoe lang het stokje moet zijn.</p>\n",
    "    <p>Pas je code stapsgewijs aan en test steeds tussendoor!\n",
    "    </p>\n",
    "    <ol style=\"list-style-type: lower-alpha\">\n",
    "        <li>Vraag de gebruiker om een kleur en sla de gewenste kleur op in een variabele.\n",
    "        </li>\n",
    "        <li>Pas de functiedefinitie van <code>tekenSnoep()</code> (op regel 5) aan zodat deze een kleur verwacht.\n",
    "        </li>\n",
    "        <li>Gebruik de gegeven kleur in plaats van <code>\"red\"</code>.\n",
    "        </li>\n",
    "        <li>Pas de aanroep van <code>tekenSnoep()</code> (in je hoofdprogramma) aan zodat de gewenste kleur meegegeven wordt.\n",
    "        </li>\n",
    "        <li>Test je programma.\n",
    "        </li>\n",
    "    <li>Breid je code dan uit voor de gewenste straal van de snoep. Test je programma. Tip: de invoer moet je omzetten naar een <code>int</code>.</li>\n",
    "    <li>Als dat werkt, vraag je de gebruiker ook hoe lang het stokje moet zijn. Teken daarna de gewenste lolly.</li>\n",
    "         </ol>"
   ]
  },
  {
   "cell_type": "code",
   "execution_count": null,
   "metadata": {
    "tags": [
     "Opdracht"
    ]
   },
   "outputs": [],
   "source": [
    "import turtle\n",
    "\n",
    "### FUNCTIEDEFINITIES\n",
    "#teken snoep\n",
    "def tekenSnoep( ):\n",
    "        turtle.fillcolor(\"red\")\n",
    "        turtle.begin_fill()\n",
    "        turtle.circle( 40 )\n",
    "        turtle.end_fill()\n",
    "#teken stok\n",
    "def tekenStok( ):\n",
    "        turtle.right( 90 )\n",
    "        turtle.forward( 100 )\n",
    "\n",
    "### HOOFDPROGRAMMA\n",
    "turtle.pendown()\n",
    "tekenSnoep()\n",
    "tekenStok()\t\t\n",
    "\t\t\t\t\n",
    "turtle.done()"
   ]
  },
  {
   "cell_type": "markdown",
   "metadata": {},
   "source": [
    "<p>Bekijk <a href=\"Https://course.cs.ru.nl/pythonVO/Teams/IA_uitwerkingen/IA_H5_oplossingen.html#AfOpgave51\" target=\"_blank\">hier</a> de voorbeelduitwerking.</p>\n"
   ]
  },
  {
   "cell_type": "markdown",
   "metadata": {},
   "source": [
    "### Afsluitende opdracht 5.2: Olympische Ringen\n",
    "\n",
    "<p>Schrijf een programma dat de olympische ringen in kleur tekent.</p>\n",
    "\n",
    "<p><img src=\"http://course.cs.ru.nl/pythonVO/Jupyter/img/Python5_olypischeRingen.jpg\" alt=\"Olympische ringen\" width=\"400\"></p>\n",
    "\n",
    "\n",
    "\n",
    "<p>Hier zijn de gegevens van elk van de vijf cirkels:\n",
    "</p>\n",
    "<ul>\n",
    "    <li>Groene (green) cirkel op co&ouml;rdinaat (0,0)\n",
    "    </li>\n",
    "    <li>Gele (yellow) cirkel op co&ouml;rdinaat (-120,0)\n",
    "    </li>\n",
    "    <li>Rode (red) cirkel op coo&ouml;rdinaat (60,60)\n",
    "    </li>\n",
    "    <li>Zwarte (black) cirkel op coo&ouml;rdinaat (-60, 60)\n",
    "    </li>\n",
    "    <li>Blauwe (blue) cirkel op coo&ouml;rdinaat (-180,60)\n",
    "    </li>\n",
    "</ul>\n",
    "<p></p>\n",
    "\n",
    "<p>Bedenk dat je steeds een cirkel wilt tekenen, maar op een andere co&ouml;rdinaat met een andere kleur. Om dit voor elkaar te krijgen schrijf je een functie <code>tekenGekleurdeRing()</code> die drie parameters als informatie meekrijgt: de kleur, de x-coördinaat en de y-co&ouml;rdinaat.</p>\n",
    "\n",
    "<p>Tips:\n",
    "</p>\n",
    "<ul>\n",
    "    <li>met <code>turtle.setposition(x,y)</code> kun je Turtle naar co&ouml;rdinaat (x,y) laten lopen;\n",
    "    </li>\n",
    "    <li>met <code>turtle.circle(50)</code> kun je een cirkel met straal 50 laten tekenen;\n",
    "    </li>\n",
    "    <li>met <code>turtle.pencolor(\"red\")</code> kun je een penkleur aangeven.\n",
    "    </li>\n",
    "</ul>\n",
    "<p></p>"
   ]
  },
  {
   "cell_type": "code",
   "execution_count": null,
   "metadata": {
    "tags": [
     "Opdracht"
    ]
   },
   "outputs": [],
   "source": [
    "import turtle\n",
    "### FUNCTIEDEFINITIE:\n",
    "\n",
    "### HOOFDPROGRAMMA:\n",
    "\n",
    "turtle.done()\n",
    "\n"
   ]
  },
  {
   "cell_type": "markdown",
   "metadata": {},
   "source": [
    "<p>Bekijk <a href=\"Https://course.cs.ru.nl/pythonVO/Teams/IA_uitwerkingen/IA_H5_oplossingen.html#AfOpgave52\" target=\"_blank\">hier</a> de voorbeelduitwerking.</p>\n"
   ]
  },
  {
   "cell_type": "markdown",
   "metadata": {},
   "source": [
    "### Afsluitende opdracht 5.3: Wat voor een getal?\n",
    "\n",
    "<p>Schrijf een functie die een getal als parameter krijgt en afdrukt of dit kleiner is dan 0, gelijk is aan 0 of groter is dan 0.</p>\n",
    "\n",
    "<p>Dus, als je functie het getal 2 meekrijgt (bv. <code>checkGetal(2)</code> ), moet de functie afdrukken: \"Het getal 2 is groter dan 0.\"</p>\n",
    "\n",
    "<p>Test je functie. Welke testgevallen zijn geschikt om te testen of je functie altijd goed werkt?</p>\n",
    "  <p>Tip: Er zijn minstens drie testgevallen, dus je roept je functie minstens drie keer aan om te testen.</p>\n"
   ]
  },
  {
   "cell_type": "code",
   "execution_count": null,
   "metadata": {
    "tags": [
     "Opdracht"
    ]
   },
   "outputs": [],
   "source": [
    "### FUNCTIEDEFINITIE\n",
    "# typ hier je functie\n",
    "\n",
    "### HOOFDPROGRAMMA MET AANROEP VAN FUNCTIE\n",
    "# typ hier je functie aanroep"
   ]
  },
  {
   "cell_type": "markdown",
   "metadata": {},
   "source": [
    "<p>Bekijk <a href=\"Https://course.cs.ru.nl/pythonVO/Teams/IA_uitwerkingen/IA_H5_oplossingen.html#AfOpgave53\" target=\"_blank\">hier</a> de voorbeelduitwerking.</p>\n"
   ]
  },
  {
   "cell_type": "markdown",
   "metadata": {},
   "source": [
    "### Afsluitende opdracht 5.4: Tekenprogramma\n",
    "\n",
    "<p>Het onderstaande programma heeft functies voor het tekenen van verschillende vormen. Breid het hoofdprogramma uit zodat je de gebruiker vraagt welke figuur die wil laten tekenen of dat ze allemaal getekend moeten worden: <i>\"Wat wil je dat ik teken: een cirkel, een vierkant, een driehoek of allemaal.\"</i> en het dan ook tekent. Als de gebruiker iets anders intypt, geef dan een foutmelding.</p>\n"
   ]
  },
  {
   "cell_type": "code",
   "execution_count": null,
   "metadata": {
    "tags": [
     "Opdracht"
    ]
   },
   "outputs": [],
   "source": [
    "import turtle\n",
    "### FUNCTIEDEFINITIES\n",
    "def tekenCirkel():\n",
    "    turtle.circle(50)\n",
    "\n",
    "def tekenDriehoek():\n",
    "    for i in range(3):\n",
    "        turtle.forward(100)\n",
    "        turtle.right(120)\n",
    "\n",
    "def tekenVierkant():\n",
    "    for i in range(4):\n",
    "        turtle.forward(100)\n",
    "        turtle.right(90)\n",
    "\n",
    "### HOOFDPROGRAMMA\n",
    "print(\"Wat wil je dat ik teken: cirkel, vierkant, driehoek, of allemaal.\")\n",
    "\n",
    "\n",
    "\n",
    "\n",
    "\n",
    "print(\"Klaar\")\n",
    "turtle.done()"
   ]
  },
  {
   "cell_type": "markdown",
   "metadata": {},
   "source": [
    "<p>Bekijk <a href=\"Https://course.cs.ru.nl/pythonVO/Teams/IA_uitwerkingen/IA_H5_oplossingen.html#AfOpgave54\" target=\"_blank\">hier</a> de voorbeelduitwerking.</p>\n"
   ]
  },
  {
   "cell_type": "markdown",
   "metadata": {},
   "source": [
    "### Afsluitende opdracht 5.5: Bereken je cijfer\n",
    "\n",
    "<p>Je cijfer op een wiskundetoets bestaande uit 60 punten wordt zo berekend:</p>\n",
    "<p> <code>cijfer = (aantal_punten*9) / 60 + 1</code>\n",
    "\n",
    "</p>\n",
    "<p>Heb je 40 punten gehaald, dan is je cijfer een 7.</p>\n",
    "\n",
    "<p>Schrijf een functie <code>berekenCijfer(aantal_punten)</code> die, gegeven het aantal behaalde punten, je cijfer uitrekent en print. In je hoofdprogramma roep je de functie aan. Test je code met verschillende waarden. Hoeveel punten moet je halen voor een 10? En wat is je cijfer als je 0 punten scoort?</p>\n"
   ]
  },
  {
   "cell_type": "code",
   "execution_count": null,
   "metadata": {
    "tags": [
     "Opdracht"
    ]
   },
   "outputs": [],
   "source": []
  },
  {
   "cell_type": "markdown",
   "metadata": {},
   "source": [
    "<p>Bekijk <a href=\"Https://course.cs.ru.nl/pythonVO/Teams/IA_uitwerkingen/IA_H5_oplossingen.html#AfOpgave55\" target=\"_blank\">hier</a> de voorbeelduitwerking.</p>\n"
   ]
  },
  {
   "cell_type": "markdown",
   "metadata": {},
   "source": [
    "### Afsluitende opdracht 5.6: Dorp tekenen: functies aanroepen vanuit andere functies\n",
    "\n",
    "<p>We gaan verder met de code voor het tekenen van een huis waarbij we twee functies hebben:\n",
    "</p>\n",
    "<ol>\n",
    "    <li><code>tekenMuren()</code>: voor het tekenen van de muren\n",
    "    </li>\n",
    "    <li><code>tekenDak()</code>: voor het tekenen van het dak\n",
    "    </li>\n",
    "</ol>\n",
    "<p></p>\n",
    "\n",
    "<p><b>Deel A. Functie voor een huis</b></p>\n",
    "<p>We maken een functie voor een huis zodat je deze makkelijk vaker kunt aanroepen.\n",
    "\n",
    "Schrijf een functie <code>tekenHuis()</code> voor het tekenen van een huis:\n",
    "\n",
    "</p>\n",
    "<ul>\n",
    "    <li>Op regel 25 schrijf je in commentaar wat je functie moet doen (zoals op regels 5 en 15).\n",
    "    </li>\n",
    "    <li>Op regel 26 maak je een functiedefinitie: <code>def ... </code> (maak zelf verder af).\n",
    "    </li>\n",
    "    <li>Binnen de functie roep je de functies <code>tekenMuren()</code> en <code>tekenDak()</code> aan op regels 27 en 28. <br>Tip: let erop dat je inspringt.\n",
    "    </li>\n",
    "    <li> In het hoofdprogramma op regel 31 wordt de functie <code>tekenHuis()</code> al aangeroepen. Test of het werkt.\n",
    "    </li>\n",
    "</ul>\n",
    "<p></p>\n",
    "\n",
    "<p><b>DEEL B. Dorp tekenen</b></p>\n",
    "<p>Om een dorp te tekenen roep je <code>tekenHuis()</code> een aantal keer achter elkaar aan (in het hoofdprogramma).</p>\n",
    "<p>Tussendoor verplaats je het startpunt voor het tekenen met <code>turtle.setposition(x, y)</code> waarbij je voor x- en y-co&ouml;rdinaat bijvoorbeeld <code>turtle.setposition(250, 0</code> kiest.</p>\n",
    "<p>Met <code>turtle.setheading(0)</code> zorg je dat de pen in de juiste startrichting staat (naar rechts).</p>\n",
    "<p>Met <code>turtle.penup()</code> zorg je dat er tussendoor geen lijntje wordt getekend. Wil je weer tekenen, gebruik dan weer <code>turtle.pendown()</code>.</p>\n"
   ]
  },
  {
   "cell_type": "code",
   "execution_count": null,
   "metadata": {
    "tags": [
     "Opdracht"
    ]
   },
   "outputs": [],
   "source": [
    "import turtle\n",
    "\n",
    "### FUNCTIEDEFINITIES\n",
    "\n",
    "#Tekent zwarte vierkant\n",
    "def tekenMuren():\n",
    "\tturtle.forward(150)\n",
    "\tturtle.right(90)\n",
    "\tturtle.forward(150)\n",
    "\tturtle.right(90)\n",
    "\tturtle.forward(150)\n",
    "\tturtle.right(90)\n",
    "\tturtle.forward(150)\n",
    "\n",
    "#Tekent een rood gevulde dak\n",
    "def tekenDak():\n",
    "\tturtle.fillcolor(\"red\")\n",
    "\tturtle.begin_fill()\n",
    "\tturtle.right(30)\n",
    "\tturtle.forward(150)\n",
    "\tturtle.right(120)\n",
    "\tturtle.forward(150)\n",
    "\tturtle.end_fill()\n",
    "\n",
    "\n",
    "\n",
    "\n",
    "\n",
    "\n",
    "### HOOFDPROGRAMMA\n",
    "tekenHuis()\n",
    "\n",
    "turtle.done()"
   ]
  },
  {
   "cell_type": "markdown",
   "metadata": {},
   "source": [
    "<p>Bekijk <a href=\"Https://course.cs.ru.nl/pythonVO/Teams/IA_uitwerkingen/IA_H5_oplossingen.html#AfOpgave56\" target=\"_blank\">hier</a> de voorbeelduitwerking.</p>\n"
   ]
  },
  {
   "cell_type": "markdown",
   "metadata": {},
   "source": [
    "### Afsluitende opdracht 5.7: De wielen van de bus\n",
    "\n",
    "<p>Hieronder staat de tekst van het kinderlied <i>De wielen van de bus</i>. Zoals je ziet, is er best veel herhaling. Elk couplet lijkt veel op het vorige; alleen het <i>onderdeel van de bus</i> en de bijbehorende <i>actie</i> zijn anders..</p>\n",
    "\n",
    "<ol style=\"list-style-type: lower-alpha\">\n",
    "    <li>Schrijf een functie <code>zingCouplet()</code> die het eerste couplet afdrukt. Hiervoor gebruik je vier keer een <code>print()</code>: een <code>print()</code> per tekstregel.\n",
    "    </li>\n",
    "    <li>Pas de functie <code>zingCouplet()</code> aan zodat die twee parameters meekrijgt: een <code>onderdeel</code> en <code>actie</code>.\n",
    "    </li>\n",
    "    <li>In de code van de functie vervang je <i>wielen</i> door <code>onderdeel</code> en <i>draaien rond</i> vervang je door <code>actie</code>.\n",
    "    </li>\n",
    "    <li>Roep je functie aan met <code>zingCouplet( \"wielen\", \"draaien rond\" )</code>.\n",
    "    </li>\n",
    "    <li>Roep vervolgens de functie <code>zingCouplet()</code> een paar keer aan, telkens met andere parameters voor de volgende drie coupletten.\n",
    "    </li>\n",
    "</ol>\n",
    "<p>Tip: Een lege regel druk je af met <code>print( )</code>. Bedenk waar je dat het handigst kan doen. Je hoeft je niet druk te maken om hoofdletters.</p>\n",
    "\n",
    "<p>\n",
    "<i>De wielen van de bus draaien rond<br>\n",
    "    Draaien rond, draaien rond<br>\n",
    "    De wielen van de bus draaien rond<br>\n",
    "    Als de bus gaat rijden</i><br><br>\n",
    "\n",
    "<i>De deuren van de bus gaan open en dicht<br>\n",
    "    Gaan open en dicht, gaan open en dicht<br>\n",
    "    De deuren van de bus gaan open en dicht<br>\n",
    "    Als de bus gaat rijden</i><br><br>\n",
    "\n",
    "<i>De wissers van de bus gaan heen en weer<br>\n",
    "    Gaan heen en weer, gaan heen en weer<br>\n",
    "    De wissers van de bus gaan heen en weer<br>\n",
    "    Als de bus gaat rijden</i><br><br>\n",
    "\n",
    "<i>De lichten van de bus gaan aan en uit<br>\n",
    "    Gaan aan en uit, gaan aan en uit<br>\n",
    "    De lichten van de bus gaan aan en uit<br>\n",
    "    Als de bus gaat rijden</i>\n",
    "</p>"
   ]
  },
  {
   "cell_type": "code",
   "execution_count": null,
   "metadata": {
    "tags": [
     "Opdracht"
    ]
   },
   "outputs": [],
   "source": []
  },
  {
   "cell_type": "markdown",
   "metadata": {},
   "source": [
    "<p>Bekijk <a href=\"Https://course.cs.ru.nl/pythonVO/Teams/IA_uitwerkingen/IA_H5_oplossingen.html#AfOpgave57\" target=\"_blank\">hier</a> de voorbeelduitwerking.</p>\n"
   ]
  }
 ],
 "metadata": {
  "kernelspec": {
   "display_name": "Python 3",
   "language": "python",
   "name": "python3"
  },
  "language_info": {
   "codemirror_mode": {
    "name": "ipython",
    "version": 3
   },
   "file_extension": ".py",
   "mimetype": "text/x-python",
   "name": "python",
   "nbconvert_exporter": "python",
   "pygments_lexer": "ipython3",
   "version": "3.12.2"
  }
 },
 "nbformat": 4,
 "nbformat_minor": 2
}
