{
 "cells": [
  {
   "cell_type": "markdown",
   "metadata": {},
   "source": [
    "# Onderdeel 1 - Instructies geven\n",
    "\n",
    "<p>Programmeren leer je door te doen! We gaan dus steeds kleine stukjes uitleg geven en je tussendoor laten oefenen met het lezen, aanpassen en schrijven van code. We gaan aan de slag met Python, een wereldwijd veelgebruikte programmeertaal.</p>\n",
    "<p>Alle lesmateriaal vind je op deze site terug. Om de opdrachten te kunnen maken moet je eerst Visual Studio Code downloaden en installeren. Dat ga je in hoofdstuk '1: Visual Studio Code downloaden en installeren' doen.&nbsp;</p>\n",
    "<p>Daarna ga je in '2: Je oplossing runnen en testen'\n",
    "    al meteen aan de slag met het schrijven van je eerste programma.</p>\n",
    "\n",
    "<p><span style=\"font-size: 1rem;\">In dit onderwerp:</span></p>\n",
    "<ul>\n",
    "    <li>leer je hoe je een Jupyter notebook (het lesmateriaal) gebruikt;</li>\n",
    "    <li>leer je een computerprogramma schrijven in de taal Python;</li>\n",
    "    <li>leer je hoe je code kan schrijven en runnen;</li>\n",
    "    <li>leer je met <code>Turtle</code> een figuur te tekenen;</li>\n",
    "    <li>leer je met commentaar aan te geven wat het doel van een blokje code is;</li>\n",
    "    <li>leer je dat het belangrijk is dat de code netjes onder elkaar staat.\n",
    "    </li>\n",
    "</ul>\n",
    "\n",
    "\n",
    "\n",
    "<div class=\"fa fa-clock-o fa-3x\"></div><br>Verwerkingstijd: <b>1 uur</b>"
   ]
  },
  {
   "cell_type": "markdown",
   "metadata": {},
   "source": [
    "## 1: Visual Studio Code downloaden en installeren\n",
    "<h1 id=\"H1\"><span style=\"color:green\">Hoofdstuk 1 - Instructies geven</span></h1>"
   ]
  },
  {
   "cell_type": "markdown",
   "metadata": {},
   "source": []
  },
  {
   "cell_type": "markdown",
   "metadata": {},
   "source": [
    "Let op! Als je op een school PC werkt, dan mag je deze stap overslaa en doorgaan naar 'Juypter notebooks (lesmateriaal) downloaden'."
   ]
  },
  {
   "cell_type": "markdown",
   "metadata": {},
   "source": [
    "\n",
    "a. Ga naar <a href=\"https://code.visualstudio.com/download\">Visual Studio Code download pagina</a>;\n",
    "\n",
    "b. Download de juiste versie voor jouw pc;\n",
    "\n",
    "c. Open Visual Studio Code;\n",
    "\n",
    "d. Install Python."
   ]
  },
  {
   "cell_type": "markdown",
   "metadata": {},
   "source": [
    "## Jupyter notebooks: het lesmateriaal"
   ]
  },
  {
   "cell_type": "markdown",
   "metadata": {},
   "source": [
    "<!--<h3><span style=\"color:green\">Jouw digitale schrift</span></h3>-->\n",
    "\n",
    "<p>Het bestand waar je nu naar kijkt heet een Jupyter Notebook (met extensie .ipynb). Daar kun je uitleg in lezen, maar ook programmacode in runnen. Het is jouw digitale schrift.</p>\n",
    "\n",
    "Het is belangrijk dat je:\n",
    "<ul>\n",
    "<li>dit bestand opslaat in je <b>Montessori OneDrive</b>, zodat je er altijd en overal bij kan\n",
    "<li>en regelmatig opslaat (Tip: <b>Ctrl</b> en <b>S</b>)\n",
    "</ul>\n",
    "\n",
    "Werk je nu nog niet vanuit je OneDrive, volg dan deze stappen:\n",
    "<ol>\n",
    "<li>Download de .ipynb bestand naar je Montessori OneDrive\n",
    "<li>Open Visual Studio Code\n",
    "<li>Kies linksboven voor <i>Open</i> en zoek het bestand op.\n",
    "</ol>"
   ]
  },
  {
   "cell_type": "markdown",
   "metadata": {},
   "source": [
    "Download de Jupyter notebook voor hoofdstuk 1: 'H1_MC.ipynb'.\n",
    "Sla deze op in je **Montessori One Drive** (zo kan je er altijd vanuit overal bij).\n",
    "\n"
   ]
  },
  {
   "cell_type": "markdown",
   "metadata": {},
   "source": [
    "### Opdracht 1.1 Jupyter notebook openen in Visual Studio Code"
   ]
  },
  {
   "cell_type": "markdown",
   "metadata": {},
   "source": [
    "a. Open Visual Studio Code;\n",
    "\n",
    "b. Open Jupyter notebook;\n",
    "\n",
    "c. Het kan zijn dat Visual Studio Code je nog vraagt om toestemming te geven om het programma uit te voeren, of om nog iets te installeren. Doe dat dan."
   ]
  },
  {
   "cell_type": "markdown",
   "metadata": {},
   "source": [
    "## 2: Je oplossing runnen en testen"
   ]
  },
  {
   "cell_type": "markdown",
   "metadata": {},
   "source": [
    "Om je programma te runnen, druk je op het Run-knop, links van de code:\n",
    "<img src=\"http://course.cs.ru.nl/pythonVO/Jupyter/img/VSC_play_code.png\" alt=\"Run-knop links van code\"> of gebruik <b>Ctrl</b> en <b>Enter</b>.\n",
    "<p>Direct daaronder zie je het resultaat. Het kan zijn dat er\n",
    "    een foutmelding staat. Pas je code aan en run het opnieuw.</p>\n",
    "\n",
    "<p>Controleer altijd je eigen oplossing. Onder elke opgave staat een link naar een voorbeeldoplossing: <i>Bekijk hier de voorbeelduitwerking.</i> </p>\n",
    "\n",
    "<p>Sla na elke opdracht je antwoord op. Dat doe je met <b>Ctrl</b> en <b>S</b>."
   ]
  },
  {
   "cell_type": "markdown",
   "metadata": {},
   "source": [
    "\n",
    "### Opdracht 1.2 Code runnen</p>\n",
    "a. Run de code hieronder door op het Run-knop te klikken:\n",
    "<img src=\"http://course.cs.ru.nl/pythonVO/Jupyter/img/VSC_run.png\" alt=\"Run-knop\"> of gebruik <b>Ctrl</b> en <b>Enter</b>.\n",
    "\n",
    "b. Bekijk het resultaat direct daaronder. \n",
    "\n",
    "c. Pas de tekst tussen aanhalingstekens aan en run opnieuw. Wat gebeurt er?"
   ]
  },
  {
   "cell_type": "code",
   "execution_count": null,
   "metadata": {},
   "outputs": [],
   "source": [
    "print( \"Hallo!\" )"
   ]
  },
  {
   "cell_type": "markdown",
   "metadata": {},
   "source": [
    "<p>Bekijk <a href=\"https://course.cs.ru.nl/pythonVO/Teams/IA_uitwerkingen/IA_H1_oplossingen.html#opgave113\" target=\"_blank\">hier</a> de voorbeelduitwerking.</p>"
   ]
  },
  {
   "cell_type": "markdown",
   "metadata": {},
   "source": [
    "## 3: Je eerste programma"
   ]
  },
  {
   "cell_type": "markdown",
   "metadata": {},
   "source": [
    "<p class=\"cursor-hover\">Als je een nieuwe programmeeromgeving test begin je altijd eerst met een\n",
    "    programma te schrijven dat ''Hello, world!'' afdrukt. Dit om te controleren dat alles juist ingesteld is en werkt. Dat programma schrijf je met de\n",
    "    volgende code: <code>print( \"Hello, world!\" )</code></p>\n"
   ]
  },
  {
   "cell_type": "markdown",
   "metadata": {},
   "source": [
    "### Opdracht 1.3 Hello world!"
   ]
  },
  {
   "cell_type": "markdown",
   "metadata": {},
   "source": [
    "Je gaat nu je eerste programma runnen. Het programma print de tekst ''Hello, world!''. De code die je hiervoor nodig hebt is:\n",
    "<code>print( \"Hello, world!\" )</code>\n"
   ]
  },
  {
   "cell_type": "markdown",
   "metadata": {},
   "source": [
    "a. Typ het bovenstaande code over in de lege cel hieronder.\n",
    "\n",
    "b. Voer het programma uit: druk op het Run-knop of gebruik <b>Ctrl</b> en <b>Enter</b>. Als je een foutmelding krijgt, herstel deze.\n",
    "\n",
    "c. Controleer de uitvoer: Zie je dat de tekst ''Hello, world!'' eronder getoond is?\n",
    "\n",
    "d. Controleer je eigen oplossing met de uitwerking: Open de voorbeeld oplossing en vergelijk deze met jouw oplossing.\n",
    "\n",
    "e. Sla je werk op met <b>Ctrl</b> en <b>S</b>."
   ]
  },
  {
   "cell_type": "code",
   "execution_count": null,
   "metadata": {},
   "outputs": [],
   "source": []
  },
  {
   "cell_type": "markdown",
   "metadata": {},
   "source": [
    "<p>Bekijk <a href=\"https://course.cs.ru.nl/pythonVO/Teams/IA_uitwerkingen/IA_H1_oplossingen.html#opgave121\" target=\"_blank\">hier</a> de voorbeelduitwerking.</p>"
   ]
  },
  {
   "cell_type": "markdown",
   "metadata": {},
   "source": [
    "## 4: Inspringen heeft een betekenis"
   ]
  },
  {
   "cell_type": "markdown",
   "metadata": {},
   "source": [
    "<p class=\"cursor-hover\">Inspringen (oftewel, de ruimte links van je code regels)\n",
    "    heeft bij Python een belangrijke betekenis. Code dat even ver naar rechts\n",
    "    inspringt hoort bij elkaar. Waar je dat precies voor moet gebruiken leren we\n",
    "    later. Voor nu is het belangrijk dat je al je code zo ver mogelijk naar links\n",
    "    zet.</p>"
   ]
  },
  {
   "cell_type": "markdown",
   "metadata": {},
   "source": [
    "<p>Goed:</p>"
   ]
  },
  {
   "cell_type": "code",
   "execution_count": null,
   "metadata": {},
   "outputs": [],
   "source": [
    "print(\"Hallo\")\n",
    "print(\"Hoe is het?\")"
   ]
  },
  {
   "cell_type": "markdown",
   "metadata": {},
   "source": [
    "<p>NIET goed:</p>"
   ]
  },
  {
   "cell_type": "code",
   "execution_count": null,
   "metadata": {},
   "outputs": [],
   "source": [
    "    print(\"Hallo\")\n",
    " print(\"Hoe is het?\")"
   ]
  },
  {
   "cell_type": "markdown",
   "metadata": {},
   "source": [
    "### Opdracht 1.4 Inspringen"
   ]
  },
  {
   "cell_type": "markdown",
   "metadata": {},
   "source": [
    "Deze code levert een foutmelding. Run het programma, bekijk de\n",
    "foutmelding en herstel de fout."
   ]
  },
  {
   "cell_type": "code",
   "execution_count": null,
   "metadata": {},
   "outputs": [],
   "source": [
    "print(\"Welkom bij deze Python cursus. De twee belangrijkste regels zijn:\")\n",
    "    print(\"Help elkaar, daar leer je zelf ook veel van.\")\n",
    "    print(\"… geef niet op!\")"
   ]
  },
  {
   "cell_type": "markdown",
   "metadata": {},
   "source": [
    "<p>Bekijk <a href=\"https://course.cs.ru.nl/pythonVO/Teams/IA_uitwerkingen/IA_H1_oplossingen.html#opgave131\" target=\"_blank\">hier</a> de voorbeelduitwerking.</p>"
   ]
  },
  {
   "cell_type": "markdown",
   "metadata": {},
   "source": [
    "## 5: Regelnummers en Commentaar toevoegen aan je code"
   ]
  },
  {
   "cell_type": "markdown",
   "metadata": {},
   "source": [
    "Soms is het handig om regelnummers te zien. In Visual Studio Code kun je regelnummering aanzetten door ergens in de tekst te staan en dan <b>Shift</b> en <b>L</b> in te drukken. Links van elke  coderegel staat dan de regelnummer."
   ]
  },
  {
   "cell_type": "markdown",
   "metadata": {},
   "source": [
    "<p>Met <b>commentaar</b> maak je aantekeningen\n",
    "        in code. Zo kun je toelichten wat het doel van een blok code is. De computer\n",
    "        negeert code die in commentaar staat. Je kunt het dus ook handig gebruiken om\n",
    "        delen van je code te testen.</p>\n",
    "\n",
    "- Commentaar begint in Python met een hekje (<code>#</code>);\n",
    "\n",
    "- Je kunt <b>Ctrl</b> en <b>/</b> gebruiken om een regel in commentaar te zetten (of er juist uit te halen)."
   ]
  },
  {
   "cell_type": "markdown",
   "metadata": {},
   "source": [
    "### Opdracht 1.5 Regelnummers aanzetten en commentaar toevoegen\n",
    "a. Zet eerst de regelnummering aan (met <b>Shift</b> en <b>L</b>);\n",
    "\n",
    "b. Voeg achter elk regel commentaar toe (met <code>#</code>) dat toelicht wat de regel code doet."
   ]
  },
  {
   "cell_type": "code",
   "execution_count": null,
   "metadata": {},
   "outputs": [],
   "source": [
    "print(\"Hoi! Jij zit vast in klas\")      \n",
    "print(4)"
   ]
  },
  {
   "cell_type": "markdown",
   "metadata": {},
   "source": [
    "<p>Bekijk <a href=\"https://course.cs.ru.nl/pythonVO/Teams/IA_uitwerkingen/IA_H1_oplossingen.html#opgave132\" target=\"_blank\">hier</a> de\n",
    "    voorbeelduitwerking.</p>"
   ]
  },
  {
   "cell_type": "markdown",
   "metadata": {},
   "source": [
    "## 6: Tekenen met turtle"
   ]
  },
  {
   "cell_type": "markdown",
   "metadata": {},
   "source": [
    "\n",
    "<p class=\"cursor-hover\">In deze opdracht gaan we tekenen! Hiervoor gebruiken we de Turtle-module, waarmee je met Python een schildpad kunt 'besturen', die vervolgens lijntjes tekent.</p>\n",
    "<p class=\"cursor-hover\">Je kunt een Turtle commando's laten uitvoeren, zoals <code>turtle.pendown()</code> om de pen neer te zetten, <code class=\"cursor-hover\">turtle.forward()</code> om vooruit te lopen of <code>turtle.right(90)</code> om 90 graden naar rechts te draaien.</p>\n",
    "<p>Code met Turtle begint altijd met <code>import turtle</code>.</p>\n",
    "\n",
    "<img src=\"http://course.cs.ru.nl/pythonVO/Jupyter/img/Python1_WereldTurtle.jpg\" alt=\"Wereld van Turtle\" width=\"500\">\n",
    "<p>Hierboven zie je een plaatje van de wereld waarin Turtle woont. Turtle begint altijd op coördinaat (0,0), kijkend naar rechts.\n",
    "    <!--&‌ouml;-->"
   ]
  },
  {
   "cell_type": "markdown",
   "metadata": {},
   "source": [
    "### Opdracht 1.6 Vierkantje tekenen"
   ]
  },
  {
   "cell_type": "markdown",
   "metadata": {},
   "source": [
    "\n",
    "\n",
    "<p>Het doel van deze opdracht is om een vierkant te tekenen.</p>\n",
    "\n",
    "<p>Bekijk eerst het volgende filmpje waarin deze opdracht uitgelegd wordt:</p>\n"
   ]
  },
  {
   "cell_type": "markdown",
   "metadata": {},
   "source": [
    "[![Watch the video](https://img.youtube.com/vi/IWvkVL3UtVM/hqdefault.jpg)](https://www.youtube.com/embed/IWvkVL3UtVM)"
   ]
  },
  {
   "cell_type": "markdown",
   "metadata": {},
   "source": [
    "a. Voer de code hieronder uit door op het run-knop te drukken. Let op: de tekening wordt in een aparte scherm geopend.\n",
    "\n",
    "b. Maak de regelnummers zichtbaar (tip: <b>Shift</b> en <b>L</b>);\n",
    "\n",
    "c. Breid de code uit vanaf regel 7 zodat er een vierkant getekend wordt. Om opnieuw te beginnen met tekenen, sluit het scherm met de tekening dan eerst af.\n",
    "\n",
    "d. Pas de code daarna aan zodat een vierkant getekend wordt dat twee keer zo groot is;\n",
    "\n",
    "e. Sla je werk op met <b>Ctrl</b> en <b>S</b>."
   ]
  },
  {
   "cell_type": "code",
   "execution_count": null,
   "metadata": {},
   "outputs": [],
   "source": [
    "import turtle       # importeer turtle module\n",
    "\n",
    "turtle.pendown()    # zet pen neer\n",
    "turtle.forward(50) # 50 stappen vooruit\n",
    "turtle.right(90)    # draai 90 graden naar rechts\n",
    "turtle.forward(50) # 50 stappen vooruit\n",
    "\n",
    "\n",
    "\n",
    "turtle.done()       # klaar met tekenen, maar sluit het tekenvenster niet meteen af"
   ]
  },
  {
   "cell_type": "markdown",
   "metadata": {},
   "source": [
    "<p>Bekijk <a href=\"https://course.cs.ru.nl/pythonVO/Teams/IA_uitwerkingen/IA_H1_oplossingen.html#opgave141\" target=\"_blank\">hier</a> de voorbeelduitwerking.</p>"
   ]
  },
  {
   "cell_type": "markdown",
   "metadata": {},
   "source": [
    "## 7: Handige Turtle functies"
   ]
  },
  {
   "cell_type": "markdown",
   "metadata": {},
   "source": [
    "<p class=\"cursor-hover\">Een paar handige <code>Turtle</code>-functies zijn:</p>"
   ]
  },
  {
   "cell_type": "code",
   "execution_count": null,
   "metadata": {},
   "outputs": [],
   "source": [
    "import turtle  # importeer Turtle-module, code altijd hiermee beginnen\n",
    "\n",
    "turtle.pendown()  \t\t\t# Zet pen op papier, bewegingen hierna zijn onzichtbaar\n",
    "turtle.penup()   \t\t\t# Haal pen van papier, bewegingen hierna zijn onzichtbaar\n",
    "turtle.pencolor(\"darkViolet\") # Kleur van de pen. Je kunt ook kiezen uit black, tan, gold, blue, red, ...\n",
    "\n",
    "turtle.shape(\"turtle\")      # Maakt een schildpadje van de cursor in plaats van een pijltje\n",
    "\n",
    "turtle.right(90)            # Draai 90 graden naar rechts\n",
    "turtle.left(45)             # Draai 45 graden naar links\n",
    "turtle.forward(10)          # Loop 10 stappen vooruit\n",
    "\n",
    "turtle.goto(40, 40)         # Zet de schildpad op positie (x,y). (0,0) is het midden van het scherm\n",
    "turtle.setheading(90)       # Kijkrichting. 90 is naar boven, 0 is naar rechts\n",
    "\n",
    "turtle.fillcolor(\"red\")     # Kleur om figuur mee in te kleuren\n",
    "turtle.begin_fill()         # Dit zet je aan het begin van het figuur dat ingekleurd moet worden.\n",
    "turtle.end_fill()           # Dit zet je aan het eind van het figuur dat ingekleurd moet worden. </pre>"
   ]
  },
  {
   "cell_type": "markdown",
   "metadata": {},
   "source": [
    "<p>Als je begint, staat Turtle altijd op (0,0), kijkend naar rechts.</p>\n",
    "\n",
    "<p><a href=\"https://docs.python.org/3/library/turtle.html#special-turtle-methods\" target=\"_blank\">Hier</a> vind je nog veel meer Turtle-functies.\n",
    "</p>"
   ]
  },
  {
   "cell_type": "markdown",
   "metadata": {},
   "source": [
    "### Opdracht 1.7 Een zeshoek tekenen</p>"
   ]
  },
  {
   "cell_type": "markdown",
   "metadata": {},
   "source": [
    "<p>Het doel van deze opdracht is om een blauwe zeshoek te tekenen.</p>\n",
    "<img src=\"http://course.cs.ru.nl/pythonVO/Jupyter/img/Python1_Blauwe6hoek.png\" alt=\"Blauwe zeshoek\" width=\"200\">\n",
    "\n",
    "<p>Bekijk eerst het volgende filmpje waarin deze opdracht uitgelegd wordt:</p>"
   ]
  },
  {
   "cell_type": "markdown",
   "metadata": {},
   "source": [
    "[![Watch the video](https://img.youtube.com/vi/qns1ZKaXY44/hqdefault.jpg)](https://www.youtube.com/embed/qns1ZKaXY44)"
   ]
  },
  {
   "cell_type": "markdown",
   "metadata": {},
   "source": [
    "a. Teken eerst een zeshoek op papier, schrijf de lengtes en de hoeken erbij.\n",
    " \n",
    " <img src=\"http://course.cs.ru.nl/pythonVO/Jupyter/img/Python1_Schets6hoek.jpg\" alt=\"zeshoek\" class=\"pointer-hover\" width=\"200\">\n",
    "\n",
    "b. Bedenk een strategie:\n",
    "\n",
    "1. Gebruik een Turtle\n",
    "2. Zet pen op papier\n",
    "3. Kies vulkleur blauw\n",
    "\n",
    "4. Begin met tekenen van de zeshoek. Herhaal 6 keer:\n",
    "    - Vooruit 100\n",
    "    - Draai 60 graden\n",
    "\n",
    "\n",
    "c. Schrijf code en test;\n",
    "\n",
    "d. Gebruik commentaar in je code om aan te geven wat een reeks code doet. Bijvoorbeeld, geef aan met welke regels echt de zeshoek tekenen;\n",
    "\n",
    "e. Maak de zeshoek blauw. Tips: Geef kleur aan met <code>turtle.fillcolor(\"blue\")</code>. Geef aan waar je figuur begint <code>turtle.begin_fill()</code> en eindigt <code>turtle.end_fill()</code>;\n",
    "\n",
    "f. Test je code opnieuw (altijd na elke wijziging);\n",
    "\n",
    "g. Sla je werk op met <B>CTRL+S</B>.\n",
    "\n"
   ]
  },
  {
   "cell_type": "code",
   "execution_count": null,
   "metadata": {},
   "outputs": [],
   "source": [
    "import turtle"
   ]
  },
  {
   "cell_type": "markdown",
   "metadata": {},
   "source": [
    "<p>Bekijk <a href=\"https://course.cs.ru.nl/pythonVO/Teams/IA_uitwerkingen/IA_H1_oplossingen.html#opgave142\" target=\"_blank\">hier</a> de voorbeelduitwerking.</p>"
   ]
  },
  {
   "cell_type": "markdown",
   "metadata": {},
   "source": [
    "## Onderdeel 1: Afsluitende opdrachten"
   ]
  },
  {
   "cell_type": "markdown",
   "metadata": {},
   "source": [
    "<p>Tip: Turtle-functies vind je bij onderdeel 7: Handige Turtle-functies.</p>"
   ]
  },
  {
   "cell_type": "markdown",
   "metadata": {},
   "source": [
    "### Afsluitende 0pdracht 1.1 Huisje tekenen"
   ]
  },
  {
   "cell_type": "markdown",
   "metadata": {},
   "source": [
    "a. Teken een dak op je vierkant om zo een huisje te maken. Tip: teken eerst je huisje op papier, schrijf de lengtes en de hoeken erbij.\n",
    "\n",
    "b. Gebruik commentaar in je code om aan te geven wat een reeks code doet. Bijvoorbeeld, geef aan welke regels het dak tekenen.\n",
    "\n",
    "c. Maak het dak rood.\n",
    "\n",
    "d. Sla je werk op met <b>Ctrl</b> en <b>S</b>."
   ]
  },
  {
   "cell_type": "code",
   "execution_count": null,
   "metadata": {},
   "outputs": [],
   "source": [
    "import turtle"
   ]
  },
  {
   "cell_type": "markdown",
   "metadata": {},
   "source": [
    "<p>Bekijk <a href=\"https://course.cs.ru.nl/pythonVO/Teams/IA_uitwerkingen/IA_H1_oplossingen.html#AfOpgave11\" target=\"_blank\">hier</a> de voorbeelduitwerking.</p>"
   ]
  },
  {
   "cell_type": "markdown",
   "metadata": {},
   "source": [
    "### Afsluitende opdracht 1.2 Nederlandse vlag"
   ]
  },
  {
   "cell_type": "markdown",
   "metadata": {},
   "source": [
    "<p>Teken de Nederlandse vlag tekenen zoals hier is afgebeeld. Gebruik commentaar in je code om overzichtelijk te houden wat bij welk deel van de vlag hoort. <br> Tip: het is handig om de klus op te delen in taken: teken eerst een rechthoek\n",
    "    voor rood. Gebruik deze zelfde code voor wit en blauw. Als laatste teken je de mast.\n",
    "</p> <img src=\"https://course.cs.ru.nl/pythonVO/Jupyter/img/NL_flag_klein.png\" alt=\"Nederlandse vlag\" width=\"303\" height=\"246\">"
   ]
  },
  {
   "cell_type": "code",
   "execution_count": null,
   "metadata": {},
   "outputs": [],
   "source": [
    "import turtle "
   ]
  },
  {
   "cell_type": "markdown",
   "metadata": {},
   "source": [
    "<p>Bekijk <a href=\"https://course.cs.ru.nl/pythonVO/Teams/IA_uitwerkingen/IA_H1_oplossingen.html#AfOpgave12\" target=\"_blank\">hier</a> de voorbeelduitwerking.</p>"
   ]
  },
  {
   "cell_type": "markdown",
   "metadata": {},
   "source": [
    "### Afsluitende opdracht 1.3 Eigen creatie"
   ]
  },
  {
   "cell_type": "markdown",
   "metadata": {},
   "source": [
    "<p>Je mag nu zelf iets door Turtle laten tekenen.</p>\n",
    "\n",
    "a. Maak eerst een ontwerp/tekening op papier;\n",
    "\n",
    "b. Geef Turtle de juiste instructies om deze te tekenen. Test steeds tussendoor;\n",
    "\n",
    "c. Voeg commentaar toe aan je code;\n",
    "\n",
    "d. Sla je werk op met <b>Ctrl</b> en <b>S</b>.\n",
    "\n",
    "<p>Ik ben benieuwd naar het resultaat!</p>"
   ]
  },
  {
   "cell_type": "code",
   "execution_count": null,
   "metadata": {},
   "outputs": [],
   "source": [
    "import turtle"
   ]
  }
 ],
 "metadata": {
  "kernelspec": {
   "display_name": "Python 3",
   "language": "python",
   "name": "python3"
  },
  "language_info": {
   "codemirror_mode": {
    "name": "ipython",
    "version": 3
   },
   "file_extension": ".py",
   "mimetype": "text/x-python",
   "name": "python",
   "nbconvert_exporter": "python",
   "pygments_lexer": "ipython3",
   "version": "3.11.8"
  }
 },
 "nbformat": 4,
 "nbformat_minor": 2
}
