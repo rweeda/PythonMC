{
 "cells": [
  {
   "cell_type": "markdown",
   "metadata": {},
   "source": [
    "# Onderwerp 8 - Herhalingen met een <code>for</code>-loop\n",
    "\n",
    "<div style=\"display:flex\">\n",
    "<p>Om dingen te herhalen kun je behalve een <code>while</code>-loop ook soms een <code>for</code>-loop gebruiken.\n",
    "<br>\n",
    "Een <code>while</code>-loop kan voor elke herhaling gebruikt worden. Een <code>for</code>-loop kun je alleen gebruiken als vooraf duidelijk is hoe vaak de code in de loop herhaald moet worden.</p>\n",
    "<img src=\"http://course.cs.ru.nl/pythonVO/Jupyter/img/H8_0.png\" alt=\"Spirograaf\" width=20%>\n",
    "</div>\n",
    "\n",
    "\n",
    "In dit onderwerp:\n",
    "<ul>\n",
    "    <li>leer je een <code>for</code>-loop te gebruiken om een actie herhaaldelijk uit te voeren;\n",
    "    </li>\n",
    "    <li>leer je <code>range()</code> met 1 parameter te gebruiken om te bepalen hoe vaak een actie herhaald moet worden. Bijvoorbeeld: <code>for teller in range(5):</code>\n",
    "    </li>\n",
    "    <li>leer je <code>range()</code> met 2 parameters te gebruiken om startwaarde en eindgrens van een herhaling aan te geven. Bijvoorbeeld: <code>for teller in range(2,7):</code>\n",
    "    </li>\n",
    "    <li>leer je <code>range()</code> met 3 parameters te gebruiken om startwaarde, eindgrens en stapgrootte van een herhaling aan te geven. Bijvoorbeeld: <code>for teller in range(2,13,3):</code>\n",
    "    </li>\n",
    "</ul>\n",
    "<p></p>\n",
    "\n",
    "\n",
    "Verwerkingstijd: <b>1 uur</b>"
   ]
  },
  {
   "cell_type": "markdown",
   "metadata": {},
   "source": [
    "## 1: Herhalingen met een for-loop\n",
    "\n",
    "[![Watch the video](https://img.youtube.com/vi/yxG46oJbbHc/hqdefault.jpg)](https://www.youtube.com/embed/yxG46oJbbHc)\n",
    "\n",
    "<p>Met <code>range()</code> geef je aan hoe vaak een <code>for</code>-loop herhaald wordt. Het volgende voorbeeld print 3 keer <i>Hallo</i> en na afloop van de loop print het\n",
    "    <i>Klaar!</i>.\n",
    "</p>"
   ]
  },
  {
   "cell_type": "code",
   "execution_count": null,
   "metadata": {},
   "outputs": [],
   "source": [
    "for teller in range (3):\n",
    "\tprint(\"Hallo\")\n",
    "print(\"Klaar!\")"
   ]
  },
  {
   "cell_type": "markdown",
   "metadata": {},
   "source": [
    "<p>Toelichting:</p>\n",
    "<ul>\n",
    "    <li><code>teller</code> is een variabele die bijhoudt hoe vaak de codeblok is uitgevoerd. De <code>teller</code> begint bij 0. De code wordt herhaald totdat <code>teller</code> gelijk is aan het getal bij <code>range</code>, in dit voorbeeld 3. In dit geval wordt de codeblok dus 3 keer uitgevoerd.</li>\n",
    "    <li>De codeblok die onder de <code>for</code> is ingesprongen wordt herhaald.<p></p>\n",
    "    </li>\n",
    "    <li>Elke keer na het uitvoeren van de codeblok wordt gekeken of de <code>teller</code> gelijk is aan het getal bij <code>range</code>. Als dat zo is, dan wordt de herhaling gestopt en gaat de code verder waar er nog niet is ingesprongen. Anders wordt de <code>teller</code> opgehoogd en herhaalt de codeblok nog een keer.\n",
    "    </li>\n",
    "</ul>\n",
    "\n",
    "<p>De volgende code drukt 10 waarden af, beginnend bij 0. Dus: 0, 1, 2, 3, ..., 9:</p>"
   ]
  },
  {
   "cell_type": "code",
   "execution_count": null,
   "metadata": {},
   "outputs": [],
   "source": [
    "for teller in range( 10 ):\n",
    "\tprint( teller )"
   ]
  },
  {
   "cell_type": "markdown",
   "metadata": {},
   "source": [
    "<p>In de code hierboven wordt de codeblok onder de <code>for</code> 10 keer uitgevoerd. Omdat we in de\n",
    "    informatica altijd bij 0 beginnen te tellen, krijgt <code>teller</code> eerst de waarde 0, dan 1, 2, ...  en als laatste 9.\n",
    "    Dat zijn 10 herhalingen.</p>"
   ]
  },
  {
   "cell_type": "markdown",
   "metadata": {},
   "source": [
    "## 2: Oefenen met een for-loop"
   ]
  },
  {
   "cell_type": "markdown",
   "metadata": {},
   "source": [
    "### Opdracht 8.1: Cirkel tekenen\n",
    "\n",
    "<p>Met de code hieronder kan Turtle een cirkel tekenen door gebruik te maken van een <code>for</code>-loop. Helaas staan de regels code in de verkeerde volgorde. Kan jij ze in de juiste volgorde zetten?</p>\n"
   ]
  },
  {
   "cell_type": "code",
   "execution_count": null,
   "metadata": {
    "tags": [
     "Opdracht"
    ]
   },
   "outputs": [],
   "source": [
    "\tturtle.forward(20)\n",
    "import turtle\n",
    "for aantal_herhalingen in range(40):\n",
    "turtle.pendown()\n",
    "turtle.done()\n",
    "\tturtle.right(10)"
   ]
  },
  {
   "cell_type": "markdown",
   "metadata": {},
   "source": [
    "<p><a href=\"https://course.cs.ru.nl/pythonVO/Teams/IA_uitwerkingen/IA_H8_oplossingen.html#opgave811\">Klik hier</a> voor een voorbeelduitwerking.</p>\n"
   ]
  },
  {
   "cell_type": "markdown",
   "metadata": {},
   "source": [
    "### Opdracht 8.2: Strafregels\n",
    "\n",
    "<p>Ben je vergeten je huiswerk te maken? Helaas zal je nu strafregels moeten schrijven. Gelukkig ben je een slimme scholier en besluit je om een programma te schrijven dat voor jou je strafwerk schrijft.</p>\n",
    "\n",
    "<p>Schrijf een programma dat gebruikt maakt van een <code>for</code>-loop om de volgende tekst 100 keer af te drukken: <i>Ik zal nooit meer vergeten om mijn informaticahuiswerk te maken.</i></p>\n",
    "<p>Na afloop druk je eenmalig af: <i>Dat beloof ik.</i></p>"
   ]
  },
  {
   "cell_type": "code",
   "execution_count": null,
   "metadata": {
    "tags": [
     "Opdracht"
    ]
   },
   "outputs": [],
   "source": [
    "print(\"Ik zal nooit meer vergeten om mijn informaticahuiswerk te maken.\")"
   ]
  },
  {
   "cell_type": "markdown",
   "metadata": {},
   "source": [
    "<p><a href=\"https://course.cs.ru.nl/pythonVO/Teams/IA_uitwerkingen/IA_H8_oplossingen.html#opgave812\">Klik hier</a> voor een voorbeelduitwerking.</p>\n"
   ]
  },
  {
   "cell_type": "markdown",
   "metadata": {},
   "source": [
    "## Opdracht 8.3: Vierkantje tekenen\n",
    "\n",
    "<p>De code hieronder tekent een vierkant. Maar er staat wel veel dubbele code in, namelijk: er worden twee regels code maar liefst vier keer herhaald. Vervang de acht regels code door twee regels en gebruik een <code>for</code>-loop om die twee regels code vier keer te herhalen. Test of je programma nog steeds een vierkant tekent.</p>\n"
   ]
  },
  {
   "cell_type": "code",
   "execution_count": null,
   "metadata": {
    "tags": [
     "Opdracht"
    ]
   },
   "outputs": [],
   "source": [
    "import turtle\n",
    "\n",
    "### FUNCTIEDEFINITIE\n",
    "\n",
    "#tekent een vierkant door 4 keer vooruit de gegeven lengte vooruit te lopen en 90 graden te draaien.\n",
    "def tekenVierkant( lengte ):\n",
    "    turtle.forward(lengte)\n",
    "    turtle.right(90)\n",
    "    turtle.forward(lengte)\n",
    "    turtle.right(90)\n",
    "    turtle.forward(lengte)\n",
    "    turtle.right(90)\n",
    "    turtle.forward(lengte)\n",
    "    turtle.right(90)\n",
    "\n",
    "\n",
    "### HOOFDPROGRAMMA\n",
    "turtle.pendown()\n",
    "for teller in range(4):\n",
    "\ttekenVierkant( 100 )\n",
    "\n"
   ]
  },
  {
   "cell_type": "markdown",
   "metadata": {},
   "source": [
    "<p><a href=\"https://course.cs.ru.nl/pythonVO/Teams/IA_uitwerkingen/IA_H8_oplossingen.html#opgave813\">Klik hier</a> voor een voorbeelduitwerking.</p>\n"
   ]
  },
  {
   "cell_type": "markdown",
   "metadata": {},
   "source": [
    "### Opdracht 8.4: Drie lievelingskleuren\n",
    "\n",
    "<p>Schrijf een programma dat een gebruiker om zijn drie lievelingskleuren vraagt en na de derde print: <i>Dat zijn drie mooie kleuren!</i> Gebruik hiervoor een <code>for</code>-loop.</p>\n"
   ]
  },
  {
   "cell_type": "code",
   "execution_count": null,
   "metadata": {
    "tags": [
     "Opdracht"
    ]
   },
   "outputs": [],
   "source": []
  },
  {
   "cell_type": "markdown",
   "metadata": {},
   "source": [
    "<p>Bekijk <a href=\"http://course.cs.ru.nl/pythonVO/Jupyter/H8_oplossingen.html#opgave814\" target=\"_blank\">hier</a> de voorbeelduitwerking.</p>"
   ]
  },
  {
   "cell_type": "markdown",
   "metadata": {},
   "source": [
    "## 3: Van startgetal tot eindgrens (for met twee parameters)\n",
    "\n",
    "[![Watch the video](https://img.youtube.com/vi/OuLYvfjbB9s/hqdefault.jpg)](https://www.youtube.com/embed/OuLYvfjbB9s)\n",
    "\n",
    "<p>Je kunt ook aangeven bij welk getal de <code>teller</code> in de <code>for</code>-loop begint.\n",
    "    Standaard is dat 0. Als je <code>range()</code> met twee parameters aanroept, dan is de eerste het startgetal\n",
    "    en de tweede de eindgrens.</p>\n",
    "\n",
    "<p>De code hieronder drukt de getallen 2 tot 5 af (niet tot en met 5):</p>"
   ]
  },
  {
   "cell_type": "code",
   "execution_count": null,
   "metadata": {},
   "outputs": [],
   "source": [
    "for teller in range( 2, 5 ):\n",
    "  print( teller )"
   ]
  },
  {
   "cell_type": "markdown",
   "metadata": {},
   "source": [
    "### Opdracht 8.5: De getallen 102 t/m 106 afdrukken\n",
    "\n",
    "<p>Druk de getallen 102\n",
    "    tot en met 106 af. Gebruik hiervoor een <code>for</code>-loop. Na afloop print je <i>Klaar!</i></p>\n"
   ]
  },
  {
   "cell_type": "code",
   "execution_count": null,
   "metadata": {
    "tags": [
     "Opdracht"
    ]
   },
   "outputs": [],
   "source": []
  },
  {
   "cell_type": "markdown",
   "metadata": {},
   "source": [
    "<p>Klik <a href=\"https://course.cs.ru.nl/pythonVO/Teams/IA_uitwerkingen/IA_H8_oplossingen.html#opgave821\" target=\"_blank\">hier</a> voor een voorbeelduitwerking.</p>"
   ]
  },
  {
   "cell_type": "markdown",
   "metadata": {},
   "source": [
    "## 4: Van startgetal tot eindgrens met stapgrootte (for met drie parameters)\n",
    "\n",
    "[![Watch the video](https://img.youtube.com/vi/HyNZLCIeSxs/hqdefault.jpg)](https://www.youtube.com/embed/HyNZLCIeSxs)\n",
    "\n",
    "<p>Standaard telt de for-loop steeds 1 op. Je kunt zelf de stapgrootte aangeven door\n",
    "    <code>range()</code> met drie parameters aan te roepen: eerst het startgetal, dan de eindgrens en als derde een\n",
    "    stapgrootte.\n",
    "</p>\n",
    "\n",
    "<p><code>for getal in range (startgetal, eindgrens, stapgrootte):</code></p>\n",
    "\n",
    "<p>Je kunt bijvoorbeeld aangeven dat steeds stappen van 2 gemaakt moet worden:</p>"
   ]
  },
  {
   "cell_type": "code",
   "execution_count": null,
   "metadata": {},
   "outputs": [],
   "source": [
    "for getal in range( 3, 13, 2 ):\n",
    "\tprint( getal )"
   ]
  },
  {
   "cell_type": "markdown",
   "metadata": {},
   "source": [
    "<p>Als je wilt aftellen, gebruik dan een negatieve stapgrootte. Je moet dan wel ervoor zorgen dat het startgetal\n",
    "    groter is dan de eindgrens.</p>"
   ]
  },
  {
   "cell_type": "code",
   "execution_count": null,
   "metadata": {},
   "outputs": [],
   "source": [
    "for teller in range( 10, 6, -1 ):\n",
    "  print( teller )"
   ]
  },
  {
   "cell_type": "markdown",
   "metadata": {},
   "source": [
    "### Opdracht 8.6: 3...2...1...Af!\n",
    "\n",
    "<p>De volgende code telt van 3 tot en met 1, en print dan <i>Af!</i>. Helaas staan de regels code in de verkeerde volgorde en staat er een regel te veel in. Kan jij de code fixen?</p>\n"
   ]
  },
  {
   "cell_type": "code",
   "execution_count": null,
   "metadata": {
    "tags": [
     "Opdracht"
    ]
   },
   "outputs": [],
   "source": [
    "print(\"Af!\")\n",
    "\tprint(teller)\n",
    "for teller in range (3, 0, -1):\n",
    "for teller in range (3, 1, -1):"
   ]
  },
  {
   "cell_type": "markdown",
   "metadata": {},
   "source": [
    "<p>Klik <a href=\"https://course.cs.ru.nl/pythonVO/Teams/IA_uitwerkingen/IA_H8_oplossingen.html#opgave831\" target=\"_blank\">hier</a> voor een voorbeelduitwerking.</p>\n"
   ]
  },
  {
   "cell_type": "markdown",
   "metadata": {},
   "source": [
    "### Opdracht 8.7: Veelvouden afdrukken met drie parameters\n",
    "\n",
    "<p>Druk alle veelvouden van 4 af, beginnend bij 21, aflopend tot 3. Dus: 21 17 13 9 5</p> Gebruik hiervoor maar twee regels code.<p></p>\n",
    "\n",
    "<p>Tips:\n",
    "</p>\n",
    "<ul>\n",
    "    <li>Gebruik een <code>for</code>-loop met drie parameters in de <code>range</code>.\n",
    "    </li>\n",
    "    <li>Voor het aftellen maak je gebruik van een negatieve stapgrootte.\n",
    "    </li>\n",
    "</ul>\n",
    "<p></p>"
   ]
  },
  {
   "cell_type": "code",
   "execution_count": null,
   "metadata": {
    "tags": [
     "Opdracht"
    ]
   },
   "outputs": [],
   "source": []
  },
  {
   "cell_type": "markdown",
   "metadata": {},
   "source": [
    "<p>Klik <a href=\"https://course.cs.ru.nl/pythonVO/Teams/IA_uitwerkingen/IA_H8_oplossingen.html#opgave832\" target=\"_blank\">hier</a> voor een voorbeelduitwerking.</p>"
   ]
  },
  {
   "cell_type": "markdown",
   "metadata": {},
   "source": [
    "## 5: Andere rijtjes afdrukken met een for-loop\n",
    "\n",
    "<p>Je kunt ook in de <code>for</code>-loop met de teller rekenen. Op zo'n manier krijg je andere rijtjes getallen.</p>\n",
    "\n",
    "<p>Bijvoorbeeld, om de eerste vijf <i>even</i> getallen af te drukken kun je teller steeds met twee vermenigvuldigen:</p>\n"
   ]
  },
  {
   "cell_type": "code",
   "execution_count": null,
   "metadata": {},
   "outputs": [],
   "source": [
    "for teller in range(5):\n",
    "\tprint(teller*2)"
   ]
  },
  {
   "cell_type": "markdown",
   "metadata": {},
   "source": [
    "<p>En om de eerste bijf <i>oneven</i> getallen af te drukken, doe je hetzelfde, maar tel je steeds eentje bij het even getal op. Omdat je nog steeds vijf getallen wilt afdrukken loopt je teller van 0 tot 5:</p>\n"
   ]
  },
  {
   "cell_type": "code",
   "execution_count": null,
   "metadata": {},
   "outputs": [],
   "source": [
    "for teller in range(0,5):\n",
    "\tprint(teller*2 + 1)"
   ]
  },
  {
   "cell_type": "markdown",
   "metadata": {},
   "source": [
    "### Opdracht 8.8: honderd-vouden\n",
    "\n",
    "<p>Schrijf een programma dat de honderdvouden van 100 tot en met 1000 afdrukt.</p>\n",
    "\n",
    "<p>Dus de getallen 100, 200, 300, ..., 1000 worden afgedrukt.</p>"
   ]
  },
  {
   "cell_type": "code",
   "execution_count": null,
   "metadata": {
    "tags": [
     "Opdracht"
    ]
   },
   "outputs": [],
   "source": []
  },
  {
   "cell_type": "markdown",
   "metadata": {},
   "source": [
    "<p><a href=\"https://course.cs.ru.nl/pythonVO/Teams/IA_uitwerkingen/IA_H8_oplossingen.html#opgave841\">Klik hier</a> voor een voorbeelduitwerking.</p>\n"
   ]
  },
  {
   "cell_type": "markdown",
   "metadata": {},
   "source": [
    "### Opdracht 8.9: Een bepaald aantal honderdvouden\n",
    "\n",
    "<p>De code hieronder drukt de eerste tien honderdvouden af. De teller wordt gebruikt om het aantal bij te houden, dus het vermenigvuldigen doen we in de print.</p>\n",
    "\n",
    "<p>Wijzig de code hieronder zodat de eerste vijf honderdvouden afgedrukt worden.</p>\n",
    "\n",
    "<p>Dus: 0, 100, 200, 300 en 400 worden afgedrukt.</p>"
   ]
  },
  {
   "cell_type": "code",
   "execution_count": null,
   "metadata": {
    "tags": [
     "Opdracht"
    ]
   },
   "outputs": [],
   "source": [
    "for aantal in range(10):\n",
    "\tprint(aantal*100)"
   ]
  },
  {
   "cell_type": "markdown",
   "metadata": {},
   "source": [
    "<p>Klik <a href=\"https://course.cs.ru.nl/pythonVO/Teams/IA_uitwerkingen/IA_H8_oplossingen.html#opgave842\">hier</a> voor een voorbeelduitwerking.</p>"
   ]
  },
  {
   "cell_type": "markdown",
   "metadata": {},
   "source": [
    "## 6: Samenvatting van de <code>for</code>-loop\n",
    "\n",
    "<p>Samengevat roep je een <code>for</code>-loop zo aan:</p>\n",
    "<p><code>for getal in range\n",
    "        (startgetal, eindgrens, stapgrootte):</code></p>\n",
    "\n",
    "<p>Waarbij: </p>\n",
    "<ul>\n",
    "    <li>startgetal standaard 0 is;</li>\n",
    "    <li>men tot een eindgrens loopt (en niet tot en met);</li>\n",
    "    <li>de standaardstapgrootte 1 is.</li>\n",
    "</ul>\n",
    "<p></p>"
   ]
  },
  {
   "cell_type": "markdown",
   "metadata": {},
   "source": [
    "## Onderwerp 8: Afsluitende opdrachten\n",
    "\n",
    "<p>Met de volgende afsluitende opdrachten kun je kijken hoe goed je de stof beheerst. Controleer steeds je eigen oplossing met de voorbeeldoplossing.</p>\n"
   ]
  },
  {
   "cell_type": "markdown",
   "metadata": {},
   "source": [
    "### Afsluitende opdracht 8.1: Veelvouden van 5 onder de 100\n",
    "\n",
    "<p>Schrijf code die de veelvouden van 5 afdrukt. Stop nadat de 100 afgedrukt is.</p>\n",
    "<p>Je moet gebruikmaken van een <code>for</code>-loop. </p>\n",
    "\n",
    "<p>Je programma drukt dus de volgende reeks getallen af:</p>\n",
    "<p>0</p>\n",
    "<p>5</p>\n",
    "<p>10</p>\n",
    "<p>15</p>\n",
    "<p>...</p>\n",
    "<p>95</p>\n",
    "<p>100</p>\n"
   ]
  },
  {
   "cell_type": "code",
   "execution_count": null,
   "metadata": {
    "tags": [
     "Opdracht"
    ]
   },
   "outputs": [],
   "source": []
  },
  {
   "cell_type": "markdown",
   "metadata": {},
   "source": [
    "<p>Klik <a href=\"https://course.cs.ru.nl/pythonVO/Teams/IA_uitwerkingen/IA_H8_oplossingen.html#AfOpgave81\">hier</a> voor een voorbeelduitwerking.</p>\n"
   ]
  },
  {
   "cell_type": "markdown",
   "metadata": {},
   "source": [
    "### Afsluitende opdracht 8.2: Traceertabel\n",
    "\n",
    "<p>Bekijk de onderstaande code en beantwoord daarna de vragen eronder.</p>"
   ]
  },
  {
   "cell_type": "code",
   "execution_count": null,
   "metadata": {
    "tags": [
     "Opdracht"
    ]
   },
   "outputs": [],
   "source": [
    "def doeIets (getal):\n",
    "\tantwoord = 0\n",
    "\tfor teller in range (0,getal):\n",
    "\t\tantwoord += teller\n",
    "\treturn antwoord"
   ]
  },
  {
   "cell_type": "markdown",
   "metadata": {},
   "source": [
    "<p>A. Vul onderstaande traceertabel in voor het geval je <code>doeIets()</code> aanroept met de waarde 5.</p>\n",
    "\n",
    "<p>\n",
    "</p>\n",
    "<table cellspacing=\"\" cellpadding=\"\" border=\"\" width=\"\" align=\"\">\n",
    "    <tbody>\n",
    "        <tr>\n",
    "            <th><code>teller</code></th>\n",
    "            <th><code>antwoord</code></th>\n",
    "        </tr>\n",
    "        <tr>\n",
    "            <td>0</td>\n",
    "            <td>0</td>\n",
    "        </tr>\n",
    "        <tr>\n",
    "            <td>1</td>\n",
    "            <td>1</td>\n",
    "        </tr>\n",
    "        <tr>\n",
    "            <td>&nbsp;</td>\n",
    "            <td>&nbsp;</td>\n",
    "        </tr>\n",
    "        <tr>\n",
    "            <td>&nbsp;</td>\n",
    "            <td>&nbsp;</td>\n",
    "        </tr>\n",
    "        <tr>\n",
    "            <td>&nbsp;</td>\n",
    "            <td>&nbsp;</td>\n",
    "        </tr>\n",
    "    </tbody>\n",
    "</table>\n",
    "<p></p>\n",
    "<p>B. De code van <code>doeIets()</code> heeft een doel. Vat dit doel samen in een zin en zet dit in commentaar boven de functiedefinitie van <code>doeIets()</code>. Let op: er wordt gevraagd om een samenvatting, niet een uitleg van wat elke regel code doet.</p>\n"
   ]
  },
  {
   "cell_type": "markdown",
   "metadata": {},
   "source": [
    "<p>Klik <a href=\"https://course.cs.ru.nl/pythonVO/Teams/IA_uitwerkingen/IA_H8_oplossingen.html#AfOpgave82\">hier</a> voor een voorbeelduitwerking.</p>\n"
   ]
  },
  {
   "cell_type": "markdown",
   "metadata": {},
   "source": [
    "### Afsluitende opdracht 8.3: Spirograaf\n",
    "\n",
    "<div style=\"display:flex\">\n",
    "<img src=\"http://course.cs.ru.nl/pythonVO/Jupyter/img/Python7_spirograaf.jpg\" alt=\"Spirograaf\" width=\"300\">\n",
    "<div>\n",
    "Deze spirograaf is gemaakt door 25 keer achter elkaar een vierkant te tekenen en tussendoor steeds 15 graden te draaien.\n",
    "                <p></p>\n",
    "                Schrijf een programma dat de spirograaf tekent. Gebruik hierbij de onderstaande code.\n",
    "</div>\n",
    "\n",
    "</div>"
   ]
  },
  {
   "cell_type": "code",
   "execution_count": null,
   "metadata": {},
   "outputs": [],
   "source": [
    "import turtle"
   ]
  },
  {
   "cell_type": "markdown",
   "metadata": {},
   "source": [
    "<p>Klik <a href=\"https://course.cs.ru.nl/pythonVO/Teams/IA_uitwerkingen/IA_H8_oplossingen.html#AfOpgave83\">hier</a> voor een voorbeelduitwerking.</p>\n"
   ]
  },
  {
   "cell_type": "markdown",
   "metadata": {},
   "source": [
    "### Afsluitende opdracht 8.4: Aftellen tussen getallen gekozen door gebruiker\n",
    "\n",
    "<p>Schrijf een programma dat de gebruiker om twee getallen vraagt en dan aftelt van het grootste tot het kleinste (niet: tot en met).</p>\n"
   ]
  },
  {
   "cell_type": "code",
   "execution_count": null,
   "metadata": {
    "tags": [
     "Opdracht"
    ]
   },
   "outputs": [],
   "source": []
  },
  {
   "cell_type": "markdown",
   "metadata": {},
   "source": [
    "<p>Klik <a href=\"https://course.cs.ru.nl/pythonVO/Teams/IA_uitwerkingen/IA_H8_oplossingen.html#AfOpgave84\">hier</a> voor een voorbeelduitwerking.</p>\n"
   ]
  },
  {
   "cell_type": "markdown",
   "metadata": {},
   "source": [
    "### Afsluitende opdracht 8.5: Een bepaald aantal even getallen\n",
    "\n",
    "<p>Schrijf een programma dat de gebruiker om een getal vraagt. Vervolgens print je dat aantal even getallen beginnend bij 0</p>\n",
    "\n",
    "<p>Dus, als de gebruiker 5 invoert, dan worden 0, 2, 4, 6, en 8 afgedrukt.</p>\n",
    "\n",
    "<p>Tip: Zorg eerst dat je programma werkt voor 5. Breid het daarna uit met de vraag aan de gebruiker.</p>\n"
   ]
  },
  {
   "cell_type": "code",
   "execution_count": null,
   "metadata": {
    "tags": [
     "Opdracht"
    ]
   },
   "outputs": [],
   "source": []
  },
  {
   "cell_type": "markdown",
   "metadata": {},
   "source": [
    "<p>Klik <a href=\"https://course.cs.ru.nl/pythonVO/Teams/IA_uitwerkingen/IA_H8_oplossingen.html#AfOpgave85\">hier</a> voor een voorbeelduitwerking.</p>\n"
   ]
  },
  {
   "cell_type": "markdown",
   "metadata": {},
   "source": [
    "### Afsluitende opdracht 8.6: Som van vier getallen\n",
    "\n",
    "<p>Schrijf een programma die de gebruiker om vier getallen vraagt en na afloop de som van die vier getallen afdrukt.</p>\n",
    "\n",
    "<p>Hiervoor gebruik je natuurlijk een <code>for</code>-loop en een variabele voor de <code>som</code>. In de loop hoog je de som op met het ingevoerde getal.</p>\n",
    "\n",
    "<p>Tips:\n",
    "</p>\n",
    "<ul>\n",
    "    <li>We gebruiken een variabele <code>som</code>. De <code>som</code> begint op 0.\n",
    "        <p></p>\n",
    "    </li>\n",
    "    <li>We maken een loop die vier keer code herhaalt.\n",
    "    </li>\n",
    "    <li>Vraag de gebruiker om invoer en sla deze op in een variabele (vergeet niet de <code>int()</code>).</li>\n",
    "    <li>Tel het ingevoerde getal bij de huidige som op.\n",
    "    </li>\n",
    "    <li>Print de som na afloop van de loop.</li>\n",
    "</ul>\n",
    "<p></p>"
   ]
  },
  {
   "cell_type": "code",
   "execution_count": null,
   "metadata": {
    "tags": [
     "Opdracht"
    ]
   },
   "outputs": [],
   "source": []
  },
  {
   "cell_type": "markdown",
   "metadata": {},
   "source": [
    "<p>Klik <a href=\"https://course.cs.ru.nl/pythonVO/Teams/IA_uitwerkingen/IA_H8_oplossingen.html#AfOpgave86\">hier</a> voor een voorbeelduitwerking.</p>\n"
   ]
  },
  {
   "cell_type": "markdown",
   "metadata": {},
   "source": [
    "### Afsluitende opdracht 8.7 Driehoekje van sterretjes\n",
    "\n",
    "<p>Schrijf een functie die een getal als parameter krijgt en vervolgens een driehoekje van sterretjes afdrukt. Bijvoorbeeld, als de parameter 3 is, dan wordt het volgende afgedrukt:</p>\n",
    "<p>*</p>\n",
    "<p>**</p>\n",
    "<p>***</p>\n",
    "<p>**</p>\n",
    "<p>*</p>\n",
    "\n",
    "<p>Tip: Weet je nog wat <code>print(3 * \"*\")</code> doet? Zo niet, probeer het dan eventjes uit.</p>\n"
   ]
  },
  {
   "cell_type": "code",
   "execution_count": null,
   "metadata": {
    "tags": [
     "Opdracht"
    ]
   },
   "outputs": [],
   "source": []
  },
  {
   "cell_type": "markdown",
   "metadata": {},
   "source": [
    "<p>Klik <a href=\"https://course.cs.ru.nl/pythonVO/Teams/IA_uitwerkingen/IA_H8_oplossingen.html#AfOpgave87\">hier</a> voor een voorbeelduitwerking.</p>"
   ]
  }
 ],
 "metadata": {
  "kernelspec": {
   "display_name": "Python 3",
   "language": "python",
   "name": "python3"
  },
  "language_info": {
   "name": "python",
   "version": "3.12.3"
  }
 },
 "nbformat": 4,
 "nbformat_minor": 2
}
