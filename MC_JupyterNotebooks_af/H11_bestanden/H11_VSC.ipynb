{
 "cells": [
  {
   "cell_type": "markdown",
   "metadata": {},
   "source": [
    "# Hoofdstuk 11 - Tekstbestanden\n",
    "<p>Python wordt vaak gebruikt voor dataverwerking: het lezen, wijzigen en schrijven van tekstbestanden. Data word vaak opgeslagen in tekstbestanden, omdat dit soort bestanden makkelijk tussen verschillende programma's uitgewisseld kunnen worden. Je kunt het bijvoorbeeld gebruiken om high-scores van een spelletje bij te houden en dan maakt het niet uit of je spel op een Mac- of Windows-pc gespeeld wordt.</p>\n",
    "\n",
    "\n",
    "<p>In dit onderwerp:</span></p>\n",
    "<ul>\n",
    "    <li>leer je hoe je bestanden kan openen en sluiten met <code>open()</code> en <code>close()</code>;</li>\n",
    "    <li>leer je hoe je uit een bestand kan lezen met <code>read()</code>, <code>readline()</code> en <code>readlines()</code>;</li>\n",
    "    <li>leer je hoe je naar een bestand kan schrijven met <code>write()</code>, <code>writeline()</code> en <code>writelines()</code>;</li>\n",
    "    <li>leer je hoe je bestanden kunt openen in een 'mode': om te lezen (\"r\"), te schrijven (\"w\"), toe te voegen (\"a\") of een combinatie daarvan (\"w+\" en \"a+\").</li>\n",
    "    <li>leer je hoe je CSV-bestanden (comma seperated of door komma's gescheiden) gebruikt en de gegevens met&nbsp;<code>.split(',')&nbsp;</code>uit zo'n bestand in een lijst zet.</li>\n",
    "</ul>\n",
    "<p></p>\n",
    "\n",
    "<div class=\"fa fa-clock-o fa-3x\"></div><br> <b>1 uur</b>"
   ]
  },
  {
   "cell_type": "markdown",
   "metadata": {},
   "source": [
    "### 1: Lezen uit tekstbestanden"
   ]
  },
  {
   "cell_type": "markdown",
   "metadata": {},
   "source": [
    "<!-- HIER BEGINT PAGINA INHOUD -->\n",
    "\n",
    "<!--IA H11.1\n",
    "1: Lezen uit tekstbestanden</p>\n",
    "\n",
    "<h1 id=\"H111\">H11.1 - Lezen van tekstbestanden</h1>\n",
    "\n",
    "-->\n",
    "<!--\n",
    "<p><iframe width=\"640\" height=\"360\" src=\"https://www.youtube.com/embed/F28VrnOkhBI\" title=\"YouTube video player\" frameborder=\"0\" allow=\"accelerometer; autoplay; clipboard-write; encrypted-media; gyroscope; picture-in-picture\" allowfullscreen=\"\"></iframe></p>-->\n",
    "\n",
    "[![Watch the video](https://img.youtube.com/vi/F28VrnOkhBI/hqdefault.jpg)](https://www.youtube.com/embed/F28VrnOkhBI)\n",
    "\n",
    "<p>Om een tekstbestand te lezen, moet je het bestand eerst openen, dan de inhoud ervan lezen en daarna het bestand weer sluiten.</p>\n",
    "\n",
    "<p><b>Openen van een bestand met <code>open()</code></b></p>\n",
    "<p>Een bestand openen doe je met <code>open()</code>.\n",
    "    De <code>open()</code>-functie heeft twee parameters. De eerste is de naam van het bestand en met de tweede geef je aan wat je met het bestand wilt doen, bijvoorbeeld:\n",
    "</p>\n",
    "<ul>\n",
    "    <li>alleen lezen: <code>\"r\"</code> (staat voor het Engelse \"read\");</li>\n",
    "    <li>(vooraan) schrijven: <code>\"w\"</code>  (staat voor het Engelse \"write\");</li>\n",
    "    <li>achteraan toevoegen: <code>\"a\"</code>  (staat voor het Engelse \"append\").</li>\n",
    "</ul>\n",
    "\n",
    "<p>We kijken eerst naar hoe je een bestand opent om te lezen en na afloop weer sluit.</p>\n",
    "\n",
    "<p>De <code>open()</code>-functie levert een handle (of handvat) op, die je daarna gebruikt om allerlei andere\n",
    "    dingen met het bestand te kunnen doen, zoals de inhoud lezen of erin schrijven. In onze voorbeelden is\n",
    "    <code>bestand</code> de handle naar het bestand. Omdat we willen lezen geven we als tweede parameter\n",
    "    een \"r\" op:\n",
    "</p>\n",
    "\n",
    "\n",
    "<code>bestand = open( \"groet.txt\", \"r\" )</code>\n",
    "\n",
    "<p><b>Lezen uit een bestand met <code>read()</code></b></p>\n",
    "<p>De makkelijkste manier om te lezen wat er\n",
    "    in een bestand staat, is met <code>read()</code>. Deze levert een <code>string</code> op met daarin de inhoud\n",
    "    van het hele bestand.</p>\n",
    "\n",
    "<code>tekst = bestand.read()</code>\n",
    "<p>Ook tekens die je niet meteen ziet, worden in de <code>string</code> opgeslagen. Een voorbeeld is een nieuwe regel (als je op ENTER drukt), die als <code>\\n</code> wordt gecodeerd.</p>\n",
    "\n",
    "\n",
    "<p><b>Sluiten van een bestand met <code>close()</code></b></p>\n",
    "\n",
    "<p>Een bestand sluiten doe je met <code>close()</code>.</p>\n",
    "<code>bestand.close()</code>\n",
    "<p>Het is een goede gewoonte om bestanden te sluiten zodra je ze niet meer gebruikt. Dit kan anders problemen\n",
    "    opleveren als het bestand ook door een ander programma gebruikt wordt.</p>"
   ]
  },
  {
   "cell_type": "markdown",
   "metadata": {},
   "source": [
    "## 2: Openen, lezen, printen en sluiten van een bestand\n",
    "<p>Hieronder zie je een compleet programma dat een bestand opent, de inhoud leest en deze in een string <code>tekst_uit_bestand</code> zet, de inhoud print en het\n",
    "    bestand weer sluit.</p>\n",
    "<p>In de linker kolom zie je welke bestanden gebruikt worden.</p>"
   ]
  },
  {
   "cell_type": "code",
   "execution_count": 2,
   "metadata": {},
   "outputs": [
    {
     "name": "stdout",
     "output_type": "stream",
     "text": [
      "Hallo Informatica Actief leerling!\n",
      "Hoe gaat het?\n"
     ]
    }
   ],
   "source": [
    "bestand = open( \"groet.txt\", \"r\" )   # open het bestand om te lezen (\"r\")\n",
    "tekst_uit_bestand = bestand.read()   # lees de inhoud van het bestand en sla het op in een variabele\n",
    "print(tekst_uit_bestand)             # print naar de console\n",
    "bestand.close()                      # sluit het bestand"
   ]
  },
  {
   "cell_type": "markdown",
   "metadata": {},
   "source": [
    "### Opdracht 11.1 Foutmelding herkennen\n",
    "a) Druk op 'run' om te lezen wat er in het bestand \"groet.txt\" staat.\n",
    "\n",
    "b) Klik links op het icoontje voor 'Explorer'.\n",
    "\n",
    "<p><img src=\"https://course.cs.ru.nl/pythonVO/Jupyter/img/VSC_explorerIcon.png\" alt=\"VSC explorer icoon\"></p>\n",
    "\n",
    " Je ziet dat er in de map verschillende bestanden staan, waaronder deze jupyter notebook ('.ipynb' bestand).\n",
    "\n",
    "c) Klik op \"groet.txt\" om de inhoud van dat bestand zien.\n",
    "\n",
    "d) Wijzig in de code hieronder de bestandsnaam \"groet.txt\" in een andere naam  (dus bij <code>open(...)</code>). Welke foutmelding krijg je als je op 'run' drukt?\n",
    "\n",
    "e) Wijzig in de code hieronder de bestandsnaam in \"afscheid.txt\". Druk op 'run'. Welke tekst staat er nu in het bestand \"afscheid.txt\"?"
   ]
  },
  {
   "cell_type": "code",
   "execution_count": null,
   "metadata": {},
   "outputs": [],
   "source": [
    "bestand = open( \"groet.txt\", \"r\" )   # open het bestand om te lezen (\"r\")\n",
    "tekst_uit_bestand = bestand.read()   # lees de inhoud van het bestand en sla het op in een variabele\n",
    "print(tekst_uit_bestand)             # print naar de console\n",
    "bestand.close()                      # sluit het bestand"
   ]
  },
  {
   "cell_type": "markdown",
   "metadata": {},
   "source": [
    "## 3: Regel lezen met <code>readline()</code>\n",
    "<p>Om een tekstbestand regel voor regel te lezen, kun je de <code>readline()</code>-functie gebruiken. Deze functie leest telkens één regel uit het bestand en zet deze in een string. Een regel is alle tekst tot de volgende nieuwe regel, inclusief het <code>\\n</code>-teken. Daarna komt de volgende regel. Als je aan het einde van het bestand bent en je probeert een nieuwe regel te lezen, krijg je een lege string terug.</p>"
   ]
  },
  {
   "cell_type": "code",
   "execution_count": null,
   "metadata": {},
   "outputs": [],
   "source": [
    "bestand = open(\"dikkertjeDap.txt\", \"r\")\n",
    "\n",
    "regel = bestand.readline()  #lees eerste regel\n",
    "print(regel)                #print naar de console\n",
    "\n",
    "regel = bestand.readline()  #lees tweede regel\n",
    "print(regel)\n",
    "\n",
    "bestand.close()"
   ]
  },
  {
   "cell_type": "markdown",
   "metadata": {},
   "source": [
    "<p>Omdat <code>print()</code> de tekst steeds op een nieuwe regel afdrukt, krijg je nu extra lege regels: één bij elke regeleinde <code>\\n</code> in <i>dikkertjeDap.txt</i> en de andere bij <code>print()</code>. Met <code>print( tekst, end=\"\" )</code> druk je geen extra lege regel meer af.</p>"
   ]
  },
  {
   "cell_type": "markdown",
   "metadata": {},
   "source": [
    "### Regels lezen en dan in een lijst zetten met <code>readlines()</code>\n",
    "<p>Met <code>readlines()</code> kun je elke regel van een tekstbestand in een <b>lijst</b> zetten, waarbij elke regel een apart element wordt.</p>"
   ]
  },
  {
   "cell_type": "code",
   "execution_count": null,
   "metadata": {},
   "outputs": [],
   "source": [
    "bestand = open(\"dikkertjeDap.txt\", \"r\")\n",
    "\n",
    "inhoud_lijst = bestand.readlines() #zet inhoud in een lijst, elk regel als aparte element\n",
    "print(inhoud_lijst)\n",
    "\n",
    "bestand.close()\t#sluit bestand"
   ]
  },
  {
   "cell_type": "markdown",
   "metadata": {},
   "source": [
    "<p>Nu de tekst in een lijst staat, kun jij je kennis over lijsten gebruiken om er handige dingen mee te doen, zoals elke regel met een <code>for</code>-loop te doorlopen:\n",
    "</p>"
   ]
  },
  {
   "cell_type": "code",
   "execution_count": null,
   "metadata": {},
   "outputs": [],
   "source": [
    "bestand = open(\"dikkertjeDap.txt\")\n",
    "tekst = bestand.readlines() #zet de inhoud van bestand in een lijst\n",
    "\n",
    "for tekstregel in tekst: #voor elke tekstregel in de lijst\n",
    "  print(tekstregel)\n",
    "\n",
    "bestand.close()"
   ]
  },
  {
   "cell_type": "markdown",
   "metadata": {},
   "source": [
    "### Opdracht 11.2 Inhoud afdrukken\n",
    "<p>Schrijf een programma dat het bestand 'dikkertjeDap.txt' openmaakt (met <code>\"r\"</code> voor read), de inhoud naar de console print en daarna het bestand sluit.</p>"
   ]
  },
  {
   "cell_type": "code",
   "execution_count": null,
   "metadata": {},
   "outputs": [],
   "source": []
  },
  {
   "cell_type": "markdown",
   "metadata": {},
   "source": [
    "<p>Bekijk <a href=\"https://course.cs.ru.nl/pythonVO/Teams/IA_uitwerkingen/IA_H11_oplossingen.html#opgave1112\">hier</a> de voorbeelduitwerking.</p>"
   ]
  },
  {
   "cell_type": "markdown",
   "metadata": {},
   "source": [
    "### Opdracht 11.3 Letters tellen\n",
    "<p>Schrijf een programma dat het bestand 'dikkertjeDap.txt' openmaakt (met <code>\"r\"</code> voor read), en dan telt (en print) hoe vaak de letter 'a' of 'A' voorkomt in het bestand. Tip: gebruik <code>tekst.count('A')</code>. Vergeet niet na afloop het bestand ook te sluiten.</p>"
   ]
  },
  {
   "cell_type": "code",
   "execution_count": null,
   "metadata": {},
   "outputs": [],
   "source": []
  },
  {
   "cell_type": "markdown",
   "metadata": {},
   "source": [
    "<p>Bekijk <a href=\"https://course.cs.ru.nl/pythonVO/Teams/IA_uitwerkingen/IA_H11_oplossingen.html#opgave1113\">hier</a> de voorbeelduitwerking.</p>"
   ]
  },
  {
   "cell_type": "markdown",
   "metadata": {},
   "source": [
    "## 4: Schrijven naar een tekstbestand\n",
    "[![Watch the video](https://img.youtube.com/vi/-6Ydra69CyM/hqdefault.jpg)](https://www.youtube.com/embed/-6Ydra69CyM)\n",
    "\n",
    "<p>Het schrijven in een tekstbestand lijkt veel op het lezen uit een tekstbestand. Je opent het\n",
    "    bestand, schrijft erin en sluit het weer.</p>\n"
   ]
  },
  {
   "cell_type": "markdown",
   "metadata": {},
   "source": [
    "### Openen om te schrijven\n",
    "<p>Om in een bestand te kunnen schrijven, <code>open()</code> je het bestand met <code>\"w\"</code> (voor write) als tweede parameter. Bijvoorbeeld:</p>\n",
    "<p><code>bestand = open(\"bestandsnaam.txt\", \"w\")</code> </p>\n",
    "<p>Als het bestand nog niet bestaat, wordt het aangemaakt.</p>\n",
    "\n",
    "\n",
    "<p>Let op: bestaat het bestand wel, dan wordt het leeggemaakt! Je zult geen waarschuwing krijgen die zegt: \"Weet je het zeker?\" Het bestand wordt gewoon leeggemaakt. Dus je moet heel erg voorzichtig zijn met het openen van een bestand om te schrijven.</p>"
   ]
  },
  {
   "cell_type": "markdown",
   "metadata": {},
   "source": [
    "### Schrijven met <code>write()</code>\n",
    "<p>Met <code>write()</code> schrijf je naar een tekstbestand. Als parameter geef je tussen aanhalingstekens de bestandsnaam mee. Je moet wel eerst het bestand openen met <code>open(\"bestandsnaam.txt\", \"w\")</code> en na afloop weer sluiten met <code>close()</code>.</p>\n",
    "<!--\n",
    "<p>De code hieronder vraagt de gebruiker wat tekst in te tijken, en schrijft deze dan naar een bestand. Zodra de gebruiker een lege string intypt, stopt het programma. Aan het einde opent het programma het\n",
    "geschreven bestand, leest de inhoud, en toont die op het scherm. Voer deze code uit, geef\n",
    "op zijn minst twee strings in, en zie wat er gebeurt.</p>-->\n",
    "\n",
    "<p>De code hieronder vraagt de gebruiker wat tekst in te typen en schrijft deze dan naar een bestand. Aan het einde opent het programma het geschreven bestand, leest de inhoud en toont die op het scherm.</p>\n",
    "\n",
    "\n",
    "<p>a) Klik op 'run' en tik iets in, bijvoorbeeld \"hallo\".\n",
    "b) Om het aangemaakte bestand te zien, klik links op het icoontje voor 'Explorer':<br>\n",
    "<img src=\"https://course.cs.ru.nl/pythonVO/Jupyter/img/VSC_explorerIcon.png\" alt=\"VSC explorer icoon\">\n",
    "\n",
    "c) Klik op het bestand \"ingevoerdeTekst.txt\" om de inhoud van het bestand zien.</p>\n"
   ]
  },
  {
   "cell_type": "code",
   "execution_count": null,
   "metadata": {},
   "outputs": [],
   "source": [
    "tekst = input(\"Geef een regel tekst om in het bestand te zetten: \")\n",
    "\n",
    "bestand = open(\"ingevoerdeTekst.txt\", \"w\")\n",
    "bestand.write(tekst)\n",
    "bestand.close()\n",
    "\n",
    "bestand = open(\"ingevoerdeTekst.txt\")\n",
    "tekst_in_bestand = bestand.read()\n",
    "print(\"Dit staat er nu in het bestand: \", tekst_in_bestand)\n",
    "bestand.close()"
   ]
  },
  {
   "cell_type": "markdown",
   "metadata": {},
   "source": [
    "<p>Je kunt allerlei soorten bestanden maken, bijvoorbeeld met je eigen naam als extensie: <code>bestand = open(\"uitvoer.renske\", \"w\")</code>. Probeer het maar!</p>\n"
   ]
  },
  {
   "cell_type": "markdown",
   "metadata": {},
   "source": [
    "### Opdracht 11.4 In bestand schrijven\n",
    "<p>Schrijf een programma dat tekst in een bestand opslaat en daarna, om te checken, afdrukt.\n",
    "</p>\n",
    "<ol style=\"list-style-type: lower-alpha\">\n",
    "    <li>Vraag de gebruiker om een zin in te tikken en sla die op in een variabele <code>tekst</code>.</li>\n",
    "  <li>Met <code>open</code> maak je een nieuw leeg bestand en zet de tekst daarin.</li>\n",
    "    <li>Sluit het bestand.</li>\n",
    "    <li>Open het bestand en druk de inhoud af naar de console.</li>\n",
    "    <li>Sluit het bestand.</li>\n",
    "    <li>Check of de inhoud overeenkomt met wat was ingetikt.</li>\n",
    "</ol>"
   ]
  },
  {
   "cell_type": "code",
   "execution_count": null,
   "metadata": {},
   "outputs": [],
   "source": []
  },
  {
   "cell_type": "markdown",
   "metadata": {},
   "source": [
    "<p>Bekijk <a href=\"https://course.cs.ru.nl/pythonVO/Teams/IA_uitwerkingen/IA_H11_oplossingen.html#opgave1121\">hier</a> de voorbeelduitwerking.</p>"
   ]
  },
  {
   "cell_type": "markdown",
   "metadata": {},
   "source": [
    "### Opdracht 11.5 Bestanden kopiëren\n",
    "\n",
    "<p>Schrijf een programma dat de inhoud van een bestand naar een ander kopieert.\n",
    "</p>\n",
    "<ol style=\"list-style-type: lower-alpha\">\n",
    "    <li>Schrijf code om de inhoud van ''kuikentjePiep.txt'' in te lezen en sla de inhoud op in een variabele.</li>\n",
    "    <li>Maak een bestand ''writetest.tmp''.</li>\n",
    "    <li>Schrijf de tekst naar het bestand ''writetest.tmp''.</li>\n",
    "    <li>Schrijf code om de inhoud van ''writetest.tmp'' op het scherm te printen.</li>\n",
    "</ol>\n",
    "<p></p>\n",
    "<p>Tip: Je kunt dit programma makkelijk maken door code van hierboven bij elkaar te plakken.</p>"
   ]
  },
  {
   "cell_type": "code",
   "execution_count": null,
   "metadata": {},
   "outputs": [],
   "source": []
  },
  {
   "cell_type": "markdown",
   "metadata": {},
   "source": [
    "<p>Bekijk <a href=\"https://course.cs.ru.nl/pythonVO/Teams/IA_uitwerkingen/IA_H11_oplossingen.html#opgave1122\">hier</a> de voorbeelduitwerking.</p>"
   ]
  },
  {
   "cell_type": "markdown",
   "metadata": {},
   "source": [
    "## 5: Een lijst wegschrijven met <code>writelines()</code>\n",
    "<p>Met <code>writelines()</code> kun je een lijst van strings naar een bestand schrijven. Run het voorbeeld\n",
    "hieronder, klik op ‘Show Files’ en dan op het bestand \"uitvoer.txt\" om de inhoud te\n",
    "bekijken.</p>"
   ]
  },
  {
   "cell_type": "code",
   "execution_count": 10,
   "metadata": {},
   "outputs": [],
   "source": [
    "tekstlijst = [\"hoi\\n\",\"hallo\\n\"]\n",
    "\n",
    "bestand = open(\"uitvoer.txt\", \"w\")\n",
    "bestand.writelines(tekstlijst)\n",
    "\n",
    "bestand.close()"
   ]
  },
  {
   "cell_type": "markdown",
   "metadata": {},
   "source": [
    "### Opdracht 11.6 Van lijst naar bestand\n",
    "<p>Schrijf een programma dat de lijst <code>lijst= [\"rood\\n\",\"wit\\n\",\n",
    "        \"blauw\"]</code> naar een bestand schrijft. Elk element van de lijst moet\n",
    "    op een nieuwe regel komen te staan.</p>\n",
    "<p>Na afloop staan er dus drie\n",
    "    regels tekst in een nieuw bestand.</p>"
   ]
  },
  {
   "cell_type": "code",
   "execution_count": null,
   "metadata": {},
   "outputs": [],
   "source": [
    "lijst = [\"rood\\n\",\"wit\\n\", \"blauw\"]"
   ]
  },
  {
   "cell_type": "markdown",
   "metadata": {},
   "source": [
    "<p>Bekijk <a href=\"https://course.cs.ru.nl/pythonVO/Teams/IA_uitwerkingen/IA_H11_oplossingen.html#opgave1123\">hier</a> de voorbeelduitwerking.</p>"
   ]
  },
  {
   "cell_type": "markdown",
   "metadata": {},
   "source": [
    "## 6: Toevoegen aan een tekstbestand\n",
    "<p>Om tekst toe te voegen aan een bestand (Engels: \"append\"), gebruik je\n",
    "    <code>\"a\"</code> als de tweede parameter bij het openen van het bestand,\n",
    "    bijvoorbeeld: <code>bestand = open(\"bestand.txt\", \"a\")</code>. De inhoud wordt\n",
    "    niet verwijderd, maar nieuwe data worden achteraan toegevoegd.\n",
    "</p>"
   ]
  },
  {
   "cell_type": "markdown",
   "metadata": {},
   "source": [
    "### Opdracht 11.7 Toevoegen aan een bestand\n",
    "\n",
    "<ol style=\"list-style-type: lower-alpha\">\n",
    "    <li>Run het programma hieronder en tik een woord in.\n",
    "    </li>\n",
    "    <li>Klik op het bestandsicoontje <img src=\"https://course.cs.ru.nl/pythonVO/img/file_icon.JPG\"> en dan op \"uitvoer.txt\" om de inhoud van het bestand zien.</li>\n",
    "    <li>Doe dat nog een keer. Hoe ziet je bestand er nu uit?</li>\n",
    "    <li>Verander nu de <code>\"a\"</code> in een <code>\"w\"</code>. Hoe ziet je bestand er nu uit?</li>\n",
    "    <li>Kan je in je eigen woorden omschrijven wat het verschil is tussen argument <code>\"a\"</code> en <code>\"w\"</code>?</li>\n",
    "</ol>"
   ]
  },
  {
   "cell_type": "code",
   "execution_count": 11,
   "metadata": {},
   "outputs": [],
   "source": [
    "tekst = input(\"Geef een regel tekst om in het bestand te zetten: \")\n",
    "\n",
    "bestand_handle = open(\"uitvoer.txt\", \"a\")\n",
    "bestand_handle.write(tekst)\n",
    "bestand_handle.close()"
   ]
  },
  {
   "cell_type": "markdown",
   "metadata": {},
   "source": [
    "<p>Bekijk <a href=\"https://course.cs.ru.nl/pythonVO/Teams/IA_uitwerkingen/IA_H11_oplossingen.html#opgave1124\">hier</a> de voorbeelduitwerking.</p>"
   ]
  },
  {
   "cell_type": "markdown",
   "metadata": {},
   "source": [
    "### 7: Gegevens opslaan in een CSV-bestand\n",
    "\n",
    "[![Watch the video](https://img.youtube.com/vi/n2WhYWBkSFw/hqdefault.jpg)](https://www.youtube.com/embed/n2WhYWBkSFw)\n",
    "<p>Je kunt bestanden gebruiken om data in op te slaan, bijvoorbeeld de high-score of de toestand van een spel.\n",
    "    Zo kan een speler, nadat het programma is afgesloten, later toch nog doorgaan waar die gebleven is. Wat hierbij\n",
    "    belangrijk is, is dat je goed bedenkt hoe je de data in een bestand gaat opslaan, bijvoorbeeld de volgorde. Dat is\n",
    "    nodig voor het uitlezen van de gegevens als die later weer gebruikt worden.</p>\n",
    "\n",
    "<p>Data kunnen als een .CSV-bestand opgeslagen worden. CSV staat voor \"Comma-Separated Values\", met komma\n",
    "    gescheiden waarden. Dit wordt vaak gebruikt voor het importeren en exporteren van data uit tabellen in spreadsheets en\n",
    "    databases. Data worden dan in een specifieke volgorde opgeslagen, telkens gescheiden door een komma.</p>\n",
    "\n",
    "<p>Stel dat je bij een spel gegevens wilt opslaan, zoals de spelersnaam en de score:</p>\n",
    "<ul>\n",
    "    <li>Tom,12\n",
    "    </li>\n",
    "    <li>Janneke,50\n",
    "    </li>\n",
    "    <li>Luna,20 </li>\n",
    "</ul>\n",
    "\n",
    "<p>Om de stand bij te houden na het afsluiten van het spel, kun je deze als .CSV-bestand opslaan. Om een nieuwe\n",
    "    score toe te voegen aan het bestand, schrijf je de gegevens achteraan in het bestand, steeds met een komma\n",
    "    ertussen en een nieuwe regel na afloop.</p>\n",
    "\n",
    "<ol style=\"list-style-type: lower-alpha\">\n",
    "    <li>Bekijk de inhoud van \"stand.csv\".\n",
    "    </li>\n",
    "    <li>Run het onderstaand programma en bekijk het resultaat in \"stand.csv\".\n",
    "    </li>\n",
    "</ol>"
   ]
  },
  {
   "cell_type": "code",
   "execution_count": null,
   "metadata": {},
   "outputs": [],
   "source": [
    "speler_naam = \"Floor\"\n",
    "speler_score = 60\n",
    "\n",
    "bestand = open(\"stand.csv\", \"a\") #a omdat je achteraan bestand wil toevoegen\n",
    "\n",
    "#schrijf elk element in je lijst naar het bestand, telkens met een ',' \n",
    "bestand.write('\\n')\t\t\t\t\t\t\t\t\t#op een nieuwe regel toevoegen\n",
    "bestand.write(speler_naam)\n",
    "bestand.write(',')\t\t\t\t\t\t\t\t\t#komma tussen elk element toevoegen\n",
    "bestand.write( str(speler_score) )\t#eerst nog een tekst van getallen maken\n",
    "\n",
    "\t\n",
    "bestand.close()\n",
    "print(\"klaar\")"
   ]
  },
  {
   "cell_type": "markdown",
   "metadata": {},
   "source": [
    "<p>Je kunt de gegevens uit een bestand ook weer in een lijst zetten. Met <code>.split()</code> kun je als\n",
    "    parameter aangeven welk teken gebruikt wordt tussen de verschillende gegevens, bijvoorbeeld\n",
    "    <code>.split(\",\")</code> als je de gegevens met een komma scheidt. De gegevens worden in een lijst gezet.\n",
    "</p>"
   ]
  },
  {
   "cell_type": "code",
   "execution_count": null,
   "metadata": {},
   "outputs": [],
   "source": [
    "bestand = open(\"stand.csv\", \"r\")\n",
    "\n",
    "inhoud_als_lijst = bestand.readlines() # zet elk regel in een lijst\n",
    "print(\"inhoud_als_lijst:\", inhoud_als_lijst) #even printen ter controle\n",
    "\n",
    "for spelergegevens in inhoud_als_lijst: #voor elke speler in de lijst:\n",
    "  print(\"spelergegevens:\", spelergegevens) #even printen ter controle\n",
    "  speler_stand = spelergegevens.split(',') #maak per speler een lijst van stand, zoals: [\"Tom\",12]\n",
    "\n",
    "  speler_naam = speler_stand[0] #de spelernaam is het eerste element\n",
    "  speler_score = speler_stand[1] #de score is het tweede element\n",
    "  print(\"Speler \" + speler_naam + \" heeft een score van \" + speler_score, end=\"\") #druk af, zonder nieuwe regel\n",
    "\n",
    "bestand.close()"
   ]
  },
  {
   "cell_type": "markdown",
   "metadata": {},
   "source": [
    "### Opdracht 11.8 Van bestand naar scherm\n",
    "<p>We gaan nu aan de slag met een .CSV-bestand. Bekijk \"emailadressen.csv\" om een idee te krijgen van de structuur.</p>\n",
    "<p><b>Deel A:</b> schrijf een programma dat voor elke regel in het bestand de volgende regel afdrukt: \"Het e-mailadres van <i>naam</i> is <i>emailadres</i>\".</p>\n",
    "\n",
    "<p> De uitvoer is dus:<br>\n",
    "        <i>Het em-ailadres van\n",
    "                Piet Janssen is piet.janssen@gmail.com</i><br><i>\n",
    "            Het e-mailadres van Janneke Huizen is\n",
    "                janneke.huizen@hotmail.com<br>\n",
    "        </i>\n",
    "        <i>Het e-mailadres van Remco Wijlers is\n",
    "                r.wijlers@montessoricollege.nl</i></p>\n",
    "\n",
    "<p>Op de plek van <i>naam</i> staat natuurlijk de naam en net zo bij <i>e-mailadres</i>.</p>\n",
    "        \n",
    "<p>Tip: het handigste is om de regels in een lijst te zetten met <code>readlines()</code>.\n",
    "        </p>\n",
    "\n",
    "   \n",
    "<p><b>Deel B:</b> splits nu ook de voor- en achternaam, dus: \"Voornaam is: <i>voornaam</i>\" en\n",
    "            \"Achternaam is: \" <i>achternaam</i>\".</p>\n",
    "<p>De uitvoer is dus:<br>\n",
    "        <i>Het e-mailadres van Piet Janssen is\n",
    "                piet.janssen@gmail.com</i><br>\n",
    "          <i>Voornaam is: Piet</i><br>\n",
    "        <i>Achternaam is: Janssen</i><br>...</p>"
   ]
  },
  {
   "cell_type": "code",
   "execution_count": null,
   "metadata": {},
   "outputs": [],
   "source": [
    "bestand = open(\"emailadressen.csv\", \"r\")"
   ]
  },
  {
   "cell_type": "markdown",
   "metadata": {},
   "source": [
    "<p>Bekijk <a href=\"https://course.cs.ru.nl/pythonVO/Teams/IA_uitwerkingen/IA_H11_oplossingen.html#opgave1131\">hier</a> de voorbeelduitwerking.</p>"
   ]
  },
  {
   "cell_type": "markdown",
   "metadata": {},
   "source": [
    "## 8: Samenvatting over tekstbestanden\n",
    "<ul>\n",
    "    <li>Een regeleinde (ENTER) wordt gecodeerd als: <code>\\n</code>.\n",
    "    </li>\n",
    "    <li>Een\n",
    "        bestand moet je altijd eerst openen met <code>open()</code>, je geeft aan wat\n",
    "        je van plan bent te doen met <code>\"r\"</code> (read: lezen), <code>\"w\"</code> (write: schrijven), <code>\"a\"</code> (append: achteraan toevoegen) (of <code>\"w+\"</code> of <code>\"a+\"</code>).\n",
    "\n",
    "<ul>\n",
    "            <li><code>r</code>: alleen lezen uit het bestand (\"r\" staat voor het Engelse read)</li>\n",
    "            <li><code>w</code>: in het bestand schrijven (\"w\" staat voor het Engelse write). Als het bestand nog niet bestaat, wordt dit aangemaakt. Let op: hiermee schrijf je vanaf het begin van een bestand en schrijf je dus over alles heen wat eventueel al in het bestand stond; </li>\n",
    "            <li><code>w+</code>: zowel uit het bestand lezen als in het bestand schrijven. Als het bestand\n",
    "nog niet bestaat, wordt dit aangemaakt;</li>\n",
    "            <li><code>a</code>: achteraan aan het bestand toevoegen (\"a\" staat voor het Engelse append). Als het bestand nog niet bestaat, wordt dit aangemaakt;\n",
    ".</li>\n",
    "<li><code>a+</code>: zowel uit het bestand lezen als achteraan in het bestand schrijven. Als\n",
    "het bestand nog niet bestaat, wordt dit aangemaakt</li>\n",
    "</ul></li>\n",
    "    \n",
    "<li><code>read()</code> leest <b>alle inhoud</b> in als één\n",
    "        <code>string</code>.\n",
    "    </li>\n",
    "<li><code>readline()</code> leest <b>één regel</b> in als\n",
    "        <code>string</code>.</li>\n",
    "\n",
    "<li><code>readlines()</code> leest <b>alle regels</b>\n",
    "        in en zet ze in een <b>lijst</b>. Iedere regel wordt een element.</li>\n",
    "    \n",
    "<li>Met\n",
    "        <code>.split(' ')</code> zet je een string om in een lijst. Ieder element wordt gescheiden door\n",
    "het teken dat je tussen de aanhalingstekens meegeeft.</li>\n",
    "    \n",
    "<li>\n",
    "        <code>write()</code>, <code>writeline()</code> en <code>writelines()</code>\n",
    "        gebruik je op dezelfde manier als lezen, maar dan voor het schrijven.</li>\n",
    "<li>Een bestand sluit je naderhand af met <code>close()</code>.</li>\n",
    "</ul>"
   ]
  },
  {
   "cell_type": "markdown",
   "metadata": {},
   "source": [
    "## H11 - Bestanden: Afsluitende Opgaven\n",
    "<p>Met de volgende afsluitende opdrachten kun je kijken hoe goed je de stof beheerst. Controleer steeds je eigen oplossing met de voorbeelduitwerking.</p>"
   ]
  },
  {
   "cell_type": "markdown",
   "metadata": {},
   "source": [
    "### Afsluitende opdracht 11.1 Vat samen<\n",
    "<p>\n",
    "    Wat is het doel van het programma hieronder? Vat kort in je eigen woorden samen wat het programma doet. Let op: er wordt gevraagd naar een samenvatting, niet een regel-voor-regeluitleg.</p>"
   ]
  },
  {
   "cell_type": "code",
   "execution_count": null,
   "metadata": {},
   "outputs": [],
   "source": [
    "### FUNCTIEDEFINITIES:\n",
    "def functie2():\n",
    "\tinhoud = bestand.read()\n",
    "\tinhoud = inhoud.replace('\\n',\" \")\n",
    "\tinhoud = inhoud.replace(',',\"\")\n",
    "\tinhoud = inhoud.split(\" \")\n",
    "\treturn inhoud\n",
    "\n",
    "### HOOFPROGRAMMA:\n",
    "bestand = open(\"invoer_bestand.txt\", \"r\")\n",
    "resultaat = functie2()\n",
    "print(resultaat)\n",
    "bestand.close()"
   ]
  },
  {
   "cell_type": "markdown",
   "metadata": {},
   "source": [
    "<p>Bekijk <a href=\"https://course.cs.ru.nl/pythonVO/Teams/IA_uitwerkingen/IA_H11_oplossingen.html#AfOpgave111\">hier</a> de voorbeelduitwerking.</p>"
   ]
  },
  {
   "cell_type": "markdown",
   "metadata": {},
   "source": [
    "### Afsluitende opdracht 11.2 Hoofdletters maken van tekst in een bestand\n",
    "<p>Schrijf een programma dat de inhoud van het bestand \"kuikentjePiep.txt\" inleest, alle letters omzet in hoofdletters en dat in een nieuw bestand \"KUIKENTJEPIEP.txt\" zet.</p>\n"
   ]
  },
  {
   "cell_type": "code",
   "execution_count": null,
   "metadata": {},
   "outputs": [],
   "source": []
  },
  {
   "cell_type": "markdown",
   "metadata": {},
   "source": [
    "<p>Bekijk <a href=\"https://course.cs.ru.nl/pythonVO/Teams/IA_uitwerkingen/IA_H11_oplossingen.html#AfOpgave112\">hier</a> de voorbeelduitwerking.</p>"
   ]
  },
  {
   "cell_type": "markdown",
   "metadata": {},
   "source": [
    "### Afsluitende opdracht 11.3: Gebruikersinvoer opslaan\n",
    "<p>Schrijf een programma dat de gebruiker om zijn hobby's vraagt en deze in een bestand opslaat.\n",
    "</p>\n",
    "<ol style=\"list-style-type: lower-alpha\">\n",
    "    <li>Maak (en open) een bestand \"hobby.txt\".</li>\n",
    "    <li>Herhaal 3 keer:</li>\n",
    "    <ol style=\"list-style-type: lower-alpha\">\n",
    "        <li>Vraag de gebruiker om een hobby,</li>\n",
    "        <li>Zet de hobby in het bestand waarbij komma's worden gebruikt om de hobby's te scheiden.</li>\n",
    "    </ol>\n",
    "    <li>Sluit het bestand.</li>\n",
    "</ol>"
   ]
  },
  {
   "cell_type": "code",
   "execution_count": null,
   "metadata": {},
   "outputs": [],
   "source": []
  },
  {
   "cell_type": "markdown",
   "metadata": {},
   "source": [
    "<p>Bekijk <a href=\"https://course.cs.ru.nl/pythonVO/Teams/IA_uitwerkingen/IA_H11_oplossingen.html#AfOpgave113\">hier</a> de voorbeelduitwerking.</p>"
   ]
  },
  {
   "cell_type": "markdown",
   "metadata": {},
   "source": [
    "### Afsluitende opdracht 11.4: Het aantal drieletterwoorden\n",
    "<p>In het bestand \"kuikentjePiep.txt\" staat de tekst van een kinderliedje. Schrijf een programma dat telt hoeveel drieletterwoorden er in het liedje voorkomen.</p>\n",
    "<ol style=\"list-style-type: lower-alpha\">\n",
    "    <li>Vervang eerst alle regeleindes (oftewel <code>'\\n'</code>) door een spatie (oftewel <code>\" \"</code>)</li>\n",
    "    <li>Verwijder alle komma's. Tip: Vervang ze door <code>\"\"</code>.</li>\n",
    "    <li>Zet ieder woord als apart element in een lijst. Tip: Gebruik <code>split(\" \")</code>.</li>\n",
    "    <li>Doorloop daarna de lijst (met een <code>for</code>-loop. Als het woord lengte 3 heeft, verhoog je een teller.</li>\n",
    "    <li>Print na afloop de teller en sluit het bestand.\n",
    "    </li>\n",
    "</ol>\n"
   ]
  },
  {
   "cell_type": "code",
   "execution_count": null,
   "metadata": {},
   "outputs": [],
   "source": []
  },
  {
   "cell_type": "markdown",
   "metadata": {},
   "source": [
    "<p>Bekijk <a href=\"https://course.cs.ru.nl/pythonVO/Teams/IA_uitwerkingen/IA_H11_oplossingen.html#AfOpgave114\">hier</a> de voorbeelduitwerking.</p>"
   ]
  }
 ],
 "metadata": {
  "kernelspec": {
   "display_name": "Python 3",
   "language": "python",
   "name": "python3"
  },
  "language_info": {
   "codemirror_mode": {
    "name": "ipython",
    "version": 3
   },
   "file_extension": ".py",
   "mimetype": "text/x-python",
   "name": "python",
   "nbconvert_exporter": "python",
   "pygments_lexer": "ipython3",
   "version": "3.11.8"
  }
 },
 "nbformat": 4,
 "nbformat_minor": 2
}
