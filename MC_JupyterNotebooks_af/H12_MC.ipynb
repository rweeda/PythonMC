{
 "cells": [
  {
   "cell_type": "markdown",
   "metadata": {},
   "source": [
    "# Onderwerp 12 - Geneste loops\n",
    "\n",
    "\n",
    "\n",
    "<p>Je kunt een loop in een andere loop stoppen. Dit gebruik je om alle combinaties van twee dingen af te drukken, bijvoorbeeld van coördinaten of tabellen.</p>\n",
    "\n",
    "\n",
    "<p>In dit onderwerp:</p>\n",
    "\n",
    "<ul>\n",
    "    <li>leer je hoe je met geneste <code>for</code>-loops moet werken;</li>\n",
    "    <li>leer je hoe je lijsten kan nesten;</li>\n",
    "    <li>leer je nesten te combineren met voorwaarden/condities.</li>\n",
    "</ul>\n",
    "\n",
    "<div class=\"fa fa-clock-o fa-3x\"></div>Verwerkingstijd: <b>2 uur</b>"
   ]
  },
  {
   "cell_type": "markdown",
   "metadata": {},
   "source": [
    "## 1: Inleiding geneste <code>for</code>-loops\n",
    "\n",
    "<p>Een loop mag ook in een andere loop. Dit kan je gebruiken om alle combinaties van twee dingen af te drukken. Bijvoorbeeld: combinaties van coördinaten. Je wil dan per x-coördinaat elke y-coördinaat gebruiken.</p>\n"
   ]
  },
  {
   "cell_type": "code",
   "execution_count": null,
   "metadata": {},
   "outputs": [],
   "source": [
    "for x in range (2):\n",
    "  for y in range (3):\n",
    "    print(x,y)\n",
    "\n",
    "print(\"Of met haakjes:\")\n",
    "for x in range (4):\n",
    "  for y in range (3):\n",
    "    print(\"(\",x,\",\",y, \")\", end=\"\") #de end zorgt ervoor dat niet met nieuwe regel begonnen wordt\n",
    "  print()"
   ]
  },
  {
   "cell_type": "markdown",
   "metadata": {},
   "source": [
    "<p>Wat gebeurt hier?\n",
    "</p>\n",
    "<ul>\n",
    "    <li>Voor elke waarde van <code>x&nbsp;</code>worden alle waarden van <code>y</code> afgedrukt.</li>\n",
    "    <li>In de \"buitenste loop\" verandert&nbsp;<code>x</code> steeds.</li>\n",
    "    <li>In de \"binnenste loop\" verandert&nbsp;<code>y</code> steeds.</li>\n",
    "</ul>\n",
    "<p></p>\n",
    "<p>Dat zie je ook aan de uitvoer: <code>x</code> blijft eerst op 0 blijft staan, terwijl <code>y</code> steeds verandert. Pas als <code>y</code> zijn maximale waarde heeft bereikt (hier 3), gaat <code>x</code>&nbsp;omhoog en dan doorloopt <code>y</code> weer alle mogelijkheden.</p>\n",
    "\n",
    "<!--\n",
    "Bekijk eventueel het volgende filmpje voor <b>extra</b> uitleg over geneste lijsten:<br>\n",
    "<p><iframe width=\"185\" height=\"105\" src=\"https://www.youtube.com/embed/Go-FfGhxbSM?rel=0\" frameborder=\"0\" allow=\"autoplay; encrypted-media\" allowfullscreen></iframe></p>\n",
    "-->"
   ]
  },
  {
   "cell_type": "markdown",
   "metadata": {},
   "source": [
    "## 2: Herhaling <code>for</code>-loop\n",
    "<p>We herhalen nu kort de <code>for</code>-loop.</p>\n",
    "\n",
    "<p>Ter herinnering: er zijn twee manieren om een loop (herhaling) te maken: met <code>for</code> en met\n",
    "    <code>while</code>. Met een <code>while</code> kun je elke herhaling maken. De <code>for</code> is iets\n",
    "    makkelijker om te schrijven, maar kan je alleen gebruiken als je vooraf precies weet hoe vaak code herhaald moet\n",
    "    worden.\n",
    "</p>\n",
    "\n",
    "<p>Er zijn drie soorten <code>for</code>-loops (zie ook <b>Onderwerp 8</b> paragraaf '6: Samenvatting van de for-loop'), afhankelijk van het aantal parameters je meegeeft:</p>\n",
    "\n",
    "<ol>\n",
    "    <li>Paragraaf&nbsp;'1: Herhalingen met een for-loop': Je kunt één getal meegeven. Dan loopt de teller\n",
    "        van 0 tot (en niet <i>tot en met</i>) dat getal.<br>Bijvoorbeeld: <br>\n",
    "        <code>for teller in range(5)</code> <br>herhaalt van 0\n",
    "            tot 5, dus vijf keer.</p>\n",
    "    </li>\n",
    "    <li>Paragraaf&nbsp;'3: Van startgetal tot eindgrens (<code>for</code> met 2 parameters)': Je kunt twee getallen meegeven. Dan loopt de\n",
    "        teller van het eerste tot (en niet <i>tot en met</i>) het tweede getal. <br>Bijvoorbeeld:<br> \n",
    "        <code>for teller in range(2, 5)</code><br> herhaalt van 2 tot 5, dus drie keer.</p>\n",
    "    </li>\n",
    "    <li>Paragraaf&nbsp;'4: Van startgetal tot eindgrens met stapgrootte (<code>for</code> met 3 parameters)': Je kunt drie getallen\n",
    "        meegeven. Dan loopt de teller van het eerste tot (en niet <i>tot en met</i>) het tweede getal, met sprongen van\n",
    "        het derde getal. <br>Bijvoorbeeld: <br>\n",
    "        <code>for teller in range(1, 6, 2)</code><br> herhaalt van 1 tot 6 in stappen\n",
    "            van twee, dus drie keer (namelijk 1, 3, 5).</p>\n",
    "        <p></p>\n",
    "    </li>\n",
    "\n",
    "</ol>"
   ]
  },
  {
   "cell_type": "code",
   "execution_count": null,
   "metadata": {},
   "outputs": [],
   "source": [
    "print(\"For loop met 1 parameter loopt van 0 tot dat getal:\")\n",
    "for teller1 in range(3):\n",
    "\tprint (\"teller1 is:\", teller1)\n",
    "\n",
    "print(\"For loop met 2 parameters, loopt van het eerste tot het tweede getal:\")\n",
    "for teller2 in range(5,7):\n",
    "\tprint (\"teller2 is:\", teller2)\n",
    "\n",
    "print(\"For loop met 3 parameters, loopt van het eerste tot het tweede getal met sprongen van het derde getal:\")\n",
    "for teller3 in range(9, 16, 3):\n",
    "\tprint (\"teller3 is:\", teller3)"
   ]
  },
  {
   "cell_type": "markdown",
   "metadata": {},
   "source": [
    "### Opdracht 12.1 Oefenen met <code>for</code>-loop\n",
    "<p>Het onderstaande programma hoort eerst 1, dan 2, dan 3 \"^\"'s s (accents circonflexes of\n",
    "    dakjes) te printen, maar er zit een fout in. Kun jij de fout oplossen?</p>"
   ]
  },
  {
   "cell_type": "code",
   "execution_count": null,
   "metadata": {},
   "outputs": [],
   "source": [
    "for teller in range(1, 3):\n",
    "\tprint(\"^\"*teller)"
   ]
  },
  {
   "cell_type": "markdown",
   "metadata": {},
   "source": [
    "<p>Bekijk <a href=\"https://course.cs.ru.nl/pythonVO/Teams/IA_uitwerkingen/IA_H12_oplossingen.html#opgave1221\">hier</a> de voorbeelduitwerking.</p>"
   ]
  },
  {
   "cell_type": "markdown",
   "metadata": {},
   "source": [
    "## 3: Herhaling: lijsten\n",
    "\n",
    "<p>We herhalen nu kort hoe lijsten werken.</p>\n",
    "\n",
    "<p>Een lijst is een verzameling elementen. De lengte van een lijst (dus het aantal elementen) kun je bepalen met <code>len(lijst)</code>.</p>\n",
    "<p>De positie van een element noemen we een <i>index</i>. De index kun je gebruiken om een element op een bepaalde plek te krijgen of daar juist neer te zetten. De index van het laatste element is de lengte van de lijst min 1.</p>\n",
    "\n",
    "<ul>\n",
    "    <li><code>lijst[0]</code> : eerste element</li>\n",
    "    <li><code>lijst[1]</code> : tweede element</li>\n",
    "    <li>...</li>\n",
    "    <li><code>lijst[ (len(lijst)-1) ]</code> : laatste element</li>\n",
    "\n",
    "</ul>"
   ]
  },
  {
   "cell_type": "code",
   "execution_count": null,
   "metadata": {},
   "outputs": [],
   "source": [
    "lijst = [\"a\", \"b\", \"c\", \"d\"]\n",
    "\n",
    "print(\"lengte lijst:\", len(lijst) ) # lengte van de lijst\n",
    "\n",
    "print( \"eerste:\", lijst[0] ) #eerste element\n",
    "print( \"tweede:\", lijst[1] ) # tweede element\n",
    "\n",
    "print( \"laatste:\", lijst[ (len(lijst)-1) ] ) #laatste element, zit op index: lengte-1"
   ]
  },
  {
   "cell_type": "markdown",
   "metadata": {},
   "source": [
    "### Opdracht 12.2 Oefenen met lijsten\n",
    "<p>In deze opgaven oefenen we met de index van een lijst:\n",
    "</p>\n",
    "<ol>\n",
    "    <li><b>Deel A</b>: Bekijk de lijst met cijfers: <code>cijferLijst</code>. Wat is de index van het cijfer 3.4? Verander het eerste cijfer in 5.5.</li>\n",
    "    <li><b>Deel B</b>: Bekijk de lijst met tekens: <code>tekenLijst</code>. Wat is de index van de underscore,\n",
    "        \"_\"? Gebruik de index om de underscore te vervangen door de letter \"t\".</li>\n",
    "    <li><b>Deel C</b>: Met de laatste regel code willen we van <i>elke cijferLijst</i> het laatste cijfer printen, maar er zit een fout in de code. Kan jij de fout oplossen?</li>\n",
    "</ol>"
   ]
  },
  {
   "cell_type": "code",
   "execution_count": null,
   "metadata": {},
   "outputs": [],
   "source": [
    "#DEEL A\n",
    "cijferLijst = [3.4, 8.0, 6.9, 7.0, 8.2]\n",
    "#vervang hier 3.4 met 5.5\n",
    "print(cijferLijst)\n",
    "\n",
    "#DEEL B:\n",
    "tekenLijst = [\"k\", \"a\", \"_\"]\n",
    "#vervang hier _ met t\n",
    "print(tekenLijst)\n",
    "\n",
    "#DEEL C:\n",
    "laatste = cijferLijst[ len(cijferLijst) ]  #pas de fout hier aan print(laatste)"
   ]
  },
  {
   "cell_type": "markdown",
   "metadata": {},
   "source": [
    "\n",
    "\n",
    "<!--\n",
    "<pre\n",
    "class=\"python\">\n",
    "#DEEL A cijferLijst = [3.4, 8.0, 6.9, 7.0, 8.2] #vervang 3.4 met 5.5\n",
    "\n",
    "cijferLijst[0] = 5.5\n",
    "print(cijferLijst)\n",
    "\n",
    "#DEEL B: letterLijst = [\"k\", \"a\", \"_\"] #vervang _ met t letterLijst [2] = \"t\" print(letterLijst)\n",
    "\n",
    "#DEEL C: laatste =\n",
    "cijferLijst[ len(cijferLijst)-1 ] #pas de fout hier aan print(laatste) </pre>\n",
    "-->\n",
    "<p>Bekijk <a href=\"https://course.cs.ru.nl/pythonVO/Teams/IA_uitwerkingen/IA_H12_oplossingen.html#opgave1221\">hier</a> een voorbeelduitwerking.</p>"
   ]
  },
  {
   "cell_type": "markdown",
   "metadata": {},
   "source": [
    "## 4: Herhaling: lijst doorlopen met een <code>for</code>-loop\n",
    "\n",
    "<p>Met een <code>for</code>-loop doorloop je alle elementen van een lijst.\n",
    "    Het volgende programma\n",
    "    doorloopt één voor één alle kleuren in een lijst en print ze.</p>\n"
   ]
  },
  {
   "cell_type": "code",
   "execution_count": null,
   "metadata": {},
   "outputs": [],
   "source": [
    "kleurenLijst = [\"zwart\", \"rood\", \"blauw\", \"groen\", \"geel\"]\n",
    "\n",
    "for kleur in kleurenLijst:\n",
    "\tprint(\"kleur is:\", kleur)"
   ]
  },
  {
   "cell_type": "markdown",
   "metadata": {},
   "source": [
    "## 5: Geneste <code>for</code>-loops\n",
    "\n",
    "[![Watch the video](https://img.youtube.com/vi/18ZwEYRanj8/hqdefault.jpg)](https://www.youtube.com/embed/18ZwEYRanj8)\n",
    "\n",
    "<p>Met één <code>for</code> doorloop je de elementen van een bepaalde\n",
    "    variabele. Dat kan een <code>teller</code> zijn die van 0 tot een getal\n",
    "    looptof dat kunnen elementen van een lijst zijn.</p>\n",
    "<p>Met twee <code>for</code>-loops, dus een <code>for</code> in een andere, kun je twee variabelen doorlopen: elke keer\n",
    "    dat de buitenste <code>for</code>-loop wordt aangeroepen, wordt de binnenste\n",
    "    loop helemaal doorlopen. Bekijk het voorbeeld hieronder waarbij voor elke\n",
    "    letter in de lijst de getallen 0 tot 4 worden afgedrukt:</p>\n"
   ]
  },
  {
   "cell_type": "code",
   "execution_count": null,
   "metadata": {},
   "outputs": [],
   "source": [
    "lijst = [\"a\", \"b\", \"c\"]\n",
    "for letter in lijst:\n",
    "\tfor teller in range(4):\n",
    "\t\tprint(\"letter:\", letter, \"teller:\", teller)"
   ]
  },
  {
   "cell_type": "markdown",
   "metadata": {},
   "source": [
    "### Opdracht 12.3 Coördinaten\n",
    "<p>Vul op de\n",
    "    streepjes hieronder het programma aan zodat alle coördinaten van (0,0)\n",
    "    tot en met (3,4) worden afgedrukt:</p>\n",
    "<p> (0,0) (0,1) (0,2) (0,3) (0,4)\n",
    "    (1,0) (1,1) ... (3,3) (3,4)</p>"
   ]
  },
  {
   "cell_type": "code",
   "execution_count": null,
   "metadata": {},
   "outputs": [],
   "source": [
    "for x_coordinaat in range(________):\n",
    "\tfor ___________ in range(__________):\n",
    "\t\tprint(\"(\" , x_coordinaat, \",\", y_coordinaat, \")\")"
   ]
  },
  {
   "cell_type": "markdown",
   "metadata": {},
   "source": [
    "<p>Bekijk <a href=\"https://course.cs.ru.nl/pythonVO/Teams/IA_uitwerkingen/IA_H12_oplossingen.html#opgave1231\">hier</a> de voorbeelduitwerking.</p>"
   ]
  },
  {
   "cell_type": "markdown",
   "metadata": {},
   "source": [
    "### Opdracht 12.4 Coördinatentabel\n",
    "<p>\n",
    "    Print een\n",
    "    lege regel (met <code>print()</code>) op de juiste plek zodat de\n",
    "    coördinaten van (0,0) tot en met (3,4) als tabel worden afgedrukt:</p>\n",
    "(0,0) (0,1) (0,2) (0,3) (0,4) <br>\n",
    "(1,0) (1,1) ...................... <br>\n",
    "..................................... <br>\n",
    "...................... (3,3) (3,4) <br>\n",
    "\n",
    "<p>Tips: met <code>print( ... , end=\"\")</code> zorg je ervoor dat\n",
    "    er <i>niet op een nieuwe</i> regel wordt afgedrukt, en met\n",
    "    <code>print()</code> druk je een lege regel af.\n",
    "</p>"
   ]
  },
  {
   "cell_type": "code",
   "execution_count": null,
   "metadata": {},
   "outputs": [],
   "source": [
    "for x_coordinaat in range(4):\n",
    "\tfor y_coordinaat in range(5):\n",
    "\t\tprint(\"(\" , x_coordinaat, \",\", y_coordinaat, \")\", end=\"\")"
   ]
  },
  {
   "cell_type": "markdown",
   "metadata": {},
   "source": [
    "\n",
    "<p>Bekijk <a href=\"https://course.cs.ru.nl/pythonVO/Teams/IA_uitwerkingen/IA_H12_oplossingen.html#opgave1232\">hier</a> de voorbeelduitwerking.</p>\n"
   ]
  },
  {
   "cell_type": "markdown",
   "metadata": {},
   "source": [
    "### Opdracht 12.5 McCombi's\n",
    "<p>Bij de McDonald's kan je\n",
    "    wat te eten (zie <code>etenLijst</code>) en wat te drinken (zie\n",
    "    <code>drankLijst</code>) halen.\n",
    "</p>\n",
    "<ul>\n",
    "    <li><b>Deel A</b>: Print alle mogelijke combinaties van eten en drinken, bv. \"Combinatie: McShake &amp; BigMac\"</li>\n",
    "    <li><b>Deel B</b>: Houd een teller bij van de combinatiemogelijkheden en print die bij elke combinatie.</li>\n",
    "</ul>"
   ]
  },
  {
   "cell_type": "code",
   "execution_count": null,
   "metadata": {},
   "outputs": [],
   "source": [
    "etenLijst = [ \"BigMac\", \"McChicken\", \"McNuggets\", \"Frietjes\", \"McSalad\"] \n",
    "drankLijst = [\"water\", \"ijsthee\", \"McShake\", \"McCafe\", \"cola\"]\n"
   ]
  },
  {
   "cell_type": "markdown",
   "metadata": {},
   "source": [
    "<p>Bekijk <a href=\"https://course.cs.ru.nl/pythonVO/Teams/IA_uitwerkingen/IA_H12_oplossingen.html#opgave1233\">hier</a> de voorbeelduitwerking.</p>"
   ]
  },
  {
   "cell_type": "markdown",
   "metadata": {},
   "source": [
    "## 6: Geneste lijsten"
   ]
  },
  {
   "cell_type": "markdown",
   "metadata": {},
   "source": [
    "[![Watch the video](https://img.youtube.com/vi/V80VC7KIljU/hqdefault.jpg)](https://www.youtube.com/embed/V80VC7KIljU)"
   ]
  },
  {
   "cell_type": "markdown",
   "metadata": {},
   "source": [
    "<p>Je kunt ook lijsten van lijsten maken. Eigenlijk is dit een tabel (of\n",
    "    matrix). Tabellen kom je overal tegen, bijvoorbeeld voor je resultaten van een\n",
    "    natuurkunde-experiment of om bij te houden welke stoelen in een bioscoop\n",
    "    zijn gereserveerd. Daarnaast worden deze tweedimensionale lijsten ook\n",
    "    gebruikt om plaatjes in de computer te representeren (weet je nog, bitmap?)\n",
    "    of bij computerspellen:</p>\n",
    "\n",
    "\n",
    "<div style=\"display:flex\">\n",
    "<img src=\"https://course.cs.ru.nl/pythonVO/img/bitmapImage.PNG\" width=\"100\" alt=\"Bitmap representatie\">\n",
    "<img src=\"https://course.cs.ru.nl/pythonVO/img/schaakbord.PNG\" width=\"100\" alt=\"Schaakbord\">\n",
    "<img src=\"https://course.cs.ru.nl/pythonVO/img/minesweeper_small.png\" width=\"100\" alt=\"Mijnenveger\">\n",
    "</div>\n",
    "\n",
    "<p>In het voorbeeld hieronder staan drie lijsten (drie rijen) genest in een lijst,\n",
    "    samen vormen ze een tabel met X,O,-. Zo kun je bijvoorbeeld een\n",
    "    boter-kaas-eierenbord bouwen (een liggend streepje is een lege cel). Om bij\n",
    "    een element in een geneste lijst te komen, moet je beide indexen geven, net\n",
    "    als een soort coördinaat. Met <code>bord[0][0]</code> kom je bij het element linksboven en met <code>bord[0][2]</code> bij het element rechtsboven.</p>\n"
   ]
  },
  {
   "cell_type": "code",
   "execution_count": null,
   "metadata": {},
   "outputs": [],
   "source": [
    "bord = [ [\"X\", \"O\", \"-\"], [\"X\", \"O\", \"O\"], [\"-\", \"X\", \"-\"] ]\n",
    "\n",
    "print( bord[0][0], bord[0][1], bord[0][2] )\n",
    "print( bord[1][0], bord[1][1], bord[1][2] )\n",
    "print( bord[2][0], bord[2][1], bord[2][2] )"
   ]
  },
  {
   "cell_type": "markdown",
   "metadata": {},
   "source": [
    "### Opdracht 12.6 Winnen met Boter-kaas-eieren\n",
    "<p>Win\n",
    "    het spel hieronder door op regel 3 maar één regel code toe te\n",
    "    voegen. Gebruik de co&ouml;rdinaten/indexen om een '-' in een 'X' te\n",
    "    veranderen.</p>"
   ]
  },
  {
   "cell_type": "code",
   "execution_count": null,
   "metadata": {},
   "outputs": [],
   "source": [
    "bord = [ [\"X\", \"O\", \"-\"], [\"X\", \"O\", \"O\"], [\"-\", \"X\", \"-\"] ]\n",
    "\n",
    " #Win het spel door hier 1 regel code toe te voegen, daardoor verander je een - in een X te veranderen\n",
    "\n",
    "print( bord[0][0], bord[0][1], bord[0][2] ) #print eerst rij van bord\n",
    "print( bord[1][0], bord[1][1], bord[1][2] ) #print tweede rij van bord\n",
    "print( bord[2][0], bord[2][1], bord[2][2] ) #print derde rij van bord"
   ]
  },
  {
   "cell_type": "markdown",
   "metadata": {},
   "source": [
    "<p>Bekijk <a href=\"https://course.cs.ru.nl/pythonVO/Teams/IA_uitwerkingen/IA_H12_oplossingen.html#opgave1241\">hier</a> een voorbeelduitwerking.</p>"
   ]
  },
  {
   "cell_type": "markdown",
   "metadata": {},
   "source": [
    "## 7: Een geneste lijst doorlopen met een geneste <code>for</code>-loop"
   ]
  },
  {
   "cell_type": "markdown",
   "metadata": {},
   "source": [
    "[![Watch the video](https://img.youtube.com/vi/eRvfUeEkBuA/hqdefault.jpg)](https://www.youtube.com/embed/eRvfUeEkBuA)"
   ]
  },
  {
   "cell_type": "markdown",
   "metadata": {},
   "source": [
    "\n",
    "\n",
    "<p>Met een <code>for</code>-loop doorloop je een lijst. Met een geneste\n",
    "    <code>for</code>-loop doorloop je een geneste lijst. Als je voor elke kolom\n",
    "    in elke rij wat wilt afdrukken gebruik je een <code>for</code> om elke rij te\n",
    "    doorlopen en daarbinnen een andere <code>for</code> om elke kolom af te\n",
    "    lopen:\n",
    "</p>"
   ]
  },
  {
   "cell_type": "code",
   "execution_count": null,
   "metadata": {},
   "outputs": [],
   "source": [
    "bord = [ [\"X\", \"O\", \"-\"], [\"X\", \"O\", \"O\"], [\"-\", \"X\", \"-\"] ]\n",
    "\n",
    "for rij in range (3):\n",
    "\tfor kolom in range (3):\n",
    "\t\tprint(bord[rij][kolom], end=\"\") #druk zet af, maar zonder naar nieuwe regel door te gaan\n",
    "\tprint() #ga naar volgende regel"
   ]
  },
  {
   "cell_type": "markdown",
   "metadata": {},
   "source": [
    "### Opdracht 12.7 Smiley\n",
    "<p>De bedoeling van de code\n",
    "    hieronder is om een smiley te printen. </p>\n",
    "<ul>\n",
    "    <li><b>Deel A</b>: schrijf code om een plaatje van vijf breed en vijf hoog af te drukken.</li>\n",
    "    <li><b>Deel B</b>: gebruik de indices om het plaatje in een glimlach te veranderen. Kijk op regel 9 voor een tip.</li>\n",
    "</ul>\n",
    "\n"
   ]
  },
  {
   "cell_type": "code",
   "execution_count": null,
   "metadata": {},
   "outputs": [],
   "source": [
    "plaatje = [ [\" \",\"X\", \" \", \"X\", \" \"],\n",
    "\t\t   [\" \",\"X\", \" \", \"X\", \" \"],\n",
    "\t\t   [\" \",\" \", \" \", \" \", \" \"],\n",
    "\t\t   [\" \",\"X\", \"X\", \"X\", \" \"],\n",
    "\t           [\"X\",\" \", \" \", \" \", \"X\"] ]\n",
    "\t\t\t\t\n",
    "#VOEG HIER CODE TOE OM Xjes OP COORDINATEN AAN TE PASSEN\n",
    "\n",
    "#plaatje[3][0] = \"X\"\n",
    "\n",
    "#DRUK HET PLAATJE AF\n"
   ]
  },
  {
   "cell_type": "markdown",
   "metadata": {},
   "source": [
    "<p>Bekijk <a href=\"https://course.cs.ru.nl/pythonVO/Teams/IA_uitwerkingen/IA_H12_oplossingen.html#opgave1242\">hier</a> een\n",
    "    voorbeelduitwerking.</p>"
   ]
  },
  {
   "cell_type": "markdown",
   "metadata": {},
   "source": [
    "## Onderwerp 12: Afsluitende opdrachten\n",
    "<p>Met de volgende afsluitende opdrachten kun je kijken hoe goed je de stof beheerst. Controleer steeds je eigen oplossing met de voorbeelduitwerking.</p>\n",
    "\n"
   ]
  },
  {
   "cell_type": "markdown",
   "metadata": {},
   "source": [
    "\n",
    "### Afsluitende opdracht 12.1 Stok kaarten afdrukken\n",
    "<p>Schrijf een programma dat alle kaarten van een kaartendeck afdrukt.</p>\n"
   ]
  },
  {
   "cell_type": "code",
   "execution_count": null,
   "metadata": {},
   "outputs": [],
   "source": [
    "kleurLijst = [\"Harten\", \"Schoppen\", \"Klaveren\", \"Ruiten\"]\n",
    "waardeLijst = [2, 3, 4, 5, 6, 7, 8, 9, 10, \"Boer\", \"Vrouw\", \"Heer\", \"Aas\"]"
   ]
  },
  {
   "cell_type": "markdown",
   "metadata": {},
   "source": [
    "<p>Bekijk <a href=\"https://course.cs.ru.nl/pythonVO/Teams/IA_uitwerkingen/IA_H12_oplossingen.html#AfOpgave121\">hier</a> een voorbeelduitwerking.</p>\n",
    "\n"
   ]
  },
  {
   "cell_type": "markdown",
   "metadata": {},
   "source": [
    "\n",
    "### Afsluitende opdracht 12.2 Alle mogelijkheden (met <code>for</code>)\n",
    "<p>We willen met vier kleuren zoveel mogelijk verschillende vlaggen maken. Schrijf een programma dat alle mogelijke combinaties van vier kleuren afdrukt. Print ook hoeveel combinaties dit zijn.</p>\n",
    "<p>Tip: Gebruik meerdere loops die genest zijn.</p>\n"
   ]
  },
  {
   "cell_type": "code",
   "execution_count": null,
   "metadata": {},
   "outputs": [],
   "source": [
    "kleurenLijst = [\"Rood\", \"Blauw\", \"Groen\", \"Paars\"]\n"
   ]
  },
  {
   "cell_type": "markdown",
   "metadata": {},
   "source": [
    "<p>Bekijk <a href=\"https://course.cs.ru.nl/pythonVO/Teams/IA_uitwerkingen/IA_H12_oplossingen.html#AfOpgave122\">hier</a> een voorbeelduitwerking.</p>\n",
    "\n",
    "\n"
   ]
  },
  {
   "cell_type": "markdown",
   "metadata": {},
   "source": [
    "### Afsluitende opdracht 12.3 Feestinkopen (met <code>for</code>)\n",
    "<p>We gaan boodschappen inslaan voor een feestje. Echter, de inkopen moet wel voldoen aan een aantal eisen:\n",
    "</p>\n",
    "<ul>\n",
    "    <li>je mag cola, chips en chocola kopen;</li>\n",
    "    <li>je moet precies twaalf dingen meenemen (dus aantal cola+chips+chocola moet gelijk zijn aan twaalf); </li>\n",
    "    <li>van ieder mag je maximaal tien stuks;</li>\n",
    "    <li>van alle drie niet evenveel (je mag dus niet 3xcola, 3xchips en 2xchocola).</li>\n",
    "</ul>\n",
    "<p></p>\n",
    "<p>Schrijf een programma dat alle toegestane boodschappenlijstjes bepaalt en ook hoeveel dat er zijn.</p>\n",
    "<p>Tips: Je hebt drie <code>for</code>-loops nodig en daarin nog minstens twee <code>if</code>-condities.</p>"
   ]
  },
  {
   "cell_type": "code",
   "execution_count": null,
   "metadata": {},
   "outputs": [],
   "source": [
    "\n",
    "\n"
   ]
  },
  {
   "cell_type": "markdown",
   "metadata": {},
   "source": [
    "\n",
    "<p>Bekijk <a href=\"https://course.cs.ru.nl/pythonVO/Teams/IA_uitwerkingen/IA_H12_oplossingen.html#AfOpgave123\">hier</a> een voorbeelduitwerking.</p>"
   ]
  }
 ],
 "metadata": {
  "kernelspec": {
   "display_name": "Python 3",
   "language": "python",
   "name": "python3"
  },
  "language_info": {
   "codemirror_mode": {
    "name": "ipython",
    "version": 3
   },
   "file_extension": ".py",
   "mimetype": "text/x-python",
   "name": "python",
   "nbconvert_exporter": "python",
   "pygments_lexer": "ipython3",
   "version": "3.11.8"
  }
 },
 "nbformat": 4,
 "nbformat_minor": 2
}
