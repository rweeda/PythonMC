{
 "cells": [
  {
   "cell_type": "markdown",
   "metadata": {},
   "source": [
    "# Hoofdstuk 7 - Herhalingen met een <code>while</code>-loop\n",
    "\n",
    "<p>Computers raken niet verveeld als ze dingen moeten herhalen. In dit hoofdstuk maak je kennis met een <code>while</code>-loop waarmee je code kunt laten herhalen.\n",
    "\n",
    "\n",
    "\n",
    "</p>\n",
    "In dit onderwerp:</p>\n",
    "<ul>\n",
    "    <li> leer je code te laten herhalen met een <code>while</code>-loop;</li>\n",
    "    <li> leer je hoe je een stroomdiagram met een <code>while</code> om kan zetten in code en andersom;</li>\n",
    "    <li> leer je een logische vlag te gebruiken om het aantal herhalingen te laten afhangen van gebruikersinvoer;</li>\n",
    "    <li> leer je een logische vlag te combineren met een conditie om het aantal herhalingen te bepalen;</li>\n",
    "    <li> leer je een <code>while</code>-loop met een teller te gebruiken om te tellen hoe vaak een herhaling plaats heeft gevonden.\n",
    "    </li>\n",
    "</ul>\n",
    "\n",
    "Verwachte tijd:<b>2 uur</b>"
   ]
  },
  {
   "cell_type": "markdown",
   "metadata": {},
   "source": [
    "## 1: De while-loop zelf ontdekken\n",
    "\n",
    "<p>De <code>while</code>-constructie lees je als <i>\"zolang\"</i>: zolang een conditie waar is, herhaal een actie."
   ]
  },
  {
   "cell_type": "markdown",
   "metadata": {},
   "source": [
    "### Opdracht 7.1: Voorspellen wat een <code>while</code> doet\n",
    "\n",
    "Bekijk het onderstaande stroomdiagram en de bijbehorende code. Wat denk je dat het programma doet? Run het dan en kijk of je\n",
    "het goed had.<br>\n",
    "\n",
    "<img src=\"http://course.cs.ru.nl/pythonVO/Jupyter/img/Python7_Stroomdiagram_evenTM10.jpg\" alt=\"Stroomdiagram voor\n",
    "functie evenGetallenTot10\" width=\"300\">"
   ]
  },
  {
   "cell_type": "code",
   "execution_count": null,
   "metadata": {
    "tags": [
     "Opdracht"
    ]
   },
   "outputs": [],
   "source": [
    "getal = 0\n",
    "print(\"Het eerste getal is:\", getal)\n",
    "while getal < 10:\n",
    "  getal += 2      #tel er twee bij op\n",
    "  print(\"Het volgende getal is:\", getal)\n",
    "\n",
    "print(\"Klaar!\")"
   ]
  },
  {
   "cell_type": "markdown",
   "metadata": {},
   "source": [
    "<p>Bekijk <a href=\"Https://course.cs.ru.nl/pythonVO/Teams/IA_uitwerkingen/IA_H7_oplossingen.html#Opgave711\" target=\"_blank\">hier</a> de voorbeelduitwerking.</p>\n"
   ]
  },
  {
   "cell_type": "markdown",
   "metadata": {},
   "source": [
    "## 2: Herhalingen met een while-loop\n",
    "\n",
    "[![Watch the video](https://img.youtube.com/vi/Xic59t6jFt4/hqdefault.jpg)](https://www.youtube.com/embed/Xic59t6jFt4)\n",
    "\n",
    "<p>Een herhaling zoals <i>zolang.. dan.. </i> heet in Python een <code>while</code>-constructie.</p>\n",
    "<ul>\n",
    "    <li>Het begint met een test (conditie) in de <code>while</code>.\n",
    "    </li>\n",
    "    <li>Als uit de conditie <code>False</code> komt slaat Python het blok code dat bij de <code>while</code> hoort over, en gaat daaronder verder.\n",
    "    </li>\n",
    "    <li>Als uit de test <i>True</i> (waar) komt, dan wordt het blok code onder de <code>while</code> uitgevoerd.\n",
    "    </li>\n",
    "    <li>Wanneer het blok code uitgevoerd is, gaat Python <b>terug</b> naar de test na de <code>while</code> en test die opnieuw.\n",
    "    </li>\n",
    "    <li>Als de voorwaarde nog steeds <code>True</code> oplevert, dan wordt het blok code nogmaals uitgevoerd. Dit wordt steeds herhaald, totdat uit de test <code>False</code> komt.\n",
    "    </li>\n",
    "</ul>"
   ]
  },
  {
   "cell_type": "markdown",
   "metadata": {},
   "source": [
    "### Opdracht 7.2: Aftellen\n",
    "\n",
    "<p>Het doel van het programma hieronder is om <code>tijd</code> af te tellen. Eerst vragen we de gebruiker om aan te geven vanaf welk getal we moeten aftellen. Zolang de <code>tijd</code> groter is dan 0, wordt deze eentje minder en dan geprint. Pas als de <code>tijd</code> 0 heeft bereikt, wordt de loop niet uitgevoerd en print je \"AF!\"</p>\n",
    "\n",
    "<p>Helaas staan de regels in de verkeerde volgorde. Zet de regels in de juiste volgorde en test je programma.</p>"
   ]
  },
  {
   "cell_type": "markdown",
   "metadata": {},
   "source": [
    "<div style=\"display:flex\">\n",
    "<img src=\"http://course.cs.ru.nl/pythonVO/Jupyter/img/Python7_driehoekKunst.jpg\" alt=\"Driehoek kunst\" width=\"300\"><br>\n",
    "<img src=\"http://course.cs.ru.nl/pythonVO/Jupyter/img/Python7_Stroomdiagram_driehoekKunst.jpg\" alt=\"Driehoekkunst\" width=\"300\"><br>\n",
    "\n",
    "</div>\n",
    "\n",
    "Het programma vraagt op regel 24 aan de gebruiker hoe groot de eerste driehoek moet zijn.\n",
    "\n",
    "Schrijf zelf de code voor de <code>while</code>-loop (op regel 27): <ul>\n",
    "    <li>Zolang de lengte groter is dan 10,\n",
    "    </li>\n",
    "    <li>teken een driehoek met die lengte.\n",
    "    </li>\n",
    "    <li>Maak dan de lengte 10 kleiner.\n",
    "    </li>\n",
    "</ul>"
   ]
  },
  {
   "cell_type": "code",
   "execution_count": null,
   "metadata": {
    "tags": [
     "Opdracht"
    ]
   },
   "outputs": [],
   "source": [
    "import turtle\n",
    "\n",
    "### FUNCTIEDEFINITIE\n",
    "\n",
    "#tekent een driehoek met de gegeven lengte\n",
    "def tekenDriehoek( lengte ):\n",
    "    turtle.forward( lengte )\n",
    "    turtle.right( 120 )\n",
    "    turtle.forward( lengte )\n",
    "    turtle.right( 120 )\n",
    "    turtle.forward( lengte )\n",
    "    turtle.right( 120 )\n",
    "\n",
    "def vraagGebruikerOmLengte():\n",
    "    print(\"Geef een getal tussen de 50 en 200:\")\n",
    "    invoer = input()\n",
    "    lengte = int (invoer)\n",
    "    print( \"Het eerste driehoek wordt\", lengte, \"groot.\")\n",
    "    return lengte\n",
    "\n",
    "\n",
    "### HOOFDPROGRAMMA\n",
    "turtle.pendown()\n",
    "lengte = vraagGebruikerOmLengte()\n",
    "\n",
    "#SCHRIJF HIER DE WHILE LOOP MET DAARIN HET TEKENEN VAN DE DRIEHOEK EN VERKLEINEN VAN DE LENGTE\n",
    "\n",
    "\n",
    "\n",
    "turtle.done()"
   ]
  },
  {
   "cell_type": "markdown",
   "metadata": {},
   "source": [
    "<p>Bekijk <a href=\"https://course.cs.ru.nl/pythonVO/Teams/IA_uitwerkingen/IA_H7_oplossingen.html#opgave713\" target=\"_blank\">hier</a> de voorbeelduitwerking.</p>\n"
   ]
  },
  {
   "cell_type": "markdown",
   "metadata": {},
   "source": [
    "## 3: While-loop met een teller\n",
    "\n",
    "[![Watch the video](https://img.youtube.com/vi/u6QAO70lxFY/hqdefault.jpg)](https://www.youtube.com/embed/u6QAO70lxFY)\n",
    "\n",
    "\n",
    "<p>Soms weet je precies hoe vaak je iets wilt herhalen. Met een <code>while</code>-loop voer je code een bepaald aantal keren uit door:\n",
    "</p>\n",
    "<ul>\n",
    "    <li>een teller te gebruiken om bij te houden hoe vaak de code herhaald is (deze begint op 0);</li>\n",
    "    <li>de teller elke keer op te hogen;</li>\n",
    "    <li>in de conditie van de herhaling te controleren of er nog een herhaling plaats mag vinden.</li>\n",
    "</ul>\n",
    "\n",
    "\n",
    "<p>Het volgende programma telt van 0 tot 10. Zolang de <code>teller</code> kleiner is dan 10, wordt die geprint en opgehoogd.</p>\n",
    "\n",
    "<div style=\"display:flex\">\n",
    "<img src=\"http://course.cs.ru.nl/pythonVO/Jupyter/img/Python7_Stroomdiagram_print10teller.jpg\" alt=\"10x herhalen\" width=\"300\"><br>\n",
    "<code>                \n",
    "                teller= 0\n",
    "\n",
    "                while teller &lt; 10:\n",
    "                \tprint( teller )\n",
    "                \tteller += 1\n",
    "\n",
    "                print(\"Klaar!\")\n",
    "</code>\n",
    "</div>"
   ]
  },
  {
   "cell_type": "code",
   "execution_count": null,
   "metadata": {},
   "outputs": [],
   "source": [
    "teller= 0\n",
    "\n",
    "while teller < 10:\n",
    "    print( teller )\n",
    "    teller += 1\n",
    "\n",
    "print(\"Klaar!\")"
   ]
  },
  {
   "cell_type": "markdown",
   "metadata": {},
   "source": [
    "### Opdracht 7.4: Aaa!\n",
    "\n",
    "<p>Het doel van het programma hieronder is om drie keer de letter <i>a</i> af te drukken en na afloop <i>Klaar!</i>. Helaas staan de regels in de verkeerde volgorde. Zet de regels in de juiste volgorde.</p>\n"
   ]
  },
  {
   "cell_type": "code",
   "execution_count": null,
   "metadata": {
    "tags": [
     "Opdracht"
    ]
   },
   "outputs": [],
   "source": [
    "\n",
    "print(\"Klaar!\")\n",
    "\taantal_a += 1 \n",
    "\tprint( \"a\" )\n",
    "while aantal_a < 3:\n",
    "aantal_a= 0\n"
   ]
  },
  {
   "cell_type": "markdown",
   "metadata": {},
   "source": [
    "<p>Bekijk <a href=\"https://course.cs.ru.nl/pythonVO/Teams/IA_uitwerkingen/IA_H7_oplossingen.html#opgave721\" target=\"_blank\">hier</a> de voorbeelduitwerking.</p>\n"
   ]
  },
  {
   "cell_type": "markdown",
   "metadata": {},
   "source": [
    "### Opdracht 7.5: Strafregels\n",
    "\n",
    "<p>Je hebt je misdragen op school. Helaas zal je nu strafregels moeten schrijven. Gelukkig ben je een slimme scholier en besluit je om een programma te schrijven dat voor jou je strafwerk schrijft.</p>\n",
    "\n",
    "<p>Schrijf een programma dat de volgende tekst 100 keer afdrukt:<br>\n",
    "    <i>Ik mag code niet kopieren van een ander.</i><br><br>\n",
    "    Maak gebruik van een <code>while</code>-loop.\n",
    "</p>"
   ]
  },
  {
   "cell_type": "code",
   "execution_count": null,
   "metadata": {
    "tags": [
     "Opdracht"
    ]
   },
   "outputs": [],
   "source": []
  },
  {
   "cell_type": "markdown",
   "metadata": {},
   "source": [
    "<p>Bekijk <a href=\"https://course.cs.ru.nl/pythonVO/Teams/IA_uitwerkingen/IA_H7_oplossingen.html#opgave722\" target=\"_blank\">hier</a> de voorbeelduitwerking.</p>"
   ]
  },
  {
   "cell_type": "markdown",
   "metadata": {},
   "source": [
    "## 4: While-loop met een logische vlag\n",
    "\n",
    "<p>Voor het programmeren van een spel heb je altijd één hoofdlus: zolang het spel niet is afgelopen, herhaal dan: vraag de gebruiker om invoer en doe daar iets mee in het spel.</p>\n",
    "<p>Een spel kan aflopen om verschillende redenen, bijvoorbeeld omdat er gewonnen is of juist omdat de beurten of levens op zijn. Dit wordt op verschillende momenten in het spel bepaald. Om bij te houden of een spel wel of niet is afgelopen maken we gebruik van een <i>logische vlag</i> (in het Engels: Boolean Flag).\n",
    "</p>\n",
    "\n",
    "[![Watch the video](https://img.youtube.com/vi/Tptt6GUZlX0/hqdefault.jpg)](https://www.youtube.com/embed/Tptt6GUZlX0)\n",
    "\n",
    "<p>Een <i>logische vlag</i> is een variabele die je vooraf op <code>True</code> of <code>False</code> zet. De waarde van de vlag gebruik je in een conditie die bepaalt of het programma wel of niet doorgaat. De waarde van de vlag pas je aan zodra de situatie veranderd is. Dit is handig voor het controleren van een wachtwoord of het maken van een spelletje.</p>\n",
    "\n",
    "\n",
    "<p>We bekijken een voorbeeld van een quiz: de gebruiker moet de som van 3+2 uitrekenen. Zolang het antwoord niet goed is ingevoerd, vragen we de gebruiker om het opnieuw te proberen. Het volgende stroomdiagram laat het algoritme zien met gebruik van een logische vlag <code>goed_geraden</code>:</p>\n",
    "<br>\n",
    "<div style=\"display:flex\">\n",
    "<img src=\"http://course.cs.ru.nl/pythonVO/Jupyter/img/Python7_Stroomdiagram_spelRekenQuiz.jpg\" alt=\"Stroomdiagram voor while-loop met logische vlag\" width=\"450\"><br>\n",
    "<div>\n",
    "                <p>Toelichting op het stroomdiagram hiernaast en de bijbehorende code hieronder:</p>\n",
    "                <ul>\n",
    "                    <li>regel 2: de logische vlag heet <code>goed_geraden</code> en begint op <code>False</code>;\n",
    "                    </li>\n",
    "                    <li>regel 4: in de conditie van de loop wordt naar de waarde van <code>goed_geraden</code> gekeken. Zolang nog niet <code>goed_geraden</code>, dan worden de acties eronder uitgevoerd;\n",
    "                    </li>\n",
    "                    <li>regels 5 t/m 12: acties van de loop:\n",
    "                        <ul>\n",
    "                            <li>regels 5 en 6: de gebruiker moet een antwoord op de vraag geven;\n",
    "                            </li>\n",
    "                            <li>regels 8, 9 en 10: als het antwoord goed is, wordt de vlag <code>goed_geraden</code> op <code>True</code> gezet;\n",
    "                            </li>\n",
    "                            <li>als het antwoord fout is blijft de vlag <code>goed_geraden</code> op <code>False</code>;\n",
    "                            </li>\n",
    "                        </ul>\n",
    "                    </li>\n",
    "                    <li>regel 4: na afloop van de acties springt het programma weer naar de conditie van de loop:\n",
    "                        <ul>\n",
    "                            <li>zolang de conditie <code>True</code> is, worden de acties in de lus weer uitgevoerd;\n",
    "                            </li>\n",
    "                            <li>zodra bij de controle blijkt dat de conditie <code>False</code> is, springt het programma uit de lus en zal de herhaling niet meer uitgevoerd worden;\n",
    "                            </li>\n",
    "                        </ul>\n",
    "                    </li>\n",
    "                    <li>regel 14: na afloop van de <code>while</code>-loop wordt er <i>Spel afgelopen</i> geprint.\n",
    "                    </li>\n",
    "                </ul>\n",
    "</div>\n",
    "</div>"
   ]
  },
  {
   "cell_type": "code",
   "execution_count": null,
   "metadata": {},
   "outputs": [],
   "source": [
    "ANTWOORD = 5\n",
    "goed_geraden = False #om te beginnen staat de vlag op False\n",
    "\n",
    "while not goed_geraden: #herhaal zolang nog niet geraden\n",
    "\tprint( \"3 + 2 = \" )\n",
    "\tinvoer = input( )  #vraag antwoord op quizvraag\n",
    "\tgebruikers_antwoord = int( invoer )\n",
    "\tif gebruikers_antwoord == ANTWOORD: #er is goed geraden\n",
    "\t\tprint(\"Goed geraden!\")\n",
    "\t\tgoed_geraden = True #de vlag wordt op True gezet, hierna zal de while-loop niet nog een keer uitgevoerd gaan worden\n",
    "\telse: #fout geraden\n",
    "\t\tprint(\"Jammer, fout... probeer het nog een keer\") #vlag blijft op niet geraden, de loop wordt weer een keer herhaald\n",
    "\n",
    "print(\"Spel afgelopen\")"
   ]
  },
  {
   "cell_type": "markdown",
   "metadata": {},
   "source": [
    "## 5: Oefenen met een logische vlag"
   ]
  },
  {
   "cell_type": "markdown",
   "metadata": {},
   "source": [
    "### Opdracht 7.6: Toegang met wachtwoord\n",
    "\n",
    "<p>Het doel van het programma hieronder is om een wachtwoord aan de gebruiker te vragen. Pas als het wachtwoord klopt, wordt toegang verleend. Zolang het wachtwoord niet klopt, wordt de gebruiker opnieuw om invoer gevraagd.</p>\n",
    "\n",
    "<p>Helaas staan de regels in de verkeerde volgorde. Zet de regels in de juiste volgorde en test je programma.</p>\n"
   ]
  },
  {
   "cell_type": "code",
   "execution_count": null,
   "metadata": {
    "tags": [
     "Opdracht"
    ]
   },
   "outputs": [],
   "source": [
    "\telse:\n",
    "WACHTWOORD = \"Geheim\"\n",
    "\tinvoer = input()\n",
    "goed_geraden = False\n",
    "\t\tgoed_geraden = True\n",
    "\tprint( \"Voer wachtwoord in: \" )\n",
    "\tif invoer == WACHTWOORD:\n",
    "\t\tprint(\"Fout... probeer het opnieuw\")\n",
    "while not goed_geraden:\n",
    "    print(\"Goed zo!\")\n"
   ]
  },
  {
   "cell_type": "markdown",
   "metadata": {},
   "source": [
    "<p>Bekijk <a href=\"https://course.cs.ru.nl/pythonVO/Teams/IA_uitwerkingen/IA_H7_oplossingen.html#opgave731\" target=\"_blank\">hier</a> de voorbeelduitwerking.</p>\n"
   ]
  },
  {
   "cell_type": "markdown",
   "metadata": {},
   "source": [
    "### Opdracht 7.7: Raad het geheime getal\n",
    "\n",
    "We gaan een spelletje maken: <i>Raad het geheime getal</i>.<br>\n",
    "Spelregels:\n",
    "<ul>\n",
    "    <li>De computer kiest een willekeurig getal tussen de 0 en 100 (0 of 100 mag ook)\n",
    "    </li>\n",
    "    <li>De speler gokt een getal\n",
    "    </li>\n",
    "    <li>Is het gegokte getal juist, dan wint de speler en krijgt de speler een compliment\n",
    "    </li>\n",
    "    <li>Is het gegokte getal fout, dan krijgt de speler hierover een melding en moet de speler opnieuw gokken.\n",
    "    </li>\n",
    "    <li>Na afloop van het spel wordt de speler bedankt.\n",
    "    </li>\n",
    "</ul>\n",
    "\n",
    "<p>Het volgende stroomdiagram laat het algoritme zien met gebruik van een logische vlag <code>goed_geraden</code>:</p>\n",
    "\n",
    "<img src=\"http://course.cs.ru.nl/pythonVO/Jupyter/img/Python7_Stroomdiagram_raadGeheimGetal.jpg\" alt=\"Stroomdiagram voor while-loop met logische vlag\" width=\"450\"><br>\n",
    "\n",
    "\n",
    "<p>Hieronder staat een deel van de code. Breid de code uit (aangegeven bij STAP 1 t/m 4) zodat deze overeenkomt met het bovenstaande stroomdiagram.</p>\n"
   ]
  },
  {
   "cell_type": "code",
   "execution_count": null,
   "metadata": {
    "tags": [
     "Opdracht"
    ]
   },
   "outputs": [],
   "source": [
    "import random\n",
    "\n",
    "#GLOBALE VARIABELEN\n",
    "TE_RADEN_GETAL = random.randint(0,100) #computer kiest een willekeurige getal tussen 0 en 100 (0 of 100 kan ook)\n",
    "\n",
    "### HOOFDPROGRAMMA\n",
    "goed_geraden = False #om te beginnen staat de vlag op False\n",
    "\n",
    "# STAP 1. herhaal zolang vlag nog op False staat\n",
    "\tprint(  \"Gok een getal tussen de 0 en 100 (0 of 100 mag ook)!\" )\n",
    "\tinvoer = input()\n",
    "\tgebruikers_antwoord = int( invoer )\n",
    "\n",
    "\tif gebruikers_antwoord == TE_RADEN_GETAL: #als getal goed is geraden\n",
    "\t  print(\"Goed geraden!\")\n",
    "\t\t# STAP 2. de vlag wordt op True gezet, hierna zal de while-loop niet opnieuw uitgevoerd gaan worden\n",
    "\telse: #fout geraden\n",
    "\t\t# STAP 3. print de tekst: \"Jammer, fout... probeer het opnieuw\"\n",
    "\n",
    "#STAP 4. print \"Bedankt voor het spelen\""
   ]
  },
  {
   "cell_type": "markdown",
   "metadata": {},
   "source": [
    "<p>Bekijk <a href=\"https://course.cs.ru.nl/pythonVO/Teams/IA_uitwerkingen/IA_H7_oplossingen.html#opgave732\" target=\"_blank\">hier</a> de voorbeelduitwerking.</p>\n"
   ]
  },
  {
   "cell_type": "markdown",
   "metadata": {},
   "source": [
    "### Opdracht 7.8: Herhaaldelijk complimentjes geven\n",
    "\n",
    "<p>Schrijf een programma dat de gebruiker steeds vraagt of hij een complimentje wil, totdat hij aangeeft dat hij wil stoppen (logische vlag: <code>gebruiker_wil_stoppen</code>). Tikt de gebruiker een 'J' in, dan krijgt hij een complimentje. Dit wordt herhaald tot de gebruiker het zat is en iets anders dan een 'J' intikt. Dan wordt de logische vlag <code>gebruiker_wil_stoppen</code> aangepast.</p>\n"
   ]
  },
  {
   "cell_type": "code",
   "execution_count": null,
   "metadata": {
    "tags": [
     "Opdracht"
    ]
   },
   "outputs": [],
   "source": [
    "#A: Maak een logische vlag gebruiker_wil_stoppen\n",
    "\n",
    "#B: Maak een herhaling\n",
    "  print(\"Typ J voor een complimentje\")\n",
    "  print(\"Gebruik een andere toets als je geen complimentje wilt.\")\n",
    "  invoer = input()\n",
    "\n",
    "  if invoer == \"J\":\n",
    "    print( \"Ik vind je aardig!\" )\n",
    "  else:\n",
    "    #C: pas de vlag aan\n",
    "\n",
    "print(\"Wat jammer dat je geen complimentje meer wilt ontvangen.\")\n",
    "\n"
   ]
  },
  {
   "cell_type": "markdown",
   "metadata": {},
   "source": [
    "<p>Bekijk <a href=\"https://course.cs.ru.nl/pythonVO/Teams/IA_uitwerkingen/IA_H7_oplossingen.html#opgave733\" target=\"_blank\">hier</a> de voorbeelduitwerking.</p>\n"
   ]
  },
  {
   "cell_type": "markdown",
   "metadata": {},
   "source": [
    "### Opdracht 7.9: Som van een aantal getallen. De gebruiker geeft het aan als het klaar is\n",
    "\n",
    "\n",
    "<p>Het doel van het programma hieronder is om de gebruiker een paar getallen te laten invoeren, en na afloop de som af te drukken. De gebruiker mag zelf bepalen wanneer hij klaar is met invoeren. We spreken met de gebruiker af dat er steeds om invoer gevraagd wordt totdat een <code>X</code> wordt ingevoerd.</p>\n",
    "\n",
    "<p>Helaas staan de regels in de verkeerde volgorde. Zet de regels in de juiste volgorde.</p>\n"
   ]
  },
  {
   "cell_type": "code",
   "execution_count": null,
   "metadata": {
    "tags": [
     "Opdracht"
    ]
   },
   "outputs": [],
   "source": [
    "        print(\"Je hebt ingevoerd\", ingevoerde_getal )\n",
    "        totaal += ingevoerde_getal          #tel ingevoerde getal op bij het totaal\n",
    "    print(\"Geef een getal (of 'X' om te stoppen): \")\n",
    "    invoer = input(  )                      #vraag gebruiker om invoer\n",
    "\t\tingevoerde_getal = int( invoer )    #zet de invoer om in een getal\n",
    "    if invoer == 'X':\n",
    "    else:\n",
    "print( \"Totaal is\", totaal )                #druk aan einde het totaal af\n",
    "while not klaar:                            #zolang nier klaar, herhaal dan\n",
    "klaar = False\n",
    "        klaar = True\n",
    "totaal = 0"
   ]
  },
  {
   "cell_type": "markdown",
   "metadata": {},
   "source": [
    "<p>Bekijk <a href=\"https://course.cs.ru.nl/pythonVO/Teams/IA_uitwerkingen/IA_H7_oplossingen.html#opgave734\" target=\"_blank\">hier</a> de voorbeelduitwerking.</p>\n"
   ]
  },
  {
   "cell_type": "markdown",
   "metadata": {},
   "source": [
    "## 6: Uitgebreide conditie met logische vlag\n",
    "\n",
    "<td>Soms heb je een uitgebreidere conditie nodig. Bijvoorbeeld, bij het invoeren van een pincode. Je vraagt een pincode pas nog een keer als de vorige poging niet goed was en er nog geen drie pogingen gedaan zijn. De conditie van de herhaling moet dus op meerdere dingen controleren:<ul>\n",
    "        <li>de ingevoerde waarde</li>\n",
    "        <li>de waarde van de teller</li>\n",
    "    </ul>\n"
   ]
  },
  {
   "cell_type": "markdown",
   "metadata": {},
   "source": [
    "### Opdracht 7.10: Pincode invoeren\n",
    "\n",
    "<p>Het doel van het programma hieronder is om een ingevoerde pincode te controleren. Als er binnen drie pogingen een juiste pincode ingevoerd wordt, drukt het programma af: <i>Toegang verleend</i>. Als de pincode onjuist is, wordt opnieuw gevraagd. Maar na drie pogingen drukt het programma af: <i>3 foutieve pogingen gedaan. Toegang geweigerd</i>. Daarna moet het programma stoppen.</p>\n",
    "\n",
    "<p>Helaas staan de regels in de verkeerde volgorde. Zet de regels in de juiste volgorde en test je programma goed.</p>\n"
   ]
  },
  {
   "cell_type": "code",
   "execution_count": null,
   "metadata": {
    "tags": [
     "Opdracht"
    ]
   },
   "outputs": [],
   "source": [
    "PINCODE = \"1234\"\n",
    "pogingen = 0\n",
    "\n",
    "while pogingen_resterend: #herhaal zolang niet juist ingevoerd is\n",
    "\t\t\tpogingen_resterend = False\n",
    "\n",
    "\tif invoer == PINCODE:\n",
    "\telse:\n",
    "\t\tprint(\"Toegang verleend.\")\n",
    "\t\tpogingen_resterend = False\n",
    "\n",
    "\t\tif pogingen < 3:\n",
    "\t\telse: # te veel foute pogingen\n",
    "\t\t\tprint(\"Fout... probeer het opnieuw\")\n",
    "\t\t\tprint(pogingen, \"foutieve pogingen gedaan. Toegang geweigerd.\")\n",
    "\tprint( \"Voer pincode in: \" )\n",
    "\tinvoer = input() #vraag om de pincode\n",
    "\tprint( \"Je hebt ingevoerd:\", invoer)\n",
    "pogingen_resterend = True\n",
    "\t\tpogingen += 1"
   ]
  },
  {
   "cell_type": "markdown",
   "metadata": {},
   "source": [
    "<p>Bekijk <a href=\"https://course.cs.ru.nl/pythonVO/Teams/IA_uitwerkingen/IA_H7_oplossingen.html#opgave741\" target=\"_blank\">hier</a> de voorbeelduitwerking.</p>\n"
   ]
  },
  {
   "cell_type": "markdown",
   "metadata": {},
   "source": [
    "### Opdracht 7.11: Wachtwoord met bijhouden van aantal foute pogingen\n",
    "\n",
    "<p>Schrijf een programma dat de gebruiker herhaaldelijk om een wachtwoord vraagt totdat dit goed is ingevoerd. Als de gebruiker een verkeerd wachtwoord intypt, meld je hoeveel foute pogingen al gedaan zijn.</p>\n",
    "\n",
    "<p>Tips:</p>\n",
    "<ul>\n",
    "    <li>Schrijf eerst code om herhaaldelijk om de pincode te vragen totdat deze juist is ingevoerd. Hiervoor gebruik je een logische vlag.\n",
    "    </li>\n",
    "    <li>Houd een teller bij voor het aantal foute pogingen. Voor de loop zet je die op 0. Als de gebruiker een foute poging doet, moet je hem ophogen en printen.\n",
    "    </li>\n",
    "</ul>\n"
   ]
  },
  {
   "cell_type": "code",
   "execution_count": null,
   "metadata": {
    "tags": [
     "Opdracht"
    ]
   },
   "outputs": [],
   "source": [
    "WACHTWOORD = \"GEHEIM\"\n",
    "\n",
    "#Vul hier de code aan"
   ]
  },
  {
   "cell_type": "markdown",
   "metadata": {},
   "source": [
    "<p>Bekijk <a href=\"https://course.cs.ru.nl/pythonVO/Teams/IA_uitwerkingen/IA_H7_oplossingen.html#opgave742\" target=\"_blank\">hier</a> de voorbeelduitwerking.</p>\n"
   ]
  },
  {
   "cell_type": "markdown",
   "metadata": {},
   "source": [
    "## H7 - Afsluitende opdrachten\n",
    "\n",
    "<p>Met de volgende afsluitende opdrachten kun je kijken hoe goed je de stof beheerst. Controleer steeds je eigen oplossing met de voorbeelduitwerking.</p>\n"
   ]
  },
  {
   "cell_type": "markdown",
   "metadata": {},
   "source": [
    "### Afsluitende opdracht 7.1: Rekenspel\n",
    "\n",
    "<div style=\"display:flex\">\n",
    "<img src=\"http://course.cs.ru.nl/pythonVO/Jupyter/img/Python7_Stroomdiagram_rekenSpel.jpg\" alt=\"Stroomdiagram voor herhalen met invoer\" width=\"550\"><br>\n",
    "<div>\n",
    "<p>We maken een rekenspel:</p>\n",
    "                <ol>\n",
    "                    <li>Het programma verzint een rekensommetje met twee willekeurige getallen.\n",
    "                    </li>\n",
    "                    <li>De speler moet het antwoord uitrekenen en invullen.\n",
    "                    </li>\n",
    "                    <li>Jouw programma controleert het antwoord.\n",
    "                    </li>\n",
    "                    <li>Bij een juist antwoord krijgt de speler een nieuwe som. Ga terug naar stap 1.\n",
    "                    </li>\n",
    "                    <li>Heeft de speler het fout, dan is de speler af. Geef het juiste antwoord.\n",
    "                    </li>\n",
    "                    <li>Na afloop van het spel print je \"Bedankt voor het spelen\"\n",
    "                    </li>\n",
    "                </ol>\n",
    "                <p>Schrijf de code voor dit spel.</p>\n",
    "                <p>Tip: voor een willekeurig getal tussen 0 en 10 gebruik je <code>random.randint(0,10)</code>. Boven aan je code zet je eerst <code>import random</code>.</p>\n",
    "\n",
    "</div>\n",
    "</div>"
   ]
  },
  {
   "cell_type": "code",
   "execution_count": null,
   "metadata": {
    "tags": [
     "Opdracht"
    ]
   },
   "outputs": [],
   "source": []
  },
  {
   "cell_type": "markdown",
   "metadata": {},
   "source": [
    "<p>Bekijk <a href=\"https://course.cs.ru.nl/pythonVO/Teams/IA_uitwerkingen/IA_H7_oplossingen.html#AfOpgave71\" target=\"_blank\">hier</a> de voorbeelduitwerking.</p>\n"
   ]
  },
  {
   "cell_type": "markdown",
   "metadata": {},
   "source": [
    "### Afsluitende opdracht 7.2: Rekenspel met punten\n",
    "\n",
    "\n",
    "<p>We maken een vergelijkbaar rekenspel als bij Afsluitende opdracht 7.1, maar met een paar aanpassingen:</p>\n",
    "<ol>\n",
    "    <li>Geef een keersom.\n",
    "    </li>\n",
    "    <li>De speler begint met 100 punten.\n",
    "    </li>\n",
    "    <li>Als de speler een juist antwoord geeft, krijgt die 10 punten erbij.\n",
    "    </li>\n",
    "    <li>Bij een verkeerd antwoord gaan er 10 punten vanaf.\n",
    "    </li>\n",
    "    <li>Als de speler 0 punten heeft, dan is het spel afgelopen.\n",
    "    </li>\n",
    "</ol>\n",
    "\n",
    "\n",
    "<p>Tips:</p>\n",
    "<ul>\n",
    "    <li>Pak het stapsgewijs aan en test je werk tussendoor. Begin dus eerst met het spel zoals bij Afsluitende opdracht 7.1 en voeg dan &eacute;&eacute;n voor &eacute;&eacute;n de aanpassingen hierboven toe.\n",
    "    </li>\n",
    "    <li>Het controleren op 0 punten doe je aan het einde van de while-loop. Als het aantal punten gelijk aan 0 is, dan pas je de vlag aan.\n",
    "    </li>\n",
    "</ul>\n",
    "\n",
    "<p>Extra uitdaging: vraag de gebruiker of welke sommen hij wil: <code>+</code>, <code>-</code> , <code>*</code> of <code>/</code>.</p>\n"
   ]
  },
  {
   "cell_type": "code",
   "execution_count": null,
   "metadata": {
    "tags": [
     "Opdracht"
    ]
   },
   "outputs": [],
   "source": []
  },
  {
   "cell_type": "markdown",
   "metadata": {},
   "source": [
    "<p>Bekijk <a href=\"https://course.cs.ru.nl/pythonVO/Teams/IA_uitwerkingen/IA_H7_oplossingen.html#AfOpgave72\" target=\"_blank\">hier</a> de voorbeelduitwerking.</p>\n"
   ]
  },
  {
   "cell_type": "markdown",
   "metadata": {},
   "source": [
    "### Afsluitende opdracht 7.3: Krimpende spirograaf\n",
    "\n",
    "<div style=\"display:flex\">\n",
    "<img src=\"http://course.cs.ru.nl/pythonVO/Jupyter/img/Python7_krimpendeSpirograaf.jpg\" alt=\"Krimpende spirograaf\" width=\"300\"><br>\n",
    "<div>\n",
    "<p>Deze spirograaf is gemaakt door meerdere vierkanten te tekenen. Elk vierkant is net iets kleiner dan het vorige. Na elk vierkant worden er steeds 15 graden gedraaid. Je stopt met tekenen als de lengte kleiner dan 10 wordt.</p>\n",
    "\n",
    "<p>Schrijf een programma dat zo'n spirograaf tekent.</p>\n",
    "<ol>\n",
    "    <li>Schrijf een functie die de gebruiker om de zijlengte van het eerste vierkant vraagt (tussen de 50 en 400). Deze lengte lever je op met een return.\n",
    "    </li>\n",
    "    <li>Sla de opgeleverde lengte op in een variabele. Doe dit in je hoofdprogramma, nog voor de code van de <code>while</code>-loop.\n",
    "    </li>\n",
    "    <li>Teken een vierkant met de gegeven <code>lengte</code>.\n",
    "    </li>\n",
    "    <li>Herhaal (met een while-loop) totdat de lengte kleiner dan 10 is:\n",
    "    <ul>\n",
    "        <li>teken vierkant\n",
    "        </li>\n",
    "        <li>draai 15 graden\n",
    "        </li>\n",
    "        <li>maak lengte 10 korter\n",
    "        </li>\n",
    "    </ul>\n",
    "</li>\n",
    "<li>Gebruik hierbij de onderstaande code.\n",
    "</li>\n",
    "</ol>\n",
    "</div>\n",
    "</div>"
   ]
  },
  {
   "cell_type": "code",
   "execution_count": null,
   "metadata": {
    "tags": [
     "Opdracht"
    ]
   },
   "outputs": [],
   "source": [
    "import turtle\n",
    "\n",
    "### FUNCTIEDEFINITIE\n",
    "\n",
    "#tekent een vierkant met de gegeven lengte\n",
    "def tekenVierkant( lengte ):\n",
    "\tturtle.forward( lengte )\n",
    "\tturtle.right( 90 )\n",
    "\tturtle.forward( lengte )\n",
    "\tturtle.right( 90 )\n",
    "\tturtle.forward( lengte )\n",
    "\tturtle.right( 90 )\n",
    "\tturtle.forward( lengte )\n",
    "\tturtle.right( 90 )\n",
    "\n",
    "\n",
    "#SCHRIJF HIER EEN DEF OM DE GEBRUIKER OM EEN LENGTE TE VRAGEN\n",
    "\n",
    "\n",
    "### HOOFDPROGRAMMA\n",
    "turtle.pendown()\n",
    "\n",
    "\n",
    "tekenVierkant( lengte )\n",
    "turtle.done()"
   ]
  },
  {
   "cell_type": "markdown",
   "metadata": {},
   "source": [
    "<p>Bekijk <a href=\"https://course.cs.ru.nl/pythonVO/Teams/IA_uitwerkingen/IA_H7_oplossingen.html#AfOpgave73\" target=\"_blank\">hier</a> de voorbeelduitwerking.</p>\n"
   ]
  },
  {
   "cell_type": "markdown",
   "metadata": {},
   "source": [
    "### Afsluitende opdracht 7.4: Som berekenen\n",
    "\n",
    "<p>Schrijf een programma dat de som van een aantal getallen berekent. De gebruiker geeft getallen een voor een in en geeft aan dat hij klaar is door een 'X' in te voeren.</p>\n"
   ]
  },
  {
   "cell_type": "code",
   "execution_count": null,
   "metadata": {
    "tags": [
     "Opdracht"
    ]
   },
   "outputs": [],
   "source": []
  },
  {
   "cell_type": "markdown",
   "metadata": {},
   "source": [
    "<p>Bekijk <a href=\"https://course.cs.ru.nl/pythonVO/Teams/IA_uitwerkingen/IA_H7_oplossingen.html#AfOpgave74\" target=\"_blank\">hier</a> de voorbeelduitwerking.</p>\n"
   ]
  },
  {
   "cell_type": "markdown",
   "metadata": {},
   "source": [
    "### Afsluitende opdracht 7.5: Gemiddelde berekenen\n",
    "\n",
    "<p>Schrijf een programma dat het gemiddelde van een aantal getallen berekent. De gebruiker geeft getallen een voor een in en geeft aan dat hij klaar is door een 'X' in te voeren.</p>\n",
    "\n",
    "\n",
    "<p>Tip: Om het gemiddelde uit te rekenen moet je bijhouden hoeveel getallen zijn ingevoerd en wat de som daarvan is.</p>\n"
   ]
  },
  {
   "cell_type": "code",
   "execution_count": null,
   "metadata": {
    "tags": [
     "Opdracht"
    ]
   },
   "outputs": [],
   "source": []
  },
  {
   "cell_type": "markdown",
   "metadata": {},
   "source": [
    "<p>Bekijk <a href=\"https://course.cs.ru.nl/pythonVO/Teams/IA_uitwerkingen/IA_H7_oplossingen.html#AfOpgave75\" target=\"_blank\">hier</a> de voorbeelduitwerking.</p>\n"
   ]
  }
 ],
 "metadata": {
  "kernelspec": {
   "display_name": "Python 3",
   "language": "python",
   "name": "python3"
  },
  "language_info": {
   "codemirror_mode": {
    "name": "ipython",
    "version": 3
   },
   "file_extension": ".py",
   "mimetype": "text/x-python",
   "name": "python",
   "nbconvert_exporter": "python",
   "pygments_lexer": "ipython3",
   "version": "3.12.2"
  }
 },
 "nbformat": 4,
 "nbformat_minor": 2
}
