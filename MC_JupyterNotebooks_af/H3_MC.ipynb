{
 "cells": [
  {
   "cell_type": "markdown",
   "metadata": {},
   "source": [
    "# Onderwerp 3 - Variabelen\n",
    "\n",
    "<p>Met een <i>variabele</i> kun je dingen onthouden. In dit onderwerp leer je wat een variabele precies is en hoe zij werkt.</p>\n",
    "\n",
    "<p><span style=\"font-size: 1rem;\">In dit\n",
    "        onderwerp:</span></p>\n",
    "<ul>\n",
    "    <li> leer je een waarde aan een variabele toekennen, zoals <code>leeftijd = 18</code>;</li>\n",
    "    <li> leer je de waarde van een variabele veranderen, zoals <code>score = score + 1</code>;</li>\n",
    "    <li> leer je een tracetabel maken om de waarden van variabelen te traceren;</li>\n",
    "    <li> leer je de volgende verkorte operatoren gebruiken: <code>+=, -=, *=, /=</code>;</li>\n",
    "    <li> leer je de volgende standaardfuncties gebruiken: <code>max(), min(), pow(), round(), abs(), len()</code>;</li>\n",
    "    <li> leer je hoe je de module voor willekeurige getallen kunt importeren met <code>import random</code>;</li>\n",
    "    <li> leer je hoe je willekeurige getallen kunt maken tussen <code>a</code> en <code>b</code> met <code>random.randint(a,b)</code>;</li>\n",
    "    <li> leer je hoe je een willekeurige <code>float</code> (kommagetal) kunt maken tussen 0 en 1 met <code>random.random()</code>.\n",
    "    </li>\n",
    "</ul>\n",
    "<div class=\"fa fa-clock-o fa-3x\"></div><br>Verwerkingstijd: <b>1 uur</b>"
   ]
  },
  {
   "cell_type": "markdown",
   "metadata": {},
   "source": [
    "## 1: Variabelen en waarden\n",
    "\n",
    "<p>Met een <i>variabele</i> kun je dingen onthouden. Dit hebben we in het vorige hoofdstuk ook gebruikt, bijvoorbeeld bij het onthouden van gebruikersinvoer:</p>"
   ]
  },
  {
   "cell_type": "code",
   "execution_count": null,
   "metadata": {},
   "outputs": [],
   "source": [
    "print(\"Hoe heet je?\")\n",
    "naam = input()\n",
    "print( \"Hallo\", naam)"
   ]
  },
  {
   "cell_type": "markdown",
   "metadata": {},
   "source": [
    "\n",
    "<p>Wat de gebruiker intypt, slaan we op (onthouden we) in een variabele <code>naam</code>. In de <code>print</code>-regel daarna gebruiken we de variabele om de gebruiker persoonlijk te begroeten met zijn ingevoerde naam.</p>\n",
    "\n",
    "[![Watch the video](https://img.youtube.com/vi/gouLlH-km-M/hqdefault.jpg)](https://www.youtube.com/embed/gouLlH-km-M)\n",
    "\n",
    "\n",
    "<p><b>Naam van een variabele</b></p>\n",
    "<p>In een variabele kun je een waarde opslaan. De naam mag je zelf kiezen, maar het is belangrijk om een zinnig zelfstandig naamwoord als naam te kiezen. Er mogen geen spaties in de namen voorkomen. In plaats daarvan gebruik je een liggend streepje: '_', bijvoorbeeld <code>lengte_in_m</code>.\n",
    "\n",
    "</p>\n",
    "<p><b>Waarde aan een variabele geven</b></p>\n",
    "<p>Een variabele geef je een waarde met het isgelijkteken (=). Als je het voorleest, zeg je <i>wordt</i>. Aan de linkerkant van het isgelijksymbool zet je de variabelenaam en aan de rechterkant de waarde die je wilt opslaan in de variabele. In het voorbeeld hieronder:&nbsp;<code>mijn_geluks_getal</code> <b>wordt</b> 5:</p>\n"
   ]
  },
  {
   "cell_type": "code",
   "execution_count": null,
   "metadata": {},
   "outputs": [],
   "source": [
    "mijn_geluks_getal = 5\n",
    "print( mijn_geluks_getal )"
   ]
  },
  {
   "cell_type": "markdown",
   "metadata": {},
   "source": [
    "## 2: Waarde van een variabele aanpassen\n",
    "\n",
    "\n",
    "<p>Je kunt de waarde van een variabele veranderen; dan wordt de oude waarde\n",
    "    \"overschreven\" door een nieuwe waarde. Het isgelijkteken (=) lees je als\n",
    "    <i>wordt</i>.\n",
    "</p>"
   ]
  },
  {
   "cell_type": "code",
   "execution_count": null,
   "metadata": {},
   "outputs": [],
   "source": [
    "kleur_fiets = \"rood\" \t\t# variabele krijgt een waarde\n",
    "print( kleur_fiets )\n",
    "\n",
    "kleur_fiets = \"blauw\"\t\t# variabele krijgt een nieuwe waarde\n",
    "print( kleur_fiets )"
   ]
  },
  {
   "cell_type": "markdown",
   "metadata": {},
   "source": [
    "<p>Je kunt ook een variabele de waarde geven van een andere variabele. Lees de\n",
    "    eerste regel van de code hieronder hardop, waarbij je het '='-teken als\n",
    "    <i>wordt</i> opleest:\n",
    "</p>"
   ]
  },
  {
   "cell_type": "code",
   "execution_count": null,
   "metadata": {},
   "outputs": [],
   "source": [
    "getal_1 = 25\n",
    "getal_2 = 36\n",
    "totaal = getal_1 + getal_2\n",
    "print(totaal)"
   ]
  },
  {
   "cell_type": "markdown",
   "metadata": {},
   "source": [
    "<p>Je kunt ook de waarde van een variabele aanpassen door hiermee te rekenen.\n",
    "    Run de code. Wat gebeurt er in de vierde regel met de variabele\n",
    "    <code>getal</code>?\n",
    "</p>"
   ]
  },
  {
   "cell_type": "code",
   "execution_count": null,
   "metadata": {},
   "outputs": [],
   "source": [
    "getal = 2\n",
    "print( getal )\n",
    "\n",
    "getal = getal + 3\t\t# getal wordt getal plus 3\n",
    "print( getal )"
   ]
  },
  {
   "cell_type": "markdown",
   "metadata": {},
   "source": [
    "### Opdracht 3.1: Rekenen met variabelen\n",
    "\n",
    "<p>Geef\n",
    "    <code>x</code> een waarde zodat 7 wordt afgedrukt.\n",
    "</p>"
   ]
  },
  {
   "cell_type": "code",
   "execution_count": null,
   "metadata": {
    "tags": [
     "Opdracht"
    ]
   },
   "outputs": [],
   "source": [
    "x = 2\n",
    "getal = x + 3\n",
    "print( getal )"
   ]
  },
  {
   "cell_type": "markdown",
   "metadata": {},
   "source": [
    "<p>Bekijk <a href=\"Https://course.cs.ru.nl/pythonVO/Teams/IA_uitwerkingen/IA_H3_oplossingen.html#opgave331\" target=\"_blank\">hier</a> de\n",
    "    voorbeelduitwerking.</p>"
   ]
  },
  {
   "cell_type": "markdown",
   "metadata": {},
   "source": [
    "### Opdracht 3.2: Fouten opsporen\n",
    "\n",
    "<p>In elk van de\n",
    "    volgende vier blokken code zit een fout. Zoek de fout en herstel deze.</p>\n",
    "\n",
    "#### Deel A:"
   ]
  },
  {
   "cell_type": "code",
   "execution_count": null,
   "metadata": {
    "tags": [
     "Opdracht"
    ]
   },
   "outputs": [],
   "source": [
    "#DEEL A:\n",
    "getal_1 = '25'\n",
    "getal_2 = 36\n",
    "totaal = getal_1 + getal_2\n",
    "\n",
    "print(totaal)"
   ]
  },
  {
   "cell_type": "markdown",
   "metadata": {},
   "source": [
    "#### Deel B:"
   ]
  },
  {
   "cell_type": "code",
   "execution_count": null,
   "metadata": {
    "tags": [
     "Opdracht"
    ]
   },
   "outputs": [],
   "source": [
    "#DEEL B:\n",
    "getal_1 = 25\n",
    "getal_2 = 36\n",
    "totaal = getal_1 + getal_2\n",
    "print( Totaal )"
   ]
  },
  {
   "cell_type": "markdown",
   "metadata": {},
   "source": [
    "#### Deel C:"
   ]
  },
  {
   "cell_type": "code",
   "execution_count": null,
   "metadata": {
    "tags": [
     "Opdracht"
    ]
   },
   "outputs": [],
   "source": [
    "#DEEL C:\n",
    "getal_1 = 25\n",
    "getal_2 = 36\n",
    "totaal = getl_1 + getal_2\n",
    "print( totaal )"
   ]
  },
  {
   "cell_type": "markdown",
   "metadata": {},
   "source": [
    "#### Deel D:"
   ]
  },
  {
   "cell_type": "code",
   "execution_count": null,
   "metadata": {
    "tags": [
     "Opdracht"
    ]
   },
   "outputs": [],
   "source": [
    "#DEEL D:\n",
    "getal_1 = 25\n",
    "getal_2 = 36\n",
    "totaal = getal_1 + getal 2\n",
    "print( totaal )"
   ]
  },
  {
   "cell_type": "markdown",
   "metadata": {},
   "source": [
    "<p>Bekijk <a href=\"Https://course.cs.ru.nl/pythonVO/Teams/IA_uitwerkingen/IA_H3_oplossingen.html#opgave312\" target=\"_blank\">hier</a> de\n",
    "    voorbeelduitwerking.</p>"
   ]
  },
  {
   "cell_type": "markdown",
   "metadata": {},
   "source": [
    "### Opdracht 3.3: Variabele zichzelf laten aanpassen\n",
    "\n",
    "<p>Breid de\n",
    "    onderstaande code uit zodat <code>x</code> zichzelf verdubbelt. Op het scherm\n",
    "    wordt dus 6 geprint.</p>"
   ]
  },
  {
   "cell_type": "code",
   "execution_count": null,
   "metadata": {
    "tags": [
     "Opdracht"
    ]
   },
   "outputs": [],
   "source": [
    "x = 3\n",
    "#schrijf hier de code waarmee x verdubbeld wordt\n",
    "print( x )"
   ]
  },
  {
   "cell_type": "markdown",
   "metadata": {},
   "source": [
    "<p>Bekijk <a href=\"Https://course.cs.ru.nl/pythonVO/Teams/IA_uitwerkingen/IA_H3_oplossingen.html#opgave313\" target=\"_blank\">hier</a> de\n",
    "    voorbeelduitwerking.</p>"
   ]
  },
  {
   "cell_type": "markdown",
   "metadata": {},
   "source": [
    "## 3: Opslaan van een variabele\n",
    "\n",
    "<p>Een veel gemaakte fout is om een variabele aan te passen, maar de nieuwe waarde niet op te slaan.\n",
    "    Bekijk de code hieronder. Wat verwacht je dat de waarde van <code>mijnGeluksgetal</code> na afloop is?</p>\n"
   ]
  },
  {
   "cell_type": "code",
   "execution_count": null,
   "metadata": {},
   "outputs": [],
   "source": [
    "mijnGeluksgetal = 13\n",
    "print( mijnGeluksgetal + 1 )\n",
    "print( mijnGeluksgetal )"
   ]
  },
  {
   "cell_type": "markdown",
   "metadata": {},
   "source": [
    "<p>Zoals je ziet, wordt in de eerste print 14 afgedrukt, maar <code>mijnGeluksgetal</code> zelf is niet veranderd. Er ontbreekt een <code>mijnGeluksgetal = ...</code></p>\n"
   ]
  },
  {
   "cell_type": "markdown",
   "metadata": {},
   "source": [
    "### Opdracht 3.4: Waarde van een variabele aanpassen en opslaan\n",
    "\n",
    "<p>Pas de code aan zodat de waarde van <code>mijnGeluksgetal</code> na afloop 14 is.</p>"
   ]
  },
  {
   "cell_type": "code",
   "execution_count": null,
   "metadata": {
    "tags": [
     "Opdracht"
    ]
   },
   "outputs": [],
   "source": [
    "mijnGeluksgetal = 2\n",
    "mijnGeluksgetal = mijnGeluksgetal + 1\n",
    "print(mijnGeluksgetal)"
   ]
  },
  {
   "cell_type": "markdown",
   "metadata": {},
   "source": [
    "<p>Bekijk <a href=\"Https://course.cs.ru.nl/pythonVO/Teams/IA_uitwerkingen/IA_H3_oplossingen.html#opgave314\" target=\"_blank\">hier</a> de voorbeelduitwerking.</p>\n"
   ]
  },
  {
   "cell_type": "markdown",
   "metadata": {},
   "source": [
    "## 4: Constanten\n",
    "\n",
    "<p><i>Constanten</i> zijn waarden die gedurende een\n",
    "    programma niet veranderen, zoals de minimumleeftijd om een\n",
    "    bepaalde achtbaan in te mogen. Om duidelijk aan te geven dat je de waarde\n",
    "    niet zomaar mag veranderen, geven we dit soort variabelen aan in\n",
    "    HOOFDLETTERS.</p>\n",
    "\n",
    "<p>Andere voorbeelden zijn: <code>PI</code>, <code>MINIMUMLOON</code>, <code>PENSIOENLEEFTIJD</code>.</p>\n",
    "\n",
    "<p>Constanten geef je bovenaan in je code een waarde. In je code gebruik je ze\n",
    "    net als andere variabelen.</p>"
   ]
  },
  {
   "cell_type": "code",
   "execution_count": null,
   "metadata": {},
   "outputs": [],
   "source": [
    "PI = 3.14\n",
    "\n",
    "diameter = 2\n",
    "omtrek_cirkel =  diameter * PI\n",
    "\n",
    "print(omtrek_cirkel)"
   ]
  },
  {
   "cell_type": "markdown",
   "metadata": {},
   "source": [
    "## 5: Code traceren\n",
    "\n",
    "<p>Je kunt analyseren hoe een programma werkt door per regel bij te houden wat de waarden van de variabelen zijn. Dat heet <i>traceren</i>.</p>\n",
    "\n",
    "[![Watch the video](https://img.youtube.com/vi/eoAQKO3n5SY/hqdefault.jpg)](https://www.youtube.com/embed/eoAQKO3n5SY)\n",
    "\n",
    "<p>We geven een voorbeeld hiervan in de code hieronder:</p>\n"
   ]
  },
  {
   "cell_type": "code",
   "execution_count": null,
   "metadata": {},
   "outputs": [],
   "source": [
    "getal1 = 2\n",
    "print(\"getal1:\", getal1)\n",
    "getal2 = 3\n",
    "print(\"getal1:\", getal1, \"getal2:\", getal2)\n",
    "getal3 = getal1 * getal2\n",
    "print(\"getal1:\", getal1, \"getal2:\", getal2, \"getal3:\", getal3)"
   ]
  },
  {
   "cell_type": "markdown",
   "metadata": {},
   "source": [
    "<p>Bij de code hierboven hoort de volgende <i>tracetabel</i>:</p>\n",
    "<p>\n",
    "</p>\n",
    "<table border=\"1\">\n",
    "        <tr>\n",
    "            <th>Code</th>\n",
    "            <th colspan=\"3\">Waarde nadat de opdracht is uitgevoerd</th>\n",
    "        </tr>\n",
    "        <tr>\n",
    "            <td></td>\n",
    "            <td><code>getal1</code></td>\n",
    "            <td><code>getal2</code></td>\n",
    "            <td><code>getal3</code></td>\n",
    "        </tr>\n",
    "        <tr>\n",
    "            <td><code>getal1 = 2</code></td>\n",
    "            <td>2</td>\n",
    "            <td>-</td>\n",
    "            <td>-</td>\n",
    "        </tr>\n",
    "        <tr>\n",
    "            <td><code>getal2 = 3</code></td>\n",
    "            <td>2</td>\n",
    "            <td>3</td>\n",
    "            <td>-</td>\n",
    "        </tr>\n",
    "        <tr>\n",
    "            <td><code>getal3 = getal1 * getal2</code></td>\n",
    "            <td>2</td>\n",
    "            <td>3</td>\n",
    "            <td>6</td>\n",
    "        </tr>\n",
    "</table>\n",
    "<p></p>"
   ]
  },
  {
   "cell_type": "markdown",
   "metadata": {},
   "source": [
    "### Opdracht 3.5: Tracetabel\n",
    "\n",
    "<p>Bepaal, met behulp van een tracetabel, wat de waarden van de drie variabelen zijn na afloop van het volgende programma.</p>\n",
    "\n",
    "<p>Tip: met <code>print</code> kun je tussendoor de variabelen afdrukken om te kijken of je het goed hebt.</p>"
   ]
  },
  {
   "cell_type": "code",
   "execution_count": null,
   "metadata": {
    "tags": [
     "Opdracht"
    ]
   },
   "outputs": [],
   "source": [
    "getal1 = 2\n",
    "getal2 = 3\n",
    "getal3 = getal1 * getal2\n",
    "getal2 = getal3 - getal1\n",
    "getal1 = getal1 + getal2 + getal3\n",
    "getal3 = getal2 * getal1"
   ]
  },
  {
   "cell_type": "markdown",
   "metadata": {},
   "source": [
    "<p>Bekijk <a href=\"Https://course.cs.ru.nl/pythonVO/Teams/IA_uitwerkingen/IA_H3_oplossingen.html#opgave321\" target=\"_blank\">hier</a> de voorbeelduitwerking.</p>\n"
   ]
  },
  {
   "cell_type": "markdown",
   "metadata": {},
   "source": [
    "## 6: Code debuggen\n",
    "\n",
    "\n",
    "<p>Als je gaat programmeren, maak je fouten. Dat hoort erbij. Het opsporen en oplossen van fouten in je code heet <i>debuggen</i>.</p>\n",
    "\n",
    "<p>Om te ontdekken waar het fout gaat, kun je het beste de waarden van variabelen printen in je code. Druk daarbij ook af om welke variabele het gaat. Zo blijft het voor jezelf overzichtelijk.</p>"
   ]
  },
  {
   "cell_type": "code",
   "execution_count": null,
   "metadata": {},
   "outputs": [],
   "source": [
    "getal1 = 2\n",
    "getal2 = 3\n",
    "\n",
    "getal3 = getal1 * getal2\n",
    "print( \"getal1:\", getal1, \"getal2:\", getal2, \"getal3:\", getal3 )\n",
    "\n",
    "getal2 = getal3 - getal1\n",
    "print( \"getal1:\", getal1, \"getal2:\", getal2, \"getal3:\", getal3 )\n",
    "\n",
    "getal1 = getal1 + getal2 + getal3\n",
    "print( \"getal1:\", getal1, \"getal2:\", getal2, \"getal3:\", getal3 )\n",
    "\n",
    "getal3 = getal2 * getal1\n",
    "print( \"getal1:\", getal1, \"getal2:\", getal2, \"getal3:\", getal3 )"
   ]
  },
  {
   "cell_type": "markdown",
   "metadata": {},
   "source": [
    "### Opdracht 3.6: Fout opsporen door waardes te bekijken\n",
    "\n",
    "<p>De code hieronder geeft een foutmelding op regel 7.</p>\n",
    "\n",
    "<p>Wat zijn de waarden van <code>getal1</code>, <code>getal2</code> en <code>getal3</code> op regel 6, vlak voordat de fout gemeld wordt? Druk met <code>print()</code> de waarden af.\n"
   ]
  },
  {
   "cell_type": "code",
   "execution_count": null,
   "metadata": {
    "tags": [
     "Opdracht"
    ]
   },
   "outputs": [],
   "source": [
    "getal1 = 5\n",
    "getal2 = 4\n",
    "getal3 = 2\n",
    "getal1 = getal3 - 1\n",
    "getal1 = getal1 - 1\n",
    "\n",
    "getal3 = getal2 / getal1\n",
    "print(getal3)"
   ]
  },
  {
   "cell_type": "markdown",
   "metadata": {},
   "source": [
    "<p>Bekijk <a href=\"Https://course.cs.ru.nl/pythonVO/Teams/IA_uitwerkingen/IA_H3_oplossingen.html#opgave331\" target=\"_blank\">hier</a> de voorbeelduitwerking.</p>\n"
   ]
  },
  {
   "cell_type": "markdown",
   "metadata": {},
   "source": [
    "### Opdracht 3.7: Fout opsporen door types te bekijken\n",
    "\n",
    "<p>Variabelen hebben een type. Een variabele van een type zal zich misschien anders gedragen dan een variabele van een ander type.\n",
    "    In de code hieronder wordt de optelling (<code>+</code>) twee keer gebruikt, en het effect is afhankelijk van de typen van de variabelen. Met <code>type(a)</code> en <code>type(c)</code> kun je de typen achterhalen.</p>\n"
   ]
  },
  {
   "cell_type": "code",
   "execution_count": null,
   "metadata": {
    "tags": [
     "Opdracht"
    ]
   },
   "outputs": [],
   "source": [
    "a = 1\n",
    "print( \"a:\", a, \"type van a:\", type(a) )\n",
    "b = 4\n",
    "c = \"1\"\n",
    "d = \"4\"\n",
    "print( a + b )\n",
    "print( c + d )"
   ]
  },
  {
   "cell_type": "markdown",
   "metadata": {},
   "source": [
    "<p>Bekijk <a href=\"Https://course.cs.ru.nl/pythonVO/Teams/IA_uitwerkingen/IA_H3_oplossingen.html#opgave332\" target=\"_blank\">hier</a> de voorbeelduitwerking.</p>\n"
   ]
  },
  {
   "cell_type": "markdown",
   "metadata": {},
   "source": [
    "## 7: Verkorte operatoren\n",
    "\n",
    "[![Watch the video](https://img.youtube.com/vi/uzDWNAcyc5s/hqdefault.jpg)](https://www.youtube.com/embed/uzDWNAcyc5s)\n",
    "\n",
    "<p>Door gebruik te maken van <code>+</code>, <code>-</code>, <code>*</code>, <code>/</code> kunnen we rekenen met variabelen. Het komt in code vaak voor dat we 1 willen optellen bij een variabele. Bijvoorbeeld, als we dingen gaan tellen, dan wordt onze teller telkens eentje hoger. Omdat dit zo vaak gebeurt, zijn er verkorte operators: <code>+=</code>, <code>-=</code>, <code>*=</code>, <code>/=</code>.<br>\n",
    "\n",
    "</p>\n",
    "<p><code>score += 1</code> doet hetzelfde als <code>score = score + 1</code> en betekent: <br><i>de nieuwe waarde van score wordt de oude waarde van score plus 1</i>.\n",
    "\n",
    "</p>\n",
    "<p>Bekijk de volgende code:</p>"
   ]
  },
  {
   "cell_type": "code",
   "execution_count": null,
   "metadata": {},
   "outputs": [],
   "source": [
    "aantal_bananen = 100\n",
    "aantal_bananen = aantal_bananen + 1 # aantal_bananen ophogen met één\n",
    "print( aantal_bananen )"
   ]
  },
  {
   "cell_type": "markdown",
   "metadata": {},
   "source": [
    "<p>De code doet hetzelfde als:</p>"
   ]
  },
  {
   "cell_type": "code",
   "execution_count": null,
   "metadata": {},
   "outputs": [],
   "source": [
    "aantal_bananen = 100\n",
    "aantal_bananen += 1 # aantal_bananen ophogen met één\n",
    "print( aantal_bananen )"
   ]
  },
  {
   "cell_type": "markdown",
   "metadata": {},
   "source": [
    "### Opdracht 3.8: Verkorte operatoren\n",
    "\n",
    "<p>Bedenk, zonder de code te runnen, wat de code hieronder print? Maak een tracetabel. Controleer daarna of je gelijk hebt.</p>\n"
   ]
  },
  {
   "cell_type": "code",
   "execution_count": null,
   "metadata": {
    "tags": [
     "Opdracht"
    ]
   },
   "outputs": [],
   "source": [
    "aantal_bananen = 100\n",
    "aantal_bananen += 12\n",
    "aantal_bananen -= 13\n",
    "aantal_bananen *= 19\n",
    "print( aantal_bananen )"
   ]
  },
  {
   "cell_type": "markdown",
   "metadata": {},
   "source": [
    "<p>Bekijk <a href=\"Https://course.cs.ru.nl/pythonVO/Teams/IA_uitwerkingen/IA_H3_oplossingen.html#opgave341\" target=\"_blank\">hier</a> de voorbeelduitwerking.</p>\n"
   ]
  },
  {
   "cell_type": "markdown",
   "metadata": {},
   "source": [
    "### Opdracht 3.9: Omschrijven met een verkorte operator\n",
    "\n",
    "<p>Herschrijf de code zodat deze gebruik maakt van een verkorte operator.</p>\n"
   ]
  },
  {
   "cell_type": "code",
   "execution_count": null,
   "metadata": {
    "tags": [
     "Opdracht"
    ]
   },
   "outputs": [],
   "source": [
    "aantal_meters = 100\n",
    "aantal_meters = aantal_meters + 50"
   ]
  },
  {
   "cell_type": "markdown",
   "metadata": {},
   "source": [
    "<p>Bekijk <a href=\"Https://course.cs.ru.nl/pythonVO/Teams/IA_uitwerkingen/IA_H3_oplossingen.html#opgave343\" target=\"_blank\">hier</a> de voorbeelduitwerking.</p>\n"
   ]
  },
  {
   "cell_type": "markdown",
   "metadata": {},
   "source": [
    "### Opdracht 3.10: Score aanpassen\n",
    "\n",
    "<p>Stel je speelt een spelletje. Je score is nu 120 punten. Je pakt een muntje op waarmee je score verhoogd wordt met 10 punten. Daarna zet je een stap waarmee je score met 1 punt omlaag gaat.</p>\n",
    "\n",
    "<p>Pas de code hieronder aan zodat je eindscore berekend en geprint wordt. Gebruik hiervoor de verkorte operatoren. Voeg met # commentaar toe aan de regels die je toevoegt.</p>\n"
   ]
  },
  {
   "cell_type": "code",
   "execution_count": null,
   "metadata": {
    "tags": [
     "Opdracht"
    ]
   },
   "outputs": [],
   "source": [
    "score = 120\n",
    "\n",
    "print( score )"
   ]
  },
  {
   "cell_type": "markdown",
   "metadata": {},
   "source": [
    "<p>Bekijk <a href=\"Https://course.cs.ru.nl/pythonVO/Teams/IA_uitwerkingen/IA_H3_oplossingen.html#opgave343\" target=\"_blank\">hier</a> de voorbeelduitwerking.</p>\n"
   ]
  },
  {
   "cell_type": "markdown",
   "metadata": {},
   "source": [
    "## 8: Standaardfuncties\n",
    "\n",
    "[![Watch the video](https://img.youtube.com/vi/-TYxqlmCSsw/hqdefault.jpg)](https://www.youtube.com/embed/-TYxqlmCSsw)\n",
    "\n",
    "<p>Python heeft een paar handige standaardfuncties:</p>\n",
    "<p><b>De grootste: max()</b></p>\n",
    "<p>Met <code>max()</code> krijg je het grootste van een aantal getallen:</p>"
   ]
  },
  {
   "cell_type": "code",
   "execution_count": null,
   "metadata": {},
   "outputs": [],
   "source": [
    "grootste = max( 3, 5, 4 )\n",
    "print(grootste)"
   ]
  },
  {
   "cell_type": "markdown",
   "metadata": {},
   "source": [
    "<p><b>De kleinste: min()</b></p>\n",
    "<p>Met <code>min()</code> krijg je het kleinste van een aantal getallen:</p>"
   ]
  },
  {
   "cell_type": "code",
   "execution_count": null,
   "metadata": {},
   "outputs": [],
   "source": [
    "kleinste = min( 3, 5, 4 )\n",
    "print(kleinste)"
   ]
  },
  {
   "cell_type": "markdown",
   "metadata": {},
   "source": [
    "<p><b>De macht: pow()</b></p>\n",
    "<p>Met <code>pow()</code> bereken je een getal (de eerste parameter) tot de macht van een ander getal (de tweede parameter):</p>\n"
   ]
  },
  {
   "cell_type": "code",
   "execution_count": null,
   "metadata": {},
   "outputs": [],
   "source": [
    "macht = pow(2,4) #2 tot de macht 4\n",
    "print( macht )"
   ]
  },
  {
   "cell_type": "markdown",
   "metadata": {},
   "source": [
    "<p><b>Afronden: round()</b></p>\n",
    "<p>Met <code>round()</code> rond je een getal af. Tussen de haakjes geef je eerst het getal en daarna op hoeveel cijfers achter de komma je het wilt afronden:</p>\n"
   ]
  },
  {
   "cell_type": "code",
   "execution_count": null,
   "metadata": {},
   "outputs": [],
   "source": [
    "afgerond = round(3.14342, 2)  #afronden op 2 cijfers achter de komma\n",
    "print( afgerond )"
   ]
  },
  {
   "cell_type": "markdown",
   "metadata": {},
   "source": [
    "<p><b>Positief getal maken: abs()</b></p>\n",
    "<p>Met <code>abs()</code> maak je van elk getal een positief getal.</p>\n"
   ]
  },
  {
   "cell_type": "code",
   "execution_count": null,
   "metadata": {},
   "outputs": [],
   "source": [
    "positief = abs( -4.3 )\n",
    "print(positief)"
   ]
  },
  {
   "cell_type": "markdown",
   "metadata": {},
   "source": [
    "<p><b>Lengte bepalen: len()</b></p>\n",
    "<p>Met <code>len()</code> bepaal je uit hoeveel elementen (of tekens) iets bestaat.</p>\n"
   ]
  },
  {
   "cell_type": "code",
   "execution_count": null,
   "metadata": {},
   "outputs": [],
   "source": [
    "telefoonnr_lengte = len( \"0612345678\" )\n",
    "print( telefoonnr_lengte )"
   ]
  },
  {
   "cell_type": "markdown",
   "metadata": {},
   "source": [
    "### Opdracht 3.11: Berekeningen\n",
    "\n",
    "<p>Bekijk de code hieronder en bedenk wat er op het scherm geprint wordt. Voer daarna de code uit en controleer of je gelijk hebt.</p>\n"
   ]
  },
  {
   "cell_type": "code",
   "execution_count": null,
   "metadata": {
    "tags": [
     "Opdracht"
    ]
   },
   "outputs": [],
   "source": [
    "x = -2\n",
    "y = 3\n",
    "z = 1.27\n",
    "\n",
    "print( abs( x ) )\n",
    "print( max( x, y, z ) )\n",
    "print( min( x, y, z ) )\n",
    "print( pow( x, y ) )\n",
    "print( round( z, 1 ) )"
   ]
  },
  {
   "cell_type": "markdown",
   "metadata": {},
   "source": [
    "<p>Bekijk <a href=\"Https://course.cs.ru.nl/pythonVO/Teams/IA_uitwerkingen/IA_H3_oplossingen.html#opgave351\" target=\"_blank\">hier</a> de voorbeelduitwerking.</p>\n"
   ]
  },
  {
   "cell_type": "markdown",
   "metadata": {},
   "source": [
    "### Opdracht 3.12: Hoeveel kost een Mars\n",
    "\n",
    "<p>Een verpakking met drie Mars-repen kost 2,00 Euro. Bepaal hoeveel een Mars kost. Rond je antwoord af op hele centen, dus twee cijfers achter de komma. Druk de prijs van een Mars af.</p>\n"
   ]
  },
  {
   "cell_type": "code",
   "execution_count": null,
   "metadata": {
    "tags": [
     "Opdracht"
    ]
   },
   "outputs": [],
   "source": []
  },
  {
   "cell_type": "markdown",
   "metadata": {},
   "source": [
    "<p>Bekijk <a href=\"Https://course.cs.ru.nl/pythonVO/Teams/IA_uitwerkingen/IA_H3_oplossingen.html#opgave353\" target=\"_blank\">hier</a> de voorbeelduitwerking.</p>\n"
   ]
  },
  {
   "cell_type": "markdown",
   "metadata": {},
   "source": [
    "### Opdracht 3.13: Hoogste temperatuur\n",
    "\n",
    "<p>Voeg hieronder een regel code toe zodat de hoogste temperatuur <code>hoogste_temp</code> bepaald wordt.</p>\n"
   ]
  },
  {
   "cell_type": "code",
   "execution_count": null,
   "metadata": {
    "tags": [
     "Opdracht"
    ]
   },
   "outputs": [],
   "source": [
    "temp_gisteren = 23\n",
    "temp_vandaag = 28\n",
    "#voeg hier een regel code toe\n",
    "\n",
    "print( \"De hoogste temperatuur is:\", hoogste_temp )"
   ]
  },
  {
   "cell_type": "markdown",
   "metadata": {},
   "source": [
    "<p>Bekijk <a href=\"Https://course.cs.ru.nl/pythonVO/Teams/IA_uitwerkingen/IA_H3_oplossingen.html#opgave352\" target=\"_blank\">hier</a> de voorbeelduitwerking.</p>\n"
   ]
  },
  {
   "cell_type": "markdown",
   "metadata": {},
   "source": [
    "### Opdracht 3.14: Controle ingevoerde gebruikersnaam\n",
    "\n",
    "<p>Om sommige spelletjes te spelen moet je je naam opgeven. We willen weten of iemand wel echt iets invult of alleen maar een willekeurige letter. Vraag de gebruiker om zijn gebruikersnaam. Druk dan af uit hoeveel tekens de opgegeven naam bestaat.</p>\n"
   ]
  },
  {
   "cell_type": "code",
   "execution_count": null,
   "metadata": {
    "tags": [
     "Opdracht"
    ]
   },
   "outputs": [],
   "source": []
  },
  {
   "cell_type": "markdown",
   "metadata": {},
   "source": [
    "<p>Bekijk <a href=\"https://course.cs.ru.nl/pythonVO/Teams/IA_uitwerkingen/IA_H3_oplossingen.html#opgave354\" target=\"_blank\">hier</a> de voorbeelduitwerking.</p>\n"
   ]
  },
  {
   "cell_type": "markdown",
   "metadata": {},
   "source": [
    "## 9: Random (willekeurige) getallen\n",
    "\n",
    "[![Watch the video](https://img.youtube.com/vi/kbqZGB4SONo/hqdefault.jpg)](https://www.youtube.com/embed/kbqZGB4SONo)\n",
    "\n",
    "<p>Een spelletje wordt pas leuk als het een beetje onvoorspelbaar wordt. Python heeft een <code>random</code> module waarmee je willekeurige getallen kan maken. Om deze module te gebruiken moet je <code>import random</code> bovenaan je code zetten en <code>random</code> voor de functie benoemen.</p>\n",
    "\n",
    "\n",
    "<p>De functie <code>randint()</code> geeft een willekeurige <code>int</code> (geheel getal) tussen de twee getallen die je tussen de haakjes meegeeft. De getallen die je meegeeft, doen ook mee.</p>\n"
   ]
  },
  {
   "cell_type": "code",
   "execution_count": null,
   "metadata": {},
   "outputs": [],
   "source": [
    "import random\n",
    "\n",
    "willekeurige_getal = random.randint( 2, 5 )\t\t      # levert 2,3,4,5 met een gelijke kans op\n",
    "print( \"Een willekeurig getal tussen 2 en 5 is\", willekeurige_getal )"
   ]
  },
  {
   "cell_type": "markdown",
   "metadata": {},
   "source": [
    "<p>De functie <code>random()</code> geeft een willekeurige <code>float</code> (kommagetal) tussen 0 en 1 (waarbij 0.0 wel meedoet, maar 1.0 niet):</p>\n"
   ]
  },
  {
   "cell_type": "code",
   "execution_count": null,
   "metadata": {},
   "outputs": [],
   "source": [
    "import random\n",
    "\n",
    "willekeurige_kommagetal = random.random()\n",
    "print( willekeurige_kommagetal )"
   ]
  },
  {
   "cell_type": "markdown",
   "metadata": {},
   "source": [
    "### Opdracht 3.15: Dobbelsteen\n",
    "\n",
    "<p>Maak een dobbelsteen!</p>\n",
    "<p>Maak een variabele <code>dobbelsteen</code> en geef die een willekeurig getal tussen 1 en 6. Druk de variabele <code>dobbelsteen</code> af.</p>\n"
   ]
  },
  {
   "cell_type": "code",
   "execution_count": null,
   "metadata": {
    "tags": [
     "Opdracht"
    ]
   },
   "outputs": [],
   "source": [
    "import random\n",
    "\n",
    "\n",
    "\n",
    "\n",
    "\n",
    "\n",
    "\n"
   ]
  },
  {
   "cell_type": "markdown",
   "metadata": {},
   "source": [
    "<p>Bekijk <a href=\"Https://course.cs.ru.nl/pythonVO/Teams/IA_uitwerkingen/IA_H3_oplossingen.html#opgave361\" target=\"_blank\">hier</a> de voorbeelduitwerking.</p>\n"
   ]
  },
  {
   "cell_type": "markdown",
   "metadata": {},
   "source": [
    "## Onderwerp 3: Afsluitende opdrachten\n",
    "\n",
    "<p>Met de volgende afsluitende opdrachten kun je kijken hoe goed je de stof beheerst. Controleer steeds je eigen oplossing met de voorbeeldoplossing.</p>\n"
   ]
  },
  {
   "cell_type": "markdown",
   "metadata": {},
   "source": [
    "### Afsluitende opdracht 3.1: Gemiddelde berekenen\n",
    "\n",
    "<p>Schrijf een programma dat de gebruiker om drie getallen vraagt, het gemiddelde van die drie getallen berekent, en daarna afdrukt: \"Het gemiddelde is...\". Er is al een begin voor je gemaakt.</p>\n"
   ]
  },
  {
   "cell_type": "code",
   "execution_count": null,
   "metadata": {
    "tags": [
     "Opdracht"
    ]
   },
   "outputs": [],
   "source": [
    "print( \"Geef een getal:\" )\n",
    "invoer = input()\n",
    "getal1 = int(invoer)"
   ]
  },
  {
   "cell_type": "markdown",
   "metadata": {},
   "source": [
    "<p>Bekijk <a href=\"Https://course.cs.ru.nl/pythonVO/Teams/IA_uitwerkingen/IA_H3_oplossingen.html#AfOpgave31\" target=\"_blank\">hier</a> de voorbeelduitwerking.</p>\n"
   ]
  },
  {
   "cell_type": "markdown",
   "metadata": {},
   "source": [
    "### Afsluitende opdracht 3.2: Temperatuur\n",
    "\n",
    "<p>Je hebt een penvriend in Amerika. Hij schrijft dat het bij hem 90 graden is! Stomverbaasd hoe het zo warm kan zijn, vraag je hulp aan het internet. Je komt erachter dat hij praat over temperatuur in Fahrenheit, terwijl jij dacht aan graden Celsius. Om goed met elkaar te kunnen praten over het weer, besluit jij een programma te maken dat Fahrenheit in Celsius kan omzetten. Hier zijn de formules voor het omrekenen:<br></p>\n",
    "\n",
    "<p><code>Celsius = (Fahrenheit - 32) * 5/9</code></p>\n",
    "\n",
    "<p>Schrijf een programma dat een temperatuur in Fahrenheit omrekent naar Celsius. Rond af op 1 decimaal.</p>\n",
    "<p>Druk dit netjes af met een volzin, zoals:</p>\n",
    "<p><i>90 graden Fahrenheit is 32.2 graden Celsius.</i></p>\n"
   ]
  },
  {
   "cell_type": "code",
   "execution_count": null,
   "metadata": {
    "tags": [
     "Opdracht"
    ]
   },
   "outputs": [],
   "source": []
  },
  {
   "cell_type": "markdown",
   "metadata": {},
   "source": [
    "<p>Bekijk <a href=\"Https://course.cs.ru.nl/pythonVO/Teams/IA_uitwerkingen/IA_H3_oplossingen.html#AfOpgave32\" target=\"_blank\">hier</a> de voorbeelduitwerking.</p>\n"
   ]
  },
  {
   "cell_type": "markdown",
   "metadata": {},
   "source": [
    "### Afsluitende opdracht 3.3: Verwisseltruc\n",
    "\n",
    "<p>Kun je een manier bedenken om de inhoud van twee variabelen om te wisselen? Je mag een derde hulpvariabele gebruiken.</p>\n"
   ]
  },
  {
   "cell_type": "code",
   "execution_count": null,
   "metadata": {
    "tags": [
     "Opdracht"
    ]
   },
   "outputs": [],
   "source": [
    "beker1 = \"cola\"\n",
    "beker2 = \"sinas\"\n",
    "\n",
    "\n",
    "print(\"nu heeft beker1:\", beker1, \"en beker2:\", beker2)"
   ]
  },
  {
   "cell_type": "markdown",
   "metadata": {},
   "source": [
    "<p>Bekijk <a href=\"Https://course.cs.ru.nl/pythonVO/Teams/IA_uitwerkingen/IA_H3_oplossingen.html#AfOpgave33\" target=\"_blank\">hier</a> de voorbeelduitwerking.</p>\n"
   ]
  },
  {
   "cell_type": "markdown",
   "metadata": {},
   "source": [
    "### Afsluitende opdracht 3.4: Zielenknijper\n",
    "\n",
    "</p>\n",
    "<p>Schrijf een programma waarin je een gesprekje met een gebruiker kunt voeren. Het programma moet interactief zijn en minstens vijf vragen bevatten.\n",
    "    Een voorbeeld van hoe zo'n gesprekje eruit kan zien:</p>\n",
    "<p>    \n",
    "    <i>\n",
    "        \"Hallo, ik ben dr. Zielenknijper. Welkom. Mag ik je naam weten?\"<br>\n",
    "    </i>\n",
    "    <i>\n",
    "        \"Dag, ... \"<br>\n",
    "    </i>\n",
    "    <i>\n",
    "        \"Hoe oud ben jij?\"<br>\n",
    "    </i>\n",
    "    <i>\n",
    "        \"Je bent al ... jaar oud.\"<br>\n",
    "    </i>\n",
    "    <i>\n",
    "        \"Waar wil je met mij over praten?\"<br>\n",
    "    <i>\n",
    "        \"Zo, wil je me vertellen wat je boeit aan ...\"<br>\n",
    "    </i>\n",
    "    <i>\n",
    "        \"Hmm, vertel verder\"<br>\n",
    "    </i>\n",
    "        ... enzovoorts\n",
    "</p>"
   ]
  },
  {
   "cell_type": "code",
   "execution_count": null,
   "metadata": {
    "tags": [
     "Opdracht"
    ]
   },
   "outputs": [],
   "source": []
  },
  {
   "cell_type": "markdown",
   "metadata": {},
   "source": [
    "<p>Bekijk <a href=\"Https://course.cs.ru.nl/pythonVO/Teams/IA_uitwerkingen/IA_H3_oplossingen.html#AfOpgave34\" target=\"_blank\">hier</a> de voorbeelduitwerking.</p>\n"
   ]
  },
  {
   "cell_type": "markdown",
   "metadata": {},
   "source": [
    "### Afsluitende opdracht 3.5: Kortingsrad\n",
    "\n",
    "<p>Bij een online winkel mag je draaien aan een rad om te bepalen hoeveel korting je krijgt.</p>\n",
    "\n",
    "<p>Schrijf een programma dat de gebruiker om zijn aankoopbedrag vraagt, dan een willekeurige korting tussen de 0% en 25% bepaalt en het nieuwe bedrag print.</p>\n",
    "<p>Tips:\n",
    "</p>\n",
    "<ul>\n",
    "    <li>Gebruik <code>randomint</code> uit de module <code>random</code> om een willekeurig getal tussen de 0 en 25 te maken.\n",
    "    </li>\n",
    "    <li>Het bedrag met korting bereken je zo: <br><code>nieuw_bedrag = bedrag * (1 - kortingspercentage/100)</code>.\n",
    "    </li>\n",
    "    <li>Rond het nieuwe bedrag af op twee decimalen met <code>round()</code>.<p></p>\n",
    "    </li>\n",
    "</ul>\n",
    "<p></p>"
   ]
  },
  {
   "cell_type": "code",
   "execution_count": null,
   "metadata": {
    "tags": [
     "Opdracht"
    ]
   },
   "outputs": [],
   "source": []
  },
  {
   "cell_type": "markdown",
   "metadata": {},
   "source": [
    "<p>Bekijk <a href=\"Https://course.cs.ru.nl/pythonVO/Teams/IA_uitwerkingen/IA_H3_oplossingen.html#AfOpgave35\" target=\"_blank\">hier</a> de voorbeelduitwerking.</p>\n"
   ]
  },
  {
   "cell_type": "markdown",
   "metadata": {},
   "source": [
    "### Afsluitende opdracht 3.6: Bitcoins\n",
    "\n",
    "<p>Op 28 april 2024 was een bitcoin 59.545,19 euro waard.</p>\n",
    "\n",
    "<p>Schrijf een programma dat berekent hoeveel bitcoins je met een bepaald bedrag kan kopen:\n",
    "</p>\n",
    "<ol>\n",
    "    <li> Gebruik een constante om de waarde van de bitcoin op te slaan. Denk aan hoofdletters.\n",
    "    </li>\n",
    "    <li> Vraag de gebruiker hoeveel euro die te besteden heeft en sla dit op in een variabele.\n",
    "    </li>\n",
    "    <li> Reken dit bedrag om naar bitcoins. Gebruik hiervoor de variabelen/constanten. Hint: gebruik <code>round()</code> om het resultaat af te ronden op twee cijfers achter de komma.\n",
    "    </li>\n",
    "    <li> Druk dit netjes af met een volzin, zoals: <i>Met 40000 euro kun je 2.06 bitcoins kopen.</i>\n",
    "    </li>\n",
    "    <li> Voeg ook commentaar toe.\n",
    "    </li>\n",
    "</ol>\n",
    "<p></p>"
   ]
  },
  {
   "cell_type": "code",
   "execution_count": null,
   "metadata": {
    "tags": [
     "Opdracht"
    ]
   },
   "outputs": [],
   "source": [
    "# 1 bitcoin is 59.545,19 euro waard"
   ]
  },
  {
   "cell_type": "markdown",
   "metadata": {},
   "source": [
    "<p>Bekijk <a href=\"Https://course.cs.ru.nl/pythonVO/Teams/IA_uitwerkingen/IA_H3_oplossingen.html#AfOpgave36\" target=\"_blank\">hier</a> de voorbeelduitwerking.</p>\n"
   ]
  }
 ],
 "metadata": {
  "kernelspec": {
   "display_name": "Python 3",
   "language": "python",
   "name": "python3"
  },
  "language_info": {
   "name": "python",
   "version": "3.12.2"
  }
 },
 "nbformat": 4,
 "nbformat_minor": 2
}
