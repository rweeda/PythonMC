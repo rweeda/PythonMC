{
 "cells": [
  {
   "cell_type": "markdown",
   "metadata": {},
   "source": [
    "# Hoofdstuk 10 - Plannen met lijsten\n",
    "\n",
    "<p>In dit hoofdstuk staan we stil bij een aantal vaak voorkomende algoritmen of <i>plannen</i>. Deze plannen worden vaak samengevoegd en aangepast om andere problemen op te lossen. Door ze te herkennen en toe te passen zal je zelf makkelijker grotere programma's\n",
    "    kunnen schrijven. Voor sommige van deze algoritmen kent Python standaardfuncties. Het gaat er nu juist om dat je leert nadenken over hoe zo'n algoritme werkt en dus <b>juist niet</b>&nbsp;over het aanroepen van een bestaande functie.</p>\n",
    "\n",
    "<p>Met een <code>for</code>-loop kun je makkelijk door de elementen van een lijst heen lopen. Eén voor één wordt elk element uit de lijst in een variabele opgeslagen. In de code van de for-loop kan je dan iets met die variabele doen. </p>\n",
    "\n",
    "\n",
    "<p>In dit onderwerp:</p>\n",
    "<ul>\n",
    "    <li> leer je met een <code>for</code>-loop een lijst doorlopen;</li>\n",
    "    <li> leer je zoeken: met een <code>for</code>-loop kijken of een bepaalde waarde in de lijst voorkomt en waar die voorkomt;</li>\n",
    "    <li> leer je filteren: gegeven een lijst een nieuwe opleveren met bepaalde waarden daaruit weggelaten;</li>\n",
    "    <li> leer je voorkomens tellen: met een <code>for</code>-loop het aantal voorkomens in een lijst tellen;</li>\n",
    "    <li> leer je met een <code>for</code>-loop de grootste en kleinste waarde van een lijst bepalen;</li>\n",
    "    <li> leer je met een <code>for</code>-loop de som van alle waarden van een lijst bepalen.</li>\n",
    "</ul>\n",
    "<div class=\"fa fa-clock-o fa-3x\"></div>Verwerkingstijd: <b>2 uur</b>"
   ]
  },
  {
   "cell_type": "markdown",
   "metadata": {},
   "source": [
    "## 1: Lijsten met for-loop doorlopen (herhaling)\n",
    "\n",
    "[![Watch the video](https://img.youtube.com/vi/j2epbJ5DAeo/hqdefault.jpg)](https://www.youtube.com/embed/j2epbJ5DAeo)\n",
    "\n",
    "\n",
    "<p>Met een <code>for</code>-loop kun je makkelijk door de elementen van een lijst heen lopen. Eén voor één wordt elk element uit de lijst in een variabele opgeslagen. In de code van de <code>for</code>-loop kan je dan iets met die variabele doen.</p>\n",
    "\n",
    "<p>Hieronder zie je een voorbeeld waarbij we alle elementen van de lijst <code>fruitlijst</code> doorlopen. Eén voor één wordt elk element opgeslagen in een variabele <code>fruit</code> die we vervolgens afdrukken:</p>\n",
    "\n"
   ]
  },
  {
   "cell_type": "code",
   "execution_count": null,
   "metadata": {},
   "outputs": [],
   "source": [
    "fruitlijst  = [\"banaan\", \"appel\", \"wortel\", \"druif\", \"peer\"]\n",
    "\n",
    "for fruit in fruitlijst:\n",
    "\tprint( fruit )"
   ]
  },
  {
   "cell_type": "markdown",
   "metadata": {},
   "source": [
    "\n",
    "### Opdracht 10.1 Weekend!\n",
    "<p>Het onderstaande programma doorloopt een lijst met dagen en print <i>Vandaag is het ... dus het is weekend!</i> als het een zaterdag of zondag tegenkomt. Helaas staan de regels code in de verkeerde volgorde. Kan jij de regels op de juiste volgorde zetten?</p>\n",
    "\n"
   ]
  },
  {
   "cell_type": "code",
   "execution_count": null,
   "metadata": {},
   "outputs": [],
   "source": [
    "\tif( dag == \"za\" or dag == \"zo\"):\n",
    "dagenlijst = [\"ma\", \"di\", \"wo\", \"do\", \"vr\", \"za\", \"zo\"]\n",
    "\t\tprint(\"Vandaag is het\", dag, \"dus het is weekend!\")\n",
    "for dag in dagenlijst:"
   ]
  },
  {
   "cell_type": "markdown",
   "metadata": {},
   "source": [
    "<p>Bekijk <a href=\"https://course.cs.ru.nl/pythonVO/Teams/IA_uitwerkingen/IA_H10_oplossingen.html#opgave1011\" target=\"_blank\">hier</a> de voorbeelduitwerking.</p>\n",
    "\n"
   ]
  },
  {
   "cell_type": "markdown",
   "metadata": {},
   "source": [
    "\n",
    "### Opdracht 10.2 Let op voor de onvoldoendes\n",
    "<p>Schrijf een programma dat een cijferlijst doorloopt en voor elke onvoldoende de tekst <i>Let op: een ... is onvoldoende!</i> print. Een 5 of lager is onvoldoende. Op de plek van ... komt het cijfer te staan.</p>\n",
    "\n",
    "<p>Bijvoorbeeld, bij de cijferlijst <code>[8.2, 6.2, 5.0, 4.9, 7.1]</code> wordt geprint:</p>\n",
    "<p><i>Let op: een 5.0 is onvoldoende!</i></p>\n",
    "<p><i>Let op: een 4.9 is onvoldoende!</i></p>\n",
    "\n",
    "\n",
    "\n",
    "\n"
   ]
  },
  {
   "cell_type": "code",
   "execution_count": null,
   "metadata": {},
   "outputs": [],
   "source": [
    "cijferlijst = [8.2, 6.2, 5.0, 4.9, 7.1]\n"
   ]
  },
  {
   "cell_type": "markdown",
   "metadata": {},
   "source": [
    "<p>Bekijk <a href=\"https://course.cs.ru.nl/pythonVO/Teams/IA_uitwerkingen/IA_H10_oplossingen.html#opgave1012\" target=\"_blank\">hier</a> de voorbeelduitwerking.</p>"
   ]
  },
  {
   "cell_type": "markdown",
   "metadata": {},
   "source": [
    "## 2: Waarderen uit een lijst filteren\n",
    "\n",
    "\n",
    "[![Watch the video](https://img.youtube.com/vi/5UemeYRqX7A/hqdefault.jpg)](https://www.youtube.com/embed/5UemeYRqX7A)\n",
    "\n",
    "\n",
    "\n",
    "<p>Soms wil je alleen bepaalde waarden uit een lijst hebben, bijvoorbeeld alle getallen, behalve 0. Dat noemen we <i>filteren</i>. Je maakt een nieuwe lege lijst aan en vul je aan met de waarden die je wilt behouden.</p>\n",
    "<p>In het voorbeeld hieronder maken we een nieuwe lijst aan:&nbsp;<code>weekdagenlijst</code>. We doorlopen de lijst <code>dagenlijst</code>. Als we een dag tegenkomen die niet in het weekend valt, dan voegen we die aan <code>weekdagenlijst</code> toe. Na afloop zijn er dus twee lijsten: de originele <code>dagenlijst</code> met alle dagen en een nieuwe <code>weekdagenlijst</code> met alleen de weekdagen.</p>\n",
    "<p><img src=\"https://course.cs.ru.nl/pythonVO/img/10.2FilterWeekendenEruit_Stroomdiagram.png\" alt=\"Figuur: Stroomdiagram waarden eruit filteren\" width=\"400\"></p>\n",
    "\n",
    "\n"
   ]
  },
  {
   "cell_type": "code",
   "execution_count": null,
   "metadata": {},
   "outputs": [],
   "source": [
    "dagenlijst = [\"ma\", \"di\", \"wo\", \"do\", \"vr\", \"za\", \"zo\"]\t#alle dagen van de week\n",
    "\n",
    "weekdagenlijst = []\t#lege lijst\n",
    "\n",
    "for dag in dagenlijst:\n",
    "\tif( dag != \"za\" and dag != \"zo\"): #als het geen van beide weekenddagen is\n",
    "\t\tweekdagenlijst.append( dag )\t#voeg dag toe aan weekdagenlijst\n",
    "\n",
    "print(\"Lijst met weekdagen: \", weekdagenlijst)"
   ]
  },
  {
   "cell_type": "markdown",
   "metadata": {},
   "source": [
    "\n",
    "### Opdracht 10.3 Weg met de onvoldoendes\n",
    "<p>De functie hieronder heeft als doel om alle onvoldoendes uit een lijst te filteren. Zij krijgt een lijst als parameter binnen en levert een nieuwe lijst op, zonder onvoldoendes erin. Maar de coderegels staan in de verkeerde volgorde. Kun je het programma fixen?</p>\n",
    "\n",
    "\n",
    "\n"
   ]
  },
  {
   "cell_type": "code",
   "execution_count": null,
   "metadata": {},
   "outputs": [],
   "source": [
    "### FUNCTIEDEFINITIE\n",
    "\treturn lijst_zonder_onvoldoendes\n",
    "\t\tif cijfer > 5.0:\n",
    "\tfor cijfer in lijst_met_onvoldoendes:\n",
    "\tlijst_zonder_onvoldoendes = []\t\n",
    "\t\t\tlijst_zonder_onvoldoendes.append( cijfer )\n",
    "def geefLijstZonderOnvoldoende( lijst_met_onvoldoendes ):\t\n",
    "\t\n",
    "### HOOFDPROGRAMMA\n",
    "print( nieuwelijst )\n",
    "cijferlijst = [8.2, 6.2, 5.0, 4.9, 7.1]\n",
    "nieuwelijst = geefLijstZonderOnvoldoende( cijferlijst )"
   ]
  },
  {
   "cell_type": "markdown",
   "metadata": {},
   "source": [
    "<p>Bekijk <a href=\"https://course.cs.ru.nl/pythonVO/Teams/IA_uitwerkingen/IA_H10_oplossingen.html#opgave1021\" target=\"_blank\">hier</a> de voorbeelduitwerking.</p>\n",
    "\n"
   ]
  },
  {
   "cell_type": "markdown",
   "metadata": {},
   "source": [
    "\n",
    "### Opdracht 10.4 Alleen vorstdagen\n",
    "<p>De KNMI houdt dagelijks de temperaturen bij in een lijst, maar is alleen geïnteresseerd in de vorstdagen, dus met temperatuur onder 0. Schrijf een functie die een temperaturenlijst binnenkrijgt als parameter en een lijst met alleen negatieve temperaturen oplevert. Roep de functie in je hoofdprogramma aan en print ter controle de opgeleverde lijst.</p>\n",
    "\n"
   ]
  },
  {
   "cell_type": "code",
   "execution_count": null,
   "metadata": {},
   "outputs": [],
   "source": [
    "### FUNCTIEDEFINITIE\n",
    "\n",
    "\n",
    "\n",
    "\n",
    "\n",
    "\n",
    "### HOOFDPROGRAMMA\n",
    "temperatuurlijst = [ -2.2, 3.1, 0.0, -0.4, 0.2]\n",
    "\n"
   ]
  },
  {
   "cell_type": "markdown",
   "metadata": {},
   "source": [
    "\n",
    "<p>Bekijk <a href=\"https://course.cs.ru.nl/pythonVO/Teams/IA_uitwerkingen/IA_H10_oplossingen.html#opgave1022\" target=\"_blank\">hier</a> de voorbeelduitwerking.</p>"
   ]
  },
  {
   "cell_type": "markdown",
   "metadata": {},
   "source": [
    "## 3: Aantal voorkomens in een lijst tellen\n",
    "\n",
    "[![Watch the video](https://img.youtube.com/vi/Bvc1aIbcj84/hqdefault.jpg)](https://www.youtube.com/embed/Bvc1aIbcj84)\n",
    "\n",
    "\n",
    "<p>Wil je tellen hoe vaak iets voorkomt in een lijst, dan moet je een teller bijhouden. Doorloop de lijst. Elke keer als je het gezochte element tegenkomt, hoog je de teller op. Bekijk het voorbeeld hieronder waarbij we tellen hoeveel vorstdagen er zijn (temperaturen onder de 0):</p>\n",
    "\n",
    "<p><img src=\"https://course.cs.ru.nl/pythonVO/img/Python_H103-voorkomensTellen_stroomdiagram.jpg\" alt=\"Figuur: Stroomdiagram voorkomens tellen\" width=\"400\"></p>\n",
    "\n",
    "\n",
    "\n",
    "\n",
    "\n",
    "\n"
   ]
  },
  {
   "cell_type": "code",
   "execution_count": null,
   "metadata": {},
   "outputs": [],
   "source": [
    "temperatuurlijst = [1.0, 4.0, 2.2, -1.3, -0.1, 1.9, -2.2]\n",
    "\n",
    "vorst_teller = 0\t\t#teller begint op 0\n",
    "for temperatuur in temperatuurlijst:\n",
    "\tif temperatuur < 0.0:\n",
    "\t\tvorst_teller += 1\t#teller ophogen zodra element gevonden is\n",
    "\t\t\n",
    "print(\"Aantal dagen vorst is:\", vorst_teller)"
   ]
  },
  {
   "cell_type": "markdown",
   "metadata": {},
   "source": [
    "\n",
    "### Opdracht 10.5 Vijf-sterrenhotels tellen\n",
    "<p>Amsterdam heeft heel veel hotels. In een lijst wordt bijgehouden hoeveel sterren elk hotel heeft. Schrijf een programma dat telt hoeveel vijf-sterrenhotels er zijn. Druk dit aantal af.</p>\n",
    "\n"
   ]
  },
  {
   "cell_type": "code",
   "execution_count": null,
   "metadata": {},
   "outputs": [],
   "source": [
    "hotellijst = [ \"**\", \"*\", \"***\", \"***\", \"**\", \"*****\", \"****\", \"*****\", \"**\", \"****\", \"*****\"]\n"
   ]
  },
  {
   "cell_type": "markdown",
   "metadata": {},
   "source": [
    "\n",
    "<p>Bekijk <a href=\"https://course.cs.ru.nl/pythonVO/Teams/IA_uitwerkingen/IA_H10_oplossingen.html#opgave1031\" target=\"_blank\">hier</a> de voorbeelduitwerking.</p>"
   ]
  },
  {
   "cell_type": "markdown",
   "metadata": {},
   "source": [
    "## 4: Lijst doorzoeken\n",
    "\n",
    "\n",
    "[![Watch the video](https://img.youtube.com/vi/9UTNq-tVYYM/hqdefault.jpg)](https://www.youtube.com/embed/9UTNq-tVYYM)\n",
    "\n",
    "<p>Om een lijst te doorzoeken of er een specifieke waarde in voorkomt, gebruik je een logische vlag (op hetzelfde manier als in <i>Hoofdstuk 7.3 Logische vlag</i>). Je houdt een Boolean <code>gevonden</code> bij, die eerst <code>False</code> is. Je doorloopt de lijst en als je de waarde vindt, zet je de vlag op <code>True</code>.</p>\n",
    "\n",
    "\n",
    "<p><img src=\"https://course.cs.ru.nl/pythonVO/img/10.4VoorkomensZoeken_Stroomdiagram.jpg\" alt=\"Figuur: Stroomdiagram zoeken\" width=\"400\"></p>\n",
    "\n",
    "\n",
    "<p>In het voorbeeld hieronder bekijken we of \"wortel\" in <code>fruitLijst</code> voorkomt of niet.</p>\n",
    "\n"
   ]
  },
  {
   "cell_type": "code",
   "execution_count": null,
   "metadata": {},
   "outputs": [],
   "source": [
    "fruitLijst  = [\"banaan\", \"appel\", \"druif\", \"peer\", \"wortel\"]\n",
    "\n",
    "wortelGevonden = False\t#logische vlag: nu nog geen wortel gevonden\n",
    "\n",
    "for fruit in fruitLijst:\n",
    "\tif fruit == \"wortel\":\t\t#'wortel' in lijst gevonden\n",
    "\t\twortelGevonden = True\t#logische vlag aanpassen\n",
    "\n",
    "\n",
    "if wortelGevonden == True:\n",
    "\tprint(\"Een wortel is toch geen fruit!\")\n",
    "else:\n",
    "\tprint(\"Er staat alleen fruit in je lijst.\")"
   ]
  },
  {
   "cell_type": "markdown",
   "metadata": {},
   "source": [
    "\n",
    "<p>Toelichting:\n",
    "</p>\n",
    "<ul>\n",
    "    <li>we doorlopen de lijst met een <code>for</code>-loop.</li>\n",
    "    <li>om te beginnen is er nog geen wortel gevonden, dus <code>wortelGevonden</code> is\n",
    "        <code>False</code>.\n",
    "    </li>\n",
    "    <li>komen we een wortel tegen, dan wordt <code>wortelGevonden</code>\n",
    "        <code>True</code>.\n",
    "    </li>\n",
    "    <li>is <code>wortelGevonden</code> na afloop nog steeds <code>False</code>, dan weet je dat er geen wortel in de lijst stond.</li>\n",
    "</ul>\n",
    "<p></p>\n",
    "\n",
    "\n"
   ]
  },
  {
   "cell_type": "markdown",
   "metadata": {},
   "source": [
    "\n",
    "### Opdracht 10.6 Check op onvoldoendes in cijferlijst\n",
    "\n",
    "<p>Schrijf een functie die de cijferlijst van een leerling doorloopt, <code>True</code> oplevert als hier een onvoldoende in staat, anders <code>False</code> oplevert. Een 5 of lager is onvoldoende.</p>\n",
    "\n",
    "<p>Test je functie met de volgende cijferlijsten (zet ze om de beurt in commentaar):</p>\n",
    "\n",
    "\n",
    "\n",
    "\n",
    "\n"
   ]
  },
  {
   "cell_type": "code",
   "execution_count": null,
   "metadata": {},
   "outputs": [],
   "source": [
    "cijferLijst = [8.2, 7.4, 6.1, 9.0, 4.9, 8.0]\t#met onvoldoende\n",
    "#cijferLijst = [8.2, 7.4, 6.1, 9.0, 5.1, 8.0]\t#zonder onvoldoende\n"
   ]
  },
  {
   "cell_type": "markdown",
   "metadata": {},
   "source": [
    "\n",
    "<p>Bekijk <a href=\"https://course.cs.ru.nl/pythonVO/Teams/IA_uitwerkingen/IA_H10_oplossingen.html#opgave1041\" target=\"_blank\">hier</a> de voorbeelduitwerking.</p>"
   ]
  },
  {
   "cell_type": "markdown",
   "metadata": {},
   "source": [
    "## 5: Kleinste en grootste\n",
    "<p>Met een <code>for</code>-loop kun je ook bepalen wat het kleinste (of grootste) getal is dat in een lijst voorkomt. Je gebruikt daarvoor een variabele om bij te houden wat de kleinste waarde is die je tot dan toe gezien hebt. Kom je nog een kleinere waarde tegen, dan sla je die kleinere waarde op in je variabele. Om te beginnen is de eerste waarde de kleinste waarde tot dan toe.</p>\n",
    "\n",
    "<p><img src=\"https://course.cs.ru.nl/pythonVO/img/10.5Kleinste_Stroomdiagram.jpg\" alt=\"Figuur: Stroomdiagram kleinste\" width=\"400\"></p>\n",
    "\n",
    "\n",
    "\n",
    "\n"
   ]
  },
  {
   "cell_type": "code",
   "execution_count": null,
   "metadata": {},
   "outputs": [],
   "source": [
    "getallenlijst = [ 4, 2, 3, 1, 6, 7]\n",
    "\n",
    "#pak de eerste waarde uit lijst, \n",
    "#die is dan de kleinste tot nu toe\n",
    "kleinste_tot_nu_toe = getallenlijst[0] \n",
    "\n",
    "#doorloop alle getallen\n",
    "for getal in getallenlijst:\n",
    "\tif getal < kleinste_tot_nu_toe:\t\t#als er kleinere waarde wordt gevonden\n",
    "\t\tkleinste_tot_nu_toe = getal\t\t\t#dan de waarde van kleinste aanpassen\n",
    "\n",
    "print(\"kleinste is\", kleinste_tot_nu_toe)"
   ]
  },
  {
   "cell_type": "markdown",
   "metadata": {},
   "source": [
    "\n",
    "### Opdracht 10.7 De meeste likes\n",
    "<p>Een groepje meiden wil hun aantal likes bij TikTok vergelijken. Hun likes staan in een lijst:\n",
    "    <!--<pre class=\"python\">\n",
    "likes_lijst = [102, 110, 502, 234, 340, 20]\n",
    "</pre>-->\n",
    "\n",
    "</p>\n",
    "<p>Bepaal wat het grootste aantal likes is. Hiervoor gebruik je een <code>for</code>-loop zoals in het vorige voorbeeld gedaan is, maar in plaats van naar het kleinste ga je op zoek naar de grootste.</p>\n"
   ]
  },
  {
   "cell_type": "code",
   "execution_count": null,
   "metadata": {},
   "outputs": [],
   "source": [
    "likes_lijst = [102, 110, 502, 234, 340, 20]"
   ]
  },
  {
   "cell_type": "markdown",
   "metadata": {},
   "source": [
    "\n",
    "<p>Bekijk <a href=\"https://course.cs.ru.nl/pythonVO/Teams/IA_uitwerkingen/IA_H10_oplossingen.html#opgave1051\" target=\"_blank\">hier</a> de voorbeelduitwerking.</p>"
   ]
  },
  {
   "cell_type": "markdown",
   "metadata": {},
   "source": [
    "## 6: Som van alle waarden\n",
    "<p>Met een <code>for</code>-loop kun je ook bepalen wat de som van alle waarden in de lijst is.\n",
    "    Je gebruikt daarvoor een variabele om de som bij te houden. Je doorloopt de lijst en elk getal tel je op bij de som. Om te beginnen is de som 0; na afloop is dat de som van alle waarden in de lijst.</p>\n",
    "\n"
   ]
  },
  {
   "cell_type": "code",
   "execution_count": null,
   "metadata": {},
   "outputs": [],
   "source": [
    "getallenlijst = [ 4, 2, 3, 1]\n",
    "\n",
    "som = 0             #som begint op 0\n",
    "for getal in getallenlijst:\n",
    "\tsom += getal       #tel getal op bij de huidige som\n",
    "\t\n",
    "print(\"Som is:\", som)"
   ]
  },
  {
   "cell_type": "markdown",
   "metadata": {},
   "source": [
    "\n",
    "### Opdracht 10.8 Totale regenval\n",
    "\n",
    "<p>Janneke hield voor de maand februari dagelijks bij hoeveel mm regen er gevallen is. Gebruik een loop om de lijst te doorlopen en bepaal hoeveel regen er in totaal gevallen is. Na afloop druk je af hoeveel mm regen er is gevallen, dus <i>\"Er is 223 mm regen gevallen\".</i></p>\n",
    "\n"
   ]
  },
  {
   "cell_type": "code",
   "execution_count": null,
   "metadata": {},
   "outputs": [],
   "source": [
    "regenlijst = [ 8, 10, 15, 20, 18, 15, 13, 14, 16, 34, 12, 10, 0, 0, 0, 1, 2, 0, 4, 8, 0, 0, 1, 2, 1, 10, 8, 1 ]"
   ]
  },
  {
   "cell_type": "markdown",
   "metadata": {},
   "source": [
    "<p>Bekijk <a href=\"https://course.cs.ru.nl/pythonVO/Teams/IA_uitwerkingen/IA_H10_oplossingen.html#opgave1061\" target=\"_blank\">hier</a> de voorbeelduitwerking.</p>"
   ]
  },
  {
   "cell_type": "markdown",
   "metadata": {},
   "source": [
    "## H10: Afsluitende opdrachten\n",
    "\n",
    "<p>Met de volgende afsluitende opdrachten kun je kijken hoe goed je de stof beheerst. Controleer steeds je eigen oplossing met de voorbeelduitwerking.</p>\n",
    "\n",
    "<!--\n",
    "<h1 id=\"count\">Tellen hoe vaak een element voorkomt met <code>count()</code></h1>\n",
    "<p>Met <code>.count()</code> kun je bepalen hoe vaak een element in een lijst voorkomt. Tussen haakjes geef je aan welk element je wilt tellen.</p>\n",
    "\n",
    "<pre class=\"python\">\n",
    "fruitlijst = [\"appel\", \"banaan\", \"kers\", \"banaan\", \"aardbei\"]\n",
    "aantal_banaan = fruitlijst.count( \"banaan\" )\n",
    "\n",
    "print( \"Aantal voorkomens van 'banaan':\", aantal_banaan )\n",
    "</pre>\n",
    "<p><iframe height=\"400px\" width=\"100%\" src=\"https://repl.it/@smer/H95v6?lite=true#main.py\" scrolling=\"no\" frameborder=\"no\" allowtransparency=\"true\" allowfullscreen=\"true\" sandbox=\"allow-forms allow-pointer-lock allow-popups allow-same-origin allow-scripts allow-modals\"></iframe></p>\n",
    "\n",
    "<p class=\"opdracht\" id=\"Opgave965\">Opdracht 9.6.5 Gebruik vervoersmiddelen</p>\n",
    "\n",
    "Schrijf een programma dat afdrukt hoe vaak men met de auto, fiets of lopend naar school komt. Gebruik hiervoor de volgende lijst:\n",
    "-->\n",
    "<!-- GIVEN <pre class=\"python\">\n",
    "vervoer = [\"lopend\", \"fiets\", \"auto\", \"fiets\", \"auto\", \"lopend\", \"fiets\", \"lopend\", \"fiets\"]\n",
    "</pre>-->\n",
    "<!-- ANTWOORD:\n",
    "<pre class=\"python\">\n",
    "vervoer = [\"lopend\", \"fiets\", \"auto\", \"fiets\", \"auto\", \"lopend\", \"fiets\", \"lopend\", \"fiets\"]\n",
    "print( \"met de auto:\", vervoer.count( \"auto\" ) )\n",
    "print( \"met de fiets:\", vervoer.count( \"fiets\" ) )\n",
    "print( \"lopend:\", vervoer.count( \"lopend\" ) )\n",
    "</pre>\n",
    "-->\n",
    "\n",
    "<!--\n",
    "<p><iframe width=\"100%\" height=\"600px\" src=\"https://repl.it/team/InformaticaActief/1065-Gebruik-vervoersmiddelen\"></iframe></p>\n",
    "\n",
    "<a href=\"H9_oplossingen.html#opgave965\">Klik hier</a> voor een model oplossing.\n",
    "\n",
    "\n",
    "-->\n",
    "\n"
   ]
  },
  {
   "cell_type": "markdown",
   "metadata": {},
   "source": [
    "\n",
    "### Afsluitende Opdracht 10.1 Aantal voldoendes\n",
    "<p>Schrijf een functie die een cijferlijst binnenkrijgt en bepaalt hoeveel voldoendes die erin voorkomen. Een cijfer boven de 5 is een voldoende. Roep je functie aan en print het resultaat.\n",
    "</p>\n"
   ]
  },
  {
   "cell_type": "code",
   "execution_count": null,
   "metadata": {},
   "outputs": [],
   "source": [
    "### FUNCTIEDEFINITIE\n",
    "\n",
    "\n",
    "### HOOFDPROGRAMMA\n",
    "cijferlijst =  [8.2, 7.4, 6.1, 9.0, 4.9, 8.0]\n"
   ]
  },
  {
   "cell_type": "markdown",
   "metadata": {},
   "source": [
    "\n",
    "<p>Bekijk <a href=\"https://course.cs.ru.nl/pythonVO/Teams/IA_uitwerkingen/IA_H10_oplossingen.html#AfOpgave101\" target=\"_blank\">hier</a> de voorbeelduitwerking.</p>\n",
    "\n",
    "\n"
   ]
  },
  {
   "cell_type": "markdown",
   "metadata": {},
   "source": [
    "\n",
    "### Afsluitende Opdracht 10.2 Stemmingen\n",
    "<p>Schrijf een programma om te bepalen hoeveel van je vrienden gelukkig zijn.</p>\n",
    "<ol style=\"list-style-type: lower-alpha\">\n",
    "    <li>Schrijf een functie die aan vijf van je vrienden vraagt om hun stemming met een emoticon (of emoji) weer te geven. Zet de emoticons één voor één in een lijst. Lever de lijst op met een return.</li>\n",
    "    <li>Roep de functie aan in je hoofdprogramma en test of deze werkt door de lijst te printen.</li>\n",
    "    <li>Schrijf een functie die de lijst met een loop doorloopt en telt hoe vaak de ':)'-smiley in de lijst voorkomt. Je <b>moet</b> een loop met een teller gebruiken. Lever het aantal smileys op met een return.</li>\n",
    "    <li>Roep je telfunctie aan in je hoofdprogramma en druk af hoeveel smileys er gevonden zijn.\n",
    "    </li>\n",
    "</ol>\n",
    "\n",
    "\n",
    "\n"
   ]
  },
  {
   "cell_type": "code",
   "execution_count": null,
   "metadata": {},
   "outputs": [],
   "source": [
    "### FUNCTIEDEFINITIES\n",
    "\n",
    "\n",
    "\n",
    "### HOOFPROGRAMMA\n"
   ]
  },
  {
   "cell_type": "markdown",
   "metadata": {},
   "source": [
    "\n",
    "<p>Bekijk <a href=\"https://course.cs.ru.nl/pythonVO/Teams/IA_uitwerkingen/IA_H10_oplossingen.html#AfOpgave102\" target=\"_blank\">hier</a> de voorbeelduitwerking.</p>\n",
    "\n",
    "\n",
    "\n"
   ]
  },
  {
   "cell_type": "markdown",
   "metadata": {},
   "source": [
    "\n",
    "### Afsluitende Opdracht 10.3 Cijferlijst opleuken\n",
    "\n",
    "<p>Stel, dit is jouw (dramatische) cijferlijst:</p>\n",
    "<p><code>cijferLijst = [5.0, 5.5, 2.3, 4.6, 6.1, 5.6, 9.8]</code></p>\n",
    "\n",
    "<p>Maak een nieuwe cijferlijst waarbij elk cijfer met 0.5 punt opgehoogd is. Na afloop druk je de nieuwe cijferlijst af.</p>\n",
    "\n",
    "<p>Het is dus de bedoeling dat na afloop het volgende wordt afgedrukt:<i> [5.5, 6.0, 2.8, 5.1, 6.6, 6.1, 9.8]</i></p>\n",
    "\n",
    "<p>Tips:\n",
    "</p>\n",
    "<ul>\n",
    "    <li>doorloop de lijst met een <code>for</code>-loop en print elk cijfer uit.\n",
    "    </li>\n",
    "    <li>hoog het cijfer met 0.5 punten op. Zet het opgehoogde cijfer in een nieuwe lijst.\n",
    "    </li>\n",
    "    <li>zorg dat er geen cijfer boven de 10 uitkomt. Als het cijfer na ophoging boven de 10 uitkomt, stel het dan gelijk aan 10.\n",
    "    </li>\n",
    "</ul>\n",
    "<p></p>\n",
    "\n"
   ]
  },
  {
   "cell_type": "code",
   "execution_count": null,
   "metadata": {},
   "outputs": [],
   "source": [
    "cijferLijst = [9.8, 5.5, 2.3, 4.6, 6.1, 5.6]"
   ]
  },
  {
   "cell_type": "markdown",
   "metadata": {},
   "source": [
    "\n",
    "<p>Bekijk <a href=\"https://course.cs.ru.nl/pythonVO/Teams/IA_uitwerkingen/IA_H10_oplossingen.html#AfOpgave103\" target=\"_blank\">hier</a> de voorbeelduitwerking.</p>\n",
    "\n"
   ]
  },
  {
   "cell_type": "markdown",
   "metadata": {},
   "source": [
    "\n",
    "### Afsluitende Opdracht 10.4 Meeste regen\n",
    "<p>Janneke hield voor de maand februari dagelijks bij hoeveel regen er gevallen is. Wat was de meeste regen die er op een dag gevallen was en op welke datum was dat? Je moet hiervoor een of twee <code>for</code>-loops gebruiken.</p>\n",
    "\n",
    "\n",
    "<p>Aanwijzingen:\n",
    "</p>\n",
    "<ul>\n",
    "    <li>doorloop de lijst met een <code>for</code>-loop en bepaal wat de meeste regen is die er gevallen is.\n",
    "    </li>\n",
    "    <li>doorloop de lijst met een <code>for</code>-loop en zoek op welke index die voorkomt.\n",
    "    </li>\n",
    "    <li>pas de index aan naar een datum.\n",
    "    </li>\n",
    "</ul>\n",
    "<p></p>\n",
    "\n"
   ]
  },
  {
   "cell_type": "code",
   "execution_count": null,
   "metadata": {},
   "outputs": [],
   "source": [
    "regenlijst = [ 0, 10, 15, 20, 18, 15, 13, 14, 16, 34, 12, 10, 0, 0, 0, 1, 2, 0, 4, 8, 0, 0, 1, 2, 1, 10, 8, 1 ]"
   ]
  },
  {
   "cell_type": "markdown",
   "metadata": {},
   "source": [
    "\n",
    "<p>Bekijk <a href=\"https://course.cs.ru.nl/pythonVO/Teams/IA_uitwerkingen/IA_H10_oplossingen.html#AfOpgave104\" target=\"_blank\">hier</a> de voorbeelduitwerking.</p>\n",
    "\n"
   ]
  },
  {
   "cell_type": "markdown",
   "metadata": {},
   "source": [
    "\n",
    "### Afsluitende Opdracht 10.5 Loonstrookje\n",
    "<p>Piet heeft de afgelopen maand zijn dagloon in een lijst bijgehouden. Schrijf een programma dat de lijst met een loop doorloopt en zijn maandloon bepaalt (de som van alle lonen in de lijst).</p>\n"
   ]
  },
  {
   "cell_type": "code",
   "execution_count": null,
   "metadata": {},
   "outputs": [],
   "source": [
    "loonlijst = [24.00, 28.50, 45.80, 45.80, 23.10, 32.15]\n"
   ]
  },
  {
   "cell_type": "markdown",
   "metadata": {},
   "source": [
    "<p>Bekijk <a href=\"https://course.cs.ru.nl/pythonVO/Teams/IA_uitwerkingen/IA_H10_oplossingen.html#AfOpgave105\" target=\"_blank\">hier</a> de voorbeelduitwerking.</p>"
   ]
  },
  {
   "cell_type": "markdown",
   "metadata": {},
   "source": [
    "\n",
    "### Afsluitende Opdracht 10.6 Foutieve metingen\n",
    "<p>In een fabriek wordt in een lijst bijgehouden hoeveel storingen er zijn. Helaas is er wat misgegaan en komen er nu foute waarden in de lijst voor. Kijk maar:</p>\n",
    "<p><code>storingenlijst = [ 0, 3, -1, 4, 3, 2, -1 ]</code></p>\n",
    "<p>Jouw taak is om de lijst te doorlopen en de negatieve waarden eruit te filteren: maak een nieuwe lijst zonder de negatieve waarden. Je nieuwe lijst moet er dus zo uit komen te zien:</p>\n",
    "<p><code>storingenlijst = [ 0, 3, 4, 3, 2 ]</code></p>\n",
    "\n",
    "\n",
    "\n"
   ]
  },
  {
   "cell_type": "code",
   "execution_count": null,
   "metadata": {},
   "outputs": [],
   "source": [
    "storingenlijst = [ 0, 3, -1, 4, 3, 2, -1 ]\n"
   ]
  },
  {
   "cell_type": "markdown",
   "metadata": {},
   "source": [
    "\n",
    "<p>Bekijk <a href=\"https://course.cs.ru.nl/pythonVO/Teams/IA_uitwerkingen/IA_H10_oplossingen.html#AfOpgave106\" target=\"_blank\">hier</a> de voorbeelduitwerking.</p>\n",
    "\n"
   ]
  },
  {
   "cell_type": "markdown",
   "metadata": {},
   "source": [
    "\n",
    "### Afsluitende Opdracht 10.7 Gemiddelde bepalen\n",
    "<p>Schrijf een functie die een lijst getallen binnenkrijgt, deze met een loop doorloopt en de gemiddelde waarde van alle elementen oplevert. Let op: als er geen waarden in de lijst staan, kun je geen gemiddelde berekenen en moet je programma, in plaats van een berekening maken, het volgende printen: <i>Fout, geen gegevens</i>.</p>\n",
    "\n",
    "\n",
    "\n"
   ]
  },
  {
   "cell_type": "code",
   "execution_count": null,
   "metadata": {},
   "outputs": [],
   "source": [
    "### FUNCTIEDEFINITIES\n",
    "\n",
    "\n",
    "### HOOFDPROGRAMMA\n",
    "getallenlijst = [4,5,6,3,5,6]\n"
   ]
  },
  {
   "cell_type": "markdown",
   "metadata": {},
   "source": [
    "\n",
    "<p>Bekijk <a href=\"https://course.cs.ru.nl/pythonVO/Teams/IA_uitwerkingen/IA_H10_oplossingen.html#AfOpgave107\" target=\"_blank\">hier</a> de voorbeelduitwerking.</p>"
   ]
  }
 ],
 "metadata": {
  "kernelspec": {
   "display_name": "Python 3",
   "language": "python",
   "name": "python3"
  },
  "language_info": {
   "codemirror_mode": {
    "name": "ipython",
    "version": 3
   },
   "file_extension": ".py",
   "mimetype": "text/x-python",
   "name": "python",
   "nbconvert_exporter": "python",
   "pygments_lexer": "ipython3",
   "version": "3.11.8"
  }
 },
 "nbformat": 4,
 "nbformat_minor": 2
}
