{
 "cells": [
  {
   "cell_type": "markdown",
   "metadata": {},
   "source": [
    "# Hoofdstuk 6 - Functies (deel 2)\n",
    "\n",
    "<img src=\"http://course.cs.ru.nl/pythonVO/Jupyter/img/Python6_AfbLocalVar.jpg\" alt=\"Figuur: Bereik van variabelen bij blokken code\" width=\"200\" height=\"222\" class=\"img-responsive atto_image_button_right\">\n",
    "\n",
    "<p>In het vorige hoofdstuk heb je kennis gemaakt met functies. Een groot voordeel van met functies werken is dat je elk brok los kunt bedenken, schrijven en testen. Zo is het makkelijker, als je een fout maakt, erachter te komen waar deze zit en te bedenken hoe je deze moet oplossen. We hebben in het vorige hoofdstuk gekeken naar functies met parameters (die specifieke informatie moeten krijgen om dingen te doen) en zonder parameters. We gaan nu uitgebreider in op retourwaarden van functies en op het bereik van variabelen.</p>\n",
    "\n",
    "\n",
    "\n",
    "\n",
    "In dit onderwerp:\n",
    "<ul>\n",
    "    <li>leer je de onderdelen van een functie;</li>\n",
    "    <li>leer je wat het bereik van een variabele is;</li>\n",
    "    <li>leer je hoe je een functie schrijft die met een return iets oplevert;</li>\n",
    "    <li>leer je een retourwaarde van een functie op te slaan in het hoofdprogramma om daar te kunnen gebruiken;</li>\n",
    "    <li>leer je een stroomdiagram omzetten in een programma;</li>\n",
    "    <li>leer je dat je de code van een functie afzonderlijk moet testen;</li>\n",
    "    <li>leer je namen van constanten in hoofdletters schrijven, zodat duidelijk is dat de waarde hiervan niet aangepast mag worden;</li>\n",
    "    <li>leer je code overzichtelijk te maken door functiedefinities boven aan de code bij elkaar te zetten, apart van de code van het hoofdprogramma;</li>\n",
    "    <li> leer je zinvolle (functie)commentaar toe te voegen om de leesbaarheid van je code te verbeteren;\n",
    "    </li>\n",
    "    <li> leer je met <b>Ctrl&nbsp;</b>en <b>/</b> meerdere regels code in &amp;‌eacute;&amp;‌eacute;n keer in (of uit) commentaar te zetten.</li>\n",
    "</ul>\n",
    "\n",
    "\n",
    "<div class=\"fa fa-clock-o fa-3x\"></div>Verwerkingstijd: <b>2 uur</b>"
   ]
  },
  {
   "cell_type": "markdown",
   "metadata": {},
   "source": [
    "## 1: Bereik van variabelen\n",
    "\n",
    "<img src=\"http://course.cs.ru.nl/pythonVO/Jupyter/img/Python6_AfbLocalVar.jpg\" alt=\"Figuur: Bereik van variabelen bij blokken code\" width=\"200\" height=\"222\" class=\"img-responsive atto_image_button_right\">\n",
    "\n",
    "<p>Een variabele die je binnen een functie aanmaakt, bestaat alleen binnen die functie. Zo'n variabele heet een <i>lokale variabele</i>. Na het blok worden de lokale variabelen vernietigd. Het bereik van een variabele is het blok code waarin\n",
    "    de variabele is gedeclareerd en alle blokken code die daarbinnen vallen. Het plaatje hiernaast laat zien dat het bereik van de variabele <code>lengte</code> beperkt is tot de definitie van <code>figuur</code>.</p>\n",
    "<p>\n",
    "\n",
    "</p>\n",
    "\n",
    "<p>Met <i>parameters</i> en <i>retourwaarden</i> geef je waarden aan programmaonderdelen door, dus buiten 'hun blok'.\n",
    "</p>\n",
    "\n",
    "<p><b>Retourwaarden met <code>return</code></b></p>\n",
    "\n",
    "[![Watch the video](https://img.youtube.com/vi/Qm_RhF2D_Gg/hqdefault.jpg)](https://www.youtube.com/embed/Qm_RhF2D_Gg)\n",
    "\n",
    "<p>Wil je de waarde in het hoofdprogramma gebruiken, dan moet je deze met een <code>return</code> opleveren aan het hoofdprogramma.</p>\n",
    "\n",
    "<p>We bekijken nu het voorbeeld hieronder.<br> Een lokale variabele <code>verdubbelde_punten</code> wordt in de functie op regel 3 gedeclareerd, waar dezede waarde 26 krijgt (<code>punten * 2</code>). Na regel 4 houdt het inspringen op; dat\n",
    "    is het einde van de functie. Als de functie ophoudt, bestaat <code>verdubbelde_punten</code> niet meer. Om de verdubbelde waarde in het hoofdprogramma te kunnen printen (op regel 8) moet je twee dingen doen:</p>\n",
    "<ol>\n",
    "    <li>De functie moet de verdubbelde <b>waarde opleveren</b> met een <code>return</code> (regel 4) en</li>\n",
    "    <li>In het hoofdprogramma moet de <b>opgeleverde waarde opgeslagen</b> worden in een variabele <code>nieuwe_punten</code>(regel 7). Merk op dat je deze variabele een andere naam mag geven.</li>\n",
    "</ol>"
   ]
  },
  {
   "cell_type": "code",
   "execution_count": null,
   "metadata": {},
   "outputs": [],
   "source": [
    "### FUNCTIEDEFINITIE\n",
    "def verdubbel( punten ):\n",
    "  verdubbelde_punten = punten * 2\n",
    "  return verdubbelde_punten\n",
    "\n",
    "### HOOFDPROGRAMMA\n",
    "nieuwe_punten = verdubbel( 13 )\n",
    "print( nieuwe_punten )"
   ]
  },
  {
   "cell_type": "markdown",
   "metadata": {},
   "source": [
    "<p><b>Parameters</b></p>\n",
    "<p>Met parameters kun je vanuit het hoofdprogramma waarden (extra informatie) aan een functie geven. Bekijk het voorbeeld hierboven nogmaals:\n",
    "</p>\n",
    "<ul>\n",
    "    <li>De waarde 13 wordt meegegeven als parameter bij de aanroep van de functie <code>verdubbel()</code> (regel 7).\n",
    "    </li>\n",
    "    <li>De variabele <code>punten</code> wordt gedeclareerd in de functiedefinitie waar ze de waarde 13 krijgt (regel 2).\n",
    "    </li>\n",
    "    <li>De variabele <code>punten</code> wordt gebruikt voor het berekenen van <code>verdubbelde_punten</code> (regel 3).\n",
    "    </li>\n",
    "    <li>Na afloop van de functie <code>verdubbel()</code> bestaat <code>punten</code> niet meer (na regel 4).</li>\n",
    "</ul>\n",
    "<p></p>"
   ]
  },
  {
   "cell_type": "markdown",
   "metadata": {},
   "source": [
    "### Opdracht 6.1: Onderdelen van een functie benoemen\n",
    "\n",
    "Hieronder staat code. Geef voor elk van de volgende termen een voorbeeld uit de code:\n",
    "<ol>\n",
    "    <li>Naam van de functie\n",
    "    </li>\n",
    "    <li>Code dat bij de functie hoort\n",
    "    </li>\n",
    "    <li>Parameters\n",
    "    </li>\n",
    "    <li>Type van parameters\n",
    "    </li>\n",
    "    <li>Retourwaarde\n",
    "    </li>\n",
    "    <li>Type van retourwaarde\n",
    "    </li>\n",
    "</ol>"
   ]
  },
  {
   "cell_type": "code",
   "execution_count": null,
   "metadata": {
    "tags": [
     "Opdracht"
    ]
   },
   "outputs": [],
   "source": [
    "def berekenOppervlakte( breedte, hoogte ):\n",
    "\toppervlakte = breedte * hoogte\n",
    "\treturn oppervlakte\n",
    "\n",
    "berekende_oppervlakte = berekenOppervlakte( 4, 5 )\n",
    "print( berekende_oppervlakte )"
   ]
  },
  {
   "cell_type": "markdown",
   "metadata": {},
   "source": [
    "<p>Bekijk <a href=\"Https://course.cs.ru.nl/pythonVO/Teams/IA_uitwerkingen/IA_H6_oplossingen.html#opgave611\" target=\"_blank\">hier</a> de voorbeelduitwerking.</p>\n"
   ]
  },
  {
   "cell_type": "markdown",
   "metadata": {},
   "source": [
    "### Opdracht 6.2: Bereik van variabelen\n",
    "\n",
    "Als je de code hieronder runt, krijgt je een foutmelding. Lees de foutmelding en leg aan je buurman of buurvrouw uit wat het probleem is.\n"
   ]
  },
  {
   "cell_type": "code",
   "execution_count": null,
   "metadata": {
    "tags": [
     "Opdracht"
    ]
   },
   "outputs": [],
   "source": [
    "### FUNCTIEDEFINITIE\n",
    "def bepaalKleur():\n",
    "\tkleur = \"blauw\"\n",
    "\tprint(\"1e keer:\", kleur)\n",
    "\n",
    "### HOOFDPROGRAMMA\n",
    "print(\"2e keer:\", kleur)"
   ]
  },
  {
   "cell_type": "markdown",
   "metadata": {},
   "source": [
    "<p>Bekijk <a href=\"Https://course.cs.ru.nl/pythonVO/Teams/IA_uitwerkingen/IA_H6_oplossingen.html#opgave612\" target=\"_blank\">hier</a> de voorbeelduitwerking.</p>\n"
   ]
  },
  {
   "cell_type": "markdown",
   "metadata": {},
   "source": [
    "## 2: Functies met een retourwaarde\n",
    "\n",
    "<p>Een functie kan informatie opleveren. Die informatie heet de retourwaarde. Dat resultaat moet je in je hoofdprogramma in een variabele opslaan. In je programma kun je later met die variabele verder werken.</p>\n",
    "\n",
    "\n",
    "<p>In de code hieronder wordt de functie <code>kiesWillekeurigCompliment()</code> aangeroepen in het hoofdprogramma. De retourwaarde van <code>kiesWillekeurigCompliment()</code> is een <code>gekozen_compliment</code>. De retourwaarde wordt teruggeven aan het hoofdprogramma en moet opgeslagen worden in de variabele <code>compliment_van_de_dag</code>. Het bijbehorende stroomdiagram zie je onder de code.\n"
   ]
  },
  {
   "cell_type": "code",
   "execution_count": null,
   "metadata": {},
   "outputs": [],
   "source": [
    "import random\n",
    "\n",
    "### FUNCTIEDEFINITIE\n",
    "def kiesWillekeurigCompliment():\n",
    "\twillekeurig = random.randint(1,3) #kies een willekeurig getal: 1,2 of 3\n",
    "\tif willekeurig == 1:\n",
    "\t\tgekozen_compliment = \"lief\"\n",
    "\telif willekeurig == 2:\n",
    "\t\tgekozen_compliment = \"leuk\"\n",
    "\telse:\n",
    "\t\tgekozen_compliment = \"slim\"\n",
    "\n",
    "\treturn gekozen_compliment\n",
    "\n",
    "### HOOFDPROGRAMMA\n",
    "compliment_van_de_dag = kiesWillekeurigCompliment()\n",
    "print(\"Jij bent \"+ compliment_van_de_dag + \"!\" )\n",
    "print(\"Klaar\")"
   ]
  },
  {
   "cell_type": "markdown",
   "metadata": {},
   "source": [
    "<div style=\"display:flex\">\n",
    "<!--\n",
    "<img src=\"http://course.cs.ru.nl/pythonVO/Jupyter/img/Python6.2_willekeurigComplimentHoofdprogramma.jpg\" alt=\"Stroomdiagram hoofdprogramma\" width=\"400\" height=\"450\" class=\"img-fluid atto_image_button_text-bottom\">\n",
    "<img src=\"http://course.cs.ru.nl/pythonVO/Jupyter/img/Python6.2_willekeurigCompliment.jpg\" alt=\"Stroomdiagram kiesWillekeurigCompliment\" width=\"650\" height=\"620\" class=\"img-fluid atto_image_button_text-bottom\">-->\n",
    "\n",
    "<img src=\"http://course.cs.ru.nl/pythonVO/Jupyter/img/Python6.2_willekeurigComplimentHoofdprogramma.jpg\" alt=\"Stroomdiagram hoofdprogramma\" width=30% height=20%>\n",
    "<img src=\"http://course.cs.ru.nl/pythonVO/Jupyter/img/Python6.2_willekeurigCompliment.jpg\" alt=\"Stroomdiagram kiesWillekeurigCompliment\" width=60% height=80%>\n",
    "</div>"
   ]
  },
  {
   "cell_type": "markdown",
   "metadata": {},
   "source": [
    "### Opdracht 6.3: Dobbelen\n",
    "\n",
    "<p>Schrijf een programma dat voor een Monopoly-spel twee dobbelstenen werpt.</p>\n",
    "<p>Het programma bestaat uit twee onderdelen (zie ook de stroomdiagrammen hieronder):</p>\n",
    "<ol>\n",
    "    <li>Een functie <code>gooiDobbelsteen()</code> die een willekeurig getal tussen de 1 en 6 bepaalt en dit retourneert. Het rechter stroomdiagram hieronder toont de werking van de functie <code>gooiDobbelsteen()</code>.</li>\n",
    "    <li>Het hoofdprogramma waarin je:\n",
    "        <ul>\n",
    "            <li>de functie <code>gooiDobbelsteen()</code> aanroept en het resultaat in de variabele <code>eersteDobbelworp</code> opslaat;\n",
    "            </li>\n",
    "            <li>de functie <code>gooiDobbelsteen()</code> een tweede keer aanroept en het resultaat in de variabele <code>tweedeDobbelworp</code> opslaat;\n",
    "            </li>\n",
    "            <li>de uitkomst van beide worpen uitprint. Het linker stroomdiagram hieronder toont het algoritme voor het <b>hoofdprogramma</b>.\n",
    "            </li>\n",
    "        </ul>\n",
    "    </li>\n",
    "\n",
    "</ol>\n",
    "\n",
    "<div style=\"display:flex\">\n",
    "<img src=\"http://course.cs.ru.nl/pythonVO/img/Python611_Stroomdiagram_Hoofdprogramma_dobbelen.jpg\" width=30% alt=\"Stroomdiagram voor hoofdprogramma van <code>dobbelen</code>\">\n",
    "<img src=\"http://course.cs.ru.nl/pythonVO/img/Python611_Stroomdiagram_gooiDobbelsteen.jpg\" alt=\"Stroomdiagram voor functie gooiDobbelsteen()\" width=70%>\n",
    "<!--\n",
    "<img src=\"http://course.cs.ru.nl/pythonVO/img/Python611_Stroomdiagram_Hoofdprogramma_dobbelen.jpg\" width=\"400\" alt=\"Stroomdiagram voor hoofdprogramma van <code>dobbelen</code>\">\n",
    "<img src=\"http://course.cs.ru.nl/pythonVO/img/Python611_Stroomdiagram_gooiDobbelsteen.jpg\" alt=\"Stroomdiagram voor functie gooiDobbelsteen()\" width=\"600\" height=\"294\" class=\"img-fluid atto_image_button_text-bottom\">\n",
    "--><br>\n",
    "</div>\n",
    "\n",
    "<p>Het linker stroomdiagram beschrijft het <b>hoofdprogramma</b>, het rechter de functie <code>gooiDobbelsteen()</code>.</p>\n",
    "<p>De opdracht is om een functie <code>gooiDobbelsteen</code> te schrijven die je vanuit je hoofdprogramma twee keer aanroept, zoals hierboven is uitgelegd.</p>\n"
   ]
  },
  {
   "cell_type": "code",
   "execution_count": null,
   "metadata": {
    "tags": [
     "Opdracht"
    ]
   },
   "outputs": [],
   "source": []
  },
  {
   "cell_type": "markdown",
   "metadata": {},
   "source": [
    "<p>Bekijk <a href=\"Https://course.cs.ru.nl/pythonVO/Teams/IA_uitwerkingen/IA_H6_oplossingen.html#opgave621\" target=\"_blank\">hier</a> de voorbeelduitwerking.</p>\n"
   ]
  },
  {
   "cell_type": "markdown",
   "metadata": {},
   "source": [
    "## 3: Functies met retourwaarden en parameters\n",
    "\n",
    "<p>Voor de meeste berekeningen heb je informatie (parameters) nodig en lever je ook een retourwaarde (resultaat) op. </p>\n",
    "\n",
    "\n",
    "<p>Bekijk de code hieronder. De functie <code>plakWoordenAanElkaar()</code> krijgt twee woorden als parameters binnen, plakt deze aan elkaar en slaat het samengestelde woord op in de variabele <code>resultaat</code>.\n"
   ]
  },
  {
   "cell_type": "code",
   "execution_count": null,
   "metadata": {},
   "outputs": [],
   "source": [
    "### FUNCTIEDEFINITIE\n",
    "def plakWoordenAanElkaar( woord1, woord2 ):\n",
    "    resultaat = woord1 + woord2\n",
    "    return resultaat\n",
    "\n",
    "### HOOFDPROGRAMMA MET AANROEP VAN FUNCTIE\n",
    "samenstelling = plakWoordenAanElkaar( \"fiets\", \"bel\" )\n",
    "print(samenstelling)"
   ]
  },
  {
   "cell_type": "markdown",
   "metadata": {},
   "source": [
    "We bekijken hoe de code wordt uitgevoerd:<p></p>\n",
    "<ol>\n",
    "    <li>De code wordt van boven naar beneden gelezen, maar definities worden overgeslagen.\n",
    "    </li>\n",
    "    <li>Op regel 7 wordt de functie <code>plakWoordenAanElkaar()</code> aangeroepen met twee strings.\n",
    "    </li>\n",
    "    <li>De code springt dan naar regel 2, de definitie van de functie. Hier wordt bepaald dat de eerste string \"fiets\" in de variabele <code>woord1</code> wordt opgeslagen en de tweede string \"bel\" in variabele <code>woord2</code>.\n",
    "    </li>\n",
    "    <li>Op regel 3 worden de twee strings aan elkaar geplakt en wordt het samengestelde woord opgeslagen in de variabele <code>resultaat</code>.\n",
    "    </li>\n",
    "    <li>Op regel 4 wordt met een <code>return</code> de waarde van <code>resultaat</code> opgeleverd.\n",
    "    </li>\n",
    "    <li>De functie is afgelopen en gaat terug naar regel 7. De variabelen <code>woord1</code>, <code>woord2</code> en <code>resultaat</code> werden in de functie gemaakt en bestonden alleen in de functie. Na regel 4 bestaan ze niet meer.\n",
    "    </li>\n",
    "    <li>Op regel 7 wordt de waarde van <code>resultaat</code>, namelijk \"fietsbel\" teruggegeven aan het hoofdprogramma. Om \"fietsbel\" in het hoofdprogramma te onthouden wordt het resultaat opgeslagen in de variabele <code>samenstelling</code>.\n",
    "    </li>\n",
    "    <li>Op regel 8 wordt de variabele <code>samenstelling</code> afgedrukt.\n",
    "    </li>\n",
    "</ol>\n",
    "\n",
    "\n",
    "\n",
    "Merk op dat:\n",
    "<ul>\n",
    "    <li>de variabelen <code>woord1</code>, <code>woord2</code> en <code>resultaat</code> in de functie gemaakt worden en alleen in de functie bestaan. Zij heten <em>lokale variabelen</em>.\n",
    "    </li>\n",
    "    <li>dat wat met een <code>return</code> wordt opgeleverd in het hoofdprogramma in een variabele <b>moet</b> worden opgeslagen. In dit voorbeeld gebeurt dat in de variabele <code>samenstelling</code> op regel 7\n",
    "    </li>\n",
    "</ul>"
   ]
  },
  {
   "cell_type": "markdown",
   "metadata": {},
   "source": [
    "### Opdracht 6.4: Een berekening retourneren\n",
    "\n",
    "<p>Lees de code hieronder.</p>\n",
    "<ol style=\"list-style-type: lower-alpha\">\n",
    "    <li>Bedenk een zinvolle naam voor de functie <code>berekenIets()</code>. Pas het ook aan in de code. Run je code om te controleren of deze nog goed werkt.\n",
    "    </li>\n",
    "    <li>Geef ook zinvolle namen aan de variabelen a en b. Pas het ook aan in de code. Run je code om te controleren of deze nog goed werkt.\n",
    "    </li>\n",
    "    <li>Wat is de levensduur van <code>korting</code>? Dat wil zeggen, op welk regelnummer wordt de variabele aangemaakt? En na welk regelnummer houdt ze op te bestaan?\n",
    "    </li>\n",
    "</ol>"
   ]
  },
  {
   "cell_type": "code",
   "execution_count": null,
   "metadata": {
    "tags": [
     "Opdracht"
    ]
   },
   "outputs": [],
   "source": [
    "### FUNCTIEDEFINITIE\n",
    "def berekenIets(a, perc_korting):\n",
    "\tkorting = a * perc_korting/100\n",
    "\tb = a - korting\n",
    "\treturn b\n",
    "\t\n",
    "### HOOFDPROGRAMMA\n",
    "prijs_met_korting = berekenIets(20.00, 30)\n",
    "print(\"Met korting kost het product nu \" + str(prijs_met_korting) + \" euro\" )\n"
   ]
  },
  {
   "cell_type": "markdown",
   "metadata": {},
   "source": [
    "<p>Bekijk <a href=\"Https://course.cs.ru.nl/pythonVO/Teams/IA_uitwerkingen/IA_H6_oplossingen.html#opgave631\" target=\"_blank\">hier</a> de voorbeelduitwerking.</p>\n"
   ]
  },
  {
   "cell_type": "markdown",
   "metadata": {},
   "source": [
    "### Opdracht 6.5: Fietsen en wielen\n",
    "\n",
    "<p>De functie <code>telAantalWielen()</code> telt aan de hand van het aantal fietsen hoeveel wielen er zijn en print dit. Het <code>aantal_wielen</code> is een lokale variabele en bestaat dus alleen binnen de functie.</p>\n",
    "\n",
    "<p>Op regel 8 willen we het aantal kunnen printen in een volzin. De uitvoer van je programma moet zijn:\n",
    "    <i>\"Met 10 fietsen heb je 20 wielen.\"</i>\n",
    "</p>\n",
    "\n",
    "<ol style=\"list-style-type: lower-alpha\">\n",
    "    <li>Haal het commentaar '#' op regel 8 weg. Welke foutmelding krijg je? Leg uit wat het probleem is.</li>\n",
    "    <li>Los het probleem op. Om het <code>aantal_wielen</code> op regel 8 te kunnen gebruiken moeten er twee dingen gebeuren:\n",
    "        <ol>\n",
    "            <li>aan het einde van de functie <code>telAantalWielen()</code> moet de variabele <code>aantal_wielen</code> worden opgeleverd (het wordt nu alleen op regel 4 geprint, maar niet opgeleverd) en\n",
    "            </li>\n",
    "            <li>de waarde die opgeleverd wordt door de functie moet worden opgeslagen op regel 7 (tip: <code>aantal_wielen = ... </code> )\n",
    "            </li>\n",
    "        </ol>\n",
    "    </li>\n",
    "    <li>Test je functie. Krijg je de uitvoer die verwacht wordt?</li>\n",
    "</ol>"
   ]
  },
  {
   "cell_type": "code",
   "execution_count": null,
   "metadata": {
    "tags": [
     "Opdracht"
    ]
   },
   "outputs": [],
   "source": [
    "### FUNCTIEDEFINITIE\n",
    "def telAantalWielen( aantal_fietsen ):\n",
    "  aantal_wielen = aantal_fietsen * 2\n",
    "  print( aantal_wielen )\n",
    "\n",
    "### HOOFDPROGRAMMA\n",
    "telAantalWielen( 10 ) # roep functie aan\n",
    "#print(\"Met zoveel fietsen heb je\", berekend_aantal_wielen, \"wielen.\" )"
   ]
  },
  {
   "cell_type": "markdown",
   "metadata": {},
   "source": [
    "<p>Bekijk <a href=\"Https://course.cs.ru.nl/pythonVO/Teams/IA_uitwerkingen/IA_H6_oplossingen.html#opgave632\" target=\"_blank\">hier</a> de voorbeelduitwerking.</p>\n"
   ]
  },
  {
   "cell_type": "markdown",
   "metadata": {},
   "source": [
    "### Opdracht 6.6: Toetscijfer berekenen\n",
    "\n",
    "<p>Je cijfer op een wiskundetoets bestaande uit 60 punten wordt zo berekend:</p>\n",
    "<p><code>cijfer = ( aantal_punten*9 ) / 60 + 1 </code></p>\n",
    "<p>Heb je 40 punten gehaald, dan is je cijfer een 7.</p>\n",
    "\n",
    "<p><b>DEEL A</b>: </p>\n",
    "<p>Maak een definitie voor het berekenen van je cijfer:</p>\n",
    "<ol style=\"list-style-type: lower-alpha\">\n",
    "    <li>Op regel 3 zet je de functiedefinitie, dus de naam van de functie met tussen haakjes de parameter en een <code>:</code> aan het einde van de regel.\n",
    "    </li>\n",
    "    <li>Op regel 4 zet je de berekening van het cijfer.\n",
    "    </li>\n",
    "    <li>Op regel 5 retourneer je het resultaat met een <code>return</code>.\n",
    "    </li>\n",
    "</ol>\n",
    "\n",
    "<p><b>DEEL B</b>: </p>\n",
    "<p>Roep de functie aan en print je eindcijfer:</p>\n",
    "<ol style=\"list-style-type: lower-alpha\">\n",
    "    <li>Roep de functie op regel 9 aan met <code>berekenCijfer( 40 )</code>.\n",
    "    </li>\n",
    "    <li>Sla op regel 9 ook het resultaat op in een variabele.\n",
    "    </li>\n",
    "    <li>Op regel 10 print je die variabele.\n",
    "    </li>\n",
    "</ol>"
   ]
  },
  {
   "cell_type": "code",
   "execution_count": null,
   "metadata": {
    "tags": [
     "Opdracht"
    ]
   },
   "outputs": [],
   "source": [
    "### FUNCTIEDEFINITIE\n",
    "\n",
    "#def ....\n",
    "\t#cijfer = (aantal_punten*9) / 60 + 1\n",
    "\t#return(...)\n",
    "\t\n",
    "### HOOFDPROGRAMMA MET AANROEP VAN FUNCTIE\n",
    "\n",
    "#roep hier je functie aan en sla het resultaat op in een variabele\n",
    "#print(...)\n"
   ]
  },
  {
   "cell_type": "markdown",
   "metadata": {},
   "source": [
    "<p>Bekijk <a href=\"Https://course.cs.ru.nl/pythonVO/Teams/IA_uitwerkingen/IA_H6_oplossingen.html#opgave633\" target=\"_blank\">hier</a> de voorbeelduitwerking.</p>\n"
   ]
  },
  {
   "cell_type": "markdown",
   "metadata": {},
   "source": [
    "### Opdracht 6.7: Volume van een balk\n",
    "\n",
    "<p>Schrijf een functie die het volume van een balk berekent en oplevert:</p>\n",
    "<ul>\n",
    "    <li>De functie krijgt drie parameters mee: de lengte, breedte en hoogte.\n",
    "    </li>\n",
    "    <li>Het volume van een balk bereken je door de lengte, breedte en hoogte met elkaar te vermenigvuldigen.\n",
    "    </li>\n",
    "    <li>In het hoofdprogramma roep je de functie aan en sla je de retourwaarde op in een variabele.\n",
    "    </li>\n",
    "    <li>Druk daarna het berekende volume af.\n",
    "    </li>\n",
    "</ul>\n"
   ]
  },
  {
   "cell_type": "code",
   "execution_count": null,
   "metadata": {
    "tags": [
     "Opdracht"
    ]
   },
   "outputs": [],
   "source": []
  },
  {
   "cell_type": "markdown",
   "metadata": {},
   "source": [
    "<p>Bekijk <a href=\"Https://course.cs.ru.nl/pythonVO/Teams/IA_uitwerkingen/IA_H6_oplossingen.html#opgave634\" target=\"_blank\">hier</a> de voorbeelduitwerking.</p>"
   ]
  },
  {
   "cell_type": "markdown",
   "metadata": {},
   "source": [
    "## 4: Globale variabelen\n",
    "\n",
    "<p><i>Globale variabelen</i> zijn variabelen die je voor meerdere functies van je programma nodig hebt. Globale variabelen definieer je bovenaan je programma. Het verschil met lokale variabelen is dat lokale variabelen alleen bestaan binnen de functie of het blok code waarin ze gedeclareerd worden.</p>\n",
    "\n",
    "\n",
    "<p>Het is een goede gewoonte om zo min mogelijk globale variabelen te gebruiken. Als je een variabele in een aantal functies gebruikt en de waarde aanpast, wordt het onoverzichtelijk wat er allemaal met die waarde gebeurt. Zo wordt het lastig om te redeneren over wat je code doet en wordt het opsporen van fouten nog lastiger. Als je een bepaalde waarde binnen meerdere functies wilt gebruiken, kun je dat het beste doen door ze door te geven als parameters en retourwaarden. In het voorbeeld hieronder zie je hoe de prijs (zonder BTW) als parameter aan de functie wordt gegeven, en de prijs inclusief BTW wordt geretourneerd. </p>\n",
    "\n",
    "<p><b>Constanten</b></p>\n",
    "<p><i>Constanten</i> zijn variabelen die gedurende het programma niet veranderen, maar die je in je programma wel op meerdere plekken gebruikt. Deze kan je dan wel als globale variabelen gebruiken. De naam van een constante geef je met hoofdletters aan en zet je bovenaan je programma. In het voorbeeld hieronder zie je dat er voor <code>PERC_BTW</code> een constante wordt gebruikt.</p>"
   ]
  },
  {
   "cell_type": "code",
   "execution_count": null,
   "metadata": {},
   "outputs": [],
   "source": [
    "#GLOBALE VARIABELEN\n",
    "PERC_BTW = 21\n",
    "\n",
    "### FUNCTIEDEFINITIE\n",
    "#Doel: bereken prijs van een artikel met BTW, zoals in advertentie mag staan\n",
    "def berekenPrijsMetBTW( prijs_zonder_BTW ):\n",
    "\tprijs_met_BTW = prijs_zonder_BTW * ( (1+PERC_BTW)/100 )\n",
    "\treturn prijs_met_BTW\n",
    "\t\n",
    "### HOOFDPROGRAMMA\n",
    "advertentieprijs = berekenPrijsMetBTW ( 20.00 )\n",
    "print(\"Prijs (incl BTW):\", advertentieprijs, \" euro\" )"
   ]
  },
  {
   "cell_type": "markdown",
   "metadata": {},
   "source": [
    "<p>Terwijl het programma draait zul je het percentage van de BTW niet veranderen. In tegenstelling, hiermee zal een score gedurende een spelletje wel veranderen. Maar als de overheid ervoor kiest om de BTW aan te passen, dan kan dat heel makkelijk bovenaan de code teruggevonden worden en hoeft ze maar op een plek aangepast worden.</p>\n"
   ]
  },
  {
   "cell_type": "markdown",
   "metadata": {},
   "source": [
    "### Opdracht 6.8: Constanten\n",
    "\n",
    "<p>Speel met een vriend of vriendin een paar keer steen-papier-schaar. Ken je het spel niet? Kijk dan <a href=\"https://weethetsnel.nl/instructie/2223-Hoe-werkt-het-steen-papier-schaar-spel\">hier</a> voor uitleg. Houd op een blaadje bij hoe vaak ieder gewonnen heeft en hoe vaak er gelijk is gespeeld. Bekijk je scoreblad en bepaal wat de constanten en wat de variabelen zijn.</p>\n"
   ]
  },
  {
   "cell_type": "markdown",
   "metadata": {},
   "source": [
    "<p>Bekijk <a href=\"Https://course.cs.ru.nl/pythonVO/Teams/IA_uitwerkingen/IA_H6_oplossingen.html#opgave641\" target=\"_blank\">hier</a> de voorbeelduitwerking.</p>\n"
   ]
  },
  {
   "cell_type": "markdown",
   "metadata": {},
   "source": [
    "## H6 - Afsluitende Opdrachten\n",
    "\n",
    "<p>Met de volgende afsluitende opdrachten kun je kijken hoe goed je de stof beheerst. Controleer steeds je eigen oplossing met de voorbeelduitwerking.</p>\n"
   ]
  },
  {
   "cell_type": "markdown",
   "metadata": {},
   "source": [
    "### Afsluitende opdracht 6.1: Vind de fout\n",
    "\n",
    "<p>\n",
    "    Voer de onderstaande code uit.</p>\n",
    "<ol style=\"list-style-type: lower-alpha\">\n",
    "    <li>Wat is er fout aan de volgende code?</li>\n",
    "    <li>Waar komt \"None\" vandaan achter \"De berekende oppervlakte\"?</li>\n",
    "    <li>Los het probleem in de functie op.</li>\n",
    "</ol>"
   ]
  },
  {
   "cell_type": "code",
   "execution_count": null,
   "metadata": {
    "tags": [
     "Opdracht"
    ]
   },
   "outputs": [],
   "source": [
    "### FUNCTIEDEFINITIE\n",
    "def oppervlakte_van_driehoek( basis, hoogte ):\n",
    "    opp = 0.5 * basis * hoogte\n",
    "    print( \"Een driehoek met basis\", basis, \"en hoogte\",\n",
    "        hoogte, \"heeft een oppervlakte van\", opp )\n",
    "\n",
    "### HOOFDPROGRAMMA MET AANROEP VAN FUNCTIE\n",
    "berekende_oppervlakte = oppervlakte_van_driehoek( 5, 4 )\n",
    "print( \"De berekende oppervlakte is:\", berekende_oppervlakte )"
   ]
  },
  {
   "cell_type": "markdown",
   "metadata": {},
   "source": [
    "<p>Bekijk <a href=\"Https://course.cs.ru.nl/pythonVO/Teams/IA_uitwerkingen/IA_H6_oplossingen.html#AfOpgave61\" target=\"_blank\">hier</a> de voorbeelduitwerking.</p>\n"
   ]
  },
  {
   "cell_type": "markdown",
   "metadata": {},
   "source": [
    "### Afsluitende opdracht 6.2: Munt opgooien\n",
    "\n",
    "<p>Schrijf een programma dat een munt opgooit:</p>\n",
    "<ul>\n",
    "    <li>Het linker stroomdiagram hieronder geeft aan hoe het hoofdprogramma eruitziet. Dit roept de functie <code>gooiMunt()</code> aan en drukt het resultaat af.</li>\n",
    "    <li>Het rechter stroomdiagram toont de functie <code>gooiMunt()</code>. De functie <code>gooiMunt()</code> geeft willekeurig een tekst \"KOP\" of\n",
    "        \"MUNT\" als resultaat. Maak gebruik van een willekeurig gekozen getal dat 0 of 1 wordt. Als dit 0 is, dan wordt het \"KOP\", anders \"MUNT\".</li>\n",
    "</ul>\n",
    "<!--\n",
    "<div style=\"display:flex\">\n",
    "<img src=\"http://course.cs.ru.nl/pythonVO/Jupyter/img/Python6_Stroomdiagram_muntOpgooien_hoofdprogramma.jpg\" alt=\"Stroomdiagram van hoofdprogramma voor opdracht Munt opgooien\" width=\"400\" height=\"300\">\n",
    "-->\n",
    "<!--\n",
    "<img src=\"http://course.cs.ru.nl/pythonVO/Jupyter/img/Python6_Stroomdiagram_gooiMunt.jpg\" alt=\"Stroomdiagram van functie gooiMunt\" width=\"800\" height=\"564\" class=\"atto_image_button_text-bottom\"><br>\n",
    "-->\n",
    "\n",
    "\n",
    "\n",
    "<div style=\"display:flex\">\n",
    "<img src=\"http://course.cs.ru.nl/pythonVO/Jupyter/img/Python6_Stroomdiagram_muntOpgooien_hoofdprogramma.jpg\" alt=\"Stroomdiagram van hoofdprogramma voor opdracht Munt opgooien\" width=\"400\" height=\"300\">\n",
    "\n",
    "<div style=\"display:flex\"><img src=\"http://course.cs.ru.nl/pythonVO/Jupyter/img/Python6_Stroomdiagram_gooiMunt.jpg\" alt=\"Stroomdiagram van functie gooiMunt\" width=\"800\" height=\"450\"><br>\n",
    "</div>\n"
   ]
  },
  {
   "cell_type": "code",
   "execution_count": null,
   "metadata": {
    "tags": [
     "Opdracht"
    ]
   },
   "outputs": [],
   "source": [
    "### FUNCTIEDEFINITIES\n",
    "\n",
    "\n",
    "### HOOFDPROGRAMMA\n",
    "\n"
   ]
  },
  {
   "cell_type": "markdown",
   "metadata": {},
   "source": [
    "<p>Bekijk <a href=\"Https://course.cs.ru.nl/pythonVO/Teams/IA_uitwerkingen/IA_H6_oplossingen.html#AfOpgave62\" target=\"_blank\">hier</a> de voorbeelduitwerking.</p>\n"
   ]
  },
  {
   "cell_type": "markdown",
   "metadata": {},
   "source": [
    "### Afsluitende opdracht 6.3: Geldig e-mailadres\n",
    "\n",
    "<p>Schrijf een programma dat de gebruiker om een e-mailadres vraagt en controleert of dit geldig is. Het volgende stroomdiagram geeft het algoritme van het hoofdprogramma weer:</p>\n",
    "\n",
    "\n",
    "<img src=\"http://course.cs.ru.nl/pythonVO/Jupyter/img/Python6_Stroomdiagram_geldigEmailadres_hoofdprogramma.jpg\" alt=\"Stroomdiagram van hoofdprogramma voor opdracht Munt opgooien\" width=40%>\n",
    "\n",
    "<p>\n",
    "    Om je code overzichtelijk te houden maak je natuurlijk gebruik van functies:\n",
    "</p>\n",
    "<ol style=\"list-style-type: lower-alpha\">\n",
    "    <li>Schrijf een functie <code>vraagInvoer()</code> die de gebruiker om een invoer vraagt, netjes print wat de gebruiker heeft ingevoerd en dit retourneert. Test je functie.\n",
    "    </li>\n",
    "    <li>Schrijf een functie <code>controleEmailadres()</code> dat een e-mailadres als parameter krijgt en op de eisen controleert. In het geval dat het e-mailadres niet voldoet, geef je feedback over wat er precies mis mee is en return je <code>False</code>. Als het e-mailadres goed is, meld je dat aan de gebruiker en return je <code>True</code>.\n",
    "        <ul>\n",
    "            <li>Het e-mailadres moet minstens 5 en maximaal 20 karakters bevatten.\n",
    "            </li>\n",
    "            <li>De volgende vreemde tekens mogen niet voorkomen: \"?\", \"%\", \"&amp;\".\n",
    "            </li>\n",
    "            <li>Een apenstaartje \"@\" en een punt \".\" moeten wel voorkomen.\n",
    "            </li>\n",
    "        </ul>\n",
    "    </li>\n",
    "    <li>In het hoofdprogramma gebruik je de functies <code>vraagInvoer()</code> en <code>controleEmailadres()</code>. Als het e-mailadres geldig is, print <i>Toegang verleend</i> en anders <i>Jammer</i>.\n",
    "    </li>\n",
    "    <li>Test het programma met verschillende invoeren.\n",
    "    </li>\n",
    "</ol>\n",
    "<p></p>"
   ]
  },
  {
   "cell_type": "code",
   "execution_count": null,
   "metadata": {
    "tags": [
     "Opdracht"
    ]
   },
   "outputs": [],
   "source": [
    "### FUNCTIEDEFINITIES\n",
    "\n",
    "\n",
    "### HOOFDPROGRAMMA\n"
   ]
  },
  {
   "cell_type": "markdown",
   "metadata": {},
   "source": [
    "<p>Bekijk <a href=\"Https://course.cs.ru.nl/pythonVO/Teams/IA_uitwerkingen/IA_H6_oplossingen.html#AfOpgave63\" target=\"_blank\">hier</a> de voorbeelduitwerking.</p>\n"
   ]
  },
  {
   "cell_type": "markdown",
   "metadata": {},
   "source": [
    "### Afsluitende opdracht 6.4: Deelbaar door 7\n",
    "\n",
    "<p>Schrijf een programma dat bepaalt of een getal deelbaar is door 7:</p>\n",
    "<ol style=\"list-style-type: lower-alpha\">\n",
    "    <li>Schrijf de functie <code>isDeelbaarDoor7()</code> dat een getal als parameter krijgt, het resultaat <code>True</code> retourneert als een gegeven getal deelbaar is door 7 en anders <code>False</code>.\n",
    "    </li>\n",
    "    <li>Roep de functie <code>isDeelbaarDoor7()</code> aan vanuit je hoofdprogramma.\n",
    "    </li>\n",
    "    <li>Sla het resultaat van de functie op in een variabele.\n",
    "    </li>\n",
    "    <li>Druk de waarde van deze variabele in het hoofdprogramma af.\n",
    "    </li>\n",
    "    <li>Test je functie met verschillende waarden.\n",
    "    </li>\n",
    "    <li>Schrijf commentaar bij je code. Geef aan wat de invoer en uitvoer zijn, en voor welke waarden je programma werkt.\n",
    "    </li>\n",
    "</ol>\n",
    "\n",
    "<p>Tips:\n",
    "    Met modulo ( <code>%</code> ) kun je bepalen of deelbaar is door een ander getal of niet. Bijvoorbeeld:\n",
    "</p>\n",
    "<ul>\n",
    "    <li>Als <code>getal%7</code> gelijk is aan 0, dan is getal deelbaar door 7.\n",
    "    </li>\n",
    "    <li>Als <code>getal%7</code> ongelijk is aan 0, dan is getal niet deelbaar door 7.\n",
    "    </li>\n",
    "</ul>\n",
    "<p></p>"
   ]
  },
  {
   "cell_type": "code",
   "execution_count": null,
   "metadata": {
    "tags": [
     "Opdracht"
    ]
   },
   "outputs": [],
   "source": [
    "### FUNCTIEDEFINITIES\n",
    "\n",
    "\n",
    "### HOOFDPROGRAMMA\n",
    "\n"
   ]
  },
  {
   "cell_type": "markdown",
   "metadata": {},
   "source": [
    "<p>Bekijk <a href=\"Https://course.cs.ru.nl/pythonVO/Teams/IA_uitwerkingen/IA_H6_oplossingen.html#AfOpgave64\" target=\"_blank\">hier</a> de voorbeelduitwerking.</p>\n"
   ]
  },
  {
   "cell_type": "markdown",
   "metadata": {},
   "source": [
    "### Afsluitende opdracht 6.5: BMI\n",
    "\n",
    "<p>De Body Mass Index (BMI) geeft een schatting van het gezondheidsrisico van je lichaamsgewicht in verhouding tot je lichaamslengte. Schrijf een programma dat een gebruiker om zijn gegevens vraagt (deel A), de BMI berekent (deel B) en vervolgens een advies geeft (deel C). Het linker stroomdiagram geeft het algoritme voor het hoofdprogramma weer. Het rechter stroomdiagram laat zien hoe het advies gegeven wordt (deel C).</p>\n",
    "\n",
    "\n",
    "<div style=\"display:flex\">\n",
    "<!--\n",
    "<img src=\"http://course.cs.ru.nl/pythonVO/Jupyter/img/Python6_Stroomdiagram_BMIhoofdprogramma.jpg\" alt=\"Stroomdiagram van hoofdprogramma voor opdracht BMI\" width=\"250\">-->\n",
    "<img src=\"http://course.cs.ru.nl/pythonVO/Jupyter/img/Python6_Stroomdiagram_BMIhoofdprogramma.jpg\" alt=\"Stroomdiagram van hoofdprogramma voor opdracht BMI\" width=30% height=30%>\n",
    "<img src=\"http://course.cs.ru.nl/pythonVO/Jupyter/img/Python6_Stroomdiagram_BMIadvies.jpg\" alt=\"Stroomdiagram voor BMI advies\" width=70%><br>\n",
    "<!--<img src=\"http://course.cs.ru.nl/pythonVO/Jupyter/img/Python6_Stroomdiagram_BMIadvies.jpg\" alt=\"Stroomdiagram voor BMI advies\" width=\"950\" height=\"559\" class=\"img-fluid atto_image_button_text-bottom\"><br>\n",
    "-->\n",
    "</div>\n",
    "\n",
    "<p><b>DEEL A</b>. Invoer vragen</p>\n",
    "\n",
    "<p>In je hoofdprogramma vraag je de gebruiker om de lengte (in meters) en gewicht (in kilogram) in te tikken. Bedenk dat het kommagetallen zijn. Gebruik dus float in plaats van int.</p>\n",
    "\n",
    "<p><b>DEEL B</b>. BMI berekenen</p>\n",
    "<p>De BMI bereken je door het gewicht in kilo’s te delen door de lengte in meters in het kwadraat. Als je bijvoorbeeld 1,62 meter lang bent en 56 kilo weegt, heb je een BMI van 21,3:</p>\n",
    "<p>berekening: <code>(56 /(1.62 * 1.62))</code> </p>\n",
    "\n",
    "<ol style=\"list-style-type: lower-alpha\">\n",
    "    <li>Schrijf een functie die de BMI berekent. Deze krijgt lengte en gewicht als parameters mee en geeft als resultaat de BMI terug.</li>\n",
    "    <li>Roep je functie aan in het hoofdprogramma.</li>\n",
    "    <li>Sla het resultaat van je functie (dus de BMI) op in het hoofdprogramma en print het daarna.</li>\n",
    "</ol>\n",
    "\n",
    "<p><b>DEEL C</b>. Advies geven</p>\n",
    "<p>Een BMI-score van 18,5 wordt als te licht gezien, tussen de 18,5 en de 25 heb je een gezond gewicht en daarboven heb je overgewicht.</p>\n",
    "<ol style=\"list-style-type: lower-alpha\">\n",
    "    <li>Schrijf een functie die de BMI krijgt en als resultaat advies teruggeeft, zoals in het stroomdiagram hierboven. Het advies luidt:\n",
    "        <ul>\n",
    "            <li>Bij een BMI kleiner dan of gelijk aan 18,5: <i>Je mag best wel wat aankomen</i>.\n",
    "            </li>\n",
    "            <li>Bij een BMI groter dan 18,5 en kleiner dan 25: <i>Blijf op dit gewicht</i>.\n",
    "            </li>\n",
    "            <li>Bij een BMI groter dan of gelijk aan 25: <i>Je kunt het beste wat afvallen</i>.\n",
    "            </li>\n",
    "        </ul>\n",
    "    </li>\n",
    "    <li>Roep je functie aan in het hoofdprogramma.</li>\n",
    "    <li>Print het resultaat van je functie, dus het advies aan de gebruiker.</li>\n",
    "</ol>"
   ]
  },
  {
   "cell_type": "code",
   "execution_count": null,
   "metadata": {
    "tags": [
     "Opdracht"
    ]
   },
   "outputs": [],
   "source": []
  },
  {
   "cell_type": "markdown",
   "metadata": {},
   "source": [
    "<p>Bekijk <a href=\"Https://course.cs.ru.nl/pythonVO/Teams/IA_uitwerkingen/IA_H6_oplossingen.html#AfOpgave65\" target=\"_blank\">hier</a> de voorbeelduitwerking.</p>\n"
   ]
  }
 ],
 "metadata": {
  "kernelspec": {
   "display_name": "Python 3",
   "language": "python",
   "name": "python3"
  },
  "language_info": {
   "codemirror_mode": {
    "name": "ipython",
    "version": 3
   },
   "file_extension": ".py",
   "mimetype": "text/x-python",
   "name": "python",
   "nbconvert_exporter": "python",
   "pygments_lexer": "ipython3",
   "version": "3.12.2"
  }
 },
 "nbformat": 4,
 "nbformat_minor": 2
}
