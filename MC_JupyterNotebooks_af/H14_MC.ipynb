{
 "cells": [
  {
   "cell_type": "markdown",
   "metadata": {},
   "source": [
    "# Onderdeel 14 - Python-specifieke mogelijkheden\n",
    "\n",
    "<p>In dit hoofdstuk bespreken we paar dingen die specifiek voor Python zijn. Omdat we maar een deel van\n",
    "    Python behandelen (geen objectoriëntatie) kunnen deze onderwerpen handig zijn als je een PO of groter project gaat maken.</p>\n",
    "\n",
    "\n",
    "\n",
    "\n",
    "<p><span style=\"font-size: 1rem;\">In dit onderwerp:</span></p>\n",
    "<ul>\n",
    "    <li>leer je met een functie meerdere waarden retourneren;</li>\n",
    "    <li>leer je globale variabelen te gebruiken en aan te passen.</li>\n",
    "</ul>\n",
    "\n",
    "<div class=\"fa fa-clock-o fa-3x\"></div>Verwerkingstijd: <b>0,5 uur</b>"
   ]
  },
  {
   "cell_type": "markdown",
   "metadata": {},
   "source": [
    "## 1: Meerdere waarden opleveren in Python\n",
    "\n",
    "[![Watch the video](https://img.youtube.com/vi/V_vX8U0Nx2U/hqdefault.jpg)](https://www.youtube.com/embed/V_vX8U0Nx2U)\n",
    "\n",
    "\n",
    "\n",
    "<p>Een functie kan in principe maar één waarde opleveren. Dit zorgt ervoor dat je functie ook maar een doel heeft\n",
    "    en daardoor overzichtelijk, leesbaar en makkelijk aanpasbaar blijft.</p>\n",
    "\n",
    "<p>Maar soms kan het handig zijn als een functie\n",
    "    meerdere waarden teruggeeft. In Python kan dat. Je kunt meerdere waarden opleveren, gescheiden door een komma (oftewel\n",
    "    als lijst).</p>\n",
    "\n",
    "<p>In het voorbeeld hieronder retourneert de functie twee waarden: namelijk <code>worp1</code>\n",
    "    en <code>worp2</code>. Bij de functieaanroep op regel 10 worden beide waarden opgeslagen in de variabelen\n",
    "    <code>dobbel1</code> en <code>dobbel2</code>.\n",
    "\n",
    "</p>\n"
   ]
  },
  {
   "cell_type": "code",
   "execution_count": null,
   "metadata": {},
   "outputs": [],
   "source": [
    "import random\n",
    "\n",
    "### FUNCTIEDEFINITIE\n",
    "def gooi2dobbelstenen():\n",
    "\tworp1 = random.randint(1,6) #gooi 1e dobbelsteen\n",
    "\tworp2 = random.randint(1,6) #gooi 2e dobbelsteen\n",
    "\treturn worp1, worp2\n",
    "\n",
    "### HOOFDPROGRAMMA\n",
    "dobbel1, dobbel2 = gooi2dobbelstenen()\n",
    "print(dobbel1)\n",
    "print(dobbel2)"
   ]
  },
  {
   "cell_type": "markdown",
   "metadata": {},
   "source": [
    "### Opdracht 14.1 Meerdere waarden teruggeven\n",
    "Breid het programma hieronder uit zodat de functie <code>kiesWillekeurigeKlas</code>:\n",
    "<ol style=\"list-style-type: lower-alpha\">\n",
    "    <li>twee waarden oplevert: <code>willekeurige_jaarlaag</code> en <code>willekeurige_klas</code>;\n",
    "    </li>\n",
    "    <li>in het hoofdprogramma beide waarden opslaag als <code>jaar</code> en <code>klas</code>.</li>\n",
    "</ol>\n",
    "\n"
   ]
  },
  {
   "cell_type": "code",
   "execution_count": null,
   "metadata": {},
   "outputs": [],
   "source": [
    "import random\n",
    "\n",
    "jaarlaag = [4,5,6]\n",
    "klas = [\"a\", \"b\", \"c\", \"d\"]\n",
    "\n",
    "def kiesWillekeurigeKlas():\n",
    "  willekeurige_jaarlaag = random.choice( jaarlaag )\n",
    "  willekeurige_klas = random.choice( klas )\n",
    "  return ## HIER TWEE WAARDEN TERUGGEVEN\n",
    "\n",
    "### HOOFDPROGRAMMA\n",
    "#HIER TWEE WAARDEN OPSLAAN = kiesWillekeurigeKlas()\n",
    "print(jaar)\n",
    "print(klas)"
   ]
  },
  {
   "cell_type": "markdown",
   "metadata": {},
   "source": [
    "\n",
    "Klik <a href=\"H14_oplossingen.html#opgave141\" target=\"_blank\">hier</a> voor een voorbeelduitwerking.\n",
    "\n",
    "\n",
    "<!--\n",
    "import random\n",
    "\n",
    "jaarlaag = [4,5,6]\n",
    "klas = [\"a\", \"b\", \"c\", \"d\"]\n",
    "\n",
    "def kiesWillekeurigeKlas():\n",
    "  willekeurige_jaarlaag = random.choice( jaarlaag )\n",
    "  willekeurige_klas = random.choice( klas )\n",
    "  return ## HIER TWEE WAARDEN TERUGGEVEN\n",
    "\n",
    "### HOOFDPROGRAMMA\n",
    "#HIER TWEE WAARDEN OPSLAAN = kiesWillekeurigeKlas()\n",
    "print(jaar)\n",
    "print(klas)\n",
    "-->\n",
    "\n",
    "<!--8.2.8 Meerdere retourwaardes Je bent niet beperkt in je functies tot slechts één retourwaarde. Je kunt\n",
    "meerdere waardes in één keer retourneren door er komma’s tussen te zetten. Als je deze waardes wilt gebruiken in\n",
    "je programma na aanroep van de functies, moet je ze toekennen aan meerdere variabelen. Die zet je allemaal aan de\n",
    "linkerkant van de assignment operator, ook met komma’s ertussen. Dit kan ik het beste illustreren aan de hand van\n",
    "een voorbeeld: 104 Hoofdstuk 8. Functies listing0807.py import datetime def plusDagen( jaar , maand , dag,\n",
    "increment ): startdatum = datetime.datetime( jaar , maand , dag ) einddatum = startdatum + datetime.timedelta(\n",
    "days=increment ) return einddatum.year , einddatum.month , einddatum.day y, m, d = plusDagen( 2015 , 11, 13, 55\n",
    ") print( \"{}/{}/{}\".format( y, m, d ) ) De functie plusDagen() krijgt vier argumenten, namelijk integers die een jaar,\n",
    "een maand, een dag, en een aantal dagen die je wilt optellen bij de datum die wordt weergegeven door de eerste\n",
    "drie argumenten. Er worden drie waardes geretourneerd, namelijk een nieuw jaar, een nieuwe maand, en een nieuwe\n",
    "dag. De code stopt die in de variabelen y, m, en d. Als je de code hierboven bestudeert, vraag je je misschien af\n",
    "hoe plusDagen() precies werkt. Zoals ik al zei, het is een voordeel van functies dat zolang ze hun werk doen en je\n",
    "weet wat de argumenten zijn en wat er geretourneerd wordt, dat je niet hoeft te weten hoe de functie in elkaar zit.\n",
    "Je kunt de functie gebruiken zonder kennis van het interne proces. Dus je mag gewoon negeren wat je in\n",
    "plusDagen() ziet staan (overigens gebruikt de code van plusDagen() de datetime module, die aan de orde komt in\n",
    "hoofdstuk 27).-->"
   ]
  },
  {
   "cell_type": "markdown",
   "metadata": {},
   "source": [
    "## 2: Globale variabelen declareren in Python\n",
    "\n",
    "\n",
    "[![Watch the video](https://img.youtube.com/vi/i_KCjUtqeqg/hqdefault.jpg)](https://www.youtube.com/embed/i_KCjUtqeqg)\n",
    "\n",
    "\n",
    "\n",
    "<p><i>Globale variabelen</i> zijn waarden die je door je hele programma heen kunt gebruiken, maar die meestal niet veranderen. Andere variabelen zijn <i>lokale variabelen</i>. Die kun je alleen gebruiken binnen de functie waarin je ze maakt en gebruikt.</p>\n",
    "\n",
    "\n",
    "<p>Het is een goede gewoonte om alleen constanten (\"variabelen\" die tijdens je programma niet kunnen veranderen) te gebruiken als globale variabelen. Voorbeelden van constante globale variabelen zijn\n",
    "    <code>PI=3.14</code> of <code>BTW=21</code>. Die veranderen niet (zomaar). Verandert de waarde van een globale variabele toch een keer wel, dan hoef je in je code dat maar op één plek aan te passen.\n",
    "</p>\n",
    "\n",
    "<p>Je declareert een globale variabele bovenaan in je code. Je kan dan vanuit elke functie bij de waarde.</p>\n",
    "\n",
    "\n"
   ]
  },
  {
   "cell_type": "markdown",
   "metadata": {},
   "source": [
    "### Opdracht 14.2 Prijs inclusief btw\n",
    "<p>Hieronder staat een programma dat de prijs van een product berekent inclusief 19% btw. Op Prinsjesdag wordt het btw-tarief verhoogd naar 21%. Pas de globale variabele in het onderstaande programma op één plek aan zodat het btw-tarief juist is.</p>\n"
   ]
  },
  {
   "cell_type": "code",
   "execution_count": null,
   "metadata": {},
   "outputs": [],
   "source": [
    "### GLOBALE VARIABELEN\n",
    "BTW = 0.19 # 19% btw\n",
    "\n",
    "### FUNCTIE DEFINITIES\n",
    "def berekenPrijsInclBTW(prijs_zonder_BTW):\n",
    "\tprijs_incl_BTW = prijs_zonder_BTW * (1+BTW) #vermenigvuldigen met 1,21\n",
    "\tafgeronde_prijs_incl_BTW = round(prijs_incl_BTW,2)\n",
    "\treturn afgeronde_prijs_incl_BTW\n",
    "\n",
    "### HOOFDPROGRAMMA\n",
    "prijs_verf_exclBTW = 19.90\n",
    "prijs = berekenPrijsInclBTW(prijs_verf_exclBTW)\n",
    "print(\"Prijs inclusief btw is:\", prijs)\n"
   ]
  },
  {
   "cell_type": "markdown",
   "metadata": {},
   "source": [
    "\n",
    "Klik <a href=\"https://course.cs.ru.nl/pythonVO/Teams/IA_uitwerkingen/IA_H14_oplossingen.html#opgave142\" target=\"_blank\">hier</a> voor een voorbeelduitwerking."
   ]
  },
  {
   "cell_type": "markdown",
   "metadata": {},
   "source": [
    "## 3: Globale variabelen aanpassen in Python\n",
    "<p>Het is geen goede gewoonte om een globale variabele aan te passen. Daardoor heeft een functie namelijk bijeffecten, wat het moeilijker maakt om over je code te redeneren en dus ook om fouten op te sporen.</p>\n",
    "\n",
    "<p>Kan je er niet omheen en gebruik je een globale variabele die je in je programma wilt\n",
    "    aanpassen, dan geef je binnen de functie met <code>global</code> aan welke globale variabele jevwilt gebruiken. Daarna kan je de waarde aanpassen. Zie het voorbeeld hieronder:</p>\n",
    "\n"
   ]
  },
  {
   "cell_type": "code",
   "execution_count": null,
   "metadata": {},
   "outputs": [],
   "source": [
    "### GLOBALE VARIABELEN\n",
    "score = 10\n",
    "\n",
    "### FUNCTIEDEFINITIES\n",
    "def scoreAanpassen():\n",
    "\tglobal score #geef aan dat het om de globale variabele gaat\n",
    "\tscore = 8\n",
    "\tprint(\"Waarde score binnen functie:\", score)\n",
    "\n",
    "### HOOFDPROGRAMMA\n",
    "scoreAanpassen() #roep functie aan om score aan te passen\n",
    "print(\"Waarde score na functie:\", score)"
   ]
  },
  {
   "cell_type": "markdown",
   "metadata": {},
   "source": [
    "\n",
    "### Opdracht 14.3 Cijfer voor Engels opleuken\n",
    "<p>Je cijfer voor de toets Engels was nogal bedroevend. Je schrijft een functie om je cijfer op te leuken, maar die doet het niet. Verbeter de fout zodat je toch nog een 9,8 haalt.</p>\n",
    "\n"
   ]
  },
  {
   "cell_type": "code",
   "execution_count": null,
   "metadata": {},
   "outputs": [],
   "source": [
    "### GLOBALE VARIABELEN\n",
    "cijfer_engels = 3.4\n",
    "\n",
    "### FUNCTIEDEFINITIES\n",
    "def cijferVerbeteren():\n",
    "\tcijfer_engels = 9.8\n",
    "\tprint(\"Cijfer binnen functie:\", cijfer_engels)\n",
    "\n",
    "### HOOFDPROGRAMMA\n",
    "cijferVerbeteren()\n",
    "print(\"Cijfer na functie aanroep:\", cijfer_engels)"
   ]
  },
  {
   "cell_type": "markdown",
   "metadata": {},
   "source": [
    "Klik <a href=\"https://course.cs.ru.nl/pythonVO/Teams/IA_uitwerkingen/IA_H14_oplossingen.html#opgave142\" target=\"_blank\">hier</a> voor een voorbeelduitwerking.\n"
   ]
  }
 ],
 "metadata": {
  "kernelspec": {
   "display_name": "Python 3",
   "language": "python",
   "name": "python3"
  },
  "language_info": {
   "codemirror_mode": {
    "name": "ipython",
    "version": 3
   },
   "file_extension": ".py",
   "mimetype": "text/x-python",
   "name": "python",
   "nbconvert_exporter": "python",
   "pygments_lexer": "ipython3",
   "version": "3.11.8"
  }
 },
 "nbformat": 4,
 "nbformat_minor": 2
}
