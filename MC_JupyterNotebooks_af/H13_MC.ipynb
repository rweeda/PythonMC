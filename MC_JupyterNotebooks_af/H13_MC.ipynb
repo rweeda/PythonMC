{
 "cells": [
  {
   "cell_type": "markdown",
   "metadata": {},
   "source": [
    "# Onderwerp 13 - Strings\n",
    "<p>In computerprogramma's worden teksten weergegeven door strings. In dit hoofdstuk leer je over strings en de functies die beschikbaar zijn om strings te gebruiken en aan te passen.</p>\n",
    "\n",
    "<p>In dit onderwerp:</p>\n",
    "<ul>\n",
    "    <li>leer je waar strings voor gebruikt worden;</li>\n",
    "    <li>leer je hoe je strings over meerdere regels kunt gebruiken;</li>\n",
    "    <li>leer je hoe een index (posities van letters) bij een string werkt en hoe je dus door de tekens van een string kan lopen;</li>\n",
    "    <li>leer je delen van tekst (substrings) uit een string te halen;</li>\n",
    "    <li>leer je de volgende stringfuncties gebruiken: <code>strip()</code>, <code>upper()</code>, <code>lower()</code>, <code>find()</code>, <code>replace()</code>, <code>split()</code>, <code>+</code> en <code>*</code>;\n",
    "    </li>\n",
    "    <li>leer je dat strings onveranderbaar zijn, dus dat je, als je een stringfunctie gebruikt,\n",
    "        een nieuwe variabele moet maken om het resultaat in op te slaan;</li>\n",
    "    <li>leer je hoe je de ASCII-waarde van een teken kunt krijgen met <code>ord()</code> of andersom <code>chr()</code>.\n",
    "    </li>\n",
    "</ul>\n",
    "<div class=\"fa fa-clock-o fa-3x\"></div><br>Verwerkingstijd: <b>1 uur</b>"
   ]
  },
  {
   "cell_type": "markdown",
   "metadata": {},
   "source": [
    "## 1: Inleiding strings (herhaling)\n",
    "\n",
    "\n",
    "<p>Ter herhaling: een string is een tekst, met daaromheen enkele of dubbele\n",
    "aanhalingstekens. Een string kan nul of meer tekens lang zijn. Je kunt twee strings aan\n",
    "elkaar plakken met de <code>+</code>-operator en strings herhalen met de <code>*</code>-operator\n",
    "</p>\n"
   ]
  },
  {
   "cell_type": "code",
   "execution_count": null,
   "metadata": {},
   "outputs": [],
   "source": [
    "woord1 = \"fiets\"\n",
    "woord2 = ' bel '\n",
    "print( woord1 )\n",
    "print( woord2 )\n",
    "print( woord1 + woord2 )\n",
    "print( 3 * woord1 )\n",
    "print( woord2 * 3 )\n",
    "print( 2 * woord1 + 2 * woord2 )"
   ]
  },
  {
   "cell_type": "markdown",
   "metadata": {},
   "source": [
    "\n",
    "\n",
    "<p>De lengte van een string kun je bepalen met de <code>len()</code>-functie.\n",
    " "
   ]
  },
  {
   "cell_type": "code",
   "execution_count": null,
   "metadata": {},
   "outputs": [],
   "source": [
    "tekst = \"fiets\"\n",
    "lengte = len(tekst) #bepaal lengte van woord\n",
    "\n",
    "print(lengte)"
   ]
  },
  {
   "cell_type": "markdown",
   "metadata": {},
   "source": [
    "<p>Met <code>in</code> kun je testen of een letter in een string voorkomt:</p>\n"
   ]
  },
  {
   "cell_type": "code",
   "execution_count": null,
   "metadata": {},
   "outputs": [],
   "source": [
    "woord = \"fiets\"\n",
    "\n",
    "if \"e\" in woord:\n",
    "\tprint( \"e gevonden in \"+ woord )"
   ]
  },
  {
   "cell_type": "markdown",
   "metadata": {},
   "source": [
    "## 2: Strings over meerdere regels\n",
    "\n",
    "\n",
    "<p>Een string kan bestaan uit meerdere regels tekst. In Python gebruik je dan drie\n",
    "    aanhalingstekens voor en achter de tekst in plaats van \t&eacute;&eacute;n:\n",
    "</p>\n"
   ]
  },
  {
   "cell_type": "code",
   "execution_count": null,
   "metadata": {},
   "outputs": [],
   "source": [
    "lange_string = \"\"\"Python is een programmeertaal die begin jaren 90 ontworpen en ontwikkeld werd door Guido van Rossum.\n",
    "        Python is ontwikkeld met het oog op leesbare code.\n",
    "        (Bron: Wikipedia)\"\"\""
   ]
  },
  {
   "cell_type": "markdown",
   "metadata": {},
   "source": [
    "## 3: Een nieuwe regel in een string\n",
    "\n",
    "<p>Met een\n",
    "    <i>newline</i>-teken (<code>\\n</code>) geef je aan dat er op een nieuwe regel begonnen moet worden.\n",
    "</p>\n",
    "<p>Bijvoorbeeld: <code>print(\"a\\nb\")</code> drukt 'a' op de ene regel af en 'b'\n",
    "    op een volgende regel.</p>\n"
   ]
  },
  {
   "cell_type": "markdown",
   "metadata": {},
   "source": [
    "### Opdracht 13.1 Nieuwe regel\n",
    "Zet in de code hieronder het newline-teken op de juiste plaats.\n"
   ]
  },
  {
   "cell_type": "code",
   "execution_count": null,
   "metadata": {},
   "outputs": [],
   "source": [
    "print(\"HoiHallo\")"
   ]
  },
  {
   "cell_type": "markdown",
   "metadata": {},
   "source": [
    "Klik <a href=\"https://course.cs.ru.nl/pythonVO/Teams/IA_uitwerkingen/IA_H13_oplossingen.html#opgave1321\">hier</a> voor een voorbeelduitwerking."
   ]
  },
  {
   "cell_type": "markdown",
   "metadata": {},
   "source": [
    "## 4: Index: positie van karakters in een string\n",
    "<p>Ieder teken in een\n",
    "    string heeft een positie (dit heet een index). Het eerste teken staat op index 0 en\n",
    "    loopt op tot en met de <b>lengte</b> van de string <b>min 1</b>.</p>\n",
    "\n",
    "<ul>\n",
    "    <li>De lengte van een string <code>woord</code> kun je berekenen met\n",
    "        <code>len(woord)</code>.\n",
    "    </li>\n",
    "    <li>De eerste letter van een string staat op\n",
    "        positie 0.</li>\n",
    "    <li>De laatste letter van de string heeft dus index\n",
    "        <code>len(woord)-1</code>.\n",
    "    </li>\n",
    "</ul>\n",
    "<p></p>\n",
    "\n",
    "<p>Het woord \"python\" heeft lengte 6. De 'p' zit op positie 0, 'y'\n",
    "    op positie 1 en 'n' op positie 5 (lengte -1).</p>\n",
    "\n",
    "<p>Je kunt een teken uit een string krijgen met de variabelenaam en de index tussen vierkante haken [ ]. Bijvoorbeeld:</p>\n",
    "\n"
   ]
  },
  {
   "cell_type": "code",
   "execution_count": null,
   "metadata": {},
   "outputs": [],
   "source": [
    "woord = \"aardbei\"\n",
    "print( woord[4] ) #print letter op index 4, dus de 5e letter: 'b'\n",
    "print( woord[2] ) #print teken op index 2, dus de 3e letter: 'r'\n",
    "print( woord[0] ) #print teken op index 0, dus de 1e letter: 'a'"
   ]
  },
  {
   "cell_type": "markdown",
   "metadata": {},
   "source": [
    "\n",
    "\n",
    "\n",
    "### Opdracht 13.2 Letters uit een woord\n",
    "\n",
    "<p>Hoe zou je de\n",
    "    eerste letter van een willekeurig woord afdrukken? En de laatste? Kun je\n",
    "    iets slims bedenken met de lengte van het woord?</p>\n",
    "\n",
    "<p>Gegeven het woord, maak gebruik van indices (de posities van de\n",
    "    letters) om af te drukken:</p>\n",
    "<ol style=\"list-style-type: lower-alpha\">\n",
    "    <li>de eerste en\n",
    "    </li>\n",
    "    <li>de laatste letter.\n",
    "    </li>\n",
    "</ol>\n",
    "<p>Let op: in de code krijg je een woord \"fiets\", maar voor het afdrukken van de laatste letter mag je niet het getal '4'\n",
    "    gebruiken; dat moet je namelijk berekenen zodat je code voor elk woord werkt.</p>\n",
    "\n"
   ]
  },
  {
   "cell_type": "code",
   "execution_count": null,
   "metadata": {},
   "outputs": [],
   "source": [
    "woord = \"fiets\"\n"
   ]
  },
  {
   "cell_type": "markdown",
   "metadata": {},
   "source": [
    "<p>Controleer je code met een ander woord, bijvoorbeeld: “programmeertaal”.</p>\n",
    "\n",
    "<p>Klik <a href=\"https://course.cs.ru.nl/pythonVO/Teams/IA_uitwerkingen/IA_H13_oplossingen.html#opgave1323\">hier</a> voor een voorbeelduitwerking.</p>"
   ]
  },
  {
   "cell_type": "markdown",
   "metadata": {},
   "source": [
    "## 5: Slicing: strings opknippen\n",
    "\n",
    "<p>Je kunt een string ophakken in\n",
    "    delen. Dat heet <i>slicing</i>. </p>\n",
    "<p>Je geeft dan aan vanaf welke en <b>tot</b> welke\n",
    "    index (positie) je wilt hebben (let op: dus <b>niet</b> tot en met).</p>\n",
    "\n",
    "<p> In het voorbeeld\n",
    "    hieronder wordt de tekst gepakt vanaf index 1 (dus letter 'y') tot index 4\n",
    "    (dus tot en met index 3, dus letter 'h'):</p>\n",
    "\n"
   ]
  },
  {
   "cell_type": "code",
   "execution_count": null,
   "metadata": {},
   "outputs": [],
   "source": [
    "tekst = \"Python\"\n",
    "deel_van_tekst = tekst[1:4]  #indices 1 tot 4 (oftewel index 1 t/m 3)\n",
    "\n",
    "print(deel_van_tekst)"
   ]
  },
  {
   "cell_type": "markdown",
   "metadata": {},
   "source": [
    "## 6: Strings doorlopen met een <code>for</code>-loop\n",
    "\n",
    "<p>Je kunt de tekens van een string &eacute;&eacute;n voor &eacute;&eacute;n doorlopen met een\n",
    "    <code>for</code> loop:\n",
    "</p>\n"
   ]
  },
  {
   "cell_type": "code",
   "execution_count": null,
   "metadata": {},
   "outputs": [],
   "source": [
    "woord = \"appel\"\n",
    "for letter in woord:\n",
    "    print( \"huidige letter is:\", letter )"
   ]
  },
  {
   "cell_type": "markdown",
   "metadata": {},
   "source": [
    "\n",
    "### Opdracht 13.3 Dagen van de week verkort</p>\n",
    "<!-- was\n",
    "12.5.1-->\n",
    "<!--<p><iframe frameborder=\"0\" width=\"100%\" height=\"400px\" src=\"https://repl.it/student_embed/assignment/1256899/478293cdc87c909cdff02e29c0349380\"></iframe></p>-->\n",
    "\n",
    "<p>Schrijf een <code>for</code>-loop die een lijst met strings doorloopt en van elke string de eerste twee\n",
    "    karakters print. Met de lijst <code>[ 'maandag', 'dinsdag', 'woensdag' ]</code> wordt dus het volgende\n",
    "    geprint:</p>\n",
    "<p><i>ma di wo</i></p>\n",
    "\n"
   ]
  },
  {
   "cell_type": "code",
   "execution_count": null,
   "metadata": {},
   "outputs": [],
   "source": [
    "dagenVanDeWeek =  [ 'maandag', 'dinsdag', 'woensdag']"
   ]
  },
  {
   "cell_type": "markdown",
   "metadata": {},
   "source": [
    "\n",
    "<p>Klik <a href=\"https://course.cs.ru.nl/pythonVO/Teams/IA_uitwerkingen/IA_H13_oplossingen.html#opgave1323\">hier</a> voor een voorbeelduitwerking.</p>\n",
    "\n"
   ]
  },
  {
   "cell_type": "markdown",
   "metadata": {},
   "source": [
    "\n",
    "### Opdracht 13.4 Print klinkers uit woorden in een lijst\n",
    "\n",
    "<p>Gebruik een <code>for</code>-loop om alle letters van een string één voor één\n",
    "    te doorlopen en de letter af te drukken als het een klinker is (dus als het een: a, e, i, o, u of y is).</p>\n",
    "\n"
   ]
  },
  {
   "cell_type": "code",
   "execution_count": null,
   "metadata": {},
   "outputs": [],
   "source": [
    "tekst = \"een Nederlander heeft programmeertaal Python bedacht.\""
   ]
  },
  {
   "cell_type": "markdown",
   "metadata": {},
   "source": [
    "<p>Controleer je code door de klinkers handmatig te tellen.</p> \n",
    "<p>Klik <a href=\"https://course.cs.ru.nl/pythonVO/Teams/IA_uitwerkingen/IA_H13_oplossingen.html#opgave1324\">hier</a> voor een voorbeelduitwerking.</p>\n",
    "\n"
   ]
  },
  {
   "cell_type": "markdown",
   "metadata": {},
   "source": [
    "### Opdracht 13.5 Aantal voorkomens in een woord\n",
    "\n",
    "<p>Schrijf een programma dat de gebruiker om een woord vraagt, telt hoe vaak de letter 'e' erin voorkomt en het resultaat dan\n",
    "    afdrukt.</p>\n",
    "\n",
    "<p>Het algoritme:</p>\n",
    "<ol style=\"list-style-type: lower-alpha\">\n",
    "    <li>Maak een teller;\n",
    "    </li>\n",
    "    <li>Vraag de gebruiker om een woord\n",
    "        in te voeren en sla het woord op in een variabele ;</li>\n",
    "    <li>Doorloop het woord per letter;\n",
    "    </li>\n",
    "    <li>Als de letter gelijk is aan 'e', verhoog je een teller; </li>\n",
    "    <li>Na het doorlopen van het woord druk je netjes af hoe\n",
    "        vaak de letter 'e' voorkomt. </li>\n",
    "</ol>\n",
    "\n"
   ]
  },
  {
   "cell_type": "code",
   "execution_count": null,
   "metadata": {},
   "outputs": [],
   "source": [
    "\n"
   ]
  },
  {
   "cell_type": "markdown",
   "metadata": {},
   "source": [
    "<p>Klik\n",
    "    <a href=\"https://course.cs.ru.nl/pythonVO/Teams/IA_uitwerkingen/IA_H13_oplossingen.html#opgave1325\">hier</a>\n",
    "    voor een voorbeelduitwerking.\n",
    "</p>\n"
   ]
  },
  {
   "cell_type": "markdown",
   "metadata": {},
   "source": [
    "## 7: Strings doorlopen met een <code>while</code>-loop\n",
    "\n",
    "<p>Je kunt ook met een <code>while</code>-loop de letters van een string\n",
    "    doorlopen:</p>\n"
   ]
  },
  {
   "cell_type": "code",
   "execution_count": null,
   "metadata": {},
   "outputs": [],
   "source": [
    "woord = \"appel\"\n",
    "i = 0\n",
    "while i < len( woord ):\n",
    "    print( woord[i] )\n",
    "    i += 1"
   ]
  },
  {
   "cell_type": "markdown",
   "metadata": {},
   "source": [
    "\n",
    "\n",
    "<p>Een <code>while</code> gebruik je in plaats van een <code>for</code> als je een string aanpast terwijl je deze\n",
    "    doorloopt (bijvoorbeeld door er letters uit te halen).</p>\n",
    "\n",
    "<!-- <pre class=\"python\"> woord = \"appel\" i = 0 while i < len( woord ): print( woord[i] ) i += 1 </pre> -->"
   ]
  },
  {
   "cell_type": "markdown",
   "metadata": {},
   "source": [
    "## 8: Handige stringfuncties\n",
    "\n",
    "<p>Er is een aantal handige functies die je kunt gebruiken om strings aan te passen. Na het aanpassen van\n",
    "    een string moet je deze opslaan in een variabele. Dat komt omdat strings\n",
    "    onveranderbaar zijn.</p>\n",
    "\n",
    "### <p><b><code>strip()</code></b></p>\n",
    "<p><code>strip()</code> verwijdert spaties aan het begin en einde van een\n",
    "    string, inclusief \"newline\"-tekens en andere tekens die\n",
    "    als spaties gezien kunnen worden. Zo roep je de functie aan:\n",
    "    <code>variabelenaam.strip()</code>. Het resultaat moet je dan in een variabele\n",
    "    opslaan, vandaar <code>tekst = </code>.\n",
    "</p>\n",
    "\n",
    "\n"
   ]
  },
  {
   "cell_type": "code",
   "execution_count": null,
   "metadata": {},
   "outputs": [],
   "source": [
    "tekst = \"   een tekst met spaties er voor en erachter \\n    \"\n",
    "print(\"[start]\" + tekst + \"[einde]\")\n",
    "\n",
    "tekst = tekst.strip()\n",
    "print(\"[start]\" + tekst + \"[einde]\")"
   ]
  },
  {
   "cell_type": "markdown",
   "metadata": {},
   "source": [
    "<p>In dit voorbeeld laat '[start]' en '[einde]' zien wat er overblijft na het 'strippen' van de\n",
    "  spaties en het newline-teken <code>‘\\n’</code>.</p>\n",
    "\n",
    "<p>Andere tekens verwijderen kan door deze als parameter, tussen aanhalingstekens, mee te geven:</p>\n",
    "\n"
   ]
  },
  {
   "cell_type": "code",
   "execution_count": null,
   "metadata": {},
   "outputs": [],
   "source": [
    "tekst = \",,,,grrtt.....fiets....ttttr\"\n",
    "\n",
    "gestripte_tekst = tekst.strip(\",.grt\")\n",
    "\n",
    "print(gestripte_tekst)"
   ]
  },
  {
   "cell_type": "markdown",
   "metadata": {},
   "source": [
    "\n",
    "### <p><b><code>upper()</code> en <code>lower()</code></b></p>\n",
    "<p><code>upper()</code> maakt hoofdletters van alle letters in een string en\n",
    "    <code>lower()</code> kleine letters. Je moet het resultaat wel in een variabele\n",
    "    opslaan, want de oorspronkelijke tekst wordt niet aangepast.\n",
    "</p>\n",
    "\n"
   ]
  },
  {
   "cell_type": "code",
   "execution_count": null,
   "metadata": {},
   "outputs": [],
   "source": [
    "tekst = \"Programmeren is leuk!\"\n",
    "hoofdletter_tekst = tekst.upper() #maak hoofdletters en in nieuwe variabele opslaan\n",
    "print( hoofdletter_tekst )\n",
    "\n",
    "kleineletter_tekst = tekst.lower() #maak kleine letters van tekst en opslaan in nieuwe variabele\n",
    "print( kleineletter_tekst )\n",
    "\n",
    "\n",
    "print(\"oorspronkelijke tekst:\", tekst) #oorspronkelijke tekst is niet gewijzigd"
   ]
  },
  {
   "cell_type": "markdown",
   "metadata": {},
   "source": [
    "\n",
    "### Opdracht 13.6 <code>upper()</code> en <code>lower()</code>\n",
    "</p>\n",
    "<p>Print de tekst hieronder drie keer:</p>\n",
    "<ol style=\"list-style-type: lower-alpha\">\n",
    "    <li>gewoon afdrukken </li>\n",
    "    <li>alleen met hoofdletters afdrukken </li>\n",
    "    <li>alleen met kleine letters\n",
    "        afdrukken </li>\n",
    "</ol>\n"
   ]
  },
  {
   "cell_type": "code",
   "execution_count": null,
   "metadata": {},
   "outputs": [],
   "source": [
    "tekst = \"Dikkertje Dap klom op de trap.\""
   ]
  },
  {
   "cell_type": "markdown",
   "metadata": {},
   "source": [
    "<p>Klik <a href=\"https://course.cs.ru.nl/pythonVO/Teams/IA_uitwerkingen/IA_H13_oplossingen.html#opgave1326\">hier</a> voor een voorbeelduitwerking.</p>\n",
    "\n",
    "\n"
   ]
  },
  {
   "cell_type": "markdown",
   "metadata": {},
   "source": [
    "\n",
    "### <p><b><code>find()</code></b></p>\n",
    "\n",
    "<p><code>find()</code> kun je\n",
    "    gebruiken om te zoeken in een string. Je krijgt dan\n",
    "    de index (positie) waar de tekens beginnen. Als de tekens niet voorkomen, dan levert het -1\n",
    "    op.</p>\n",
    "\n",
    "\n"
   ]
  },
  {
   "cell_type": "code",
   "execution_count": null,
   "metadata": {},
   "outputs": [],
   "source": [
    "tekst = \"Dikkertje Dap klom op de trap.\"\n",
    "print( tekst.find( \"klom\" ) )\n",
    "print( tekst.find( \"k\" ) )\n",
    "print( tekst.find( \"q\" ) )"
   ]
  },
  {
   "cell_type": "markdown",
   "metadata": {},
   "source": [
    "\n",
    "### Opdracht 13.7 <code>find()</code>\n",
    "\n",
    "<p>Schrijf code om\n",
    "    te bepalen op welk index (positie) de volgende tekens in de tekst voorkomen: </p>\n",
    "<ul>\n",
    "    <li>\"Lang\"\n",
    "    </li>\n",
    "    <li>\"lang\" </li>\n",
    "    <li>\"leven\" </li>\n",
    "    <li>\"f\" </li>\n",
    "</ul>\n",
    "<p>tekst: <i>\"Lang zal hij leven, Lang zal hij leven, Lang zal\n",
    "        hij leven in de gloria, In de gloria, in de gloria\" </i></p>\n",
    "\n",
    "<p>Bekijk elke regel die in de console wordt afgedrukt. Kun je uitleggen waarom die wordt afgedrukt?</p>\n",
    "\n"
   ]
  },
  {
   "cell_type": "code",
   "execution_count": null,
   "metadata": {},
   "outputs": [],
   "source": [
    "tekst = \"Lang zal hij leven, Lang zal hij leven, Lang zal hij leven in de gloria, In de gloria, in de gloria\"\n"
   ]
  },
  {
   "cell_type": "markdown",
   "metadata": {},
   "source": [
    "<p>Klik <a href=\"https://course.cs.ru.nl/pythonVO/Teams/IA_uitwerkingen/IA_H13_oplossingen.html#opgave1327\">hier</a> voor een voorbeelduitwerking.\n",
    "\n",
    "</p>\n",
    "\n"
   ]
  },
  {
   "cell_type": "markdown",
   "metadata": {},
   "source": [
    "\n",
    "### <p><b><code>replace()</code></b></p>\n",
    "<p><code>replace()</code>\n",
    "    vervangt tekens door andere tekens. Tussen de haakjes geef je als parameters eerst mee welke tekens gezocht moeten worden en als tweede waar deze door vervangen moeten worden. Ter herinnering: je moet het resultaat opslaan in een variabele.</p>\n",
    "\n"
   ]
  },
  {
   "cell_type": "code",
   "execution_count": null,
   "metadata": {},
   "outputs": [],
   "source": [
    "tekst = \" Humpty Dumpty zat op de muur \"\n",
    "print( tekst.replace( \"zat op\" , \"viel van\" ) )"
   ]
  },
  {
   "cell_type": "markdown",
   "metadata": {},
   "source": [
    "\n",
    "### Opdracht 13.8 <code>replace()</code>\n",
    "\n",
    "<p>De code\n",
    "    hieronder vervangt \"zat op\" door \"viel van\". Maar als je daarna de variabele\n",
    "    <code>tekst</code> afdrukt, zie je dat die niet veranderd is. Pas de code aan\n",
    "    zodat de aanpassing opgeslagen wordt in de variabele <code>tekst</code>.\n",
    "</p>\n",
    "\n"
   ]
  },
  {
   "cell_type": "code",
   "execution_count": null,
   "metadata": {},
   "outputs": [],
   "source": [
    "tekst = \"Humpty Dumpty zat op de muur\"\n",
    "print( tekst.replace( \"zat op\" , \"viel van\" ) )\n",
    "print(tekst)"
   ]
  },
  {
   "cell_type": "markdown",
   "metadata": {},
   "source": [
    "\n",
    "<p>Klik <a href=\"https://course.cs.ru.nl/pythonVO/Teams/IA_uitwerkingen/IA_H13_oplossingen.html#opgave1328\">hier</a> voor een voorbeelduitwerking.</p>\n",
    "\n",
    "<!-- Uitvoer: Humpty Dumpty viel van de muur\n",
    " Humpty Dumpty zat op de muur\n",
    " -->"
   ]
  },
  {
   "cell_type": "markdown",
   "metadata": {},
   "source": [
    "## 9: ASCII gebruiken in Python\n",
    "<p>Zoals je bij de cursus 'Informatie digitaal' hebt geleerd wordt ASCII-code gebruikt om tekens te coderen. Hieronder zie je een deel van de ASCII-tabel. De hexadecimale code voor ieder teken staat\n",
    "    naast de decimale code. </p>\n",
    "\n",
    "<div class=\"figure\"> <img src=\"http://course.cs.ru.nl/pythonVO/img/ASCII_tabel.PNG\" alt=\"ASCII tabel\">\n",
    "    <p class=\"caption\">ASCII-tabel</p>\n",
    "</div>\n",
    "\n",
    "<p>Bij elk teken hoort een decimale waarde. Om erachter te komen welke waarde bij een teken hoort, gebruik je <code>ord()</code>. Bijvoorbeeld: <code>ord('A')</code> levert de waarde van 'A' op: 65.</p>\n",
    "\n",
    "<p>Om erachter te komen welk teken bij een waarde hoort, gebruik je <code>chr()</code>. Aan <code>chr()</code> geef je de decimale waarde mee en dat levert het bijbehorende\n",
    "    teken op. Bijvoorbeeld, <code>chr(65)</code> is de letter 'A'. </p>\n",
    "\n"
   ]
  },
  {
   "cell_type": "code",
   "execution_count": null,
   "metadata": {},
   "outputs": [],
   "source": [
    "print( ord( 'A' ) )\n",
    "print( ord( 'a' ) )\n",
    "print( chr( 65 ) )\n",
    "print( chr( 97 ) )"
   ]
  },
  {
   "cell_type": "markdown",
   "metadata": {},
   "source": [
    "\n",
    "### Opdracht 13.9 Het alfabet afdrukken\n",
    "<!--<p class=\"opdracht\" id=\"opgave-10.5.1_alfabet_afdrukken\"><span style=\"color:red\">Opdracht</span>\n",
    "10.5.1 Het alfabet afdrukken</p>-->\n",
    "<p>Druk alle hoofdletters van \"A\" tot en met \"Z\" af.</p>\n",
    "\n",
    "<p>Tip: dit doe je natuurlijk niet door alle letters één voor één in te\n",
    "    tikken! Maak gebruik van de functies <code>ord()</code> of\n",
    "    <code>chr()</code>. Met <code>print(... , end=\" \")</code> druk je een\n",
    "    spatie af in plaats van een nieuwe regel.\n",
    "</p>\n",
    "\n",
    "\n"
   ]
  },
  {
   "cell_type": "code",
   "execution_count": null,
   "metadata": {},
   "outputs": [],
   "source": [
    "for i in range( 26 ):\n"
   ]
  },
  {
   "cell_type": "markdown",
   "metadata": {},
   "source": [
    "<p>Klik <a href=\"https://course.cs.ru.nl/pythonVO/Teams/IA_uitwerkingen/IA_H13_oplossingen.html#opgave1329\">hier</a> voor een voorbeelduitwerking.</p>"
   ]
  }
 ],
 "metadata": {
  "language_info": {
   "name": "python"
  }
 },
 "nbformat": 4,
 "nbformat_minor": 2
}
