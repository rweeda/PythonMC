{
 "cells": [
  {
   "cell_type": "markdown",
   "metadata": {},
   "source": [
    "# Hoofdstuk 1 - Instructies geven\n",
    "\n",
    "<h4 id=\"H1\">Hoofdstuk 1 - Instructies geven</h4>\n",
    "\n",
    "<p>Programmeren leer je door te doen! We gaan dus steeds kleine stukjes uitleg geven en je tussendoor laten oefenen met het lezen, aanpassen en schrijven van code. We gaan aan de slag met Python, een wereldwijd veelgebruikte programmeertaal.</p>\n",
    "<p>Alle lesmateriaal vind je op deze site terug. Om de opgaven te kunnen maken moet je eerst een login maken bij Repl.it. Dat ga je in hoofdstuk '1: Eenmalig een Replit-account aanmaken' doen.&nbsp;</p>\n",
    "<p>Daarna ga je in '2: Je oplossing runnen en testen'\n",
    "    al meteen aan de slag met het schrijven van je eerste programma.</p>\n",
    "\n",
    "<p><span style=\"font-size: 1rem;\">In dit onderwerp:</span></p>\n",
    "<ul>\n",
    "    <li>leer je hoe je (eenmalig) in Replit een account maakt zodat je toegang krijgt tot een programmeeromgeving om de opdrachten in te maken;</li>\n",
    "    <li>leer je een computerprogramma schrijven in de taal Python;</li>\n",
    "    <li>leer je hoe je code kan schrijven en runnen;</li>\n",
    "    <li>leer je met <code>Turtle</code> een figuur te tekenen;</li>\n",
    "    <li>leer je met commentaar aan te geven wat het doel van een blokje code is;</li>\n",
    "    <li>leer je dat het belangrijk is dat de code netjes onder elkaar staat.\n",
    "    </li>\n",
    "</ul>\n",
    "\n",
    "\n",
    "\n",
    "<div class=\"fa fa-clock-o fa-3x\"></div><br>Verwachte tijd: <b>1 uur</b>"
   ]
  }
 ],
 "metadata": {
  "language_info": {
   "name": "python"
  }
 },
 "nbformat": 4,
 "nbformat_minor": 2
}
