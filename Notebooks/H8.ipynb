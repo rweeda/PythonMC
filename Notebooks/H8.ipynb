{
 "cells": [
  {
   "cell_type": "markdown",
   "metadata": {},
   "source": [
    "# Hoofdstuk 8 - Herhalingen met een for-loop\n",
    "\n",
    "<p>Om dingen te herhalen kun je behalve een <code>while</code>-loop ook soms een <code>for</code>-loop gebruiken.</p>\n",
    "\n",
    "\n",
    "<p>Een <code>while</code>-loop kan voor elke herhaling gebruikt worden. Een <code>for</code>-loop kun je alleen gebruiken als vooraf duidelijk is hoe vaak de code in de loop herhaald moet worden.</p>\n",
    "\n",
    "\n",
    "In dit onderwerp:\n",
    "<ul>\n",
    "    <li>leer je een <code>for</code>-loop te gebruiken om een actie herhaaldelijk uit te voeren;\n",
    "    </li>\n",
    "    <li>leer je <code>range()</code> met 1 parameter te gebruiken om te bepalen hoe vaak een actie herhaald moet worden. Bijvoorbeeld: <code>for teller in range(5):</code>\n",
    "    </li>\n",
    "    <li>leer je <code>range()</code> met 2 parameters te gebruiken om startwaarde en eindgrens van een herhaling aan te geven. Bijvoorbeeld: <code>for teller in range(2,7):</code>\n",
    "    </li>\n",
    "    <li>leer je <code>range()</code> met 3 parameters te gebruiken om startwaarde, eindgrens en stapgrootte van een herhaling aan te geven. Bijvoorbeeld: <code>for teller in range(2,13,3):</code>\n",
    "    </li>\n",
    "</ul>\n",
    "<p></p>\n",
    "\n",
    "\n",
    "Verwachte tijd: <b>1 uur</b>"
   ]
  },
  {
   "cell_type": "markdown",
   "metadata": {},
   "source": [
    "## 1: Herhalingen met een for-loop\n",
    "\n",
    "[![Watch the video](https://img.youtube.com/vi/yxG46oJbbHc/hqdefault.jpg)](https://www.youtube.com/embed/yxG46oJbbHc)\n",
    "\n",
    "<p>Met <code>range()</code> geef je aan hoe vaak een <code>for</code>-loop herhaald wordt. Het volgende voorbeeld print 3 keer <i>Hallo</i> en na afloop van de loop print het\n",
    "    <i>Klaar!</i>.\n",
    "</p>"
   ]
  },
  {
   "cell_type": "code",
   "execution_count": null,
   "metadata": {},
   "outputs": [],
   "source": [
    "for teller in range (3):\n",
    "\tprint(\"Hallo\")\n",
    "print(\"Klaar!\")"
   ]
  },
  {
   "cell_type": "markdown",
   "metadata": {},
   "source": [
    "<p>Toelichting:</p>\n",
    "<ul>\n",
    "    <li><code>teller</code> is een variabele die bijhoudt hoe vaak de codeblok is uitgevoerd. De <code>teller</code> begint bij 0. De code wordt herhaald totdat <code>teller</code> gelijk is aan het getal bij <code>range</code>, in dit voorbeeld 3. In dit geval wordt de codeblok dus 3 keer uitgevoerd.</li>\n",
    "    <li>De codeblok die onder de <code>for</code> is ingesprongen wordt herhaald.<p></p>\n",
    "    </li>\n",
    "    <li>Elke keer na het uitvoeren van de codeblok wordt gekeken of de <code>teller</code> gelijk is aan het getal bij <code>range</code>. Als dat zo is, dan wordt de herhaling gestopt en gaat de code verder waar er nog niet is ingesprongen. Anders wordt de <code>teller</code> opgehoogd en herhaalt de codeblok nog een keer.\n",
    "    </li>\n",
    "</ul>\n",
    "\n",
    "<p>De volgende code drukt 10 waarden af, beginnend bij 0. Dus: 0, 1, 2, 3, ..., 9:</p>"
   ]
  },
  {
   "cell_type": "code",
   "execution_count": null,
   "metadata": {},
   "outputs": [],
   "source": [
    "for teller in range( 10 ):\n",
    "\tprint( teller )"
   ]
  },
  {
   "cell_type": "markdown",
   "metadata": {},
   "source": [
    "<p>In de code hierboven wordt de codeblok onder de <code>for</code> 10 keer uitgevoerd. Omdat we in de\n",
    "    informatica altijd bij 0 beginnen te tellen, krijgt <code>teller</code> eerst de waarde 0, dan 1, 2, ...  en als laatste 9.\n",
    "    Dat zijn 10 herhalingen.</p>"
   ]
  },
  {
   "cell_type": "markdown",
   "metadata": {},
   "source": [
    "## 2: Oefenen met een for-loop"
   ]
  },
  {
   "cell_type": "markdown",
   "metadata": {},
   "source": [
    "### Opdracht 8.1: Cirkel tekenen\n",
    "\n",
    "<p>Met de code hieronder kan Turtle een cirkel tekenen door gebruik te maken van een <code>for</code>-loop. Helaas staan de regels code in de verkeerde volgorde. Kan jij ze in de juiste volgorde zetten?</p>\n"
   ]
  },
  {
   "cell_type": "code",
   "execution_count": null,
   "metadata": {
    "tags": [
     "Opdracht"
    ]
   },
   "outputs": [],
   "source": [
    "\tturtle.forward(20)\n",
    "import turtle\n",
    "for aantal_herhalingen in range(40):\n",
    "turtle.pendown()\n",
    "turtle.done()\n",
    "\tturtle.right(10)"
   ]
  },
  {
   "cell_type": "markdown",
   "metadata": {},
   "source": [
    "<p><a href=\"https://course.cs.ru.nl/pythonVO/Teams/IA_uitwerkingen/IA_H8_oplossingen.html#opgave811\">Klik hier</a> voor een voorbeelduitwerking.</p>\n"
   ]
  },
  {
   "cell_type": "markdown",
   "metadata": {},
   "source": [
    "### Opdracht 8.2: Strafregels\n",
    "\n",
    "<p>Ben je vergeten je huiswerk te maken? Helaas zal je nu strafregels moeten schrijven. Gelukkig ben je een slimme scholier en besluit je om een programma te schrijven dat voor jou je strafwerk schrijft.</p>\n",
    "\n",
    "<p>Schrijf een programma dat gebruikt maakt van een <code>for</code>-loop om de volgende tekst 100 keer af te drukken: <i>Ik zal nooit meer vergeten om mijn informaticahuiswerk te maken.</i></p>\n",
    "<p>Na afloop druk je eenmalig af: <i>Dat beloof ik.</i></p>"
   ]
  },
  {
   "cell_type": "code",
   "execution_count": null,
   "metadata": {
    "tags": [
     "Opdracht"
    ]
   },
   "outputs": [],
   "source": [
    "print(\"Ik zal nooit meer vergeten om mijn informaticahuiswerk te maken.\")"
   ]
  },
  {
   "cell_type": "markdown",
   "metadata": {},
   "source": [
    "<p><a href=\"https://course.cs.ru.nl/pythonVO/Teams/IA_uitwerkingen/IA_H8_oplossingen.html#opgave812\">Klik hier</a> voor een voorbeelduitwerking.</p>\n"
   ]
  },
  {
   "cell_type": "markdown",
   "metadata": {},
   "source": [
    "## Opdracht 8.3: Vierkantje tekenen\n",
    "\n",
    "<p>De code hieronder tekent een vierkant. Maar er staat wel veel dubbele code in, namelijk: er worden twee regels code maar liefst vier keer herhaald. Vervang de acht regels code door twee regels en gebruik een <code>for</code>-loop om die twee regels code vier keer te herhalen. Test of je programma nog steeds een vierkant tekent.</p>\n"
   ]
  },
  {
   "cell_type": "code",
   "execution_count": null,
   "metadata": {
    "tags": [
     "Opdracht"
    ]
   },
   "outputs": [],
   "source": [
    "import turtle\n",
    "\n",
    "### FUNCTIEDEFINITIE\n",
    "\n",
    "#tekent een vierkant door 4 keer vooruit de gegeven lengte vooruit te lopen en 90 graden te draaien.\n",
    "def tekenVierkant( lengte ):\n",
    "    turtle.forward(lengte)\n",
    "    turtle.right(90)\n",
    "    turtle.forward(lengte)\n",
    "    turtle.right(90)\n",
    "    turtle.forward(lengte)\n",
    "    turtle.right(90)\n",
    "    turtle.forward(lengte)\n",
    "    turtle.right(90)\n",
    "\n",
    "\n",
    "### HOOFDPROGRAMMA\n",
    "turtle.pendown()\n",
    "for teller in range(4):\n",
    "\ttekenVierkant( 100 )\n",
    "\n"
   ]
  },
  {
   "cell_type": "markdown",
   "metadata": {},
   "source": [
    "<p><a href=\"https://course.cs.ru.nl/pythonVO/Teams/IA_uitwerkingen/IA_H8_oplossingen.html#opgave813\">Klik hier</a> voor een voorbeelduitwerking.</p>\n"
   ]
  },
  {
   "cell_type": "markdown",
   "metadata": {},
   "source": [
    "### Opdracht 8.4: Drie lievelingskleuren\n",
    "\n",
    "<p>Schrijf een programma dat een gebruiker om zijn drie lievelingskleuren vraagt en na de derde print: <i>Dat zijn drie mooie kleuren!</i> Gebruik hiervoor een <code>for</code>-loop.</p>\n"
   ]
  },
  {
   "cell_type": "code",
   "execution_count": null,
   "metadata": {
    "tags": [
     "Opdracht"
    ]
   },
   "outputs": [],
   "source": []
  },
  {
   "cell_type": "markdown",
   "metadata": {},
   "source": [
    "<p>Bekijk <a href=\"http://course.cs.ru.nl/pythonVO/Jupyter/H8_oplossingen.html#opgave814\" target=\"_blank\">hier</a> de voorbeelduitwerking.</p>"
   ]
  }
 ],
 "metadata": {
  "kernelspec": {
   "display_name": "Python 3",
   "language": "python",
   "name": "python3"
  },
  "language_info": {
   "name": "python",
   "version": "3.12.3"
  }
 },
 "nbformat": 4,
 "nbformat_minor": 2
}
