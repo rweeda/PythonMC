{
 "cells": [
  {
   "cell_type": "markdown",
   "metadata": {},
   "source": [
    "## 9: ASCII gebruiken in Python\n",
    "<p>Zoals je bij de cursus 'Informatie digitaal' hebt geleerd wordt ASCII-code gebruikt om tekens te coderen. Hieronder zie je een deel van de ASCII-tabel. De hexadecimale code voor ieder teken staat\n",
    "    naast de decimale code. </p>\n",
    "\n",
    "<div class=\"figure\"> <img src=\"http://course.cs.ru.nl/pythonVO/img/ASCII_tabel.PNG\" alt=\"ASCII tabel\">\n",
    "    <p class=\"caption\">ASCII-tabel</p>\n",
    "</div>\n",
    "\n",
    "<p>Bij elk teken hoort een decimale waarde. Om erachter te komen welke waarde bij een teken hoort, gebruik je <code>ord()</code>. Bijvoorbeeld: <code>ord('A')</code> levert de waarde van 'A' op: 65.</p>\n",
    "\n",
    "<p>Om erachter te komen welk teken bij een waarde hoort, gebruik je <code>chr()</code>. Aan <code>chr()</code> geef je de decimale waarde mee en dat levert het bijbehorende\n",
    "    teken op. Bijvoorbeeld, <code>chr(65)</code> is de letter 'A'. </p>\n",
    "\n"
   ]
  },
  {
   "cell_type": "code",
   "execution_count": null,
   "metadata": {},
   "outputs": [],
   "source": [
    "print( ord( 'A' ) )\n",
    "print( ord( 'a' ) )\n",
    "print( chr( 65 ) )\n",
    "print( chr( 97 ) )"
   ]
  },
  {
   "cell_type": "markdown",
   "metadata": {},
   "source": [
    "\n",
    "### Opdracht 13.9 Het alfabet afdrukken\n",
    "<!--<p class=\"opdracht\" id=\"opgave-10.5.1_alfabet_afdrukken\"><span style=\"color:red\">Opdracht</span>\n",
    "10.5.1 Het alfabet afdrukken</p>-->\n",
    "<p>Druk alle hoofdletters van \"A\" tot en met \"Z\" af.</p>\n",
    "\n",
    "<p>Tip: dit doe je natuurlijk niet door alle letters één voor één in te\n",
    "    tikken! Maak gebruik van de functies <code>ord()</code> of\n",
    "    <code>chr()</code>. Met <code>print(... , end=\" \")</code> druk je een\n",
    "    spatie af in plaats van een nieuwe regel.\n",
    "</p>\n",
    "\n",
    "\n"
   ]
  },
  {
   "cell_type": "code",
   "execution_count": null,
   "metadata": {},
   "outputs": [],
   "source": [
    "for i in range( 26 ):\n"
   ]
  },
  {
   "cell_type": "markdown",
   "metadata": {},
   "source": [
    "<p>Klik <a href=\"https://course.cs.ru.nl/pythonVO/Teams/IA_uitwerkingen/IA_H13_oplossingen.html#opgave1329\">hier</a> voor een voorbeelduitwerking.</p>"
   ]
  }
 ],
 "metadata": {
  "language_info": {
   "name": "python"
  }
 },
 "nbformat": 4,
 "nbformat_minor": 2
}
