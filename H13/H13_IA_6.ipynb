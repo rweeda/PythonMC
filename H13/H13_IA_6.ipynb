{
 "cells": [
  {
   "cell_type": "markdown",
   "metadata": {},
   "source": [
    "## 6: Strings doorlopen met een <code>for</code>-loop\n",
    "\n",
    "<p>Je kunt de tekens van een string &eacute;&eacute;n voor &eacute;&eacute;n doorlopen met een\n",
    "    <code>for</code> loop:\n",
    "</p>\n"
   ]
  },
  {
   "cell_type": "code",
   "execution_count": null,
   "metadata": {},
   "outputs": [],
   "source": [
    "woord = \"appel\"\n",
    "for letter in woord:\n",
    "    print( \"huidige letter is:\", letter )"
   ]
  },
  {
   "cell_type": "markdown",
   "metadata": {},
   "source": [
    "\n",
    "### Opdracht 13.3 Dagen van de week verkort</p>\n",
    "<!-- was\n",
    "12.5.1-->\n",
    "<!--<p><iframe frameborder=\"0\" width=\"100%\" height=\"400px\" src=\"https://repl.it/student_embed/assignment/1256899/478293cdc87c909cdff02e29c0349380\"></iframe></p>-->\n",
    "\n",
    "<p>Schrijf een <code>for</code>-loop die een lijst met strings doorloopt en van elke string de eerste twee\n",
    "    karakters print. Met de lijst <code>[ 'maandag', 'dinsdag', 'woensdag' ]</code> wordt dus het volgende\n",
    "    geprint:</p>\n",
    "<p><i>ma di wo</i></p>\n",
    "\n"
   ]
  },
  {
   "cell_type": "code",
   "execution_count": null,
   "metadata": {},
   "outputs": [],
   "source": [
    "dagenVanDeWeek =  [ 'maandag', 'dinsdag', 'woensdag']"
   ]
  },
  {
   "cell_type": "markdown",
   "metadata": {},
   "source": [
    "\n",
    "<p>Klik <a href=\"https://course.cs.ru.nl/pythonVO/Teams/IA_uitwerkingen/IA_H13_oplossingen.html#opgave1323\">hier</a> voor een voorbeelduitwerking.</p>\n",
    "\n"
   ]
  },
  {
   "cell_type": "markdown",
   "metadata": {},
   "source": [
    "\n",
    "### Opdracht 13.4 Print klinkers uit woorden in een\n",
    "    lijst\n",
    "\n",
    "<p>Gebruik een <code>for</code>-loop om alle letters van een string één voor één\n",
    "    te doorlopen en de letter af te drukken als het een klinker is (dus als het een: a, e, i, o, u of y is).</p>\n",
    "\n"
   ]
  },
  {
   "cell_type": "code",
   "execution_count": null,
   "metadata": {},
   "outputs": [],
   "source": [
    "tekst = \"een Nederlander heeft programmeertaal Python bedacht.\""
   ]
  },
  {
   "cell_type": "markdown",
   "metadata": {},
   "source": [
    "<p>Controleer je code door de klinkers handmatig te tellen.</p> \n",
    "<p>Klik <a href=\"https://course.cs.ru.nl/pythonVO/Teams/IA_uitwerkingen/IA_H13_oplossingen.html#opgave1324\">hier</a> voor een voorbeelduitwerking.</p>\n",
    "\n"
   ]
  },
  {
   "cell_type": "markdown",
   "metadata": {},
   "source": [
    "### Opdracht 13.5 Aantal voorkomens in een woord\n",
    "\n",
    "<p>Schrijf een programma dat de gebruiker om een woord vraagt, telt hoe vaak de letter 'e' erin voorkomt en het resultaat dan\n",
    "    afdrukt.</p>\n",
    "\n",
    "<p>Het algoritme:</p>\n",
    "<ol style=\"list-style-type: lower-alpha\">\n",
    "    <li>Maak een teller;\n",
    "    </li>\n",
    "    <li>Vraag de gebruiker om een woord\n",
    "        in te voeren en sla het woord op in een variabele ;</li>\n",
    "    <li>Doorloop het woord per letter;\n",
    "    </li>\n",
    "    <li>Als de letter gelijk is aan 'e', verhoog je een teller; </li>\n",
    "    <li>Na het doorlopen van het woord druk je netjes af hoe\n",
    "        vaak de letter 'e' voorkomt. </li>\n",
    "</ol>\n",
    "\n"
   ]
  },
  {
   "cell_type": "code",
   "execution_count": null,
   "metadata": {},
   "outputs": [],
   "source": [
    "\n"
   ]
  },
  {
   "cell_type": "markdown",
   "metadata": {},
   "source": [
    "<p>Klik\n",
    "    <a href=\"https://course.cs.ru.nl/pythonVO/Teams/IA_uitwerkingen/IA_H13_oplossingen.html#opgave1325\">hier</a>\n",
    "    voor een voorbeelduitwerking.\n",
    "</p>\n"
   ]
  }
 ],
 "metadata": {
  "language_info": {
   "name": "python"
  }
 },
 "nbformat": 4,
 "nbformat_minor": 2
}
