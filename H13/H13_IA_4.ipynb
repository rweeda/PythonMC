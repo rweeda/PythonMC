{
 "cells": [
  {
   "cell_type": "markdown",
   "metadata": {},
   "source": [
    "## 4: Index: positie van karakters in een string\n",
    "<p>Ieder teken in een\n",
    "    string heeft een positie (dit heet een index). Het eerste teken staat op index 0 en\n",
    "    loopt op tot en met de lengte van de string <b>min 1</b>.</p>\n",
    "\n",
    "\n",
    "<p></p>\n",
    "<ul>\n",
    "    <li>De lengte van een string <code>woord</code> kun je berekenen met\n",
    "        <code>len(woord)</code>.\n",
    "    </li>\n",
    "    <li>De eerste letter van een string staat op\n",
    "        positie 0.</li>\n",
    "    <li>De laatste letter van de string heeft dus index\n",
    "        <code>len(woord)-1</code>.\n",
    "    </li>\n",
    "</ul>\n",
    "<p></p>\n",
    "\n",
    "<p>Het woord \"python\" heeft lengte 6. De 'p' zit op positie 0, 'y'\n",
    "    op positie 1 en 'n' op positie 5 (lengte -1).</p>\n",
    "\n",
    "<p>Je kunt een teken uit een string krijgen met de variabelenaam en de index tussen vierkante haken [ ]. Bijvoorbeeld:</p>\n",
    "\n"
   ]
  },
  {
   "cell_type": "code",
   "execution_count": null,
   "metadata": {},
   "outputs": [],
   "source": [
    "woord = \"aardbei\"\n",
    "print( woord[4] ) #print letter op index 4, dus de 5e letter: 'b'\n",
    "print( woord[2] ) #print teken op index 2, dus de 3e letter: 'r'\n",
    "print( woord[0] ) #print teken op index 0, dus de 1e letter: 'a'"
   ]
  },
  {
   "cell_type": "markdown",
   "metadata": {},
   "source": [
    "\n",
    "\n",
    "\n",
    "### Opdracht 13.2 Letters uit een woord\n",
    "\n",
    "<p>Hoe zou je de\n",
    "    eerste letter van een willekeurig woord afdrukken? En de laatste? Kun je\n",
    "    iets slims bedenken met de lengte van het woord?</p>\n",
    "\n",
    "<p>Gegeven het woord, maak gebruik van indices (de posities van de\n",
    "    letters) om af te drukken:</p>\n",
    "<ol style=\"list-style-type: lower-alpha\">\n",
    "    <li>de eerste en\n",
    "    </li>\n",
    "    <li>de laatste letter.\n",
    "    </li>\n",
    "</ol>\n",
    "<p>Let op: in de code krijg je een woord \"fiets\", maar voor het afdrukken van de laatste letter mag je niet het getal '4'\n",
    "    gebruiken; dat moet je namelijk berekenen zodat je code voor elk woord werkt.</p>\n",
    "\n"
   ]
  },
  {
   "cell_type": "code",
   "execution_count": null,
   "metadata": {},
   "outputs": [],
   "source": [
    "woord = \"fiets\"\n"
   ]
  },
  {
   "cell_type": "markdown",
   "metadata": {},
   "source": [
    "<p>Controleer je code met een ander woord, bijvoorbeeld: “programmeertaal”.</p>\n",
    "\n",
    "<p>Klik <a href=\"https://course.cs.ru.nl/pythonVO/Teams/IA_uitwerkingen/IA_H13_oplossingen.html#opgave1323\">hier</a> voor een voorbeelduitwerking.</p>"
   ]
  }
 ],
 "metadata": {
  "language_info": {
   "name": "python"
  }
 },
 "nbformat": 4,
 "nbformat_minor": 2
}
