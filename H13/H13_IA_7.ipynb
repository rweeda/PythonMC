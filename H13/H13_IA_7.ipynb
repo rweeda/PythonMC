{
 "cells": [
  {
   "cell_type": "markdown",
   "metadata": {},
   "source": [
    "## 7: Strings doorlopen met een <code>while</code>-loop\n",
    "\n",
    "<p>Je kunt ook met een <code>while</code>-loop de letters van een string\n",
    "    doorlopen:</p>\n"
   ]
  },
  {
   "cell_type": "code",
   "execution_count": null,
   "metadata": {},
   "outputs": [],
   "source": [
    "woord = \"appel\"\n",
    "i = 0\n",
    "while i < len( woord ):\n",
    "    print( woord[i] )\n",
    "    i += 1"
   ]
  },
  {
   "cell_type": "markdown",
   "metadata": {},
   "source": [
    "\n",
    "\n",
    "<p>Een <code>while</code> gebruik je in plaats van een <code>for</code> als je een string aanpast terwijl je deze\n",
    "    doorloopt (bijvoorbeeld door er letters uit te halen).</p>\n",
    "\n",
    "<!-- <pre class=\"python\"> woord = \"appel\" i = 0 while i < len( woord ): print( woord[i] ) i += 1 </pre> -->"
   ]
  }
 ],
 "metadata": {
  "language_info": {
   "name": "python"
  }
 },
 "nbformat": 4,
 "nbformat_minor": 2
}
