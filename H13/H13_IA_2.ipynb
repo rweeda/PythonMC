{
 "cells": [
  {
   "cell_type": "markdown",
   "metadata": {},
   "source": [
    "## 2: Strings over meerdere regels\n",
    "\n",
    "\n",
    "<p>Een string kan bestaan uit meerdere regels tekst. In Python gebruik je dan drie\n",
    "    aanhalingstekens voor en achter de tekst in plaats van \t&eacute;&eacute;n:\n",
    "</p>\n"
   ]
  },
  {
   "cell_type": "code",
   "execution_count": null,
   "metadata": {},
   "outputs": [],
   "source": [
    "lange_string = \"\"\"Python is een programmeertaal die begin jaren 90 ontworpen en ontwikkeld werd door Guido van Rossum.\n",
    "        Python is ontwikkeld met het oog op leesbare code.\n",
    "        (Bron: Wikipedia)\"\"\""
   ]
  }
 ],
 "metadata": {
  "language_info": {
   "name": "python"
  }
 },
 "nbformat": 4,
 "nbformat_minor": 2
}
