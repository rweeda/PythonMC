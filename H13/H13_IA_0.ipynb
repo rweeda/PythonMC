{
 "cells": [
  {
   "cell_type": "markdown",
   "metadata": {},
   "source": [
    "# Hoofdstuk 13 - Strings\n",
    "<p>In computerprogramma's worden teksten weergegeven door strings. In dit hoofdstuk leer je over strings en de functies die beschikbaar zijn om strings te gebruiken en aan te passen.</p>\n",
    "\n",
    "<p>In dit onderwerp:</p>\n",
    "<ul>\n",
    "    <li>leer je waar strings voor gebruikt worden;</li>\n",
    "    <li>leer je hoe je strings over meerdere regels kunt gebruiken;</li>\n",
    "    <li>leer je hoe een index (posities van letters) bij een string werkt en hoe je dus door de tekens van een string kan lopen;</li>\n",
    "    <li>leer je delen van tekst (substrings) uit een string te halen;</li>\n",
    "    <li>leer je de volgende stringfuncties gebruiken: <code>strip()</code>, <code>upper()</code>, <code>lower()</code>, <code>find()</code>, <code>replace()</code>, <code>split()</code>, <code>+</code> en <code>*</code>;\n",
    "    </li>\n",
    "    <li>leer je dat strings onveranderbaar zijn, dus dat je, als je een stringfunctie gebruikt,\n",
    "        een nieuwe variabele moet maken om het resultaat in op te slaan;</li>\n",
    "    <li>leer je hoe je de ASCII-waarde van een teken kunt krijgen met <code>ord()</code> of andersom <code>chr()</code>.\n",
    "    </li>\n",
    "</ul>\n",
    "<div class=\"fa fa-clock-o fa-3x\"></div><br> <b>1 uur</b>"
   ]
  }
 ],
 "metadata": {
  "language_info": {
   "name": "python"
  }
 },
 "nbformat": 4,
 "nbformat_minor": 2
}
