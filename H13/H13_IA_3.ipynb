{
 "cells": [
  {
   "cell_type": "markdown",
   "metadata": {},
   "source": [
    "## 3: Een nieuwe regel in een string\n",
    "\n",
    "<p>Met een\n",
    "    <i>newline</i>-teken (<code>\\n</code>) geef je aan dat er op een nieuwe regel begonnen moet worden.\n",
    "</p>\n",
    "<p>Bijvoorbeeld: <code>print(\"a\\nb\")</code> drukt 'a' op de ene regel af en 'b'\n",
    "    op een volgende regel.</p>\n"
   ]
  },
  {
   "cell_type": "markdown",
   "metadata": {},
   "source": [
    "### Opdracht 13.1 Nieuwe regel\n",
    "Zet in de code hieronder het newline-teken op de juiste plaats.\n"
   ]
  },
  {
   "cell_type": "code",
   "execution_count": null,
   "metadata": {},
   "outputs": [],
   "source": [
    "print(\"HoiHallo\")"
   ]
  },
  {
   "cell_type": "markdown",
   "metadata": {},
   "source": [
    "Klik <a href=\"https://course.cs.ru.nl/pythonVO/Teams/IA_uitwerkingen/IA_H13_oplossingen.html#opgave1321\">hier</a> voor een voorbeelduitwerking."
   ]
  }
 ],
 "metadata": {
  "language_info": {
   "name": "python"
  }
 },
 "nbformat": 4,
 "nbformat_minor": 2
}
