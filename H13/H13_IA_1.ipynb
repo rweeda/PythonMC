{
 "cells": [
  {
   "cell_type": "markdown",
   "metadata": {},
   "source": [
    "## 1: Inleiding strings (herhaling)\n",
    "\n",
    "\n",
    "<p>Ter herhaling: een string is een tekst, met daaromheen enkele of dubbele\n",
    "aanhalingstekens. Een string kan nul of meer tekens lang zijn. Je kunt twee strings aan\n",
    "elkaar plakken met de <code>+</code>-operator en strings herhalen met de <code>*</code>-operator\n",
    "</p>\n"
   ]
  },
  {
   "cell_type": "code",
   "execution_count": null,
   "metadata": {},
   "outputs": [],
   "source": [
    "woord1 = \"fiets\"\n",
    "woord2 = ' bel '\n",
    "print( woord1 )\n",
    "print( woord2 )\n",
    "print( woord1 + woord2 )\n",
    "print( 3 * woord1 )\n",
    "print( woord2 * 3 )\n",
    "print( 2 * woord1 + 2 * woord2 )"
   ]
  },
  {
   "cell_type": "markdown",
   "metadata": {},
   "source": [
    "\n",
    "\n",
    "<p>De lengte van een string kun je bepalen met de <code>len()</code>-functie.\n",
    " "
   ]
  },
  {
   "cell_type": "code",
   "execution_count": null,
   "metadata": {},
   "outputs": [],
   "source": [
    "tekst = \"fiets\"\n",
    "lengte = len(tekst) #bepaal lengte van woord\n",
    "\n",
    "print(lengte)"
   ]
  },
  {
   "cell_type": "markdown",
   "metadata": {},
   "source": [
    "<p>Met <code>in</code> kun je testen of een letter in een string voorkomt:</p>\n"
   ]
  },
  {
   "cell_type": "code",
   "execution_count": null,
   "metadata": {},
   "outputs": [],
   "source": [
    "woord = \"fiets\"\n",
    "\n",
    "if \"e\" in woord:\n",
    "\tprint( \"e gevonden in \"+ woord )"
   ]
  }
 ],
 "metadata": {
  "language_info": {
   "name": "python"
  }
 },
 "nbformat": 4,
 "nbformat_minor": 2
}
