{
 "cells": [
  {
   "cell_type": "markdown",
   "metadata": {},
   "source": [
    "## 5: Slicing: strings opknippen\n",
    "\n",
    "<p>Je kunt een string ophakken in\n",
    "    delen. Dat heet <i>slicing</i>. </p>\n",
    "<p>Je geeft dan aan vanaf welke en <b>tot</b> welke\n",
    "    index (positie) je wilt hebben (let op: dus <b>niet</b> tot en met).</p>\n",
    "\n",
    "<p> In het voorbeeld\n",
    "    hieronder wordt de tekst gepakt vanaf index 1 (dus letter 'y') tot index 4\n",
    "    (dus tot en met index 3, dus letter 'h'):</p>\n",
    "\n"
   ]
  },
  {
   "cell_type": "code",
   "execution_count": null,
   "metadata": {},
   "outputs": [],
   "source": [
    "tekst = \"Python\"\n",
    "deel_van_tekst = tekst[1:4]  #indices 1 tot 4 (oftewel index 1 t/m 3)\n",
    "\n",
    "print(deel_van_tekst)"
   ]
  }
 ],
 "metadata": {
  "language_info": {
   "name": "python"
  }
 },
 "nbformat": 4,
 "nbformat_minor": 2
}
