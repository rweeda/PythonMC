{
 "cells": [
  {
   "cell_type": "markdown",
   "metadata": {},
   "source": [
    "## 8: Handige stringfuncties\n",
    "\n",
    "<p>Er is een aantal handige functies die je kunt gebruiken om strings aan te passen. Na het aanpassen van\n",
    "    een string moet je deze opslaan in een variabele. Dat komt omdat strings\n",
    "    onveranderbaar zijn.</p>\n",
    "\n",
    "<p><b><code>strip()</code></b></p>\n",
    "<p><code>strip()</code> verwijdert spaties aan het begin en einde van een\n",
    "    string, inclusief \"newline\"-tekens en andere tekens die\n",
    "    als spaties gezien kunnen worden. Zo roep je de functie aan:\n",
    "    <code>variabelenaam.strip()</code>. Het resultaat moet je dan in een variabele\n",
    "    opslaan, vandaar <code>tekst = </code>.\n",
    "</p>\n",
    "\n",
    "\n"
   ]
  },
  {
   "cell_type": "code",
   "execution_count": null,
   "metadata": {},
   "outputs": [],
   "source": [
    "tekst = \"   een tekst met spaties er voor en erachter \\n    \"\n",
    "print(\"[start]\" + tekst + \"[einde]\")\n",
    "\n",
    "tekst = tekst.strip()\n",
    "print(\"[start]\" + tekst + \"[einde]\")"
   ]
  },
  {
   "cell_type": "markdown",
   "metadata": {},
   "source": [
    "<p>In dit voorbeeld laat '[start]' en '[einde]' zien wat er overblijft na het 'strippen' van de\n",
    "  spaties en het newline-teken <code>‘\\n’</code>.</p>\n",
    "\n",
    "<p>Andere tekens verwijderen kan door deze als parameter, tussen aanhalingstekens, mee te geven:</p>\n",
    "\n"
   ]
  },
  {
   "cell_type": "code",
   "execution_count": null,
   "metadata": {},
   "outputs": [],
   "source": [
    "tekst = \",,,,grrtt.....fiets....ttttr\"\n",
    "\n",
    "gestripte_tekst = tekst.strip(\",.grt\")\n",
    "\n",
    "print(gestripte_tekst)"
   ]
  },
  {
   "cell_type": "markdown",
   "metadata": {},
   "source": [
    "\n",
    "<p><b><code>upper()</code> en <code>lower()</code></b></p>\n",
    "<p><code>upper()</code> maakt hoofdletters van alle letters in een string en\n",
    "    <code>lower()</code> kleine letters. Je moet het resultaat wel in een variabele\n",
    "    opslaan, want de oorspronkelijke tekst wordt niet aangepast.\n",
    "</p>\n",
    "\n"
   ]
  },
  {
   "cell_type": "code",
   "execution_count": null,
   "metadata": {},
   "outputs": [],
   "source": [
    "tekst = \"Programmeren is leuk!\"\n",
    "hoofdletter_tekst = tekst.upper() #maak hoofdletters en in nieuwe variabele opslaan\n",
    "print( hoofdletter_tekst )\n",
    "\n",
    "kleineletter_tekst = tekst.lower() #maak kleine letters van tekst en opslaan in nieuwe variabele\n",
    "print( kleineletter_tekst )\n",
    "\n",
    "\n",
    "print(\"oorspronkelijke tekst:\", tekst) #oorspronkelijke tekst is niet gewijzigd"
   ]
  },
  {
   "cell_type": "markdown",
   "metadata": {},
   "source": [
    "\n",
    "### Opdracht 13.6 <code>upper()</code> en <code>lower()</code>\n",
    "</p>\n",
    "<p>Print de tekst hieronder drie keer:</p>\n",
    "<ol style=\"list-style-type: lower-alpha\">\n",
    "    <li>gewoon afdrukken </li>\n",
    "    <li>alleen met hoofdletters afdrukken </li>\n",
    "    <li>alleen met kleine letters\n",
    "        afdrukken </li>\n",
    "</ol>\n"
   ]
  },
  {
   "cell_type": "code",
   "execution_count": null,
   "metadata": {},
   "outputs": [],
   "source": [
    "tekst = \"Dikkertje Dap klom op de trap.\""
   ]
  },
  {
   "cell_type": "markdown",
   "metadata": {},
   "source": [
    "<p>Klik <a href=\"https://course.cs.ru.nl/pythonVO/Teams/IA_uitwerkingen/IA_H13_oplossingen.html#opgave1326\">hier</a> voor een voorbeelduitwerking.</p>\n",
    "\n",
    "\n"
   ]
  },
  {
   "cell_type": "markdown",
   "metadata": {},
   "source": [
    "\n",
    "<p><b><code>find()</code></b></p>\n",
    "\n",
    "<p><code>find()</code> kun je\n",
    "    gebruiken om te zoeken in een string. Je krijgt dan\n",
    "    de index (positie) waar de tekens beginnen. Als de tekens niet voorkomen, dan levert het -1\n",
    "    op.</p>\n",
    "\n",
    "\n"
   ]
  },
  {
   "cell_type": "code",
   "execution_count": null,
   "metadata": {},
   "outputs": [],
   "source": [
    "tekst = \"Dikkertje Dap klom op de trap.\"\n",
    "print( tekst.find( \"klom\" ) )\n",
    "print( tekst.find( \"k\" ) )\n",
    "print( tekst.find( \"q\" ) )"
   ]
  },
  {
   "cell_type": "markdown",
   "metadata": {},
   "source": [
    "\n",
    "### Opdracht 13.7 <code>find()</code>\n",
    "\n",
    "<p>Schrijf code om\n",
    "    te bepalen op welk index (positie) de volgende tekens in de tekst voorkomen: </p>\n",
    "<ul>\n",
    "    <li>\"Lang\"\n",
    "    </li>\n",
    "    <li>\"lang\" </li>\n",
    "    <li>\"leven\" </li>\n",
    "    <li>\"f\" </li>\n",
    "</ul>\n",
    "<p>tekst: <i>\"Lang zal hij leven, Lang zal hij leven, Lang zal\n",
    "        hij leven in de gloria, In de gloria, in de gloria\" </i></p>\n",
    "\n",
    "<p>Bekijk elke regel die in de console wordt afgedrukt. Kun je uitleggen waarom die wordt afgedrukt?</p>\n",
    "\n"
   ]
  },
  {
   "cell_type": "code",
   "execution_count": null,
   "metadata": {},
   "outputs": [],
   "source": [
    "tekst = \"Lang zal hij leven, Lang zal hij leven, Lang zal hij leven in de gloria, In de gloria, in de gloria\"\n"
   ]
  },
  {
   "cell_type": "markdown",
   "metadata": {},
   "source": [
    "<p>Klik <a href=\"https://course.cs.ru.nl/pythonVO/Teams/IA_uitwerkingen/IA_H13_oplossingen.html#opgave1327\">hier</a> voor een voorbeelduitwerking.\n",
    "\n",
    "</p>\n",
    "\n"
   ]
  },
  {
   "cell_type": "markdown",
   "metadata": {},
   "source": [
    "\n",
    "<p><b><code>replace()</code></b></p>\n",
    "<p><code>replace()</code>\n",
    "    vervangt tekens door andere tekens. Tussen de haakjes geef je als parameters eerst mee welke tekens gezocht moeten worden en als tweede waar deze door vervangen moeten worden. Ter herinnering: je moet het resultaat opslaan in een variabele.</p>\n",
    "\n"
   ]
  },
  {
   "cell_type": "code",
   "execution_count": null,
   "metadata": {},
   "outputs": [],
   "source": [
    "tekst = \" Humpty Dumpty zat op de muur \"\n",
    "print( tekst.replace( \"zat op\" , \"viel van\" ) )"
   ]
  },
  {
   "cell_type": "markdown",
   "metadata": {},
   "source": [
    "\n",
    "### Opdracht 13.8 <code>replace()</code>\n",
    "\n",
    "<p>De code\n",
    "    hieronder vervangt \"zat op\" door \"viel van\". Maar als je daarna de variabele\n",
    "    <code>tekst</code> afdrukt, zie je dat die niet veranderd is. Pas de code aan\n",
    "    zodat de aanpassing opgeslagen wordt in de variabele <code>tekst</code>.\n",
    "</p>\n",
    "\n"
   ]
  },
  {
   "cell_type": "code",
   "execution_count": null,
   "metadata": {},
   "outputs": [],
   "source": [
    "tekst = \"Humpty Dumpty zat op de muur\"\n",
    "print( tekst.replace( \"zat op\" , \"viel van\" ) )\n",
    "print(tekst)"
   ]
  },
  {
   "cell_type": "markdown",
   "metadata": {},
   "source": [
    "\n",
    "<p>Klik <a href=\"https://course.cs.ru.nl/pythonVO/Teams/IA_uitwerkingen/IA_H13_oplossingen.html#opgave1328\">hier</a> voor een voorbeelduitwerking.</p>\n",
    "\n",
    "<!-- Uitvoer: Humpty Dumpty viel van de muur\n",
    " Humpty Dumpty zat op de muur\n",
    " -->"
   ]
  }
 ],
 "metadata": {
  "language_info": {
   "name": "python"
  }
 },
 "nbformat": 4,
 "nbformat_minor": 2
}
