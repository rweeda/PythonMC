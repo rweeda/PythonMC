{
 "cells": [
  {
   "cell_type": "markdown",
   "metadata": {},
   "source": [
    "## 3: Opslaan van een variabele\n",
    "\n",
    "<p>Een veel gemaakte fout is om een variabele aan te passen, maar de nieuwe waarde niet op te slaan.\n",
    "    Bekijk de code hieronder. Wat verwacht je dat de waarde van <code>mijnGeluksgetal</code> na afloop is?</p>\n"
   ]
  },
  {
   "cell_type": "code",
   "execution_count": null,
   "metadata": {},
   "outputs": [],
   "source": [
    "mijnGeluksgetal = 13\n",
    "print( mijnGeluksgetal + 1 )\n",
    "print( mijnGeluksgetal )"
   ]
  },
  {
   "cell_type": "markdown",
   "metadata": {},
   "source": [
    "<p>Zoals je ziet, wordt in de eerste print 14 afgedrukt, maar <code>mijnGeluksgetal</code> zelf is niet veranderd. Er ontbreekt een <code>mijnGeluksgetal = ...</code></p>\n"
   ]
  },
  {
   "cell_type": "markdown",
   "metadata": {},
   "source": [
    "### Opdracht 3.4: Waarde van een variabele aanpassen en opslaan\n",
    "\n",
    "<p>Pas de code aan zodat de waarde van <code>mijnGeluksgetal</code> na afloop 14 is.</p>"
   ]
  },
  {
   "cell_type": "code",
   "execution_count": null,
   "metadata": {
    "tags": [
     "Opdracht"
    ]
   },
   "outputs": [],
   "source": [
    "mijnGeluksgetal = 2\n",
    "mijnGeluksgetal = mijnGeluksgetal + 1\n",
    "print(mijnGeluksgetal)"
   ]
  },
  {
   "cell_type": "markdown",
   "metadata": {},
   "source": [
    "<p>Bekijk <a href=\"Https://course.cs.ru.nl/pythonVO/Teams/IA_uitwerkingen/IA_H3_oplossingen.html#opgave314\" target=\"_blank\">hier</a> de voorbeelduitwerking.</p>\n"
   ]
  }
 ],
 "metadata": {
  "kernelspec": {
   "display_name": "Python 3",
   "language": "python",
   "name": "python3"
  },
  "language_info": {
   "name": "python",
   "version": "3.12.2"
  }
 },
 "nbformat": 4,
 "nbformat_minor": 2
}
