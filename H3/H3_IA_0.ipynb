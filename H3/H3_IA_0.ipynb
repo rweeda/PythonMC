{
 "cells": [
  {
   "cell_type": "markdown",
   "metadata": {},
   "source": [
    "# Hoofdstuk 3 - Variabelen\n",
    "\n",
    "<p>Met een <i>variabele</i> kun je dingen onthouden. In dit hoofdstuk leer je wat een variabele precies is en hoe zij werkt.</p>\n",
    "\n",
    "\n",
    "<p><span style=\"font-size: 1rem;\">In dit\n",
    "        onderwerp:</span></p>\n",
    "<ul>\n",
    "    <li> leer je een waarde aan een variabele toekennen, zoals <code>leeftijd = 18</code>;</li>\n",
    "    <li> leer je de waarde van een variabele veranderen, zoals <code>score = score + 1</code>;</li>\n",
    "    <li> leer je een tracetabel maken om de waarden van variabelen te traceren;</li>\n",
    "    <li> leer je de volgende verkorte operatoren gebruiken: <code>+=, -=, *=, /=</code>;</li>\n",
    "    <li> leer je de volgende standaardfuncties gebruiken: <code>max(), min(), pow(), round(), abs(), len()</code>;</li>\n",
    "    <li> leer je hoe je de module voor willekeurige getallen kunt importeren met <code>import random</code>;</li>\n",
    "    <li> leer je hoe je willekeurige getallen kunt maken tussen <code>a</code> en <code>b</code> met <code>random.randint(a,b)</code>;</li>\n",
    "    <li> leer je hoe je een willekeurige <code>float</code> (kommagetal) kunt maken tussen 0 en 1 met <code>random.random()</code>.\n",
    "    </li>\n",
    "\n",
    "</ul>\n",
    "\n",
    "<div class=\"fa fa-clock-o fa-3x\"></div><br> Verwachte tijd: <b>1 uur</b>"
   ]
  }
 ],
 "metadata": {
  "kernelspec": {
   "display_name": "Python 3",
   "language": "python",
   "name": "python3"
  },
  "language_info": {
   "name": "python",
   "version": "3.12.2"
  }
 },
 "nbformat": 4,
 "nbformat_minor": 2
}
