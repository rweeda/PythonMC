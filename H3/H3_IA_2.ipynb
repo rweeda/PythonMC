{
 "cells": [
  {
   "cell_type": "markdown",
   "metadata": {},
   "source": [
    "## 2: Waarde van een variabele aanpassen\n",
    "\n",
    "\n",
    "<p>Je kunt de waarde van een variabele veranderen; dan wordt de oude waarde\n",
    "    \"overschreven\" door een nieuwe waarde. Het isgelijkteken (=) lees je als\n",
    "    <i>wordt</i>.\n",
    "</p>"
   ]
  },
  {
   "cell_type": "code",
   "execution_count": null,
   "metadata": {},
   "outputs": [],
   "source": [
    "kleur_fiets = \"rood\" \t\t# variabele krijgt een waarde\n",
    "print( kleur_fiets )\n",
    "\n",
    "kleur_fiets = \"blauw\"\t\t# variabele krijgt een nieuwe waarde\n",
    "print( kleur_fiets )"
   ]
  },
  {
   "cell_type": "markdown",
   "metadata": {},
   "source": [
    "<p>Je kunt ook een variabele de waarde geven van een andere variabele. Lees de\n",
    "    eerste regel van de code hieronder hardop, waarbij je het '='-teken als\n",
    "    <i>wordt</i> opleest:\n",
    "</p>"
   ]
  },
  {
   "cell_type": "code",
   "execution_count": null,
   "metadata": {},
   "outputs": [],
   "source": [
    "getal_1 = 25\n",
    "getal_2 = 36\n",
    "totaal = getal_1 + getal_2\n",
    "print(totaal)"
   ]
  },
  {
   "cell_type": "markdown",
   "metadata": {},
   "source": [
    "<p>Je kunt ook de waarde van een variabele aanpassen door hiermee te rekenen.\n",
    "    Run de code. Wat gebeurt er in de vierde regel met de variabele\n",
    "    <code>getal</code>?\n",
    "</p>"
   ]
  },
  {
   "cell_type": "code",
   "execution_count": null,
   "metadata": {},
   "outputs": [],
   "source": [
    "getal = 2\n",
    "print( getal )\n",
    "\n",
    "getal = getal + 3\t\t# getal wordt getal plus 3\n",
    "print( getal )"
   ]
  },
  {
   "cell_type": "markdown",
   "metadata": {},
   "source": [
    "### Opdracht 3.1: Rekenen met variabelen\n",
    "\n",
    "<p>Geef\n",
    "    <code>x</code> een waarde zodat 7 wordt afgedrukt.\n",
    "</p>"
   ]
  },
  {
   "cell_type": "code",
   "execution_count": null,
   "metadata": {
    "tags": [
     "Opdracht"
    ]
   },
   "outputs": [],
   "source": [
    "x = 2\n",
    "getal = x + 3\n",
    "print( getal )"
   ]
  },
  {
   "cell_type": "markdown",
   "metadata": {},
   "source": [
    "<p>Bekijk <a href=\"Https://course.cs.ru.nl/pythonVO/Teams/IA_uitwerkingen/IA_H3_oplossingen.html#opgave331\" target=\"_blank\">hier</a> de\n",
    "    voorbeelduitwerking.</p>"
   ]
  },
  {
   "cell_type": "markdown",
   "metadata": {},
   "source": [
    "### Opdracht 3.2: Fouten opsporen\n",
    "\n",
    "<p>In elk van de\n",
    "    volgende vier blokken code zit een fout. Zoek de fout en herstel deze.</p>\n",
    "\n",
    "#### Deel A:"
   ]
  },
  {
   "cell_type": "code",
   "execution_count": null,
   "metadata": {
    "tags": [
     "Opdracht"
    ]
   },
   "outputs": [],
   "source": [
    "#DEEL A:\n",
    "getal_1 = '25'\n",
    "getal_2 = 36\n",
    "totaal = getal_1 + getal_2\n",
    "\n",
    "print(totaal)"
   ]
  },
  {
   "cell_type": "markdown",
   "metadata": {},
   "source": [
    "#### Deel B:"
   ]
  },
  {
   "cell_type": "code",
   "execution_count": null,
   "metadata": {
    "tags": [
     "Opdracht"
    ]
   },
   "outputs": [],
   "source": [
    "#DEEL B:\n",
    "getal_1 = 25\n",
    "getal_2 = 36\n",
    "totaal = getal_1 + getal_2\n",
    "print( Totaal )"
   ]
  },
  {
   "cell_type": "markdown",
   "metadata": {},
   "source": [
    "#### Deel C:"
   ]
  },
  {
   "cell_type": "code",
   "execution_count": null,
   "metadata": {
    "tags": [
     "Opdracht"
    ]
   },
   "outputs": [],
   "source": [
    "#DEEL C:\n",
    "getal_1 = 25\n",
    "getal_2 = 36\n",
    "totaal = getl_1 + getal_2\n",
    "print( totaal )"
   ]
  },
  {
   "cell_type": "markdown",
   "metadata": {},
   "source": [
    "#### Deel D:"
   ]
  },
  {
   "cell_type": "code",
   "execution_count": null,
   "metadata": {
    "tags": [
     "Opdracht"
    ]
   },
   "outputs": [],
   "source": [
    "#DEEL D:\n",
    "getal_1 = 25\n",
    "getal_2 = 36\n",
    "totaal = getal_1 + getal 2\n",
    "print( totaal )"
   ]
  },
  {
   "cell_type": "markdown",
   "metadata": {},
   "source": [
    "<p>Bekijk <a href=\"Https://course.cs.ru.nl/pythonVO/Teams/IA_uitwerkingen/IA_H3_oplossingen.html#opgave312\" target=\"_blank\">hier</a> de\n",
    "    voorbeelduitwerking.</p>"
   ]
  },
  {
   "cell_type": "markdown",
   "metadata": {},
   "source": [
    "### Opdracht 3.3: Variabele zichzelf laten aanpassen\n",
    "\n",
    "<p>Breid de\n",
    "    onderstaande code uit zodat <code>x</code> zichzelf verdubbelt. Op het scherm\n",
    "    wordt dus 6 geprint.</p>"
   ]
  },
  {
   "cell_type": "code",
   "execution_count": null,
   "metadata": {
    "tags": [
     "Opdracht"
    ]
   },
   "outputs": [],
   "source": [
    "x = 3\n",
    "#schrijf hier de code waarmee x verdubbeld wordt\n",
    "print( x )"
   ]
  },
  {
   "cell_type": "markdown",
   "metadata": {},
   "source": []
  },
  {
   "cell_type": "markdown",
   "metadata": {},
   "source": [
    "<p>Bekijk <a href=\"Https://course.cs.ru.nl/pythonVO/Teams/IA_uitwerkingen/IA_H3_oplossingen.html#opgave313\" target=\"_blank\">hier</a> de\n",
    "    voorbeelduitwerking.</p>"
   ]
  }
 ],
 "metadata": {
  "kernelspec": {
   "display_name": "Python 3",
   "language": "python",
   "name": "python3"
  },
  "language_info": {
   "name": "python",
   "version": "3.12.2"
  }
 },
 "nbformat": 4,
 "nbformat_minor": 2
}
