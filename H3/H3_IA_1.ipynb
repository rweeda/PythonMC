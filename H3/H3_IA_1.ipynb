{
 "cells": [
  {
   "cell_type": "markdown",
   "metadata": {},
   "source": [
    "## 1: Variabelen en hun naam en waarde\n",
    "\n",
    "<p>Met een <i>variabele</i> kun je dingen onthouden. Dit hebben we in het vorige hoofdstuk ook gebruikt, bijvoorbeeld bij het onthouden van gebruikersinvoer:</p>"
   ]
  },
  {
   "cell_type": "code",
   "execution_count": null,
   "metadata": {},
   "outputs": [],
   "source": [
    "print(\"Hoe heet je?\")\n",
    "naam = input()\n",
    "print( \"Hallo\", naam)"
   ]
  },
  {
   "cell_type": "markdown",
   "metadata": {},
   "source": [
    "\n",
    "<p>Wat de gebruiker intypt, slaan we op (onthouden we) in een variabele <code>naam</code>. In de <code>print</code>-regel daarna gebruiken we de variabele om de gebruiker persoonlijk te begroeten met zijn ingevoerde naam.</p>\n",
    "\n",
    "[![Watch the video](https://img.youtube.com/vi/VQuQykx5Iow/hqdefault.jpg)](https://www.youtube.com/embed/VQuQykx5Iow)\n",
    "\n",
    "\n",
    "<p><b>Naam van een variabele</b></p>\n",
    "<p>In een variabele kun je een waarde opslaan. De naam mag je zelf kiezen, maar het is belangrijk om een zinnig zelfstandig naamwoord als naam te kiezen. Er mogen geen spaties in de namen voorkomen. In plaats daarvan gebruik je een liggend streepje: '_', bijvoorbeeld <code>lengte_in_m</code>.\n",
    "\n",
    "</p>\n",
    "<p><b>Waarde aan een variabele geven</b></p>\n",
    "<p>Een variabele geef je een waarde met het isgelijkteken (=). Als je het voorleest, zeg je <i>wordt</i>. Aan de linkerkant van het isgelijksymbool zet je de variabelenaam en aan de rechterkant de waarde die je wilt opslaan in de variabele. In het voorbeeld hieronder:&nbsp;<code>mijn_geluks_getal</code> <b>wordt</b> 5:</p>\n"
   ]
  },
  {
   "cell_type": "code",
   "execution_count": null,
   "metadata": {},
   "outputs": [],
   "source": [
    "mijn_geluks_getal = 5\n",
    "print( mijn_geluks_getal )"
   ]
  }
 ],
 "metadata": {
  "kernelspec": {
   "display_name": "Python 3",
   "language": "python",
   "name": "python3"
  },
  "language_info": {
   "name": "python",
   "version": "3.12.2"
  }
 },
 "nbformat": 4,
 "nbformat_minor": 2
}
