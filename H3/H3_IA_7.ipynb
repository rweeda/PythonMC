{
 "cells": [
  {
   "cell_type": "markdown",
   "metadata": {},
   "source": [
    "## 7: Verkorte operatoren\n",
    "\n",
    "[![Watch the video](https://img.youtube.com/vi/uzDWNAcyc5s/hqdefault.jpg)](https://www.youtube.com/embed/uzDWNAcyc5s)\n",
    "\n",
    "<p>Door gebruik te maken van <code>+</code>, <code>-</code>, <code>*</code>, <code>/</code> kunnen we rekenen met variabelen. Het komt in code vaak voor dat we 1 willen optellen bij een variabele. Bijvoorbeeld, als we dingen gaan tellen, dan wordt onze teller telkens eentje hoger. Omdat dit zo vaak gebeurt, zijn er verkorte operators: <code>+=</code>, <code>-=</code>, <code>*=</code>, <code>/=</code>.<br>\n",
    "\n",
    "</p>\n",
    "<p><code>score += 1</code> doet hetzelfde als <code>score = score + 1</code> en betekent: <br><i>de nieuwe waarde van score wordt de oude waarde van score plus 1</i>.\n",
    "\n",
    "</p>\n",
    "<p>Bekijk de volgende code:</p>"
   ]
  },
  {
   "cell_type": "code",
   "execution_count": null,
   "metadata": {},
   "outputs": [],
   "source": [
    "aantal_bananen = 100\n",
    "aantal_bananen = aantal_bananen + 1 # aantal_bananen ophogen met één\n",
    "print( aantal_bananen )"
   ]
  },
  {
   "cell_type": "markdown",
   "metadata": {},
   "source": [
    "<p>De code doet hetzelfde als:</p>"
   ]
  },
  {
   "cell_type": "code",
   "execution_count": null,
   "metadata": {},
   "outputs": [],
   "source": [
    "aantal_bananen = 100\n",
    "aantal_bananen += 1 # aantal_bananen ophogen met één\n",
    "print( aantal_bananen )"
   ]
  },
  {
   "cell_type": "markdown",
   "metadata": {},
   "source": [
    "### Opdracht 3.8: Verkorte operatoren\n",
    "\n",
    "<p>Bedenk, zonder de code te runnen, wat de code hieronder print? Maak een tracetabel. Controleer daarna of je gelijk hebt.</p>\n"
   ]
  },
  {
   "cell_type": "code",
   "execution_count": null,
   "metadata": {
    "tags": [
     "Opdracht"
    ]
   },
   "outputs": [],
   "source": [
    "aantal_bananen = 100\n",
    "aantal_bananen += 12\n",
    "aantal_bananen -= 13\n",
    "aantal_bananen *= 19\n",
    "print( aantal_bananen )"
   ]
  },
  {
   "cell_type": "markdown",
   "metadata": {},
   "source": [
    "<p>Bekijk <a href=\"Https://course.cs.ru.nl/pythonVO/Teams/IA_uitwerkingen/IA_H3_oplossingen.html#opgave341\" target=\"_blank\">hier</a> de voorbeelduitwerking.</p>\n"
   ]
  },
  {
   "cell_type": "markdown",
   "metadata": {},
   "source": [
    "### Opdracht 3.9: Omschrijven met een verkorte operator\n",
    "\n",
    "<p>Herschrijf de code zodat deze gebruik maakt van een verkorte operator.</p>\n"
   ]
  },
  {
   "cell_type": "code",
   "execution_count": null,
   "metadata": {
    "tags": [
     "Opdracht"
    ]
   },
   "outputs": [],
   "source": [
    "aantal_meters = 100\n",
    "aantal_meters = aantal_meters + 50"
   ]
  },
  {
   "cell_type": "markdown",
   "metadata": {},
   "source": [
    "<p>Bekijk <a href=\"Https://course.cs.ru.nl/pythonVO/Teams/IA_uitwerkingen/IA_H3_oplossingen.html#opgave343\" target=\"_blank\">hier</a> de voorbeelduitwerking.</p>\n"
   ]
  },
  {
   "cell_type": "markdown",
   "metadata": {},
   "source": [
    "### Opdracht 3.10: Score aanpassen\n",
    "\n",
    "<p>Stel je speelt een spelletje. Je score is nu 120 punten. Je pakt een muntje op waarmee je score verhoogd wordt met 10 punten. Daarna zet je een stap waarmee je score met 1 punt omlaag gaat.</p>\n",
    "\n",
    "<p>Pas de code hieronder aan zodat je eindscore berekend en geprint wordt. Gebruik hiervoor de verkorte operatoren. Voeg met # commentaar toe aan de regels die je toevoegt.</p>\n"
   ]
  },
  {
   "cell_type": "code",
   "execution_count": null,
   "metadata": {
    "tags": [
     "Opdracht"
    ]
   },
   "outputs": [],
   "source": [
    "score = 120\n",
    "\n",
    "print( score )"
   ]
  },
  {
   "cell_type": "markdown",
   "metadata": {},
   "source": [
    "<p>Bekijk <a href=\"Https://course.cs.ru.nl/pythonVO/Teams/IA_uitwerkingen/IA_H3_oplossingen.html#opgave343\" target=\"_blank\">hier</a> de voorbeelduitwerking.</p>\n"
   ]
  }
 ],
 "metadata": {
  "kernelspec": {
   "display_name": "Python 3",
   "language": "python",
   "name": "python3"
  },
  "language_info": {
   "name": "python",
   "version": "3.12.2"
  }
 },
 "nbformat": 4,
 "nbformat_minor": 2
}
