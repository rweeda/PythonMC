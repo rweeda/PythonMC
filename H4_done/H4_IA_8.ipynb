{
 "cells": [
  {
   "cell_type": "markdown",
   "metadata": {},
   "source": [
    "## 8: Blokken code inspringen\n",
    "\n",
    "<p>In Python is correct inspringen belangrijk! Door in te springen geef je aan welke code bij een <code>if</code>-gedeelte hoort.</p>\n",
    "\n",
    "<p>Bekijk het voorbeeld hieronder. Voer de code uit. </p>"
   ]
  },
  {
   "cell_type": "code",
   "execution_count": null,
   "metadata": {},
   "outputs": [],
   "source": [
    "x = 11\n",
    "if x < 10:\n",
    "    print( \"Deze regel wordt alleen uitgevoerd als x < 10.\" )\n",
    "    print( \"En dat geldt ook voor deze regel.\" )\n",
    "print( \"Deze regel wordt echter altijd uitgevoerd.\" )"
   ]
  },
  {
   "cell_type": "markdown",
   "metadata": {},
   "source": [
    "<p>We veranderen de waarde van <code>x</code> in <code>7</code>. Voer de code nogmaals uit.</p>\n"
   ]
  },
  {
   "cell_type": "code",
   "execution_count": null,
   "metadata": {},
   "outputs": [],
   "source": [
    "x = 7\n",
    "if x < 10:\n",
    "    print( \"Deze regel wordt alleen uitgevoerd als x < 10.\" )\n",
    "    print( \"En dat geldt ook voor deze regel.\" )\n",
    "print( \"Deze regel wordt echter altijd uitgevoerd.\" )"
   ]
  },
  {
   "cell_type": "markdown",
   "metadata": {},
   "source": [
    "<p>Regels 3 en 4 (met de eerste twee printjes) zijn ingesprongen en worden daarom alleen uitgevoerd als de conditie van de <code>if</code> waar is. De laatste regel staat niet ingesprongen, het hoort daarom niet bij het <code>if</code>-blok en wordt altijd uitgevoerd.</p>\n",
    "\n",
    "<ul>\n",
    "    <li><i>Inspringen</i>: inspringen doe je met de <i>Tab</i>-toets. Om meerdere regels te laten inspringen, selecteer je de regels en druk dan op <i>Tab</i>.\n",
    "    </li>\n",
    "    <li><i>Inspringen ongedaan maken</i>: druk gelijktijdig <i>Shift en Tab</i> om inspringen te verwijderen. Dit kan ook voor een heel blok code in een keer door de regels eerst te selecteren en dan op <i>Shift en Tab</i> te drukken.\n",
    "    </li>\n",
    "</ul>"
   ]
  },
  {
   "cell_type": "markdown",
   "metadata": {},
   "source": [
    "### Opdracht 4.14: Verbeter de inspringfouten\n",
    "\n",
    "<p>Run de volgende code. Deze bevat inspringfouten. Verbeter de code.</p>"
   ]
  },
  {
   "cell_type": "code",
   "execution_count": null,
   "metadata": {
    "tags": [
     "Opdracht"
    ]
   },
   "outputs": [],
   "source": [
    "#Verbeter de inspring fouten:\n",
    "x = 3\n",
    "y = 4\n",
    "if x == 3 and y == 4:\n",
    "    print( \"x is 3\" )\n",
    "   print( \"y is 4\" )\n",
    "if x > 2 and y < 5:\n",
    "print( \"x > 2\" )\n",
    "print( \"y < 5\" )\n",
    "if x < 4 and y > 3:\n",
    "    print( \"x < 4\" )\n",
    "        print( \"y > 3\" )"
   ]
  },
  {
   "cell_type": "markdown",
   "metadata": {},
   "source": [
    "<p>Bekijk <a href=\"https://course.cs.ru.nl/pythonVO/Teams/IA_uitwerkingen/IA_H4_oplossingen.html#opgave441\" target=\"_blank\">hier</a> de voorbeelduitwerking.</p>"
   ]
  }
 ],
 "metadata": {
  "kernelspec": {
   "display_name": "Python 3",
   "language": "python",
   "name": "python3"
  },
  "language_info": {
   "name": "python",
   "version": "3.12.2"
  }
 },
 "nbformat": 4,
 "nbformat_minor": 2
}
