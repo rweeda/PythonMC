{
 "cells": [
  {
   "cell_type": "markdown",
   "metadata": {},
   "source": [
    "### 9: Uitgebreidere condities\n",
    "\n",
    "<p>Je kunt binnen een beslissing weer een\n",
    "    beslissing hebben.</p>\n",
    "<p>\n",
    "    Een geneste if-else is een manier om beslissingen te nemen op basis van meerdere voorwaarden. Een geneste if-else bestaat uit een reeks if-else-verklaringen die in elkaar zijn genest.\n",
    "    De eerste if-else-verklaring wordt geëvalueerd en als deze <code>True</code> is, wordt de bijbehorende code uitgevoerd. Als de eerste if-else-verklaring <code>False</code> is, wordt de tweede if-else-verklaring geëvalueerd en als deze <code>True</code> is, wordt de bijbehorende code uitgevoerd.\n",
    "    Dit gaat door totdat er geen if-else-verklaringen meer zijn of totdat er een <code>True</code> is gevonden. Als geen van de if-else-verklaringen <code>True</code> is, wordt de code in het else-blok uitgevoerd.\n",
    "</p>\n",
    "<p>Hieronder zie je een voorbeeld stroomdiagram van een geneste if-else-verklaring:</p>\n",
    "\n",
    "<p><img src=\"http://course.cs.ru.nl/pythonVO/Jupyter/img/Python4_Stroomdiagram_genesteIf.jpg\" alt=\"Figuur 6.2: Stroomdiagram van een geneste beslissing\" width=\"750\" height=\"736\" class=\"img-fluid atto_image_button_text-bottom\"></p>\n",
    "\n",
    "\n",
    "<p>De vertaling van het bovenstaande stroomdiagram in code is:</p>\n"
   ]
  },
  {
   "cell_type": "code",
   "execution_count": null,
   "metadata": {},
   "outputs": [],
   "source": [
    "leeftijd = 21\n",
    "if leeftijd < 12:\n",
    "  print( \"kind\" )\n",
    "else:\n",
    "  if leeftijd < 18:\n",
    "    print( \"tiener\" )\n",
    "  else:\n",
    "    if leeftijd < 30:\n",
    "      print( \"jong\" )\n",
    "    else:\n",
    "      if leeftijd < 50:\n",
    "        print( \"ouder\" )\n",
    "      else:\n",
    "        print( \"oud\" )"
   ]
  },
  {
   "cell_type": "markdown",
   "metadata": {},
   "source": [
    "### Opdracht 4.15: Geneste condities\n",
    "\n",
    "<p> Verander in de code hieronder de waarde van de variabele <code>leeftijd</code>. Leg aan je buurman of buurvrouw uit hoe de geneste <code>if-else</code> werkt.</p>\n"
   ]
  },
  {
   "cell_type": "code",
   "execution_count": null,
   "metadata": {
    "tags": [
     "Opdracht"
    ]
   },
   "outputs": [],
   "source": [
    "leeftijd = 21\n",
    "if leeftijd < 12:\n",
    "  print( \"Je bent een kind!\" )\n",
    "else:\n",
    "  if leeftijd < 18:\n",
    "    print( \"Je bent een tiener!\" )\n",
    "  else:\n",
    "    if leeftijd < 30:\n",
    "      print( \"Je bent nog jong!\" )\n",
    "    else:\n",
    "      if leeftijd < 50:\n",
    "        print( \"Je bent wat ouder.\" )\n",
    "      else:\n",
    "        print( \"Je bent echt oud!\" )\n",
    "\t\t\n",
    "print(\"Klaar!\")"
   ]
  },
  {
   "cell_type": "markdown",
   "metadata": {},
   "source": [
    "<p>Bekijk <a href=\"https://course.cs.ru.nl/pythonVO/Teams/IA_uitwerkingen/IA_H4_oplossingen.html#opgave451\" target=\"_blank\">hier</a> de voorbeelduitwerking.</p>\n"
   ]
  },
  {
   "cell_type": "markdown",
   "metadata": {},
   "source": [
    "### Opdracht 4.16: Nadenken over geneste condities\n",
    "\n",
    "<p>Voor welke waarden van <code>getal</code> zal <i>B</i> worden\n",
    "    geprint?</p>"
   ]
  },
  {
   "cell_type": "code",
   "execution_count": null,
   "metadata": {
    "tags": [
     "Opdracht"
    ]
   },
   "outputs": [],
   "source": [
    "getal = 0\n",
    "\n",
    "if getal < 3:\n",
    "\tprint(\"A\")\n",
    "\n",
    "else:\n",
    "\tif getal < 6:\n",
    "\t\tprint(\"B\")\n",
    "\telse:\n",
    "\t\tprint(\"C\")"
   ]
  },
  {
   "cell_type": "markdown",
   "metadata": {},
   "source": [
    "<p>Bekijk <a href=\"https://course.cs.ru.nl/pythonVO/Teams/IA_uitwerkingen/IA_H4_oplossingen.html#opgave452\" target=\"_blank\">hier</a> de voorbeelduitwerking.</p>\n"
   ]
  }
 ],
 "metadata": {
  "kernelspec": {
   "display_name": "Python 3",
   "language": "python",
   "name": "python3"
  },
  "language_info": {
   "name": "python",
   "version": "3.12.2"
  }
 },
 "nbformat": 4,
 "nbformat_minor": 2
}
