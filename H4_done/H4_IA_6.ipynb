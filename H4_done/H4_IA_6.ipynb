{
 "cells": [
  {
   "cell_type": "markdown",
   "metadata": {},
   "source": [
    "## 6: Logische operatoren\n",
    "\n",
    "[![Watch the video](https://img.youtube.com/vi/hfU3qJbMb3k/hqdefault.jpg)](https://www.youtube.com/embed/hfU3qJbMb3k)\n",
    "\n",
    "<p>Condities kun je combineren met een combinatie van de drie logische operatoren: <code>and</code>, <code>or</code> en <code>not</code>. </p>\n",
    "                <ul>\n",
    "                    <li>Als <b><code>and</code></b> tussen twee condities staat, is het resultaat <code>True</code> als beide condities <code>True</code> zijn; anders is het resultaat <code>False</code>.\n",
    "                    </li>\n",
    "                    <li>Als <b><code>or</code></b> tussen twee condities staat, is het resultaat <code>True</code> als één of beide condities <code>True</code> is. Het resultaat is alleen <code>False</code> als beide <code>False</code> zijn.\n",
    "                    </li>\n",
    "                    <li><b><code>not</code> </b>kun je voor een conditie plaatsen om deze om te keren van <code>True</code> naar <code>False</code> en andersom.\n",
    "                    </li>\n",
    "                </ul>\n",
    "\n",
    "<p>We bekijken een voorbeeld. Bij het inloggen op een website moeten <b>zowel</b> de gebruikersnaam als het wachtwoord kloppen. Hiervoor gebruik je de <code>and</code>:\n"
   ]
  },
  {
   "cell_type": "code",
   "execution_count": null,
   "metadata": {},
   "outputs": [],
   "source": [
    "gebruikersnaam = \"Janneke\"\n",
    "\n",
    "print(\"Voer wachtwoord in:\")\n",
    "wachtwoord = input()\n",
    "\n",
    "if (gebruikersnaam == \"Janneke\") and (wachtwoord == \"appelmoes\"):\n",
    "  print(\"je bent ingelogd\")\n",
    "\n",
    "else:\n",
    "  print (\"je bent niet ingelogd\")"
   ]
  },
  {
   "cell_type": "markdown",
   "metadata": {},
   "source": [
    "### Opdracht 4.12: Het is weekend!\n",
    "\n",
    "Schrijf een programma dat de gebruiker vraagt om de dag van de week en dan print of het weekend is of niet.\n",
    "                <ul>\n",
    "                    <li>Vraag de gebruiker welke dag van de week het is, bijvoorbeeld: \"maandag\".\n",
    "                    </li>\n",
    "                    <li>Sla de gebruikersinvoer op in een variabele <code>vandaag</code>.\n",
    "                    </li>\n",
    "                    <li>Als <code>vandaag</code> zaterdag of zondag is, druk dan af: <i>Het is weekend!</i>\n",
    "                    </li>\n",
    "                    <li>Anders druk je af: <i>Helaas, geen weekend.</i>\n",
    "                    </li>\n",
    "                    <li>Test met verschillende dagen van de week.\n",
    "                    </li>\n",
    "                </ul>"
   ]
  },
  {
   "cell_type": "code",
   "execution_count": null,
   "metadata": {
    "tags": [
     "Opdracht"
    ]
   },
   "outputs": [],
   "source": [
    "# vraag de gebruiker om invoer en sla dit op in een variabele 'vandaag'\n",
    "\n",
    "\n",
    "if #controleer hier iets\n",
    "    print( \"Het is weekend!\" )\n",
    "#vul hier ook iets in\n",
    "    print( \"Helaas, geen weekend.\")"
   ]
  },
  {
   "cell_type": "markdown",
   "metadata": {},
   "source": [
    "<p>Bekijk <a href=\"https://course.cs.ru.nl/pythonVO/Teams/IA_uitwerkingen/IA_H4_oplossingen.html#opgave431\" target=\"_blank\">hier</a> de voorbeelduitwerking.</p>\n"
   ]
  },
  {
   "cell_type": "markdown",
   "metadata": {},
   "source": [
    "<p>Let op: Links en rechts van de operatoren moeten complete voorwaarden staan.\n",
    "\n",
    "Dus in Python kun je niet zeggen:<br>\n",
    "\n",
    "Als <code>vandaag == \"zaterdag\" or \"zondag\"</code> (dus: \"<i>Als het vandaag zaterdag of zondag is</i>\"), maar moet je expliciet de variabele&nbsp;<code>vandaag</code> herhalen, dus: <code>vandaag == \"zaterdag\" or vandaag == \"zondag\"</code>. De uitkomst levert anders namelijk niet altijd een correct antwoord op, bijvoorbeeld als je bij de code hierboven \"<i>donderdag</i>\" invult, geeft de code aan dat het weekend is.\n",
    "</p>"
   ]
  }
 ],
 "metadata": {
  "kernelspec": {
   "display_name": "Python 3",
   "language": "python",
   "name": "python3"
  },
  "language_info": {
   "name": "python",
   "version": "3.12.2"
  }
 },
 "nbformat": 4,
 "nbformat_minor": 2
}
