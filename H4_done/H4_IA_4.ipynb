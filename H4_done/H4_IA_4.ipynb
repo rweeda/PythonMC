{
 "cells": [
  {
   "cell_type": "markdown",
   "metadata": {},
   "source": [
    "## 4: Meerdere <code>if</code>-constructies achter elkaar\n",
    "\n",
    "[![Watch the video](https://img.youtube.com/vi/2TOR-Sa_dac/hqdefault.jpg)](https://www.youtube.com/embed/2TOR-Sa_dac)\n",
    "\n",
    "<p>Je kunt ook meerdere <code>if</code>'s achter elkaar hebben. Na de code die bij de eerste <code>if</code> hoort, begin je, waar er niet meer is ingesprongen, als het ware opnieuw.</p>\n"
   ]
  },
  {
   "cell_type": "code",
   "execution_count": null,
   "metadata": {},
   "outputs": [],
   "source": [
    "kleur = \"groen\"\n",
    "vervoer = \"fiets\"\n",
    "\n",
    "if kleur == \"groen\":\n",
    "  print(\"Groen is mooi\")\n",
    "\n",
    "if vervoer == \"fiets\":\n",
    "  print(\"fietsen is fijn\")"
   ]
  },
  {
   "cell_type": "markdown",
   "metadata": {},
   "source": [
    "\n",
    "\n",
    "<p>Het onderstaand stroomdiagram geeft het algoritme weer van het voorbeeldprogramma hierboven:</p>\n",
    "\n",
    "<p><img src=\"http://course.cs.ru.nl/pythonVO/Jupyter/img/Python4_Stroomdiagram_dubbeleIf.jpg\" alt=\"Stroomdiagram voor meerdere if's\" width=\"500\"></p>\n",
    "<p>Nog een voorbeeld met meerdere <code>if</code>'s achter elkaar:</p>"
   ]
  },
  {
   "cell_type": "code",
   "execution_count": null,
   "metadata": {},
   "outputs": [],
   "source": [
    "x = 5\n",
    "if x == 5:\n",
    "    print( \"x is 5\" )\n",
    "if x > 4:\n",
    "    print( \"x is groter dan 4\" )\n",
    "if x != 5 :\n",
    "    print( \"x is ongelijk aan 5\" )\n",
    "if x < 6:\n",
    "    print( \"x is kleiner dan 6\" )"
   ]
  },
  {
   "cell_type": "markdown",
   "metadata": {},
   "source": [
    "### Opdracht 4.4: Beide <code>if</code>'s uitvoeren\n",
    "\n",
    "<p>Pas de waarde van <code>getal</code> aan zodat zowel <i>A</i> als <i>B</i> wordt afgedrukt.</p>"
   ]
  },
  {
   "cell_type": "code",
   "execution_count": null,
   "metadata": {
    "tags": [
     "Opdracht"
    ]
   },
   "outputs": [],
   "source": [
    "getal = 6\n",
    "\n",
    "if getal <= 3:\n",
    "  print( \"A\" )\n",
    "\n",
    "if getal < 6:\n",
    "  print( \"B\" )"
   ]
  },
  {
   "cell_type": "markdown",
   "metadata": {},
   "source": [
    "<p>Bekijk <a href=\"https://course.cs.ru.nl/pythonVO/Teams/IA_uitwerkingen/IA_H4_oplossingen.html#opgave422\" target=\"_blank\">hier</a> de voorbeelduitwerking.</p>\n"
   ]
  },
  {
   "cell_type": "markdown",
   "metadata": {},
   "source": [
    "### Opdracht 4.5: Meerdere <code>if</code>'s\n",
    "\n",
    "<p>Wijzig de waarde van <code>x</code> zodat ABCEF wordt afgedrukt (D wordt dus niet afgedrukt).</p>\n"
   ]
  },
  {
   "cell_type": "code",
   "execution_count": null,
   "metadata": {
    "tags": [
     "Opdracht"
    ]
   },
   "outputs": [],
   "source": [
    "x = 10\n",
    "\n",
    "if x > 5:\n",
    "  print( \"A\" )\n",
    "if x >= 6:\n",
    "  print( \"B\" )\n",
    "if x < 8:\n",
    "  print( \"C\" )\n",
    "if x <= 5:\n",
    "  print( \"D\" )\n",
    "if x != 7:\n",
    "  print( \"E\" )\n",
    "if x <= 6:\n",
    "  print( \"F\" )"
   ]
  },
  {
   "cell_type": "markdown",
   "metadata": {},
   "source": [
    "<p>Bekijk <a href=\"https://course.cs.ru.nl/pythonVO/Teams/IA_uitwerkingen/IA_H4_oplossingen.html#opgave423\" target=\"_blank\">hier</a> de voorbeelduitwerking.</p>\n"
   ]
  },
  {
   "cell_type": "markdown",
   "metadata": {},
   "source": [
    "### Opdracht 4.6: Meerdere getallen dobbelen\n",
    "\n",
    "<p>Hieronder staat code die hoort bij het gooien van een dobbelsteen. Als je een 6 gooit, is dat goed, maar als je een 1 gooit, ben je af.</p>\n",
    "<p>\n",
    "</p>\n",
    "<ol style=\"list-style-type: lower-alpha\">\n",
    "    <li>Test of er <i>\"Yes! Je hebt een 6 gegooid\"</i> wordt geprint als je een 6 gooit.\n",
    "    </li>\n",
    "    <li>Breid de code uit zodat, als je <i>niet</i> een 1 gooit, er <i>\"Gelukkig, je hebt geen 1 gegooid\"</i> geprint wordt.\n",
    "    </li>\n",
    "    <li>Test je code met verschillende waarden van <code>dobbelworp</code>.\n",
    "    </li>\n",
    "    <li>Pas de waarde van <code>dobbelworp</code> aan zodat er twee zinnen afgedrukt worden.\n",
    "    </li>\n",
    "</ol>\n",
    "<p></p>"
   ]
  },
  {
   "cell_type": "code",
   "execution_count": null,
   "metadata": {
    "tags": [
     "Opdracht"
    ]
   },
   "outputs": [],
   "source": [
    "dobbelworp = 4\n",
    "\n",
    "if dobbelworp == 6 :\n",
    "  print(\"Yes! Je hebt een 6 gegooid\")\n",
    "\n",
    "# SCHRIJF HIERONDER JE CODE"
   ]
  },
  {
   "cell_type": "markdown",
   "metadata": {},
   "source": [
    "<p>Bekijk <a href=\"https://course.cs.ru.nl/pythonVO/Teams/IA_uitwerkingen/IA_H4_oplossingen.html#opgave424\" target=\"_blank\">hier</a> de voorbeelduitwerking.</p>\n"
   ]
  },
  {
   "cell_type": "markdown",
   "metadata": {},
   "source": [
    "### Opdracht 4.7: Welke letters zitten in een woord\n",
    "\n",
    "<p>Schrijf code die voor het woord 'informatica' test of:</p>\n",
    "<p>\n",
    "</p>\n",
    "<ol style=\"list-style-type: lower-alpha\">\n",
    "    <li>de letter 'a' erin voorkomt;\n",
    "    </li>\n",
    "    <li>de letter 'b' erin voorkomt;\n",
    "    </li>\n",
    "    <li>de reeks letters 'inf' erin voorkomt;\n",
    "    </li>\n",
    "    <li>de letter 'q' er <b>niet</b> in voorkomt.\n",
    "    </li>\n",
    "</ol>\n",
    "\n",
    "<p>Voor ieder van de bovenstaande situaties print je een melding, bijvoorbeeld: \"De letter i zit in het woord informatica\".</p>\n",
    "<p>Zie hoofdstuk \"4.2: In-operator\" voor uitleg over de <code>in</code> operator.</p>\n"
   ]
  },
  {
   "cell_type": "code",
   "execution_count": null,
   "metadata": {
    "tags": [
     "Opdracht"
    ]
   },
   "outputs": [],
   "source": [
    "woord = \"informatica\""
   ]
  },
  {
   "cell_type": "markdown",
   "metadata": {},
   "source": [
    "<p>Bekijk <a href=\"https://course.cs.ru.nl/pythonVO/Teams/IA_uitwerkingen/IA_H4_oplossingen.html#opgave425\" target=\"_blank\">hier</a> de voorbeelduitwerking.</p>"
   ]
  }
 ],
 "metadata": {
  "kernelspec": {
   "display_name": "Python 3",
   "language": "python",
   "name": "python3"
  },
  "language_info": {
   "name": "python",
   "version": "3.12.2"
  }
 },
 "nbformat": 4,
 "nbformat_minor": 2
}
